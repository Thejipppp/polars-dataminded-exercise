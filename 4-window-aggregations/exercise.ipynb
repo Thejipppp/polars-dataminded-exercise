{
 "cells": [
  {
   "cell_type": "code",
   "execution_count": 9,
   "metadata": {
    "metadata": {}
   },
   "outputs": [
    {
     "data": {
      "text/html": [
       "<div><style>\n",
       ".dataframe > thead > tr,\n",
       ".dataframe > tbody > tr {\n",
       "  text-align: right;\n",
       "  white-space: pre-wrap;\n",
       "}\n",
       "</style>\n",
       "<small>shape: (3_291, 8)</small><table border=\"1\" class=\"dataframe\"><thead><tr><th>name</th><th>vet</th><th>age</th><th>weight</th><th>daily_steps</th><th>timestamp</th><th>vet_health_check</th><th>life_stage</th></tr><tr><td>str</td><td>i8</td><td>i8</td><td>f32</td><td>i16</td><td>datetime[μs]</td><td>str</td><td>str</td></tr></thead><tbody><tr><td>&quot;Arctic Archie&quot;</td><td>3</td><td>25</td><td>579.503906</td><td>15306</td><td>2020-04-20 06:15:00</td><td>&quot;INJURED&quot;</td><td>&quot;SENIOR&quot;</td></tr><tr><td>&quot;Chilly Willy&quot;</td><td>2</td><td>5</td><td>508.05246</td><td>6308</td><td>2020-04-20 06:15:00</td><td>&quot;INJURED&quot;</td><td>&quot;ADULT&quot;</td></tr><tr><td>&quot;Blizzard Bob&quot;</td><td>5</td><td>35</td><td>867.150879</td><td>17702</td><td>2020-04-20 06:15:00</td><td>&quot;INJURED&quot;</td><td>&quot;SENIOR&quot;</td></tr><tr><td>&quot;Arctic Archie&quot;</td><td>3</td><td>25</td><td>609.372009</td><td>6710</td><td>2020-04-22 06:15:00</td><td>&quot;INJURED&quot;</td><td>&quot;SENIOR&quot;</td></tr><tr><td>&quot;Chilly Willy&quot;</td><td>3</td><td>5</td><td>482.300385</td><td>13696</td><td>2020-04-22 06:15:00</td><td>&quot;HEALTHY&quot;</td><td>&quot;ADULT&quot;</td></tr><tr><td>&hellip;</td><td>&hellip;</td><td>&hellip;</td><td>&hellip;</td><td>&hellip;</td><td>&hellip;</td><td>&hellip;</td><td>&hellip;</td></tr><tr><td>&quot;Peter Panda&quot;</td><td>3</td><td>2</td><td>314.35965</td><td>8739</td><td>2024-04-17 06:15:00</td><td>&quot;SICK&quot;</td><td>&quot;JUV&quot;</td></tr><tr><td>&quot;Arctic Archie&quot;</td><td>3</td><td>29</td><td>600.072205</td><td>13109</td><td>2024-04-17 06:15:00</td><td>&quot;SICK&quot;</td><td>&quot;SENIOR&quot;</td></tr><tr><td>&quot;Chilly Willy&quot;</td><td>2</td><td>9</td><td>481.11673</td><td>1680</td><td>2024-04-17 06:15:00</td><td>&quot;HEALTHY&quot;</td><td>&quot;ADULT&quot;</td></tr><tr><td>&quot;Cubby Coldpaws&quot;</td><td>2</td><td>0</td><td>2.410815</td><td>2527</td><td>2024-04-17 06:15:00</td><td>&quot;HEALTHY&quot;</td><td>&quot;CUB&quot;</td></tr><tr><td>&quot;Blizzard Bob&quot;</td><td>3</td><td>39</td><td>846.541565</td><td>15334</td><td>2024-04-17 06:15:00</td><td>&quot;INJURED&quot;</td><td>&quot;SENIOR&quot;</td></tr></tbody></table></div>"
      ],
      "text/plain": [
       "shape: (3_291, 8)\n",
       "┌───────────────┬─────┬─────┬────────────┬─────────────┬───────────────┬──────────────┬────────────┐\n",
       "│ name          ┆ vet ┆ age ┆ weight     ┆ daily_steps ┆ timestamp     ┆ vet_health_c ┆ life_stage │\n",
       "│ ---           ┆ --- ┆ --- ┆ ---        ┆ ---         ┆ ---           ┆ heck         ┆ ---        │\n",
       "│ str           ┆ i8  ┆ i8  ┆ f32        ┆ i16         ┆ datetime[μs]  ┆ ---          ┆ str        │\n",
       "│               ┆     ┆     ┆            ┆             ┆               ┆ str          ┆            │\n",
       "╞═══════════════╪═════╪═════╪════════════╪═════════════╪═══════════════╪══════════════╪════════════╡\n",
       "│ Arctic Archie ┆ 3   ┆ 25  ┆ 579.503906 ┆ 15306       ┆ 2020-04-20    ┆ INJURED      ┆ SENIOR     │\n",
       "│               ┆     ┆     ┆            ┆             ┆ 06:15:00      ┆              ┆            │\n",
       "│ Chilly Willy  ┆ 2   ┆ 5   ┆ 508.05246  ┆ 6308        ┆ 2020-04-20    ┆ INJURED      ┆ ADULT      │\n",
       "│               ┆     ┆     ┆            ┆             ┆ 06:15:00      ┆              ┆            │\n",
       "│ Blizzard Bob  ┆ 5   ┆ 35  ┆ 867.150879 ┆ 17702       ┆ 2020-04-20    ┆ INJURED      ┆ SENIOR     │\n",
       "│               ┆     ┆     ┆            ┆             ┆ 06:15:00      ┆              ┆            │\n",
       "│ Arctic Archie ┆ 3   ┆ 25  ┆ 609.372009 ┆ 6710        ┆ 2020-04-22    ┆ INJURED      ┆ SENIOR     │\n",
       "│               ┆     ┆     ┆            ┆             ┆ 06:15:00      ┆              ┆            │\n",
       "│ Chilly Willy  ┆ 3   ┆ 5   ┆ 482.300385 ┆ 13696       ┆ 2020-04-22    ┆ HEALTHY      ┆ ADULT      │\n",
       "│               ┆     ┆     ┆            ┆             ┆ 06:15:00      ┆              ┆            │\n",
       "│ …             ┆ …   ┆ …   ┆ …          ┆ …           ┆ …             ┆ …            ┆ …          │\n",
       "│ Peter Panda   ┆ 3   ┆ 2   ┆ 314.35965  ┆ 8739        ┆ 2024-04-17    ┆ SICK         ┆ JUV        │\n",
       "│               ┆     ┆     ┆            ┆             ┆ 06:15:00      ┆              ┆            │\n",
       "│ Arctic Archie ┆ 3   ┆ 29  ┆ 600.072205 ┆ 13109       ┆ 2024-04-17    ┆ SICK         ┆ SENIOR     │\n",
       "│               ┆     ┆     ┆            ┆             ┆ 06:15:00      ┆              ┆            │\n",
       "│ Chilly Willy  ┆ 2   ┆ 9   ┆ 481.11673  ┆ 1680        ┆ 2024-04-17    ┆ HEALTHY      ┆ ADULT      │\n",
       "│               ┆     ┆     ┆            ┆             ┆ 06:15:00      ┆              ┆            │\n",
       "│ Cubby         ┆ 2   ┆ 0   ┆ 2.410815   ┆ 2527        ┆ 2024-04-17    ┆ HEALTHY      ┆ CUB        │\n",
       "│ Coldpaws      ┆     ┆     ┆            ┆             ┆ 06:15:00      ┆              ┆            │\n",
       "│ Blizzard Bob  ┆ 3   ┆ 39  ┆ 846.541565 ┆ 15334       ┆ 2024-04-17    ┆ INJURED      ┆ SENIOR     │\n",
       "│               ┆     ┆     ┆            ┆             ┆ 06:15:00      ┆              ┆            │\n",
       "└───────────────┴─────┴─────┴────────────┴─────────────┴───────────────┴──────────────┴────────────┘"
      ]
     },
     "execution_count": 9,
     "metadata": {},
     "output_type": "execute_result"
    }
   ],
   "source": [
    "\n",
    "\n",
    "import polars as pl\n",
    "\n",
    "(\n",
    "    pl\n",
    "        .read_parquet(\"../data/batch_measurements.parquet\") \n",
    "\n",
    ")\n"
   ]
  },
  {
   "cell_type": "code",
   "execution_count": 34,
   "metadata": {
    "metadata": {}
   },
   "outputs": [
    {
     "data": {
      "text/html": [
       "<div><style>\n",
       ".dataframe > thead > tr,\n",
       ".dataframe > tbody > tr {\n",
       "  text-align: right;\n",
       "  white-space: pre-wrap;\n",
       "}\n",
       "</style>\n",
       "<small>shape: (158_016, 7)</small><table border=\"1\" class=\"dataframe\"><thead><tr><th>name</th><th>timestamp</th><th>blood_pressure</th><th>heart_rate</th><th>temperature</th><th>blood_glucose</th><th>sensor</th></tr><tr><td>str</td><td>datetime[μs]</td><td>i16</td><td>i16</td><td>f32</td><td>i16</td><td>i8</td></tr></thead><tbody><tr><td>&quot;Arctic Archie&quot;</td><td>2020-04-20 00:09:05.847754</td><td>102</td><td>60</td><td>36.080002</td><td>99</td><td>2</td></tr><tr><td>&quot;Chilly Willy&quot;</td><td>2020-04-20 00:09:07.806632</td><td>67</td><td>70</td><td>36.009998</td><td>118</td><td>4</td></tr><tr><td>&quot;Blizzard Bob&quot;</td><td>2020-04-20 00:03:15.122618</td><td>90</td><td>67</td><td>36.049999</td><td>184</td><td>1</td></tr><tr><td>&quot;Arctic Archie&quot;</td><td>2020-04-20 01:00:54.979257</td><td>83</td><td>70</td><td>36.07</td><td>147</td><td>4</td></tr><tr><td>&quot;Chilly Willy&quot;</td><td>2020-04-20 01:04:45.918595</td><td>79</td><td>65</td><td>36.490002</td><td>109</td><td>1</td></tr><tr><td>&hellip;</td><td>&hellip;</td><td>&hellip;</td><td>&hellip;</td><td>&hellip;</td><td>&hellip;</td><td>&hellip;</td></tr><tr><td>&quot;Peter Panda&quot;</td><td>2024-04-18 23:09:35.882185</td><td>92</td><td>73</td><td>38.549999</td><td>198</td><td>4</td></tr><tr><td>&quot;Arctic Archie&quot;</td><td>2024-04-18 23:08:51.201325</td><td>108</td><td>70</td><td>35.98</td><td>149</td><td>4</td></tr><tr><td>&quot;Chilly Willy&quot;</td><td>2024-04-18 23:08:23.009044</td><td>82</td><td>70</td><td>36.080002</td><td>122</td><td>4</td></tr><tr><td>&quot;Cubby Coldpaws&quot;</td><td>2024-04-18 23:09:46.480672</td><td>63</td><td>138</td><td>36.07</td><td>161</td><td>3</td></tr><tr><td>&quot;Blizzard Bob&quot;</td><td>2024-04-18 23:00:21.361558</td><td>95</td><td>80</td><td>35.93</td><td>184</td><td>2</td></tr></tbody></table></div>"
      ],
      "text/plain": [
       "shape: (158_016, 7)\n",
       "┌───────────────┬───────────────┬───────────────┬────────────┬─────────────┬──────────────┬────────┐\n",
       "│ name          ┆ timestamp     ┆ blood_pressur ┆ heart_rate ┆ temperature ┆ blood_glucos ┆ sensor │\n",
       "│ ---           ┆ ---           ┆ e             ┆ ---        ┆ ---         ┆ e            ┆ ---    │\n",
       "│ str           ┆ datetime[μs]  ┆ ---           ┆ i16        ┆ f32         ┆ ---          ┆ i8     │\n",
       "│               ┆               ┆ i16           ┆            ┆             ┆ i16          ┆        │\n",
       "╞═══════════════╪═══════════════╪═══════════════╪════════════╪═════════════╪══════════════╪════════╡\n",
       "│ Arctic Archie ┆ 2020-04-20    ┆ 102           ┆ 60         ┆ 36.080002   ┆ 99           ┆ 2      │\n",
       "│               ┆ 00:09:05.8477 ┆               ┆            ┆             ┆              ┆        │\n",
       "│               ┆ 54            ┆               ┆            ┆             ┆              ┆        │\n",
       "│ Chilly Willy  ┆ 2020-04-20    ┆ 67            ┆ 70         ┆ 36.009998   ┆ 118          ┆ 4      │\n",
       "│               ┆ 00:09:07.8066 ┆               ┆            ┆             ┆              ┆        │\n",
       "│               ┆ 32            ┆               ┆            ┆             ┆              ┆        │\n",
       "│ Blizzard Bob  ┆ 2020-04-20    ┆ 90            ┆ 67         ┆ 36.049999   ┆ 184          ┆ 1      │\n",
       "│               ┆ 00:03:15.1226 ┆               ┆            ┆             ┆              ┆        │\n",
       "│               ┆ 18            ┆               ┆            ┆             ┆              ┆        │\n",
       "│ Arctic Archie ┆ 2020-04-20    ┆ 83            ┆ 70         ┆ 36.07       ┆ 147          ┆ 4      │\n",
       "│               ┆ 01:00:54.9792 ┆               ┆            ┆             ┆              ┆        │\n",
       "│               ┆ 57            ┆               ┆            ┆             ┆              ┆        │\n",
       "│ Chilly Willy  ┆ 2020-04-20    ┆ 79            ┆ 65         ┆ 36.490002   ┆ 109          ┆ 1      │\n",
       "│               ┆ 01:04:45.9185 ┆               ┆            ┆             ┆              ┆        │\n",
       "│               ┆ 95            ┆               ┆            ┆             ┆              ┆        │\n",
       "│ …             ┆ …             ┆ …             ┆ …          ┆ …           ┆ …            ┆ …      │\n",
       "│ Peter Panda   ┆ 2024-04-18    ┆ 92            ┆ 73         ┆ 38.549999   ┆ 198          ┆ 4      │\n",
       "│               ┆ 23:09:35.8821 ┆               ┆            ┆             ┆              ┆        │\n",
       "│               ┆ 85            ┆               ┆            ┆             ┆              ┆        │\n",
       "│ Arctic Archie ┆ 2024-04-18    ┆ 108           ┆ 70         ┆ 35.98       ┆ 149          ┆ 4      │\n",
       "│               ┆ 23:08:51.2013 ┆               ┆            ┆             ┆              ┆        │\n",
       "│               ┆ 25            ┆               ┆            ┆             ┆              ┆        │\n",
       "│ Chilly Willy  ┆ 2024-04-18    ┆ 82            ┆ 70         ┆ 36.080002   ┆ 122          ┆ 4      │\n",
       "│               ┆ 23:08:23.0090 ┆               ┆            ┆             ┆              ┆        │\n",
       "│               ┆ 44            ┆               ┆            ┆             ┆              ┆        │\n",
       "│ Cubby         ┆ 2024-04-18    ┆ 63            ┆ 138        ┆ 36.07       ┆ 161          ┆ 3      │\n",
       "│ Coldpaws      ┆ 23:09:46.4806 ┆               ┆            ┆             ┆              ┆        │\n",
       "│               ┆ 72            ┆               ┆            ┆             ┆              ┆        │\n",
       "│ Blizzard Bob  ┆ 2024-04-18    ┆ 95            ┆ 80         ┆ 35.93       ┆ 184          ┆ 2      │\n",
       "│               ┆ 23:00:21.3615 ┆               ┆            ┆             ┆              ┆        │\n",
       "│               ┆ 58            ┆               ┆            ┆             ┆              ┆        │\n",
       "└───────────────┴───────────────┴───────────────┴────────────┴─────────────┴──────────────┴────────┘"
      ]
     },
     "execution_count": 34,
     "metadata": {},
     "output_type": "execute_result"
    }
   ],
   "source": [
    "\n",
    "import polars as pl\n",
    "\n",
    "(\n",
    "    pl\n",
    "        .read_parquet(\"../data/measurements.parquet\") \n",
    "\n",
    ")"
   ]
  },
  {
   "cell_type": "code",
   "execution_count": 8,
   "metadata": {
    "metadata": {}
   },
   "outputs": [
    {
     "data": {
      "text/html": [
       "<div><style>\n",
       ".dataframe > thead > tr,\n",
       ".dataframe > tbody > tr {\n",
       "  text-align: right;\n",
       "  white-space: pre-wrap;\n",
       "}\n",
       "</style>\n",
       "<small>shape: (5, 3)</small><table border=\"1\" class=\"dataframe\"><thead><tr><th>name</th><th>weight</th><th>year</th></tr><tr><td>str</td><td>f32</td><td>i32</td></tr></thead><tbody><tr><td>&quot;Blizzard Bob&quot;</td><td>870.157043</td><td>2020</td></tr><tr><td>&quot;Blizzard Bob&quot;</td><td>878.163757</td><td>2021</td></tr><tr><td>&quot;Blizzard Bob&quot;</td><td>881.221619</td><td>2022</td></tr><tr><td>&quot;BLIZZARD BOB&quot;</td><td>876.825806</td><td>2023</td></tr><tr><td>&quot;Blizzard Bob&quot;</td><td>871.986023</td><td>2024</td></tr></tbody></table></div>"
      ],
      "text/plain": [
       "shape: (5, 3)\n",
       "┌──────────────┬────────────┬──────┐\n",
       "│ name         ┆ weight     ┆ year │\n",
       "│ ---          ┆ ---        ┆ ---  │\n",
       "│ str          ┆ f32        ┆ i32  │\n",
       "╞══════════════╪════════════╪══════╡\n",
       "│ Blizzard Bob ┆ 870.157043 ┆ 2020 │\n",
       "│ Blizzard Bob ┆ 878.163757 ┆ 2021 │\n",
       "│ Blizzard Bob ┆ 881.221619 ┆ 2022 │\n",
       "│ BLIZZARD BOB ┆ 876.825806 ┆ 2023 │\n",
       "│ Blizzard Bob ┆ 871.986023 ┆ 2024 │\n",
       "└──────────────┴────────────┴──────┘"
      ]
     },
     "execution_count": 8,
     "metadata": {},
     "output_type": "execute_result"
    }
   ],
   "source": [
    "# For every year, figure out which polar bear was the heaviest.\n",
    "\n",
    "import polars as pl\n",
    "\n",
    "\n",
    "(\n",
    "    pl\n",
    "        .read_parquet(\"../data/batch_measurements.parquet\")\n",
    "        .with_columns(pl.col(\"timestamp\").dt.year().alias(\"year\"))\n",
    "        .select(\n",
    "            \"name\", \"weight\", pl.col(\"weight\").max().over(\"year\").alias(\"max_weight\"), \"year\"\n",
    "        )\n",
    "        .filter(pl.col(\"weight\") == pl.col(\"max_weight\"))\n",
    "        .select(\"name\", \"weight\", \"year\")\n",
    ")"
   ]
  },
  {
   "cell_type": "code",
   "execution_count": 28,
   "metadata": {},
   "outputs": [
    {
     "name": "stdout",
     "output_type": "stream",
     "text": [
      "+------------+---------+----+\n",
      "|        name|   weight|year|\n",
      "+------------+---------+----+\n",
      "|Blizzard Bob|870.15704|2020|\n",
      "|Blizzard Bob|878.16376|2021|\n",
      "|Blizzard Bob| 881.2216|2022|\n",
      "|BLIZZARD BOB| 876.8258|2023|\n",
      "|Blizzard Bob|  871.986|2024|\n",
      "+------------+---------+----+\n",
      "\n"
     ]
    }
   ],
   "source": [
    "# For every year, figure out which polar bear was the heaviest.\n",
    "window = (\n",
    "    Window\n",
    "    .partitionBy(F.year(\"timestamp\"))\n",
    "    .rowsBetween(Window.unboundedPreceding, Window.unboundedFollowing)\n",
    ")\n",
    "\n",
    "(\n",
    "    spark\n",
    "        .read\n",
    "        .parquet(\"../data/batch_measurements.parquet\")\n",
    "        .withColumn(\"year\", F.year(\"timestamp\"))\n",
    "        .withColumn(\"max_weight\", F.max(\"weight\").over(window))\n",
    "        .filter(F.col(\"max_weight\") == F.col(\"weight\"))\n",
    "        .select(\"name\", \"weight\", \"year\")\n",
    "        .show()\n",
    ")"
   ]
  },
  {
   "cell_type": "code",
   "execution_count": 7,
   "metadata": {
    "metadata": {}
   },
   "outputs": [
    {
     "data": {
      "text/html": [
       "<div><style>\n",
       ".dataframe > thead > tr,\n",
       ".dataframe > tbody > tr {\n",
       "  text-align: right;\n",
       "  white-space: pre-wrap;\n",
       "}\n",
       "</style>\n",
       "<small>shape: (6, 3)</small><table border=\"1\" class=\"dataframe\"><thead><tr><th>name</th><th>first_measurement</th><th>last_measurement</th></tr><tr><td>str</td><td>datetime[μs]</td><td>datetime[μs]</td></tr></thead><tbody><tr><td>&quot;arctic archie&quot;</td><td>2020-04-20 06:15:00</td><td>2024-04-17 06:15:00</td></tr><tr><td>&quot;cubby coldpaws&quot;</td><td>2024-03-24 06:15:00</td><td>2024-04-17 06:15:00</td></tr><tr><td>&quot;blizzard bob&quot;</td><td>2020-04-20 06:15:00</td><td>2024-04-17 06:15:00</td></tr><tr><td>&quot;icy ingrid&quot;</td><td>2020-06-13 06:15:00</td><td>2024-04-17 06:15:00</td></tr><tr><td>&quot;chilly willy&quot;</td><td>2020-04-20 06:15:00</td><td>2024-04-17 06:15:00</td></tr><tr><td>&quot;peter panda&quot;</td><td>2022-03-11 06:15:00</td><td>2024-04-17 06:15:00</td></tr></tbody></table></div>"
      ],
      "text/plain": [
       "shape: (6, 3)\n",
       "┌────────────────┬─────────────────────┬─────────────────────┐\n",
       "│ name           ┆ first_measurement   ┆ last_measurement    │\n",
       "│ ---            ┆ ---                 ┆ ---                 │\n",
       "│ str            ┆ datetime[μs]        ┆ datetime[μs]        │\n",
       "╞════════════════╪═════════════════════╪═════════════════════╡\n",
       "│ arctic archie  ┆ 2020-04-20 06:15:00 ┆ 2024-04-17 06:15:00 │\n",
       "│ cubby coldpaws ┆ 2024-03-24 06:15:00 ┆ 2024-04-17 06:15:00 │\n",
       "│ blizzard bob   ┆ 2020-04-20 06:15:00 ┆ 2024-04-17 06:15:00 │\n",
       "│ icy ingrid     ┆ 2020-06-13 06:15:00 ┆ 2024-04-17 06:15:00 │\n",
       "│ chilly willy   ┆ 2020-04-20 06:15:00 ┆ 2024-04-17 06:15:00 │\n",
       "│ peter panda    ┆ 2022-03-11 06:15:00 ┆ 2024-04-17 06:15:00 │\n",
       "└────────────────┴─────────────────────┴─────────────────────┘"
      ]
     },
     "execution_count": 7,
     "metadata": {},
     "output_type": "execute_result"
    }
   ],
   "source": [
    "# When was the first and last measurement of each bear taken?\n",
    "\n",
    "(\n",
    "    pl\n",
    "        .read_parquet(\"../data/batch_measurements.parquet\")\n",
    "        .select(\n",
    "            \"name\", \"timestamp\", pl.col(\"timestamp\").min().over(\"name\").alias(\"first_measure\"), pl.col(\"timestamp\").max().over(\"name\").alias(\"last_measure\")\n",
    "        )\n",
    "        .filter(pl.col(\"timestamp\") == pl.col(\"first_measure\"))\n",
    "        .select(\"name\", \"first_measure\", \"last_measure\")\n",
    "\n",
    ")\n",
    "\n",
    "(\n",
    "    pl\n",
    "        .read_parquet(\"../data/batch_measurements.parquet\")\n",
    "        .with_columns(pl.col(\"name\").str.to_lowercase()).group_by(\"name\").agg(\n",
    "            pl.col(\"timestamp\").min().alias(\"first_measurement\"),\n",
    "            pl.col(\"timestamp\").max().alias(\"last_measurement\"),\n",
    "        )\n",
    "\n",
    ")"
   ]
  },
  {
   "cell_type": "code",
   "execution_count": 27,
   "metadata": {},
   "outputs": [
    {
     "ename": "SyntaxError",
     "evalue": "invalid syntax. Perhaps you forgot a comma? (3716501992.py, line 24)",
     "output_type": "error",
     "traceback": [
      "\u001b[0;36m  Cell \u001b[0;32mIn[27], line 24\u001b[0;36m\u001b[0m\n\u001b[0;31m    F.min(\"timestamp\").alias(\"first_measurment\")\u001b[0m\n\u001b[0m    ^\u001b[0m\n\u001b[0;31mSyntaxError\u001b[0m\u001b[0;31m:\u001b[0m invalid syntax. Perhaps you forgot a comma?\n"
     ]
    }
   ],
   "source": [
    "# When was the first and last measurement of each bear taken?\n",
    "window = (\n",
    "    Window\n",
    "    .partitionBy(F.lower(\"name\"))\n",
    "    .orderBy(\"timestamp\")\n",
    "    .rowsBetween(Window.unboundedPreceding, Window.unboundedFollowing)\n",
    ")\n",
    "\n",
    "(\n",
    "    spark\n",
    "        .read\n",
    "        .parquet(\"../data/batch_measurements.parquet\")\n",
    "        .withColumn(\"first_measurement\", F.min(\"timestamp\").over(window))\n",
    "        .withColumn(\"last_measurement\", F.max(\"timestamp\").over(window))\n",
    "        .filter(F.col(\"timestamp\") == F.col(\"first_measurement\"))\n",
    "        .show()\n",
    ")\n",
    "\n",
    "(\n",
    "    spark\n",
    "        .read\n",
    "        .parquet(\"../data/batch_measurements.parquet\")\n",
    "        .groupby(F.lower(\"name\")).agg(\n",
    "            F.min(\"timestamp\").alias(\"first_measurment\")\n",
    "            F.max(\"timestamp\").alias(\"last_measurment\")\n",
    "        )\n",
    ")"
   ]
  },
  {
   "cell_type": "code",
   "execution_count": 45,
   "metadata": {
    "metadata": {}
   },
   "outputs": [
    {
     "data": {
      "text/html": [
       "<div><style>\n",
       ".dataframe > thead > tr,\n",
       ".dataframe > tbody > tr {\n",
       "  text-align: right;\n",
       "  white-space: pre-wrap;\n",
       "}\n",
       "</style>\n",
       "<small>shape: (19, 4)</small><table border=\"1\" class=\"dataframe\"><thead><tr><th>name</th><th>life_stage</th><th>daily_steps</th><th>year</th></tr><tr><td>str</td><td>str</td><td>i16</td><td>i32</td></tr></thead><tbody><tr><td>&quot;Chilly Willy&quot;</td><td>&quot;ADULT&quot;</td><td>19967</td><td>2020</td></tr><tr><td>&quot;ARCTIC ARCHIE&quot;</td><td>&quot;SENIOR&quot;</td><td>19839</td><td>2020</td></tr><tr><td>&quot;Icy Ingrid&quot;</td><td>&quot;CUB&quot;</td><td>19690</td><td>2020</td></tr><tr><td>&quot;ICY INGRID&quot;</td><td>&quot;CUB&quot;</td><td>19886</td><td>2021</td></tr><tr><td>&quot;Arctic Archie&quot;</td><td>&quot;SENIOR&quot;</td><td>19962</td><td>2021</td></tr><tr><td>&hellip;</td><td>&hellip;</td><td>&hellip;</td><td>&hellip;</td></tr><tr><td>&quot;Chilly Willy&quot;</td><td>&quot;ADULT&quot;</td><td>19952</td><td>2023</td></tr><tr><td>&quot;Peter Panda&quot;</td><td>&quot;JUV&quot;</td><td>19963</td><td>2024</td></tr><tr><td>&quot;Arctic Archie&quot;</td><td>&quot;SENIOR&quot;</td><td>19725</td><td>2024</td></tr><tr><td>&quot;Chilly Willy&quot;</td><td>&quot;ADULT&quot;</td><td>19833</td><td>2024</td></tr><tr><td>&quot;Cubby Coldpaws&quot;</td><td>&quot;CUB&quot;</td><td>19811</td><td>2024</td></tr></tbody></table></div>"
      ],
      "text/plain": [
       "shape: (19, 4)\n",
       "┌────────────────┬────────────┬─────────────┬──────┐\n",
       "│ name           ┆ life_stage ┆ daily_steps ┆ year │\n",
       "│ ---            ┆ ---        ┆ ---         ┆ ---  │\n",
       "│ str            ┆ str        ┆ i16         ┆ i32  │\n",
       "╞════════════════╪════════════╪═════════════╪══════╡\n",
       "│ Chilly Willy   ┆ ADULT      ┆ 19967       ┆ 2020 │\n",
       "│ ARCTIC ARCHIE  ┆ SENIOR     ┆ 19839       ┆ 2020 │\n",
       "│ Icy Ingrid     ┆ CUB        ┆ 19690       ┆ 2020 │\n",
       "│ ICY INGRID     ┆ CUB        ┆ 19886       ┆ 2021 │\n",
       "│ Arctic Archie  ┆ SENIOR     ┆ 19962       ┆ 2021 │\n",
       "│ …              ┆ …          ┆ …           ┆ …    │\n",
       "│ Chilly Willy   ┆ ADULT      ┆ 19952       ┆ 2023 │\n",
       "│ Peter Panda    ┆ JUV        ┆ 19963       ┆ 2024 │\n",
       "│ Arctic Archie  ┆ SENIOR     ┆ 19725       ┆ 2024 │\n",
       "│ Chilly Willy   ┆ ADULT      ┆ 19833       ┆ 2024 │\n",
       "│ Cubby Coldpaws ┆ CUB        ┆ 19811       ┆ 2024 │\n",
       "└────────────────┴────────────┴─────────────┴──────┘"
      ]
     },
     "execution_count": 45,
     "metadata": {},
     "output_type": "execute_result"
    }
   ],
   "source": [
    "# For each lifestage group of polar bears and for each year, which polar bear was the most active (most amount of steps per day)?\n",
    "\n",
    "(\n",
    "    pl\n",
    "        .read_parquet(\"../data/batch_measurements.parquet\")\n",
    "        .with_columns(pl.col(\"timestamp\").dt.year().alias(\"year\"))\n",
    "        .select(\n",
    "            \"name\", \"life_stage\", \"daily_steps\", \"year\", pl.col(\"daily_steps\").max().over(\"year\", \"life_stage\").alias(\"max_steps\")\n",
    "        )\n",
    "        .filter(pl.col(\"daily_steps\") == pl.col(\"max_steps\"))\n",
    "        .select(\"name\", \"life_stage\", \"max_steps\", \"year\")\n",
    "\n",
    ")\n",
    "\n",
    "(\n",
    "    pl\n",
    "        .read_parquet(\"../data/batch_measurements.parquet\")\n",
    "        .with_columns(pl.col(\"timestamp\").dt.year().alias(\"year\"))\n",
    "        .filter(pl.col(\"daily_steps\") == pl.col(\"daily_steps\").max().over(\"year\", \"life_stage\"))\n",
    "        .select(\"name\", \"life_stage\", \"daily_steps\", \"year\")\n",
    "\n",
    ")\n",
    "\n",
    "(\n",
    "    pl\n",
    "        .read_parquet(\"../data/batch_measurements.parquet\")\n",
    "        \n",
    "\n",
    ")"
   ]
  },
  {
   "cell_type": "code",
   "execution_count": 16,
   "metadata": {},
   "outputs": [
    {
     "name": "stdout",
     "output_type": "stream",
     "text": [
      "+--------------+----------+-----------+----+\n",
      "|          name|life_stage|daily_steps|year|\n",
      "+--------------+----------+-----------+----+\n",
      "|  Chilly Willy|     ADULT|      19967|2020|\n",
      "|    Icy Ingrid|       CUB|      19690|2020|\n",
      "| ARCTIC ARCHIE|    SENIOR|      19839|2020|\n",
      "|  Chilly Willy|     ADULT|      19928|2021|\n",
      "|    ICY INGRID|       CUB|      19886|2021|\n",
      "|    Icy Ingrid|       JUV|      19977|2021|\n",
      "| Arctic Archie|    SENIOR|      19962|2021|\n",
      "|  Chilly Willy|     ADULT|      19773|2022|\n",
      "|   Peter Panda|       CUB|      19915|2022|\n",
      "|    Icy Ingrid|       JUV|      19892|2022|\n",
      "|  Blizzard Bob|    SENIOR|      19998|2022|\n",
      "|  Chilly Willy|     ADULT|      19952|2023|\n",
      "|   Peter Panda|       CUB|      18645|2023|\n",
      "|   Peter Panda|       JUV|      19787|2023|\n",
      "|  Blizzard Bob|    SENIOR|      20000|2023|\n",
      "|  Chilly Willy|     ADULT|      19833|2024|\n",
      "|Cubby Coldpaws|       CUB|      19811|2024|\n",
      "|   Peter Panda|       JUV|      19963|2024|\n",
      "| Arctic Archie|    SENIOR|      19725|2024|\n",
      "+--------------+----------+-----------+----+\n",
      "\n"
     ]
    }
   ],
   "source": [
    "# For each lifestage group of polar bears and for each year, which polar bear was the most active (most amount of steps per day)?\n",
    "\n",
    "import os\n",
    "\n",
    "from pyspark.sql import SparkSession\n",
    "from pyspark.sql.window import Window\n",
    "import pyspark.sql.functions as F\n",
    " \n",
    "os.environ[\"JAVA_HOME\"] = \"/home/gitpod/.sdkman/candidates/java/current\"\n",
    "\n",
    "\n",
    "\n",
    "spark = SparkSession.builder.getOrCreate()\n",
    "\n",
    "window = (\n",
    "    Window\n",
    "    .partitionBy(\"year\", \"life_stage\")\n",
    "    .rowsBetween(Window.unboundedPreceding, Window.unboundedFollowing)\n",
    ")\n",
    "\n",
    "(\n",
    "    spark\n",
    "        .read\n",
    "        .parquet(\"../data/batch_measurements.parquet\")\n",
    "        .withColumn(\"year\", F.year(\"timestamp\"))\n",
    "        .withColumn(\"maxSteps\", F.max('daily_steps').over(window))\n",
    "        .filter(F.col(\"daily_steps\") == F.col(\"maxSteps\"))\n",
    "        .select(\"name\", \"life_stage\", \"daily_steps\", \"year\")\n",
    "        .sort(\"year\", \"life_stage\")\n",
    "        .show()\n",
    ")"
   ]
  },
  {
   "cell_type": "code",
   "execution_count": 10,
   "metadata": {
    "metadata": {}
   },
   "outputs": [
    {
     "data": {
      "text/html": [
       "<div><style>\n",
       ".dataframe > thead > tr,\n",
       ".dataframe > tbody > tr {\n",
       "  text-align: right;\n",
       "  white-space: pre-wrap;\n",
       "}\n",
       "</style>\n",
       "<small>shape: (432, 4)</small><table border=\"1\" class=\"dataframe\"><thead><tr><th>name</th><th>blood_pressure</th><th>avg_blood_pressure</th><th>timestamp</th></tr><tr><td>str</td><td>i16</td><td>f64</td><td>datetime[μs]</td></tr></thead><tbody><tr><td>&quot;Arctic Archie&quot;</td><td>98</td><td>99.777597</td><td>2021-01-01 00:03:58.915432</td></tr><tr><td>&quot;Arctic Archie&quot;</td><td>89</td><td>99.777597</td><td>2021-01-01 01:03:13.145983</td></tr><tr><td>&quot;Arctic Archie&quot;</td><td>123</td><td>99.777597</td><td>2021-01-01 02:09:31.588510</td></tr><tr><td>&quot;Arctic Archie&quot;</td><td>120</td><td>99.777597</td><td>2021-01-01 03:06:52.952899</td></tr><tr><td>&quot;Arctic Archie&quot;</td><td>105</td><td>99.777597</td><td>2021-01-01 04:07:10.264762</td></tr><tr><td>&hellip;</td><td>&hellip;</td><td>&hellip;</td><td>&hellip;</td></tr><tr><td>&quot;Peter Panda&quot;</td><td>112</td><td>100.033398</td><td>2024-01-01 19:02:36.056549</td></tr><tr><td>&quot;Peter Panda&quot;</td><td>98</td><td>100.033398</td><td>2024-01-01 20:06:04.670168</td></tr><tr><td>&quot;Peter Panda&quot;</td><td>115</td><td>100.033398</td><td>2024-01-01 21:08:47.197249</td></tr><tr><td>&quot;Peter Panda&quot;</td><td>135</td><td>100.033398</td><td>2024-01-01 22:06:18.604726</td></tr><tr><td>&quot;Peter Panda&quot;</td><td>133</td><td>100.033398</td><td>2024-01-01 23:04:42.962121</td></tr></tbody></table></div>"
      ],
      "text/plain": [
       "shape: (432, 4)\n",
       "┌───────────────┬────────────────┬────────────────────┬────────────────────────────┐\n",
       "│ name          ┆ blood_pressure ┆ avg_blood_pressure ┆ timestamp                  │\n",
       "│ ---           ┆ ---            ┆ ---                ┆ ---                        │\n",
       "│ str           ┆ i16            ┆ f64                ┆ datetime[μs]               │\n",
       "╞═══════════════╪════════════════╪════════════════════╪════════════════════════════╡\n",
       "│ Arctic Archie ┆ 98             ┆ 99.777597          ┆ 2021-01-01 00:03:58.915432 │\n",
       "│ Arctic Archie ┆ 89             ┆ 99.777597          ┆ 2021-01-01 01:03:13.145983 │\n",
       "│ Arctic Archie ┆ 123            ┆ 99.777597          ┆ 2021-01-01 02:09:31.588510 │\n",
       "│ Arctic Archie ┆ 120            ┆ 99.777597          ┆ 2021-01-01 03:06:52.952899 │\n",
       "│ Arctic Archie ┆ 105            ┆ 99.777597          ┆ 2021-01-01 04:07:10.264762 │\n",
       "│ …             ┆ …              ┆ …                  ┆ …                          │\n",
       "│ Peter Panda   ┆ 112            ┆ 100.033398         ┆ 2024-01-01 19:02:36.056549 │\n",
       "│ Peter Panda   ┆ 98             ┆ 100.033398         ┆ 2024-01-01 20:06:04.670168 │\n",
       "│ Peter Panda   ┆ 115            ┆ 100.033398         ┆ 2024-01-01 21:08:47.197249 │\n",
       "│ Peter Panda   ┆ 135            ┆ 100.033398         ┆ 2024-01-01 22:06:18.604726 │\n",
       "│ Peter Panda   ┆ 133            ┆ 100.033398         ┆ 2024-01-01 23:04:42.962121 │\n",
       "└───────────────┴────────────────┴────────────────────┴────────────────────────────┘"
      ]
     },
     "execution_count": 10,
     "metadata": {},
     "output_type": "execute_result"
    }
   ],
   "source": [
    "# Find out which bears were more/less anxious (higher/lower blood pressure) than average after New Year's Eve (fireworks)?\n",
    "import polars as pl\n",
    "\n",
    "(\n",
    "    pl\n",
    "        .read_parquet(\"../data/measurements.parquet\")\n",
    "        .select(\"name\", \"blood_pressure\", pl.col(\"blood_pressure\").mean().over(\"name\").alias(\"avg_blood_pressure\"), \"timestamp\")\n",
    "        .filter(pl.col(\"timestamp\").dt.month() == 1, pl.col(\"timestamp\").dt.day() == 1)\n",
    "        .sort(\"name\", \"timestamp\")\n",
    "\n",
    ")"
   ]
  },
  {
   "cell_type": "code",
   "execution_count": 19,
   "metadata": {},
   "outputs": [
    {
     "name": "stderr",
     "output_type": "stream",
     "text": [
      "[Stage 34:>                                                         (0 + 1) / 1]\r"
     ]
    },
    {
     "name": "stdout",
     "output_type": "stream",
     "text": [
      "+-------------+--------------+------------------+--------------------+\n",
      "|         name|blood_pressure|avg_blood_pressure|           timestamp|\n",
      "+-------------+--------------+------------------+--------------------+\n",
      "|Arctic Archie|            98| 99.77759703196347|2021-01-01 00:03:...|\n",
      "|Arctic Archie|            89| 99.77759703196347|2021-01-01 01:03:...|\n",
      "|Arctic Archie|           123| 99.77759703196347|2021-01-01 02:09:...|\n",
      "|Arctic Archie|           120| 99.77759703196347|2021-01-01 03:06:...|\n",
      "|Arctic Archie|           105| 99.77759703196347|2021-01-01 04:07:...|\n",
      "|Arctic Archie|           136| 99.77759703196347|2021-01-01 05:00:...|\n",
      "|Arctic Archie|           110| 99.77759703196347|2021-01-01 06:01:...|\n",
      "|Arctic Archie|            70| 99.77759703196347|2021-01-01 07:00:...|\n",
      "|Arctic Archie|           114| 99.77759703196347|2021-01-01 08:01:...|\n",
      "|Arctic Archie|           134| 99.77759703196347|2021-01-01 09:05:...|\n",
      "|Arctic Archie|            61| 99.77759703196347|2021-01-01 10:05:...|\n",
      "|Arctic Archie|           111| 99.77759703196347|2021-01-01 11:00:...|\n",
      "|Arctic Archie|            95| 99.77759703196347|2021-01-01 12:01:...|\n",
      "|Arctic Archie|            93| 99.77759703196347|2021-01-01 13:03:...|\n",
      "|Arctic Archie|           137| 99.77759703196347|2021-01-01 14:00:...|\n",
      "|Arctic Archie|           127| 99.77759703196347|2021-01-01 15:02:...|\n",
      "|Arctic Archie|            64| 99.77759703196347|2021-01-01 16:06:...|\n",
      "|Arctic Archie|            97| 99.77759703196347|2021-01-01 17:01:...|\n",
      "|Arctic Archie|            92| 99.77759703196347|2021-01-01 18:05:...|\n",
      "|Arctic Archie|           108| 99.77759703196347|2021-01-01 19:03:...|\n",
      "+-------------+--------------+------------------+--------------------+\n",
      "only showing top 20 rows\n",
      "\n"
     ]
    },
    {
     "name": "stderr",
     "output_type": "stream",
     "text": [
      "                                                                                \r"
     ]
    }
   ],
   "source": [
    "window = (\n",
    "    Window\n",
    "    .partitionBy(\"name\")\n",
    "    .rowsBetween(Window.unboundedPreceding, Window.unboundedFollowing)\n",
    ")\n",
    "\n",
    "(\n",
    "    spark\n",
    "        .read\n",
    "        .parquet(\"../data/measurements.parquet\")\n",
    "        .withColumn(\"avg_blood_pressure\", F.mean(\"blood_pressure\").over(window))\n",
    "        .select(\"name\", \"blood_pressure\", \"avg_blood_pressure\", \"timestamp\")\n",
    "        .filter((F.month(\"timestamp\") == 1) & (F.day(\"timestamp\") == 1))\n",
    "        .sort(\"name\", \"timestamp\")\n",
    "        .show()\n",
    ")"
   ]
  },
  {
   "cell_type": "code",
   "execution_count": null,
   "metadata": {},
   "outputs": [],
   "source": []
  }
 ],
 "metadata": {
  "kernelspec": {
   "display_name": ".venv",
   "language": "python",
   "name": "python3"
  },
  "language_info": {
   "codemirror_mode": {
    "name": "ipython",
    "version": 3
   },
   "file_extension": ".py",
   "mimetype": "text/x-python",
   "name": "python",
   "nbconvert_exporter": "python",
   "pygments_lexer": "ipython3",
   "version": "3.10.12"
  }
 },
 "nbformat": 4,
 "nbformat_minor": 2
}
