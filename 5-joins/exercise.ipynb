{
 "cells": [
  {
   "cell_type": "code",
   "execution_count": 1,
   "metadata": {
    "metadata": {}
   },
   "outputs": [
    {
     "data": {
      "text/html": [
       "<div><style>\n",
       ".dataframe > thead > tr,\n",
       ".dataframe > tbody > tr {\n",
       "  text-align: right;\n",
       "  white-space: pre-wrap;\n",
       "}\n",
       "</style>\n",
       "<small>shape: (5, 3)</small><table border=\"1\" class=\"dataframe\"><thead><tr><th>vet</th><th>name</th><th>practice</th></tr><tr><td>i8</td><td>str</td><td>str</td></tr></thead><tbody><tr><td>1</td><td>&quot;Zooey Codewell&quot;</td><td>&quot;TechSavvy Vets&quot;</td></tr><tr><td>2</td><td>&quot;Script Safari&quot;</td><td>&quot;Digital Wildlife Care&quot;</td></tr><tr><td>3</td><td>&quot;Debug Dino&quot;</td><td>&quot;Digital Wildlife Care&quot;</td></tr><tr><td>4</td><td>&quot;Pixel Paws&quot;</td><td>&quot;CodePaws Veterinary Clinic&quot;</td></tr><tr><td>5</td><td>&quot;Byte Lyon&quot;</td><td>&quot;TechSavvy Vets&quot;</td></tr></tbody></table></div>"
      ],
      "text/plain": [
       "shape: (5, 3)\n",
       "┌─────┬────────────────┬────────────────────────────┐\n",
       "│ vet ┆ name           ┆ practice                   │\n",
       "│ --- ┆ ---            ┆ ---                        │\n",
       "│ i8  ┆ str            ┆ str                        │\n",
       "╞═════╪════════════════╪════════════════════════════╡\n",
       "│ 1   ┆ Zooey Codewell ┆ TechSavvy Vets             │\n",
       "│ 2   ┆ Script Safari  ┆ Digital Wildlife Care      │\n",
       "│ 3   ┆ Debug Dino     ┆ Digital Wildlife Care      │\n",
       "│ 4   ┆ Pixel Paws     ┆ CodePaws Veterinary Clinic │\n",
       "│ 5   ┆ Byte Lyon      ┆ TechSavvy Vets             │\n",
       "└─────┴────────────────┴────────────────────────────┘"
      ]
     },
     "execution_count": 1,
     "metadata": {},
     "output_type": "execute_result"
    }
   ],
   "source": [
    "\n",
    "import polars as pl\n",
    "\n",
    "vets = (\n",
    "    pl\n",
    "        .read_parquet(\"../data/dim_vet.parquet\")\n",
    "        .select(pl.all().shrink_dtype())\n",
    "\n",
    ")\n",
    "\n",
    "vets"
   ]
  },
  {
   "cell_type": "code",
   "execution_count": 2,
   "metadata": {
    "metadata": {}
   },
   "outputs": [
    {
     "data": {
      "text/html": [
       "<div><style>\n",
       ".dataframe > thead > tr,\n",
       ".dataframe > tbody > tr {\n",
       "  text-align: right;\n",
       "  white-space: pre-wrap;\n",
       "}\n",
       "</style>\n",
       "<small>shape: (3_291, 8)</small><table border=\"1\" class=\"dataframe\"><thead><tr><th>name</th><th>vet</th><th>age</th><th>weight</th><th>daily_steps</th><th>timestamp</th><th>vet_health_check</th><th>life_stage</th></tr><tr><td>str</td><td>i8</td><td>i8</td><td>f32</td><td>i16</td><td>datetime[μs]</td><td>str</td><td>str</td></tr></thead><tbody><tr><td>&quot;Arctic Archie&quot;</td><td>3</td><td>25</td><td>579.503906</td><td>15306</td><td>2020-04-20 06:15:00</td><td>&quot;INJURED&quot;</td><td>&quot;SENIOR&quot;</td></tr><tr><td>&quot;Chilly Willy&quot;</td><td>2</td><td>5</td><td>508.05246</td><td>6308</td><td>2020-04-20 06:15:00</td><td>&quot;INJURED&quot;</td><td>&quot;ADULT&quot;</td></tr><tr><td>&quot;Blizzard Bob&quot;</td><td>5</td><td>35</td><td>867.150879</td><td>17702</td><td>2020-04-20 06:15:00</td><td>&quot;INJURED&quot;</td><td>&quot;SENIOR&quot;</td></tr><tr><td>&quot;Arctic Archie&quot;</td><td>3</td><td>25</td><td>609.372009</td><td>6710</td><td>2020-04-22 06:15:00</td><td>&quot;INJURED&quot;</td><td>&quot;SENIOR&quot;</td></tr><tr><td>&quot;Chilly Willy&quot;</td><td>3</td><td>5</td><td>482.300385</td><td>13696</td><td>2020-04-22 06:15:00</td><td>&quot;HEALTHY&quot;</td><td>&quot;ADULT&quot;</td></tr><tr><td>&hellip;</td><td>&hellip;</td><td>&hellip;</td><td>&hellip;</td><td>&hellip;</td><td>&hellip;</td><td>&hellip;</td><td>&hellip;</td></tr><tr><td>&quot;Peter Panda&quot;</td><td>3</td><td>2</td><td>314.35965</td><td>8739</td><td>2024-04-17 06:15:00</td><td>&quot;SICK&quot;</td><td>&quot;JUV&quot;</td></tr><tr><td>&quot;Arctic Archie&quot;</td><td>3</td><td>29</td><td>600.072205</td><td>13109</td><td>2024-04-17 06:15:00</td><td>&quot;SICK&quot;</td><td>&quot;SENIOR&quot;</td></tr><tr><td>&quot;Chilly Willy&quot;</td><td>2</td><td>9</td><td>481.11673</td><td>1680</td><td>2024-04-17 06:15:00</td><td>&quot;HEALTHY&quot;</td><td>&quot;ADULT&quot;</td></tr><tr><td>&quot;Cubby Coldpaws&quot;</td><td>2</td><td>0</td><td>2.410815</td><td>2527</td><td>2024-04-17 06:15:00</td><td>&quot;HEALTHY&quot;</td><td>&quot;CUB&quot;</td></tr><tr><td>&quot;Blizzard Bob&quot;</td><td>3</td><td>39</td><td>846.541565</td><td>15334</td><td>2024-04-17 06:15:00</td><td>&quot;INJURED&quot;</td><td>&quot;SENIOR&quot;</td></tr></tbody></table></div>"
      ],
      "text/plain": [
       "shape: (3_291, 8)\n",
       "┌───────────────┬─────┬─────┬────────────┬─────────────┬───────────────┬──────────────┬────────────┐\n",
       "│ name          ┆ vet ┆ age ┆ weight     ┆ daily_steps ┆ timestamp     ┆ vet_health_c ┆ life_stage │\n",
       "│ ---           ┆ --- ┆ --- ┆ ---        ┆ ---         ┆ ---           ┆ heck         ┆ ---        │\n",
       "│ str           ┆ i8  ┆ i8  ┆ f32        ┆ i16         ┆ datetime[μs]  ┆ ---          ┆ str        │\n",
       "│               ┆     ┆     ┆            ┆             ┆               ┆ str          ┆            │\n",
       "╞═══════════════╪═════╪═════╪════════════╪═════════════╪═══════════════╪══════════════╪════════════╡\n",
       "│ Arctic Archie ┆ 3   ┆ 25  ┆ 579.503906 ┆ 15306       ┆ 2020-04-20    ┆ INJURED      ┆ SENIOR     │\n",
       "│               ┆     ┆     ┆            ┆             ┆ 06:15:00      ┆              ┆            │\n",
       "│ Chilly Willy  ┆ 2   ┆ 5   ┆ 508.05246  ┆ 6308        ┆ 2020-04-20    ┆ INJURED      ┆ ADULT      │\n",
       "│               ┆     ┆     ┆            ┆             ┆ 06:15:00      ┆              ┆            │\n",
       "│ Blizzard Bob  ┆ 5   ┆ 35  ┆ 867.150879 ┆ 17702       ┆ 2020-04-20    ┆ INJURED      ┆ SENIOR     │\n",
       "│               ┆     ┆     ┆            ┆             ┆ 06:15:00      ┆              ┆            │\n",
       "│ Arctic Archie ┆ 3   ┆ 25  ┆ 609.372009 ┆ 6710        ┆ 2020-04-22    ┆ INJURED      ┆ SENIOR     │\n",
       "│               ┆     ┆     ┆            ┆             ┆ 06:15:00      ┆              ┆            │\n",
       "│ Chilly Willy  ┆ 3   ┆ 5   ┆ 482.300385 ┆ 13696       ┆ 2020-04-22    ┆ HEALTHY      ┆ ADULT      │\n",
       "│               ┆     ┆     ┆            ┆             ┆ 06:15:00      ┆              ┆            │\n",
       "│ …             ┆ …   ┆ …   ┆ …          ┆ …           ┆ …             ┆ …            ┆ …          │\n",
       "│ Peter Panda   ┆ 3   ┆ 2   ┆ 314.35965  ┆ 8739        ┆ 2024-04-17    ┆ SICK         ┆ JUV        │\n",
       "│               ┆     ┆     ┆            ┆             ┆ 06:15:00      ┆              ┆            │\n",
       "│ Arctic Archie ┆ 3   ┆ 29  ┆ 600.072205 ┆ 13109       ┆ 2024-04-17    ┆ SICK         ┆ SENIOR     │\n",
       "│               ┆     ┆     ┆            ┆             ┆ 06:15:00      ┆              ┆            │\n",
       "│ Chilly Willy  ┆ 2   ┆ 9   ┆ 481.11673  ┆ 1680        ┆ 2024-04-17    ┆ HEALTHY      ┆ ADULT      │\n",
       "│               ┆     ┆     ┆            ┆             ┆ 06:15:00      ┆              ┆            │\n",
       "│ Cubby         ┆ 2   ┆ 0   ┆ 2.410815   ┆ 2527        ┆ 2024-04-17    ┆ HEALTHY      ┆ CUB        │\n",
       "│ Coldpaws      ┆     ┆     ┆            ┆             ┆ 06:15:00      ┆              ┆            │\n",
       "│ Blizzard Bob  ┆ 3   ┆ 39  ┆ 846.541565 ┆ 15334       ┆ 2024-04-17    ┆ INJURED      ┆ SENIOR     │\n",
       "│               ┆     ┆     ┆            ┆             ┆ 06:15:00      ┆              ┆            │\n",
       "└───────────────┴─────┴─────┴────────────┴─────────────┴───────────────┴──────────────┴────────────┘"
      ]
     },
     "execution_count": 2,
     "metadata": {},
     "output_type": "execute_result"
    }
   ],
   "source": [
    "batch_measurements = (\n",
    "    pl\n",
    "        .read_parquet(\"../data/batch_measurements.parquet\")\n",
    "        .select(pl.all().shrink_dtype())\n",
    "\n",
    "\n",
    ")\n",
    "\n",
    "batch_measurements"
   ]
  },
  {
   "cell_type": "code",
   "execution_count": 3,
   "metadata": {
    "metadata": {}
   },
   "outputs": [
    {
     "data": {
      "text/html": [
       "<div><style>\n",
       ".dataframe > thead > tr,\n",
       ".dataframe > tbody > tr {\n",
       "  text-align: right;\n",
       "  white-space: pre-wrap;\n",
       "}\n",
       "</style>\n",
       "<small>shape: (1, 1)</small><table border=\"1\" class=\"dataframe\"><thead><tr><th>len</th></tr><tr><td>u32</td></tr></thead><tbody><tr><td>553</td></tr></tbody></table></div>"
      ],
      "text/plain": [
       "shape: (1, 1)\n",
       "┌─────┐\n",
       "│ len │\n",
       "│ --- │\n",
       "│ u32 │\n",
       "╞═════╡\n",
       "│ 553 │\n",
       "└─────┘"
      ]
     },
     "execution_count": 3,
     "metadata": {},
     "output_type": "execute_result"
    }
   ],
   "source": [
    "\n",
    "# - How many times has vet practice Digital Wildlife Care diagnosed a polar bear as sick?\n",
    "\n",
    "(\n",
    "batch_measurements.join(vets, \"vet\")\n",
    "    .filter(vet_health_check = \"SICK\", practice = \"Digital Wildlife Care\")\n",
    "    .select(pl.len())\n",
    ")\n",
    "\n",
    "(\n",
    "batch_measurements.filter(vet_health_check =\"SICK\")\n",
    ".with_columns(pl.col(\"vet\").cast(pl.Int64))\n",
    ".filter(practice = \"Digital Wildlife Care\")\n",
    ".join(dim_vet, on=\"vet\")\n",
    ".select(pl.len())\n",
    ")\n"
   ]
  },
  {
   "cell_type": "code",
   "execution_count": 4,
   "metadata": {
    "metadata": {}
   },
   "outputs": [
    {
     "data": {
      "text/html": [
       "<div><style>\n",
       ".dataframe > thead > tr,\n",
       ".dataframe > tbody > tr {\n",
       "  text-align: right;\n",
       "  white-space: pre-wrap;\n",
       "}\n",
       "</style>\n",
       "<small>shape: (3, 3)</small><table border=\"1\" class=\"dataframe\"><thead><tr><th>vet</th><th>name</th><th>practice</th></tr><tr><td>i8</td><td>str</td><td>str</td></tr></thead><tbody><tr><td>1</td><td>&quot;Zooey Codewell&quot;</td><td>&quot;TechSavvy Vets&quot;</td></tr><tr><td>2</td><td>&quot;Script Safari&quot;</td><td>&quot;Digital Wildlife Care&quot;</td></tr><tr><td>3</td><td>&quot;Debug Dino&quot;</td><td>&quot;Digital Wildlife Care&quot;</td></tr></tbody></table></div>"
      ],
      "text/plain": [
       "shape: (3, 3)\n",
       "┌─────┬────────────────┬───────────────────────┐\n",
       "│ vet ┆ name           ┆ practice              │\n",
       "│ --- ┆ ---            ┆ ---                   │\n",
       "│ i8  ┆ str            ┆ str                   │\n",
       "╞═════╪════════════════╪═══════════════════════╡\n",
       "│ 1   ┆ Zooey Codewell ┆ TechSavvy Vets        │\n",
       "│ 2   ┆ Script Safari  ┆ Digital Wildlife Care │\n",
       "│ 3   ┆ Debug Dino     ┆ Digital Wildlife Care │\n",
       "└─────┴────────────────┴───────────────────────┘"
      ]
     },
     "execution_count": 4,
     "metadata": {},
     "output_type": "execute_result"
    }
   ],
   "source": [
    "# Which vet(s) has/have never seen a weight above the 99.9th percentile?\n",
    "\n",
    "did_see = (\n",
    "batch_measurements.select(\"weight\", \"practice\").join(vets, \"vet\")\n",
    "    .filter(pl.col(\"weight\") > pl.col(\"weight\").quantile(0.999))\n",
    "    .select(\"name_right\", \"vet\")\n",
    ")\n",
    "\n",
    "vets.join(did_see,\"vet\", how = \"anti\")"
   ]
  },
  {
   "cell_type": "code",
   "execution_count": 35,
   "metadata": {
    "metadata": {}
   },
   "outputs": [
    {
     "data": {
      "text/html": [
       "<div><style>\n",
       ".dataframe > thead > tr,\n",
       ".dataframe > tbody > tr {\n",
       "  text-align: right;\n",
       "  white-space: pre-wrap;\n",
       "}\n",
       "</style>\n",
       "<small>shape: (1, 4)</small><table border=\"1\" class=\"dataframe\"><thead><tr><th>consistency</th><th>vet</th><th>name</th><th>practice</th></tr><tr><td>f64</td><td>i8</td><td>str</td><td>str</td></tr></thead><tbody><tr><td>0.505263</td><td>5</td><td>&quot;Byte Lyon&quot;</td><td>&quot;TechSavvy Vets&quot;</td></tr></tbody></table></div>"
      ],
      "text/plain": [
       "shape: (1, 4)\n",
       "┌─────────────┬─────┬───────────┬────────────────┐\n",
       "│ consistency ┆ vet ┆ name      ┆ practice       │\n",
       "│ ---         ┆ --- ┆ ---       ┆ ---            │\n",
       "│ f64         ┆ i8  ┆ str       ┆ str            │\n",
       "╞═════════════╪═════╪═══════════╪════════════════╡\n",
       "│ 0.505263    ┆ 5   ┆ Byte Lyon ┆ TechSavvy Vets │\n",
       "└─────────────┴─────┴───────────┴────────────────┘"
      ]
     },
     "execution_count": 35,
     "metadata": {},
     "output_type": "execute_result"
    }
   ],
   "source": [
    "# Which vet was the least consistent in name capitalization?\n",
    "(\n",
    "batch_measurements\n",
    "    .select((pl.col(\"name\").str.to_uppercase() == pl.col(\"name\")).alias(\"isUpper\"), \"vet\")\n",
    "    .select(\"vet\", pl.col(\"isUpper\").sum().over(\"vet\").alias(\"total_upper\"),  pl.col(\"isUpper\").count().over(\"vet\").alias(\"total\"))\n",
    ")\n",
    "\n",
    "inconsistent = (\n",
    "batch_measurements\n",
    "    .select((pl.col(\"name\").str.to_uppercase() == pl.col(\"name\")).sum().over(\"vet\").alias(\"total_upper\"), pl.col(\"name\").count().over(\"vet\").alias(\"total\"), \"vet\", \"timestamp\")\n",
    "    .filter(timestamp = pl.col(\"timestamp\").min().over(\"vet\"))\n",
    "    .with_columns((pl.col(\"total_upper\") / pl.col(\"total\") - 0.5).abs().alias(\"test\"))\n",
    "    .filter(pl.col(\"test\") == pl.col(\"test\").min())\n",
    "    .select((pl.col(\"test\") + 0.5).alias(\"consistency\"), \"vet\")\n",
    "\n",
    "\n",
    ")\n",
    "\n",
    ".select(\"name_right\").unique\n",
    "inconsistent.join(vets, on=\"vet\")"
   ]
  }
 ],
 "metadata": {
  "kernelspec": {
   "display_name": ".venv",
   "language": "python",
   "name": "python3"
  },
  "language_info": {
   "codemirror_mode": {
    "name": "ipython",
    "version": 3
   },
   "file_extension": ".py",
   "mimetype": "text/x-python",
   "name": "python",
   "nbconvert_exporter": "python",
   "pygments_lexer": "ipython3",
   "version": "3.10.12"
  }
 },
 "nbformat": 4,
 "nbformat_minor": 2
}
