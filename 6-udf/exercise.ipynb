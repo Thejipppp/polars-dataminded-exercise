{
 "cells": [
  {
   "cell_type": "code",
   "execution_count": 2,
   "metadata": {},
   "outputs": [],
   "source": [
    "import polars as pl\n",
    "import datetime\n",
    "import holidays\n",
    "\n",
    "dict = holidays.BE()\n",
    "\n",
    "def is_weekend(date: datetime):\n",
    "    return date.weekday() >= 5\n",
    "\n",
    "def is_holiday(date: datetime):\n",
    "    return date.date() in dict\n"
   ]
  },
  {
   "cell_type": "code",
   "execution_count": 3,
   "metadata": {},
   "outputs": [
    {
     "data": {
      "text/html": [
       "<div><style>\n",
       ".dataframe > thead > tr,\n",
       ".dataframe > tbody > tr {\n",
       "  text-align: right;\n",
       "  white-space: pre-wrap;\n",
       "}\n",
       "</style>\n",
       "<small>shape: (10, 2)</small><table border=\"1\" class=\"dataframe\"><thead><tr><th>timestamp</th><th>visitors</th></tr><tr><td>datetime[μs]</td><td>i16</td></tr></thead><tbody><tr><td>2020-08-18 18:00:00</td><td>2400</td></tr><tr><td>2023-12-27 18:00:00</td><td>2399</td></tr><tr><td>2023-01-30 18:00:00</td><td>2398</td></tr><tr><td>2022-08-01 18:00:00</td><td>2397</td></tr><tr><td>2023-08-31 18:00:00</td><td>2397</td></tr><tr><td>2024-01-29 18:00:00</td><td>2397</td></tr><tr><td>2020-08-28 18:00:00</td><td>2396</td></tr><tr><td>2020-09-23 18:00:00</td><td>2396</td></tr><tr><td>2022-02-22 18:00:00</td><td>2396</td></tr><tr><td>2024-03-14 18:00:00</td><td>2396</td></tr></tbody></table></div>"
      ],
      "text/plain": [
       "shape: (10, 2)\n",
       "┌─────────────────────┬──────────┐\n",
       "│ timestamp           ┆ visitors │\n",
       "│ ---                 ┆ ---      │\n",
       "│ datetime[μs]        ┆ i16      │\n",
       "╞═════════════════════╪══════════╡\n",
       "│ 2020-08-18 18:00:00 ┆ 2400     │\n",
       "│ 2023-12-27 18:00:00 ┆ 2399     │\n",
       "│ 2023-01-30 18:00:00 ┆ 2398     │\n",
       "│ 2022-08-01 18:00:00 ┆ 2397     │\n",
       "│ 2023-08-31 18:00:00 ┆ 2397     │\n",
       "│ 2024-01-29 18:00:00 ┆ 2397     │\n",
       "│ 2020-08-28 18:00:00 ┆ 2396     │\n",
       "│ 2020-09-23 18:00:00 ┆ 2396     │\n",
       "│ 2022-02-22 18:00:00 ┆ 2396     │\n",
       "│ 2024-03-14 18:00:00 ┆ 2396     │\n",
       "└─────────────────────┴──────────┘"
      ]
     },
     "execution_count": 3,
     "metadata": {},
     "output_type": "execute_result"
    }
   ],
   "source": [
    "# we want to figure out which non-weekend or holiday days attracted the most visitors.\n",
    "(\n",
    "    pl\n",
    "        .read_parquet(\"../data/visitors.parquet\")\n",
    "        .filter(pl.col(\"timestamp\").map_elements(lambda dt: not is_weekend(dt) and not is_holiday(dt), return_dtype = bool))\n",
    "        .sort(\"visitors\", descending = True)\n",
    "        .limit(10)\n",
    "\n",
    ")"
   ]
  },
  {
   "cell_type": "code",
   "execution_count": 21,
   "metadata": {},
   "outputs": [
    {
     "name": "stdout",
     "output_type": "stream",
     "text": [
      "+-------------------+--------+\n",
      "|          timestamp|visitors|\n",
      "+-------------------+--------+\n",
      "|2020-08-18 18:00:00|    2400|\n",
      "|2023-12-27 18:00:00|    2399|\n",
      "|2023-01-30 18:00:00|    2398|\n",
      "|2022-08-01 18:00:00|    2397|\n",
      "|2023-08-31 18:00:00|    2397|\n",
      "|2024-01-29 18:00:00|    2397|\n",
      "|2022-02-22 18:00:00|    2396|\n",
      "|2020-08-28 18:00:00|    2396|\n",
      "|2020-09-23 18:00:00|    2396|\n",
      "|2024-03-14 18:00:00|    2396|\n",
      "+-------------------+--------+\n",
      "\n",
      "+-------------------+--------+\n",
      "|          timestamp|visitors|\n",
      "+-------------------+--------+\n",
      "|2020-08-18 18:00:00|    2400|\n",
      "|2023-12-27 18:00:00|    2399|\n",
      "|2023-01-30 18:00:00|    2398|\n",
      "|2022-08-01 18:00:00|    2397|\n",
      "|2023-08-31 18:00:00|    2397|\n",
      "|2024-01-29 18:00:00|    2397|\n",
      "|2022-02-22 18:00:00|    2396|\n",
      "|2020-08-28 18:00:00|    2396|\n",
      "|2020-09-23 18:00:00|    2396|\n",
      "|2024-03-14 18:00:00|    2396|\n",
      "+-------------------+--------+\n",
      "\n"
     ]
    }
   ],
   "source": [
    "import os\n",
    "\n",
    "from pyspark.sql import SparkSession\n",
    "import pyspark.sql.functions as F\n",
    "from pyspark.sql.types import BooleanType\n",
    " \n",
    "os.environ[\"JAVA_HOME\"] = \"/home/gitpod/.sdkman/candidates/java/current\"\n",
    "\n",
    "spark = SparkSession.builder.getOrCreate()\n",
    "\n",
    "def isNormalDay(dt: datetime):\n",
    "    #print(str(dt) + \" \" +str(not is_weekend(dt) and not is_holiday(dt)) )\n",
    "    return not is_weekend(dt) and not is_holiday(dt)\n",
    "\n",
    "(\n",
    "    spark\n",
    "        .read\n",
    "        .parquet(\"../data/visitors.parquet\")\n",
    "        .withColumn(\"isNormalDay\", F.udf(isNormalDay, returnType=\"boolean\")(\"timestamp\"))\n",
    "        .filter(F.col(\"isNormalDay\"))\n",
    "        .drop(\"isNormalDay\")\n",
    "        .sort(\"visitors\", ascending = False)\n",
    "        .limit(10)\n",
    "        .show()\n",
    ")\n",
    "\n",
    "(\n",
    "    spark\n",
    "        .read\n",
    "        .parquet(\"../data/visitors.parquet\")\n",
    "        .filter(F.udf(isNormalDay, returnType=\"boolean\")(\"timestamp\"))\n",
    "        .sort(\"visitors\", ascending = False)\n",
    "        .limit(10)\n",
    "        .show()\n",
    ")"
   ]
  },
  {
   "cell_type": "code",
   "execution_count": 27,
   "metadata": {},
   "outputs": [
    {
     "name": "stdout",
     "output_type": "stream",
     "text": [
      "{'country': BE, 'expand': True, 'language': None, 'market': None, 'observed': True, 'subdiv': None, 'years': set()}\n",
      "{datetime.date(2024, 1, 1): \"New Year's Day\", datetime.date(2024, 3, 31): 'Easter Sunday', datetime.date(2024, 4, 1): 'Easter Monday', datetime.date(2024, 5, 1): 'Labor Day', datetime.date(2024, 5, 9): 'Ascension Day', datetime.date(2024, 5, 19): 'Whit Sunday', datetime.date(2024, 5, 20): 'Whit Monday', datetime.date(2024, 7, 21): 'National Day', datetime.date(2024, 8, 15): 'Assumption Day', datetime.date(2024, 11, 1): \"All Saints' Day\", datetime.date(2024, 11, 11): 'Armistice Day', datetime.date(2024, 12, 25): 'Christmas Day'}\n"
     ]
    }
   ],
   "source": [
    "import datetime\n",
    "\n",
    "test = holidays.BE()\n",
    "\n",
    "print(test)\n",
    "\n",
    "datetime.date(2024,5,1) in test\n",
    "\n",
    "print(test)"
   ]
  }
 ],
 "metadata": {
  "kernelspec": {
   "display_name": ".venv",
   "language": "python",
   "name": "python3"
  },
  "language_info": {
   "codemirror_mode": {
    "name": "ipython",
    "version": 3
   },
   "file_extension": ".py",
   "mimetype": "text/x-python",
   "name": "python",
   "nbconvert_exporter": "python",
   "pygments_lexer": "ipython3",
   "version": "3.10.12"
  }
 },
 "nbformat": 4,
 "nbformat_minor": 2
}
