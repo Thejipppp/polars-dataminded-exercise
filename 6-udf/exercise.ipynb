{
 "cells": [
  {
   "cell_type": "code",
   "execution_count": 2,
   "metadata": {},
   "outputs": [],
   "source": [
    "import polars as pl\n",
    "import datetime\n",
    "import holidays\n",
    "\n",
    "def is_weekend(date: datetime):\n",
    "    return date.weekday() > 5\n",
    "\n",
    "def is_holiday(date: datetime):\n",
    "    return date.date() in holidays.BE()\n"
   ]
  },
  {
   "cell_type": "code",
   "execution_count": 3,
   "metadata": {},
   "outputs": [
    {
     "data": {
      "text/html": [
       "<div><style>\n",
       ".dataframe > thead > tr,\n",
       ".dataframe > tbody > tr {\n",
       "  text-align: right;\n",
       "  white-space: pre-wrap;\n",
       "}\n",
       "</style>\n",
       "<small>shape: (1_459, 2)</small><table border=\"1\" class=\"dataframe\"><thead><tr><th>timestamp</th><th>visitors</th></tr><tr><td>datetime[μs]</td><td>i16</td></tr></thead><tbody><tr><td>2020-04-20 18:00:00</td><td>2328</td></tr><tr><td>2020-04-21 18:00:00</td><td>2028</td></tr><tr><td>2020-04-22 18:00:00</td><td>2268</td></tr><tr><td>2020-04-23 18:00:00</td><td>2128</td></tr><tr><td>2020-04-24 18:00:00</td><td>2026</td></tr><tr><td>&hellip;</td><td>&hellip;</td></tr><tr><td>2024-04-13 18:00:00</td><td>2730</td></tr><tr><td>2024-04-14 18:00:00</td><td>2603</td></tr><tr><td>2024-04-15 18:00:00</td><td>2244</td></tr><tr><td>2024-04-16 18:00:00</td><td>2282</td></tr><tr><td>2024-04-17 18:00:00</td><td>2159</td></tr></tbody></table></div>"
      ],
      "text/plain": [
       "shape: (1_459, 2)\n",
       "┌─────────────────────┬──────────┐\n",
       "│ timestamp           ┆ visitors │\n",
       "│ ---                 ┆ ---      │\n",
       "│ datetime[μs]        ┆ i16      │\n",
       "╞═════════════════════╪══════════╡\n",
       "│ 2020-04-20 18:00:00 ┆ 2328     │\n",
       "│ 2020-04-21 18:00:00 ┆ 2028     │\n",
       "│ 2020-04-22 18:00:00 ┆ 2268     │\n",
       "│ 2020-04-23 18:00:00 ┆ 2128     │\n",
       "│ 2020-04-24 18:00:00 ┆ 2026     │\n",
       "│ …                   ┆ …        │\n",
       "│ 2024-04-13 18:00:00 ┆ 2730     │\n",
       "│ 2024-04-14 18:00:00 ┆ 2603     │\n",
       "│ 2024-04-15 18:00:00 ┆ 2244     │\n",
       "│ 2024-04-16 18:00:00 ┆ 2282     │\n",
       "│ 2024-04-17 18:00:00 ┆ 2159     │\n",
       "└─────────────────────┴──────────┘"
      ]
     },
     "execution_count": 3,
     "metadata": {},
     "output_type": "execute_result"
    }
   ],
   "source": [
    "# we want to figure out which non-weekend or holiday days attracted the most visitors.\n",
    "(\n",
    "    pl\n",
    "        .read_parquet(\"../data/visitors.parquet\")\n",
    "        .filter(pl.col(\"timestamp\").map_elements(lambda dt: !is_weekend(dt) and !is_holiday(dt)))\n",
    "\n",
    ")"
   ]
  }
 ],
 "metadata": {
  "kernelspec": {
   "display_name": ".venv",
   "language": "python",
   "name": "python3"
  },
  "language_info": {
   "codemirror_mode": {
    "name": "ipython",
    "version": 3
   },
   "file_extension": ".py",
   "mimetype": "text/x-python",
   "name": "python",
   "nbconvert_exporter": "python",
   "pygments_lexer": "ipython3",
   "version": "3.10.12"
  }
 },
 "nbformat": 4,
 "nbformat_minor": 2
}
