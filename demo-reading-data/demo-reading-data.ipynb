{
 "cells": [
  {
   "cell_type": "code",
   "execution_count": 3,
   "metadata": {},
   "outputs": [],
   "source": [
    "import polars as pl\n",
    "\n",
    "\n",
    "blob_account_name = \"azureopendatastorage\"\n",
    "blob_container_name = \"nyctlc\"\n",
    "blob_relative_path = \"yellow/**/*.parquet\"\n",
    "blob_sas_token = \"r\"\n",
    "# Allow SPARK to read from Blob remotely\n",
    "wasbs_path = \"abfss://%s@%s.dfs.core.windows.net/%s\" % (\n",
    "    blob_container_name,\n",
    "    blob_account_name,\n",
    "    blob_relative_path,\n",
    ")\n",
    "\n",
    "\n",
    "df = pl.scan_parquet(\n",
    "    wasbs_path,\n",
    "    hive_partitioning=True,\n",
    "    storage_options={\n",
    "        \"use_azure_cli\": \"true\",\n",
    "        \"skip_signature\": \"true\",\n",
    "    },\n",
    ").filter(puYear=2019, puMonth=1)"
   ]
  },
  {
   "cell_type": "code",
   "execution_count": null,
   "metadata": {},
   "outputs": [],
   "source": []
  }
 ],
 "metadata": {
  "kernelspec": {
   "display_name": ".venv",
   "language": "python",
   "name": "python3"
  },
  "language_info": {
   "codemirror_mode": {
    "name": "ipython",
    "version": 3
   },
   "file_extension": ".py",
   "mimetype": "text/x-python",
   "name": "python",
   "nbconvert_exporter": "python",
   "pygments_lexer": "ipython3",
   "version": "3.12.1"
  }
 },
 "nbformat": 4,
 "nbformat_minor": 2
}
