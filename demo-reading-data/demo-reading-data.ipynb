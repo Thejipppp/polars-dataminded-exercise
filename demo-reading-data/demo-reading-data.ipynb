{
 "cells": [
  {
   "cell_type": "code",
   "execution_count": 22,
   "metadata": {},
   "outputs": [],
   "source": [
    "import polars as pl\n",
    "\n",
    "\n",
    "blob_account_name = \"azureopendatastorage\"\n",
    "blob_container_name = \"nyctlc\"\n",
    "blob_relative_path = \"yellow/**/*.parquet\"\n",
    "blob_sas_token = \"r\"\n",
    "# Allow SPARK to read from Blob remotely\n",
    "wasbs_path = \"abfss://%s@%s.dfs.core.windows.net/%s\" % (\n",
    "    blob_container_name,\n",
    "    blob_account_name,\n",
    "    blob_relative_path,\n",
    ")\n",
    "\n",
    "\n",
    "df = pl.scan_parquet(\n",
    "    wasbs_path,\n",
    "    hive_partitioning=False,\n",
    "    storage_options={\n",
    "        \"use_azure_cli\": \"true\",\n",
    "        \"skip_signature\": \"true\",\n",
    "    },\n",
    ").filter(puYear=2019, puMonth=1)"
   ]
  },
  {
   "cell_type": "code",
   "execution_count": 23,
   "metadata": {},
   "outputs": [
    {
     "ename": "ColumnNotFoundError",
     "evalue": "unable to find column \"puYear\"; valid columns: [\"vendorID\", \"tpepPickupDateTime\", \"tpepDropoffDateTime\", \"passengerCount\", \"tripDistance\", \"puLocationId\", \"doLocationId\", \"startLon\", \"startLat\", \"endLon\", \"endLat\", \"rateCodeId\", \"storeAndFwdFlag\", \"paymentType\", \"fareAmount\", \"extra\", \"mtaTax\", \"improvementSurcharge\", \"tipAmount\", \"tollsAmount\", \"totalAmount\"]\n\nError originated just after this operation:\n\n  Parquet SCAN 2713 files: first file: abfss://azureopendatastorage.dfs.core.windows.net/yellow/puYear=2001/puMonth=1/part-00001-tid-8898858832658823408-a1de80bd-eed3-4d11-b9d4-fa74bfbd47bc-426336-1.c000.snappy.parquet\n  PROJECT */21 COLUMNS",
     "output_type": "error",
     "traceback": [
      "\u001b[0;31m---------------------------------------------------------------------------\u001b[0m",
      "\u001b[0;31mColumnNotFoundError\u001b[0m                       Traceback (most recent call last)",
      "Cell \u001b[0;32mIn[23], line 1\u001b[0m\n\u001b[0;32m----> 1\u001b[0m \u001b[43mdf\u001b[49m\u001b[38;5;241;43m.\u001b[39;49m\u001b[43mcollect\u001b[49m\u001b[43m(\u001b[49m\u001b[43m)\u001b[49m\n",
      "File \u001b[0;32m~/dataframe-of-mind/.venv/lib/python3.12/site-packages/polars/lazyframe/frame.py:1683\u001b[0m, in \u001b[0;36mLazyFrame.collect\u001b[0;34m(self, type_coercion, predicate_pushdown, projection_pushdown, simplify_expression, slice_pushdown, comm_subplan_elim, comm_subexpr_elim, no_optimization, streaming, background, _eager)\u001b[0m\n\u001b[1;32m   1680\u001b[0m \u001b[38;5;28;01mif\u001b[39;00m background:\n\u001b[1;32m   1681\u001b[0m     \u001b[38;5;28;01mreturn\u001b[39;00m InProcessQuery(ldf\u001b[38;5;241m.\u001b[39mcollect_concurrently())\n\u001b[0;32m-> 1683\u001b[0m \u001b[38;5;28;01mreturn\u001b[39;00m wrap_df(\u001b[43mldf\u001b[49m\u001b[38;5;241;43m.\u001b[39;49m\u001b[43mcollect\u001b[49m\u001b[43m(\u001b[49m\u001b[43m)\u001b[49m)\n",
      "\u001b[0;31mColumnNotFoundError\u001b[0m: unable to find column \"puYear\"; valid columns: [\"vendorID\", \"tpepPickupDateTime\", \"tpepDropoffDateTime\", \"passengerCount\", \"tripDistance\", \"puLocationId\", \"doLocationId\", \"startLon\", \"startLat\", \"endLon\", \"endLat\", \"rateCodeId\", \"storeAndFwdFlag\", \"paymentType\", \"fareAmount\", \"extra\", \"mtaTax\", \"improvementSurcharge\", \"tipAmount\", \"tollsAmount\", \"totalAmount\"]\n\nError originated just after this operation:\n\n  Parquet SCAN 2713 files: first file: abfss://azureopendatastorage.dfs.core.windows.net/yellow/puYear=2001/puMonth=1/part-00001-tid-8898858832658823408-a1de80bd-eed3-4d11-b9d4-fa74bfbd47bc-426336-1.c000.snappy.parquet\n  PROJECT */21 COLUMNS"
     ]
    }
   ],
   "source": [
    "df.collect()"
   ]
  },
  {
   "cell_type": "code",
   "execution_count": null,
   "metadata": {},
   "outputs": [],
   "source": []
  }
 ],
 "metadata": {
  "kernelspec": {
   "display_name": ".venv",
   "language": "python",
   "name": "python3"
  },
  "language_info": {
   "codemirror_mode": {
    "name": "ipython",
    "version": 3
   },
   "file_extension": ".py",
   "mimetype": "text/x-python",
   "name": "python",
   "nbconvert_exporter": "python",
   "pygments_lexer": "ipython3",
   "version": "3.12.1"
  }
 },
 "nbformat": 4,
 "nbformat_minor": 2
}
