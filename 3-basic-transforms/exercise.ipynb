{
 "cells": [
  {
   "cell_type": "code",
   "execution_count": 1,
   "metadata": {
    "metadata": {}
   },
   "outputs": [
    {
     "data": {
      "text/html": [
       "<div><style>\n",
       ".dataframe > thead > tr,\n",
       ".dataframe > tbody > tr {\n",
       "  text-align: right;\n",
       "  white-space: pre-wrap;\n",
       "}\n",
       "</style>\n",
       "<small>shape: (158_016, 7)</small><table border=\"1\" class=\"dataframe\"><thead><tr><th>name</th><th>timestamp</th><th>blood_pressure</th><th>heart_rate</th><th>temperature</th><th>blood_glucose</th><th>sensor</th></tr><tr><td>str</td><td>datetime[μs]</td><td>i16</td><td>i16</td><td>f32</td><td>i16</td><td>i8</td></tr></thead><tbody><tr><td>&quot;Arctic Archie&quot;</td><td>2020-04-20 00:09:05.847754</td><td>102</td><td>60</td><td>36.080002</td><td>99</td><td>2</td></tr><tr><td>&quot;Chilly Willy&quot;</td><td>2020-04-20 00:09:07.806632</td><td>67</td><td>70</td><td>36.009998</td><td>118</td><td>4</td></tr><tr><td>&quot;Blizzard Bob&quot;</td><td>2020-04-20 00:03:15.122618</td><td>90</td><td>67</td><td>36.049999</td><td>184</td><td>1</td></tr><tr><td>&quot;Arctic Archie&quot;</td><td>2020-04-20 01:00:54.979257</td><td>83</td><td>70</td><td>36.07</td><td>147</td><td>4</td></tr><tr><td>&quot;Chilly Willy&quot;</td><td>2020-04-20 01:04:45.918595</td><td>79</td><td>65</td><td>36.490002</td><td>109</td><td>1</td></tr><tr><td>&hellip;</td><td>&hellip;</td><td>&hellip;</td><td>&hellip;</td><td>&hellip;</td><td>&hellip;</td><td>&hellip;</td></tr><tr><td>&quot;Peter Panda&quot;</td><td>2024-04-18 23:09:35.882185</td><td>92</td><td>73</td><td>38.549999</td><td>198</td><td>4</td></tr><tr><td>&quot;Arctic Archie&quot;</td><td>2024-04-18 23:08:51.201325</td><td>108</td><td>70</td><td>35.98</td><td>149</td><td>4</td></tr><tr><td>&quot;Chilly Willy&quot;</td><td>2024-04-18 23:08:23.009044</td><td>82</td><td>70</td><td>36.080002</td><td>122</td><td>4</td></tr><tr><td>&quot;Cubby Coldpaws&quot;</td><td>2024-04-18 23:09:46.480672</td><td>63</td><td>138</td><td>36.07</td><td>161</td><td>3</td></tr><tr><td>&quot;Blizzard Bob&quot;</td><td>2024-04-18 23:00:21.361558</td><td>95</td><td>80</td><td>35.93</td><td>184</td><td>2</td></tr></tbody></table></div>"
      ],
      "text/plain": [
       "shape: (158_016, 7)\n",
       "┌───────────────┬───────────────┬───────────────┬────────────┬─────────────┬──────────────┬────────┐\n",
       "│ name          ┆ timestamp     ┆ blood_pressur ┆ heart_rate ┆ temperature ┆ blood_glucos ┆ sensor │\n",
       "│ ---           ┆ ---           ┆ e             ┆ ---        ┆ ---         ┆ e            ┆ ---    │\n",
       "│ str           ┆ datetime[μs]  ┆ ---           ┆ i16        ┆ f32         ┆ ---          ┆ i8     │\n",
       "│               ┆               ┆ i16           ┆            ┆             ┆ i16          ┆        │\n",
       "╞═══════════════╪═══════════════╪═══════════════╪════════════╪═════════════╪══════════════╪════════╡\n",
       "│ Arctic Archie ┆ 2020-04-20    ┆ 102           ┆ 60         ┆ 36.080002   ┆ 99           ┆ 2      │\n",
       "│               ┆ 00:09:05.8477 ┆               ┆            ┆             ┆              ┆        │\n",
       "│               ┆ 54            ┆               ┆            ┆             ┆              ┆        │\n",
       "│ Chilly Willy  ┆ 2020-04-20    ┆ 67            ┆ 70         ┆ 36.009998   ┆ 118          ┆ 4      │\n",
       "│               ┆ 00:09:07.8066 ┆               ┆            ┆             ┆              ┆        │\n",
       "│               ┆ 32            ┆               ┆            ┆             ┆              ┆        │\n",
       "│ Blizzard Bob  ┆ 2020-04-20    ┆ 90            ┆ 67         ┆ 36.049999   ┆ 184          ┆ 1      │\n",
       "│               ┆ 00:03:15.1226 ┆               ┆            ┆             ┆              ┆        │\n",
       "│               ┆ 18            ┆               ┆            ┆             ┆              ┆        │\n",
       "│ Arctic Archie ┆ 2020-04-20    ┆ 83            ┆ 70         ┆ 36.07       ┆ 147          ┆ 4      │\n",
       "│               ┆ 01:00:54.9792 ┆               ┆            ┆             ┆              ┆        │\n",
       "│               ┆ 57            ┆               ┆            ┆             ┆              ┆        │\n",
       "│ Chilly Willy  ┆ 2020-04-20    ┆ 79            ┆ 65         ┆ 36.490002   ┆ 109          ┆ 1      │\n",
       "│               ┆ 01:04:45.9185 ┆               ┆            ┆             ┆              ┆        │\n",
       "│               ┆ 95            ┆               ┆            ┆             ┆              ┆        │\n",
       "│ …             ┆ …             ┆ …             ┆ …          ┆ …           ┆ …            ┆ …      │\n",
       "│ Peter Panda   ┆ 2024-04-18    ┆ 92            ┆ 73         ┆ 38.549999   ┆ 198          ┆ 4      │\n",
       "│               ┆ 23:09:35.8821 ┆               ┆            ┆             ┆              ┆        │\n",
       "│               ┆ 85            ┆               ┆            ┆             ┆              ┆        │\n",
       "│ Arctic Archie ┆ 2024-04-18    ┆ 108           ┆ 70         ┆ 35.98       ┆ 149          ┆ 4      │\n",
       "│               ┆ 23:08:51.2013 ┆               ┆            ┆             ┆              ┆        │\n",
       "│               ┆ 25            ┆               ┆            ┆             ┆              ┆        │\n",
       "│ Chilly Willy  ┆ 2024-04-18    ┆ 82            ┆ 70         ┆ 36.080002   ┆ 122          ┆ 4      │\n",
       "│               ┆ 23:08:23.0090 ┆               ┆            ┆             ┆              ┆        │\n",
       "│               ┆ 44            ┆               ┆            ┆             ┆              ┆        │\n",
       "│ Cubby         ┆ 2024-04-18    ┆ 63            ┆ 138        ┆ 36.07       ┆ 161          ┆ 3      │\n",
       "│ Coldpaws      ┆ 23:09:46.4806 ┆               ┆            ┆             ┆              ┆        │\n",
       "│               ┆ 72            ┆               ┆            ┆             ┆              ┆        │\n",
       "│ Blizzard Bob  ┆ 2024-04-18    ┆ 95            ┆ 80         ┆ 35.93       ┆ 184          ┆ 2      │\n",
       "│               ┆ 23:00:21.3615 ┆               ┆            ┆             ┆              ┆        │\n",
       "│               ┆ 58            ┆               ┆            ┆             ┆              ┆        │\n",
       "└───────────────┴───────────────┴───────────────┴────────────┴─────────────┴──────────────┴────────┘"
      ]
     },
     "execution_count": 1,
     "metadata": {},
     "output_type": "execute_result"
    }
   ],
   "source": [
    "import polars as pl\n",
    "\n",
    "\n",
    "pl.read_parquet(\"../data/measurements.parquet\")"
   ]
  },
  {
   "cell_type": "code",
   "execution_count": 30,
   "metadata": {
    "metadata": {}
   },
   "outputs": [
    {
     "data": {
      "text/html": [
       "<div><style>\n",
       ".dataframe > thead > tr,\n",
       ".dataframe > tbody > tr {\n",
       "  text-align: right;\n",
       "  white-space: pre-wrap;\n",
       "}\n",
       "</style>\n",
       "<small>shape: (3_291, 8)</small><table border=\"1\" class=\"dataframe\"><thead><tr><th>name</th><th>vet</th><th>age</th><th>weight</th><th>daily_steps</th><th>timestamp</th><th>vet_health_check</th><th>life_stage</th></tr><tr><td>str</td><td>i8</td><td>i8</td><td>f32</td><td>i16</td><td>datetime[μs]</td><td>str</td><td>str</td></tr></thead><tbody><tr><td>&quot;Arctic Archie&quot;</td><td>3</td><td>25</td><td>579.503906</td><td>15306</td><td>2020-04-20 06:15:00</td><td>&quot;INJURED&quot;</td><td>&quot;SENIOR&quot;</td></tr><tr><td>&quot;Chilly Willy&quot;</td><td>2</td><td>5</td><td>508.05246</td><td>6308</td><td>2020-04-20 06:15:00</td><td>&quot;INJURED&quot;</td><td>&quot;ADULT&quot;</td></tr><tr><td>&quot;Blizzard Bob&quot;</td><td>5</td><td>35</td><td>867.150879</td><td>17702</td><td>2020-04-20 06:15:00</td><td>&quot;INJURED&quot;</td><td>&quot;SENIOR&quot;</td></tr><tr><td>&quot;Arctic Archie&quot;</td><td>3</td><td>25</td><td>609.372009</td><td>6710</td><td>2020-04-22 06:15:00</td><td>&quot;INJURED&quot;</td><td>&quot;SENIOR&quot;</td></tr><tr><td>&quot;Chilly Willy&quot;</td><td>3</td><td>5</td><td>482.300385</td><td>13696</td><td>2020-04-22 06:15:00</td><td>&quot;HEALTHY&quot;</td><td>&quot;ADULT&quot;</td></tr><tr><td>&hellip;</td><td>&hellip;</td><td>&hellip;</td><td>&hellip;</td><td>&hellip;</td><td>&hellip;</td><td>&hellip;</td><td>&hellip;</td></tr><tr><td>&quot;Peter Panda&quot;</td><td>3</td><td>2</td><td>314.35965</td><td>8739</td><td>2024-04-17 06:15:00</td><td>&quot;SICK&quot;</td><td>&quot;JUV&quot;</td></tr><tr><td>&quot;Arctic Archie&quot;</td><td>3</td><td>29</td><td>600.072205</td><td>13109</td><td>2024-04-17 06:15:00</td><td>&quot;SICK&quot;</td><td>&quot;SENIOR&quot;</td></tr><tr><td>&quot;Chilly Willy&quot;</td><td>2</td><td>9</td><td>481.11673</td><td>1680</td><td>2024-04-17 06:15:00</td><td>&quot;HEALTHY&quot;</td><td>&quot;ADULT&quot;</td></tr><tr><td>&quot;Cubby Coldpaws&quot;</td><td>2</td><td>0</td><td>2.410815</td><td>2527</td><td>2024-04-17 06:15:00</td><td>&quot;HEALTHY&quot;</td><td>&quot;CUB&quot;</td></tr><tr><td>&quot;Blizzard Bob&quot;</td><td>3</td><td>39</td><td>846.541565</td><td>15334</td><td>2024-04-17 06:15:00</td><td>&quot;INJURED&quot;</td><td>&quot;SENIOR&quot;</td></tr></tbody></table></div>"
      ],
      "text/plain": [
       "shape: (3_291, 8)\n",
       "┌───────────────┬─────┬─────┬────────────┬─────────────┬───────────────┬──────────────┬────────────┐\n",
       "│ name          ┆ vet ┆ age ┆ weight     ┆ daily_steps ┆ timestamp     ┆ vet_health_c ┆ life_stage │\n",
       "│ ---           ┆ --- ┆ --- ┆ ---        ┆ ---         ┆ ---           ┆ heck         ┆ ---        │\n",
       "│ str           ┆ i8  ┆ i8  ┆ f32        ┆ i16         ┆ datetime[μs]  ┆ ---          ┆ str        │\n",
       "│               ┆     ┆     ┆            ┆             ┆               ┆ str          ┆            │\n",
       "╞═══════════════╪═════╪═════╪════════════╪═════════════╪═══════════════╪══════════════╪════════════╡\n",
       "│ Arctic Archie ┆ 3   ┆ 25  ┆ 579.503906 ┆ 15306       ┆ 2020-04-20    ┆ INJURED      ┆ SENIOR     │\n",
       "│               ┆     ┆     ┆            ┆             ┆ 06:15:00      ┆              ┆            │\n",
       "│ Chilly Willy  ┆ 2   ┆ 5   ┆ 508.05246  ┆ 6308        ┆ 2020-04-20    ┆ INJURED      ┆ ADULT      │\n",
       "│               ┆     ┆     ┆            ┆             ┆ 06:15:00      ┆              ┆            │\n",
       "│ Blizzard Bob  ┆ 5   ┆ 35  ┆ 867.150879 ┆ 17702       ┆ 2020-04-20    ┆ INJURED      ┆ SENIOR     │\n",
       "│               ┆     ┆     ┆            ┆             ┆ 06:15:00      ┆              ┆            │\n",
       "│ Arctic Archie ┆ 3   ┆ 25  ┆ 609.372009 ┆ 6710        ┆ 2020-04-22    ┆ INJURED      ┆ SENIOR     │\n",
       "│               ┆     ┆     ┆            ┆             ┆ 06:15:00      ┆              ┆            │\n",
       "│ Chilly Willy  ┆ 3   ┆ 5   ┆ 482.300385 ┆ 13696       ┆ 2020-04-22    ┆ HEALTHY      ┆ ADULT      │\n",
       "│               ┆     ┆     ┆            ┆             ┆ 06:15:00      ┆              ┆            │\n",
       "│ …             ┆ …   ┆ …   ┆ …          ┆ …           ┆ …             ┆ …            ┆ …          │\n",
       "│ Peter Panda   ┆ 3   ┆ 2   ┆ 314.35965  ┆ 8739        ┆ 2024-04-17    ┆ SICK         ┆ JUV        │\n",
       "│               ┆     ┆     ┆            ┆             ┆ 06:15:00      ┆              ┆            │\n",
       "│ Arctic Archie ┆ 3   ┆ 29  ┆ 600.072205 ┆ 13109       ┆ 2024-04-17    ┆ SICK         ┆ SENIOR     │\n",
       "│               ┆     ┆     ┆            ┆             ┆ 06:15:00      ┆              ┆            │\n",
       "│ Chilly Willy  ┆ 2   ┆ 9   ┆ 481.11673  ┆ 1680        ┆ 2024-04-17    ┆ HEALTHY      ┆ ADULT      │\n",
       "│               ┆     ┆     ┆            ┆             ┆ 06:15:00      ┆              ┆            │\n",
       "│ Cubby         ┆ 2   ┆ 0   ┆ 2.410815   ┆ 2527        ┆ 2024-04-17    ┆ HEALTHY      ┆ CUB        │\n",
       "│ Coldpaws      ┆     ┆     ┆            ┆             ┆ 06:15:00      ┆              ┆            │\n",
       "│ Blizzard Bob  ┆ 3   ┆ 39  ┆ 846.541565 ┆ 15334       ┆ 2024-04-17    ┆ INJURED      ┆ SENIOR     │\n",
       "│               ┆     ┆     ┆            ┆             ┆ 06:15:00      ┆              ┆            │\n",
       "└───────────────┴─────┴─────┴────────────┴─────────────┴───────────────┴──────────────┴────────────┘"
      ]
     },
     "execution_count": 30,
     "metadata": {},
     "output_type": "execute_result"
    }
   ],
   "source": [
    "import polars as pl\n",
    "\n",
    "\n",
    "pl.read_parquet(\"../data/batch_measurements.parquet\")"
   ]
  },
  {
   "cell_type": "code",
   "execution_count": 24,
   "metadata": {
    "metadata": {}
   },
   "outputs": [
    {
     "name": "stdout",
     "output_type": "stream",
     "text": [
      "\n",
      "  Parquet SCAN ../data/batch_measurements.parquet\n",
      "  PROJECT */8 COLUMNS\n",
      "  SELECTION: [([([(col(\"vet_health_check\")) == (String(INJURED))]) & ([(col(\"age\")) > (15)])]) & ([(col(\"timestamp\").dt.year()) == (2022)])]\n",
      "\n",
      "  Parquet SCAN ../data/batch_measurements.parquet\n",
      "  PROJECT */8 COLUMNS\n",
      "  SELECTION: [([([(col(\"timestamp\").dt.year()) == (2022)]) & ([(col(\"age\")) > (15)])]) & ([(col(\"vet_health_check\")) == (String(INJURED))])]\n"
     ]
    }
   ],
   "source": [
    "print(\n",
    "    pl\n",
    "    .scan_parquet(\"../data/batch_measurements.parquet\")\n",
    "    .filter(pl.col(\"timestamp\").dt.year() == 2022)\n",
    "    .filter(pl.col(\"age\") > 15)\n",
    "    .filter(pl.col(\"vet_health_check\") == \"INJURED\")\n",
    "    #.collect()\n",
    "    .explain(optimized=True)\n",
    ")\n",
    "\n",
    "print(\n",
    "    pl\n",
    "    .scan_parquet(\"../data/batch_measurements.parquet\")\n",
    "    .filter(pl.col(\"timestamp\").dt.year() == 2022, pl.col(\"age\") > 15, pl.col(\"vet_health_check\") == \"INJURED\")\n",
    "    #.collect()\n",
    "    .explain(optimized=True)\n",
    ")\n",
    "\n",
    "# Was there in 2022 an injured polar bear older than 15 (i.e. a senior polar bear)? \n"
   ]
  },
  {
   "cell_type": "code",
   "execution_count": 56,
   "metadata": {
    "metadata": {}
   },
   "outputs": [
    {
     "name": "stdout",
     "output_type": "stream",
     "text": [
      "shape: (1, 1)\n",
      "┌─────┐\n",
      "│ len │\n",
      "│ --- │\n",
      "│ u32 │\n",
      "╞═════╡\n",
      "│ 115 │\n",
      "└─────┘\n"
     ]
    }
   ],
   "source": [
    "# How many times was Blizzard Bob's name capitalized in the batch measurements?\n",
    "print(\n",
    "    pl\n",
    "    .scan_parquet(\"../data/batch_measurements.parquet\")\n",
    "    .filter(pl.col(\"name\") == \"BLIZZARD BOB\")\n",
    "    .select(pl.len())\n",
    "    .collect()\n",
    ")\n"
   ]
  },
  {
   "cell_type": "code",
   "execution_count": 14,
   "metadata": {
    "metadata": {}
   },
   "outputs": [
    {
     "data": {
      "text/html": [
       "<div><style>\n",
       ".dataframe > thead > tr,\n",
       ".dataframe > tbody > tr {\n",
       "  text-align: right;\n",
       "  white-space: pre-wrap;\n",
       "}\n",
       "</style>\n",
       "<small>shape: (54, 3)</small><table border=\"1\" class=\"dataframe\"><thead><tr><th>name</th><th>temperature</th><th>vet_health_check</th></tr><tr><td>str</td><td>f32</td><td>str</td></tr></thead><tbody><tr><td>&quot;Chilly Willy&quot;</td><td>40.529999</td><td>&quot;SICK&quot;</td></tr><tr><td>&quot;Chilly Willy&quot;</td><td>40.330002</td><td>&quot;SICK&quot;</td></tr><tr><td>&quot;Chilly Willy&quot;</td><td>40.669998</td><td>&quot;SICK&quot;</td></tr><tr><td>&quot;Chilly Willy&quot;</td><td>40.68</td><td>&quot;SICK&quot;</td></tr><tr><td>&quot;Chilly Willy&quot;</td><td>40.09</td><td>&quot;SICK&quot;</td></tr><tr><td>&hellip;</td><td>&hellip;</td><td>&hellip;</td></tr><tr><td>&quot;Chilly Willy&quot;</td><td>40.09</td><td>&quot;SICK&quot;</td></tr><tr><td>&quot;Chilly Willy&quot;</td><td>40.549999</td><td>&quot;SICK&quot;</td></tr><tr><td>&quot;Chilly Willy&quot;</td><td>40.220001</td><td>&quot;SICK&quot;</td></tr><tr><td>&quot;Chilly Willy&quot;</td><td>40.130001</td><td>&quot;SICK&quot;</td></tr><tr><td>&quot;Chilly Willy&quot;</td><td>40.110001</td><td>&quot;SICK&quot;</td></tr></tbody></table></div>"
      ],
      "text/plain": [
       "shape: (54, 3)\n",
       "┌──────────────┬─────────────┬──────────────────┐\n",
       "│ name         ┆ temperature ┆ vet_health_check │\n",
       "│ ---          ┆ ---         ┆ ---              │\n",
       "│ str          ┆ f32         ┆ str              │\n",
       "╞══════════════╪═════════════╪══════════════════╡\n",
       "│ Chilly Willy ┆ 40.529999   ┆ SICK             │\n",
       "│ Chilly Willy ┆ 40.330002   ┆ SICK             │\n",
       "│ Chilly Willy ┆ 40.669998   ┆ SICK             │\n",
       "│ Chilly Willy ┆ 40.68       ┆ SICK             │\n",
       "│ Chilly Willy ┆ 40.09       ┆ SICK             │\n",
       "│ …            ┆ …           ┆ …                │\n",
       "│ Chilly Willy ┆ 40.09       ┆ SICK             │\n",
       "│ Chilly Willy ┆ 40.549999   ┆ SICK             │\n",
       "│ Chilly Willy ┆ 40.220001   ┆ SICK             │\n",
       "│ Chilly Willy ┆ 40.130001   ┆ SICK             │\n",
       "│ Chilly Willy ┆ 40.110001   ┆ SICK             │\n",
       "└──────────────┴─────────────┴──────────────────┘"
      ]
     },
     "execution_count": 14,
     "metadata": {},
     "output_type": "execute_result"
    }
   ],
   "source": [
    "# Was Cubby Coldpaw ever sick with a temperature above 40 degrees?\n",
    "import polars as pl\n",
    "\n",
    "temp = (\n",
    "    pl\n",
    "        .scan_parquet(\"../data/measurements.parquet\")\n",
    "        .filter(pl.col(\"temperature\") > 40.0)\n",
    "        .filter(pl.col(\"name\") == \"Chilly Willy\")\n",
    "        #.with_columns(pl.col('timestamp').dt.cast_time_unit('s'))\n",
    "        .sort(\"timestamp\")\n",
    "        .collect()\n",
    ")\n",
    "\n",
    "sick = (\n",
    "    pl\n",
    "        .scan_parquet(\"../data/batch_measurements.parquet\")\n",
    "        .filter(pl.col(\"vet_health_check\") == \"SICK\")\n",
    "        .filter(pl.col(\"name\") == \"Chilly Willy\")\n",
    "        .sort(\"timestamp\")\n",
    "        .collect()\n",
    ")\n",
    "\n",
    "my = (\n",
    "    temp\n",
    "        .join_asof(sick, on=\"timestamp\", tolerance=\"1d\")\n",
    "        .select(\"name\", \"temperature\", \"vet_health_check\")\n",
    "        .drop_nulls()\n",
    ")\n",
    "\n",
    "course = pl.concat(\n",
    "    [\n",
    "        temp.select(\"name\", \"temperature\", \"timestamp\"),\n",
    "        sick.select(\"name\", \"vet_health_check\", \"timestamp\")\n",
    "    ], how=\"diagonal\"\n",
    ").sort(\"timestamp\").with_columns(pl.col(\"temperature\").forward_fill()).drop_nulls()\n",
    "\n",
    "my\n",
    "course"
   ]
  }
 ],
 "metadata": {
  "kernelspec": {
   "display_name": ".venv",
   "language": "python",
   "name": "python3"
  },
  "language_info": {
   "codemirror_mode": {
    "name": "ipython",
    "version": 3
   },
   "file_extension": ".py",
   "mimetype": "text/x-python",
   "name": "python",
   "nbconvert_exporter": "python",
   "pygments_lexer": "ipython3",
   "version": "3.10.12"
  }
 },
 "nbformat": 4,
 "nbformat_minor": 2
}
