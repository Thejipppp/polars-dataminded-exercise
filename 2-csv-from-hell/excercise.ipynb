{
 "cells": [
  {
   "cell_type": "code",
   "execution_count": 7,
   "metadata": {
    "metadata": {}
   },
   "outputs": [
    {
     "data": {
      "text/html": [
       "<div><style>\n",
       ".dataframe > thead > tr,\n",
       ".dataframe > tbody > tr {\n",
       "  text-align: right;\n",
       "  white-space: pre-wrap;\n",
       "}\n",
       "</style>\n",
       "<small>shape: (5_000, 7)</small><table border=\"1\" class=\"dataframe\"><thead><tr><th>column_1</th><th>column_2</th><th>column_3</th><th>column_4</th><th>column_5</th><th>column_6</th><th>column_7</th></tr><tr><td>str</td><td>str</td><td>datetime[μs]</td><td>i16</td><td>i8</td><td>i8</td><td>i16</td></tr></thead><tbody><tr><td>&quot;2f2b74a7-8bd6-4b10-89d5-1630c4…</td><td>&quot;Peter Panda&quot;</td><td>2023-02-05 23:01:33.597610</td><td>131</td><td>79</td><td>37</td><td>79</td></tr><tr><td>&quot;b51fef31-5b86-4715-aaa5-d3fb95…</td><td>&quot;Icy Ingrid&quot;</td><td>2021-10-08 17:44:04.512870</td><td>126</td><td>90</td><td>41</td><td>114</td></tr><tr><td>&quot;f18ffb7b-1b45-49d3-9077-4ebfab…</td><td>&quot;Peter Panda&quot;</td><td>2022-01-31 02:09:05.521331</td><td>125</td><td>89</td><td>40</td><td>88</td></tr><tr><td>&quot;c03eb78b-e0f9-4929-985e-be49a8…</td><td>&quot;Icy Ingrid&quot;</td><td>2023-03-05 21:03:38.861126</td><td>62</td><td>87</td><td>39</td><td>88</td></tr><tr><td>&quot;2fa44f6c-33ee-4413-9ae4-102a97…</td><td>&quot;Arctic Archie&quot;</td><td>2023-06-21 22:38:40.933242</td><td>101</td><td>88</td><td>37</td><td>120</td></tr><tr><td>&hellip;</td><td>&hellip;</td><td>&hellip;</td><td>&hellip;</td><td>&hellip;</td><td>&hellip;</td><td>&hellip;</td></tr><tr><td>&quot;7862fb8c-1af5-4ff9-9502-6ab016…</td><td>&quot;Icy Ingrid&quot;</td><td>2022-11-15 22:32:40.451810</td><td>105</td><td>84</td><td>41</td><td>98</td></tr><tr><td>&quot;28e68cc9-e8d8-4fcb-8ebc-3f0279…</td><td>&quot;Peter Panda&quot;</td><td>2024-05-09 18:59:48.871502</td><td>96</td><td>73</td><td>39</td><td>126</td></tr><tr><td>&quot;b971fb01-ad42-4da7-ab0a-d34540…</td><td>&quot;Blizzard Bob&quot;</td><td>2021-09-29 05:00:25.340770</td><td>90</td><td>96</td><td>36</td><td>99</td></tr><tr><td>&quot;b43d1c45-410a-40dc-99e2-378c20…</td><td>&quot;Arctic Archie&quot;</td><td>2021-08-15 04:08:18.377433</td><td>115</td><td>95</td><td>40</td><td>112</td></tr><tr><td>&quot;d591ca53-79e8-463c-bde7-25eca5…</td><td>&quot;Arctic Archie&quot;</td><td>2023-03-08 13:18:16.528068</td><td>69</td><td>64</td><td>39</td><td>126</td></tr></tbody></table></div>"
      ],
      "text/plain": [
       "shape: (5_000, 7)\n",
       "┌───────────────────┬───────────────┬──────────────────┬──────────┬──────────┬──────────┬──────────┐\n",
       "│ column_1          ┆ column_2      ┆ column_3         ┆ column_4 ┆ column_5 ┆ column_6 ┆ column_7 │\n",
       "│ ---               ┆ ---           ┆ ---              ┆ ---      ┆ ---      ┆ ---      ┆ ---      │\n",
       "│ str               ┆ str           ┆ datetime[μs]     ┆ i16      ┆ i8       ┆ i8       ┆ i16      │\n",
       "╞═══════════════════╪═══════════════╪══════════════════╪══════════╪══════════╪══════════╪══════════╡\n",
       "│ 2f2b74a7-8bd6-4b1 ┆ Peter Panda   ┆ 2023-02-05       ┆ 131      ┆ 79       ┆ 37       ┆ 79       │\n",
       "│ 0-89d5-1630c4…    ┆               ┆ 23:01:33.597610  ┆          ┆          ┆          ┆          │\n",
       "│ b51fef31-5b86-471 ┆ Icy Ingrid    ┆ 2021-10-08       ┆ 126      ┆ 90       ┆ 41       ┆ 114      │\n",
       "│ 5-aaa5-d3fb95…    ┆               ┆ 17:44:04.512870  ┆          ┆          ┆          ┆          │\n",
       "│ f18ffb7b-1b45-49d ┆ Peter Panda   ┆ 2022-01-31       ┆ 125      ┆ 89       ┆ 40       ┆ 88       │\n",
       "│ 3-9077-4ebfab…    ┆               ┆ 02:09:05.521331  ┆          ┆          ┆          ┆          │\n",
       "│ c03eb78b-e0f9-492 ┆ Icy Ingrid    ┆ 2023-03-05       ┆ 62       ┆ 87       ┆ 39       ┆ 88       │\n",
       "│ 9-985e-be49a8…    ┆               ┆ 21:03:38.861126  ┆          ┆          ┆          ┆          │\n",
       "│ 2fa44f6c-33ee-441 ┆ Arctic Archie ┆ 2023-06-21       ┆ 101      ┆ 88       ┆ 37       ┆ 120      │\n",
       "│ 3-9ae4-102a97…    ┆               ┆ 22:38:40.933242  ┆          ┆          ┆          ┆          │\n",
       "│ …                 ┆ …             ┆ …                ┆ …        ┆ …        ┆ …        ┆ …        │\n",
       "│ 7862fb8c-1af5-4ff ┆ Icy Ingrid    ┆ 2022-11-15       ┆ 105      ┆ 84       ┆ 41       ┆ 98       │\n",
       "│ 9-9502-6ab016…    ┆               ┆ 22:32:40.451810  ┆          ┆          ┆          ┆          │\n",
       "│ 28e68cc9-e8d8-4fc ┆ Peter Panda   ┆ 2024-05-09       ┆ 96       ┆ 73       ┆ 39       ┆ 126      │\n",
       "│ b-8ebc-3f0279…    ┆               ┆ 18:59:48.871502  ┆          ┆          ┆          ┆          │\n",
       "│ b971fb01-ad42-4da ┆ Blizzard Bob  ┆ 2021-09-29       ┆ 90       ┆ 96       ┆ 36       ┆ 99       │\n",
       "│ 7-ab0a-d34540…    ┆               ┆ 05:00:25.340770  ┆          ┆          ┆          ┆          │\n",
       "│ b43d1c45-410a-40d ┆ Arctic Archie ┆ 2021-08-15       ┆ 115      ┆ 95       ┆ 40       ┆ 112      │\n",
       "│ c-99e2-378c20…    ┆               ┆ 04:08:18.377433  ┆          ┆          ┆          ┆          │\n",
       "│ d591ca53-79e8-463 ┆ Arctic Archie ┆ 2023-03-08       ┆ 69       ┆ 64       ┆ 39       ┆ 126      │\n",
       "│ c-bde7-25eca5…    ┆               ┆ 13:18:16.528068  ┆          ┆          ┆          ┆          │\n",
       "└───────────────────┴───────────────┴──────────────────┴──────────┴──────────┴──────────┴──────────┘"
      ]
     },
     "execution_count": 7,
     "metadata": {},
     "output_type": "execute_result"
    }
   ],
   "source": [
    "import polars as pl\n",
    "\n",
    "\n",
    "pl.read_csv(\"../data/measurements.csv\", separator=\"|\", has_header=False, try_parse_dates=True).select(pl.all().shrink_dtype())"
   ]
  }
 ],
 "metadata": {
  "kernelspec": {
   "display_name": ".venv",
   "language": "python",
   "name": "python3"
  },
  "language_info": {
   "codemirror_mode": {
    "name": "ipython",
    "version": 3
   },
   "file_extension": ".py",
   "mimetype": "text/x-python",
   "name": "python",
   "nbconvert_exporter": "python",
   "pygments_lexer": "ipython3",
   "version": "3.10.12"
  }
 },
 "nbformat": 4,
 "nbformat_minor": 2
}
