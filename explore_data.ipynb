{
 "cells": [
  {
   "cell_type": "code",
   "execution_count": 1,
   "metadata": {},
   "outputs": [],
   "source": [
    "import polars as pl"
   ]
  },
  {
   "cell_type": "code",
   "execution_count": 2,
   "metadata": {},
   "outputs": [
    {
     "data": {
      "text/html": [
       "<div><style>\n",
       ".dataframe > thead > tr,\n",
       ".dataframe > tbody > tr {\n",
       "  text-align: right;\n",
       "  white-space: pre-wrap;\n",
       "}\n",
       "</style>\n",
       "<small>shape: (158_016, 7)</small><table border=\"1\" class=\"dataframe\"><thead><tr><th>name</th><th>timestamp</th><th>blood_pressure</th><th>heart_rate</th><th>temperature</th><th>blood_glucose</th><th>sensor</th></tr><tr><td>str</td><td>datetime[μs]</td><td>i16</td><td>i16</td><td>f32</td><td>i16</td><td>i8</td></tr></thead><tbody><tr><td>&quot;Arctic Archie&quot;</td><td>2020-04-20 00:09:23.837636</td><td>134</td><td>69</td><td>36.049999</td><td>149</td><td>3</td></tr><tr><td>&quot;Chilly Willy&quot;</td><td>2020-04-20 00:05:50.722488</td><td>134</td><td>71</td><td>35.830002</td><td>125</td><td>3</td></tr><tr><td>&quot;Blizzard Bob&quot;</td><td>2020-04-20 00:08:44.058993</td><td>100</td><td>70</td><td>35.98</td><td>189</td><td>4</td></tr><tr><td>&quot;Arctic Archie&quot;</td><td>2020-04-20 01:05:41.570478</td><td>123</td><td>68</td><td>36.299999</td><td>140</td><td>1</td></tr><tr><td>&quot;Chilly Willy&quot;</td><td>2020-04-20 01:02:37.422893</td><td>67</td><td>63</td><td>35.849998</td><td>131</td><td>1</td></tr><tr><td>&hellip;</td><td>&hellip;</td><td>&hellip;</td><td>&hellip;</td><td>&hellip;</td><td>&hellip;</td><td>&hellip;</td></tr><tr><td>&quot;Peter Panda&quot;</td><td>2024-04-18 23:06:56.475744</td><td>82</td><td>69</td><td>38.57</td><td>197</td><td>3</td></tr><tr><td>&quot;Arctic Archie&quot;</td><td>2024-04-18 23:03:40.083286</td><td>82</td><td>70</td><td>36.029999</td><td>150</td><td>4</td></tr><tr><td>&quot;Chilly Willy&quot;</td><td>2024-04-18 23:00:52.469607</td><td>138</td><td>72</td><td>36.790001</td><td>48</td><td>2</td></tr><tr><td>&quot;Cubby Coldpaws&quot;</td><td>2024-04-18 23:03:11.691247</td><td>126</td><td>132</td><td>36.060001</td><td>162</td><td>4</td></tr><tr><td>&quot;Blizzard Bob&quot;</td><td>2024-04-18 23:00:34.001580</td><td>66</td><td>71</td><td>36.259998</td><td>191</td><td>3</td></tr></tbody></table></div>"
      ],
      "text/plain": [
       "shape: (158_016, 7)\n",
       "┌───────────────┬───────────────┬───────────────┬────────────┬─────────────┬──────────────┬────────┐\n",
       "│ name          ┆ timestamp     ┆ blood_pressur ┆ heart_rate ┆ temperature ┆ blood_glucos ┆ sensor │\n",
       "│ ---           ┆ ---           ┆ e             ┆ ---        ┆ ---         ┆ e            ┆ ---    │\n",
       "│ str           ┆ datetime[μs]  ┆ ---           ┆ i16        ┆ f32         ┆ ---          ┆ i8     │\n",
       "│               ┆               ┆ i16           ┆            ┆             ┆ i16          ┆        │\n",
       "╞═══════════════╪═══════════════╪═══════════════╪════════════╪═════════════╪══════════════╪════════╡\n",
       "│ Arctic Archie ┆ 2020-04-20    ┆ 134           ┆ 69         ┆ 36.049999   ┆ 149          ┆ 3      │\n",
       "│               ┆ 00:09:23.8376 ┆               ┆            ┆             ┆              ┆        │\n",
       "│               ┆ 36            ┆               ┆            ┆             ┆              ┆        │\n",
       "│ Chilly Willy  ┆ 2020-04-20    ┆ 134           ┆ 71         ┆ 35.830002   ┆ 125          ┆ 3      │\n",
       "│               ┆ 00:05:50.7224 ┆               ┆            ┆             ┆              ┆        │\n",
       "│               ┆ 88            ┆               ┆            ┆             ┆              ┆        │\n",
       "│ Blizzard Bob  ┆ 2020-04-20    ┆ 100           ┆ 70         ┆ 35.98       ┆ 189          ┆ 4      │\n",
       "│               ┆ 00:08:44.0589 ┆               ┆            ┆             ┆              ┆        │\n",
       "│               ┆ 93            ┆               ┆            ┆             ┆              ┆        │\n",
       "│ Arctic Archie ┆ 2020-04-20    ┆ 123           ┆ 68         ┆ 36.299999   ┆ 140          ┆ 1      │\n",
       "│               ┆ 01:05:41.5704 ┆               ┆            ┆             ┆              ┆        │\n",
       "│               ┆ 78            ┆               ┆            ┆             ┆              ┆        │\n",
       "│ Chilly Willy  ┆ 2020-04-20    ┆ 67            ┆ 63         ┆ 35.849998   ┆ 131          ┆ 1      │\n",
       "│               ┆ 01:02:37.4228 ┆               ┆            ┆             ┆              ┆        │\n",
       "│               ┆ 93            ┆               ┆            ┆             ┆              ┆        │\n",
       "│ …             ┆ …             ┆ …             ┆ …          ┆ …           ┆ …            ┆ …      │\n",
       "│ Peter Panda   ┆ 2024-04-18    ┆ 82            ┆ 69         ┆ 38.57       ┆ 197          ┆ 3      │\n",
       "│               ┆ 23:06:56.4757 ┆               ┆            ┆             ┆              ┆        │\n",
       "│               ┆ 44            ┆               ┆            ┆             ┆              ┆        │\n",
       "│ Arctic Archie ┆ 2024-04-18    ┆ 82            ┆ 70         ┆ 36.029999   ┆ 150          ┆ 4      │\n",
       "│               ┆ 23:03:40.0832 ┆               ┆            ┆             ┆              ┆        │\n",
       "│               ┆ 86            ┆               ┆            ┆             ┆              ┆        │\n",
       "│ Chilly Willy  ┆ 2024-04-18    ┆ 138           ┆ 72         ┆ 36.790001   ┆ 48           ┆ 2      │\n",
       "│               ┆ 23:00:52.4696 ┆               ┆            ┆             ┆              ┆        │\n",
       "│               ┆ 07            ┆               ┆            ┆             ┆              ┆        │\n",
       "│ Cubby         ┆ 2024-04-18    ┆ 126           ┆ 132        ┆ 36.060001   ┆ 162          ┆ 4      │\n",
       "│ Coldpaws      ┆ 23:03:11.6912 ┆               ┆            ┆             ┆              ┆        │\n",
       "│               ┆ 47            ┆               ┆            ┆             ┆              ┆        │\n",
       "│ Blizzard Bob  ┆ 2024-04-18    ┆ 66            ┆ 71         ┆ 36.259998   ┆ 191          ┆ 3      │\n",
       "│               ┆ 23:00:34.0015 ┆               ┆            ┆             ┆              ┆        │\n",
       "│               ┆ 80            ┆               ┆            ┆             ┆              ┆        │\n",
       "└───────────────┴───────────────┴───────────────┴────────────┴─────────────┴──────────────┴────────┘"
      ]
     },
     "execution_count": 2,
     "metadata": {},
     "output_type": "execute_result"
    }
   ],
   "source": [
    "measurements = pl.read_parquet(\"data/measurements.parquet\")\n",
    "measurements"
   ]
  },
  {
   "cell_type": "code",
   "execution_count": 3,
   "metadata": {},
   "outputs": [
    {
     "data": {
      "text/html": [
       "<div><style>\n",
       ".dataframe > thead > tr,\n",
       ".dataframe > tbody > tr {\n",
       "  text-align: right;\n",
       "  white-space: pre-wrap;\n",
       "}\n",
       "</style>\n",
       "<small>shape: (3_291, 8)</small><table border=\"1\" class=\"dataframe\"><thead><tr><th>name</th><th>vet</th><th>age</th><th>weight</th><th>daily_steps</th><th>timestamp</th><th>vet_health_check</th><th>life_stage</th></tr><tr><td>str</td><td>i8</td><td>i8</td><td>f32</td><td>i16</td><td>datetime[μs]</td><td>str</td><td>str</td></tr></thead><tbody><tr><td>&quot;Arctic Archie&quot;</td><td>2</td><td>25</td><td>607.87854</td><td>11314</td><td>2020-04-20 06:15:00</td><td>&quot;SICK&quot;</td><td>&quot;SENIOR&quot;</td></tr><tr><td>&quot;CHILLY WILLY&quot;</td><td>5</td><td>5</td><td>515.716187</td><td>17515</td><td>2020-04-20 06:15:00</td><td>&quot;HEALTHY&quot;</td><td>&quot;ADULT&quot;</td></tr><tr><td>&quot;Blizzard Bob&quot;</td><td>3</td><td>35</td><td>849.792114</td><td>1023</td><td>2020-04-20 06:15:00</td><td>&quot;SICK&quot;</td><td>&quot;SENIOR&quot;</td></tr><tr><td>&quot;Arctic Archie&quot;</td><td>2</td><td>25</td><td>591.251831</td><td>3799</td><td>2020-04-22 06:15:00</td><td>&quot;SICK&quot;</td><td>&quot;SENIOR&quot;</td></tr><tr><td>&quot;Chilly Willy&quot;</td><td>3</td><td>5</td><td>503.973877</td><td>9284</td><td>2020-04-22 06:15:00</td><td>&quot;HEALTHY&quot;</td><td>&quot;ADULT&quot;</td></tr><tr><td>&hellip;</td><td>&hellip;</td><td>&hellip;</td><td>&hellip;</td><td>&hellip;</td><td>&hellip;</td><td>&hellip;</td><td>&hellip;</td></tr><tr><td>&quot;Peter Panda&quot;</td><td>4</td><td>2</td><td>312.91922</td><td>8123</td><td>2024-04-17 06:15:00</td><td>&quot;SICK&quot;</td><td>&quot;JUV&quot;</td></tr><tr><td>&quot;ARCTIC ARCHIE&quot;</td><td>5</td><td>29</td><td>601.710571</td><td>7062</td><td>2024-04-17 06:15:00</td><td>&quot;SICK&quot;</td><td>&quot;SENIOR&quot;</td></tr><tr><td>&quot;CHILLY WILLY&quot;</td><td>5</td><td>9</td><td>499.565552</td><td>5879</td><td>2024-04-17 06:15:00</td><td>&quot;INJURED&quot;</td><td>&quot;ADULT&quot;</td></tr><tr><td>&quot;Cubby Coldpaws&quot;</td><td>4</td><td>0</td><td>2.410815</td><td>8188</td><td>2024-04-17 06:15:00</td><td>&quot;SICK&quot;</td><td>&quot;CUB&quot;</td></tr><tr><td>&quot;Blizzard Bob&quot;</td><td>5</td><td>39</td><td>853.920776</td><td>2432</td><td>2024-04-17 06:15:00</td><td>&quot;HEALTHY&quot;</td><td>&quot;SENIOR&quot;</td></tr></tbody></table></div>"
      ],
      "text/plain": [
       "shape: (3_291, 8)\n",
       "┌───────────────┬─────┬─────┬────────────┬─────────────┬───────────────┬──────────────┬────────────┐\n",
       "│ name          ┆ vet ┆ age ┆ weight     ┆ daily_steps ┆ timestamp     ┆ vet_health_c ┆ life_stage │\n",
       "│ ---           ┆ --- ┆ --- ┆ ---        ┆ ---         ┆ ---           ┆ heck         ┆ ---        │\n",
       "│ str           ┆ i8  ┆ i8  ┆ f32        ┆ i16         ┆ datetime[μs]  ┆ ---          ┆ str        │\n",
       "│               ┆     ┆     ┆            ┆             ┆               ┆ str          ┆            │\n",
       "╞═══════════════╪═════╪═════╪════════════╪═════════════╪═══════════════╪══════════════╪════════════╡\n",
       "│ Arctic Archie ┆ 2   ┆ 25  ┆ 607.87854  ┆ 11314       ┆ 2020-04-20    ┆ SICK         ┆ SENIOR     │\n",
       "│               ┆     ┆     ┆            ┆             ┆ 06:15:00      ┆              ┆            │\n",
       "│ CHILLY WILLY  ┆ 5   ┆ 5   ┆ 515.716187 ┆ 17515       ┆ 2020-04-20    ┆ HEALTHY      ┆ ADULT      │\n",
       "│               ┆     ┆     ┆            ┆             ┆ 06:15:00      ┆              ┆            │\n",
       "│ Blizzard Bob  ┆ 3   ┆ 35  ┆ 849.792114 ┆ 1023        ┆ 2020-04-20    ┆ SICK         ┆ SENIOR     │\n",
       "│               ┆     ┆     ┆            ┆             ┆ 06:15:00      ┆              ┆            │\n",
       "│ Arctic Archie ┆ 2   ┆ 25  ┆ 591.251831 ┆ 3799        ┆ 2020-04-22    ┆ SICK         ┆ SENIOR     │\n",
       "│               ┆     ┆     ┆            ┆             ┆ 06:15:00      ┆              ┆            │\n",
       "│ Chilly Willy  ┆ 3   ┆ 5   ┆ 503.973877 ┆ 9284        ┆ 2020-04-22    ┆ HEALTHY      ┆ ADULT      │\n",
       "│               ┆     ┆     ┆            ┆             ┆ 06:15:00      ┆              ┆            │\n",
       "│ …             ┆ …   ┆ …   ┆ …          ┆ …           ┆ …             ┆ …            ┆ …          │\n",
       "│ Peter Panda   ┆ 4   ┆ 2   ┆ 312.91922  ┆ 8123        ┆ 2024-04-17    ┆ SICK         ┆ JUV        │\n",
       "│               ┆     ┆     ┆            ┆             ┆ 06:15:00      ┆              ┆            │\n",
       "│ ARCTIC ARCHIE ┆ 5   ┆ 29  ┆ 601.710571 ┆ 7062        ┆ 2024-04-17    ┆ SICK         ┆ SENIOR     │\n",
       "│               ┆     ┆     ┆            ┆             ┆ 06:15:00      ┆              ┆            │\n",
       "│ CHILLY WILLY  ┆ 5   ┆ 9   ┆ 499.565552 ┆ 5879        ┆ 2024-04-17    ┆ INJURED      ┆ ADULT      │\n",
       "│               ┆     ┆     ┆            ┆             ┆ 06:15:00      ┆              ┆            │\n",
       "│ Cubby         ┆ 4   ┆ 0   ┆ 2.410815   ┆ 8188        ┆ 2024-04-17    ┆ SICK         ┆ CUB        │\n",
       "│ Coldpaws      ┆     ┆     ┆            ┆             ┆ 06:15:00      ┆              ┆            │\n",
       "│ Blizzard Bob  ┆ 5   ┆ 39  ┆ 853.920776 ┆ 2432        ┆ 2024-04-17    ┆ HEALTHY      ┆ SENIOR     │\n",
       "│               ┆     ┆     ┆            ┆             ┆ 06:15:00      ┆              ┆            │\n",
       "└───────────────┴─────┴─────┴────────────┴─────────────┴───────────────┴──────────────┴────────────┘"
      ]
     },
     "execution_count": 3,
     "metadata": {},
     "output_type": "execute_result"
    }
   ],
   "source": [
    "batch_measurements = pl.read_parquet(\"data/batch_measurements.parquet\")\n",
    "batch_measurements"
   ]
  },
  {
   "cell_type": "markdown",
   "metadata": {},
   "source": [
    "## Basic Transforms: Filter, project, Union\n",
    "\n",
    "- Was there in 2022 an injured polar bear older than 15 (i.e. a senior polar bear)?"
   ]
  },
  {
   "cell_type": "code",
   "execution_count": 4,
   "metadata": {},
   "outputs": [
    {
     "data": {
      "text/html": [
       "<div><style>\n",
       ".dataframe > thead > tr,\n",
       ".dataframe > tbody > tr {\n",
       "  text-align: right;\n",
       "  white-space: pre-wrap;\n",
       "}\n",
       "</style>\n",
       "<small>shape: (123, 8)</small><table border=\"1\" class=\"dataframe\"><thead><tr><th>name</th><th>vet</th><th>age</th><th>weight</th><th>daily_steps</th><th>timestamp</th><th>vet_health_check</th><th>life_stage</th></tr><tr><td>str</td><td>i8</td><td>i8</td><td>f32</td><td>i16</td><td>datetime[μs]</td><td>str</td><td>str</td></tr></thead><tbody><tr><td>&quot;Blizzard Bob&quot;</td><td>1</td><td>37</td><td>864.557434</td><td>9314</td><td>2022-01-02 06:15:00</td><td>&quot;INJURED&quot;</td><td>&quot;SENIOR&quot;</td></tr><tr><td>&quot;Blizzard Bob&quot;</td><td>4</td><td>37</td><td>838.036926</td><td>9793</td><td>2022-01-06 06:15:00</td><td>&quot;INJURED&quot;</td><td>&quot;SENIOR&quot;</td></tr><tr><td>&quot;Arctic Archie&quot;</td><td>3</td><td>27</td><td>591.511475</td><td>3832</td><td>2022-01-10 06:15:00</td><td>&quot;INJURED&quot;</td><td>&quot;SENIOR&quot;</td></tr><tr><td>&quot;Arctic Archie&quot;</td><td>4</td><td>27</td><td>588.29071</td><td>19115</td><td>2022-01-14 06:15:00</td><td>&quot;INJURED&quot;</td><td>&quot;SENIOR&quot;</td></tr><tr><td>&quot;ARCTIC ARCHIE&quot;</td><td>5</td><td>27</td><td>603.232117</td><td>5152</td><td>2022-01-16 06:15:00</td><td>&quot;INJURED&quot;</td><td>&quot;SENIOR&quot;</td></tr><tr><td>&hellip;</td><td>&hellip;</td><td>&hellip;</td><td>&hellip;</td><td>&hellip;</td><td>&hellip;</td><td>&hellip;</td><td>&hellip;</td></tr><tr><td>&quot;Blizzard Bob&quot;</td><td>5</td><td>38</td><td>846.408203</td><td>16214</td><td>2022-12-22 06:15:00</td><td>&quot;INJURED&quot;</td><td>&quot;SENIOR&quot;</td></tr><tr><td>&quot;Blizzard Bob&quot;</td><td>3</td><td>38</td><td>846.470947</td><td>9354</td><td>2022-12-24 06:15:00</td><td>&quot;INJURED&quot;</td><td>&quot;SENIOR&quot;</td></tr><tr><td>&quot;Blizzard Bob&quot;</td><td>3</td><td>38</td><td>860.884094</td><td>5286</td><td>2022-12-26 06:15:00</td><td>&quot;INJURED&quot;</td><td>&quot;SENIOR&quot;</td></tr><tr><td>&quot;Arctic Archie&quot;</td><td>3</td><td>28</td><td>595.860107</td><td>19106</td><td>2022-12-30 06:15:00</td><td>&quot;INJURED&quot;</td><td>&quot;SENIOR&quot;</td></tr><tr><td>&quot;Blizzard Bob&quot;</td><td>4</td><td>38</td><td>858.697205</td><td>6180</td><td>2022-12-30 06:15:00</td><td>&quot;INJURED&quot;</td><td>&quot;SENIOR&quot;</td></tr></tbody></table></div>"
      ],
      "text/plain": [
       "shape: (123, 8)\n",
       "┌───────────────┬─────┬─────┬────────────┬─────────────┬───────────────┬──────────────┬────────────┐\n",
       "│ name          ┆ vet ┆ age ┆ weight     ┆ daily_steps ┆ timestamp     ┆ vet_health_c ┆ life_stage │\n",
       "│ ---           ┆ --- ┆ --- ┆ ---        ┆ ---         ┆ ---           ┆ heck         ┆ ---        │\n",
       "│ str           ┆ i8  ┆ i8  ┆ f32        ┆ i16         ┆ datetime[μs]  ┆ ---          ┆ str        │\n",
       "│               ┆     ┆     ┆            ┆             ┆               ┆ str          ┆            │\n",
       "╞═══════════════╪═════╪═════╪════════════╪═════════════╪═══════════════╪══════════════╪════════════╡\n",
       "│ Blizzard Bob  ┆ 1   ┆ 37  ┆ 864.557434 ┆ 9314        ┆ 2022-01-02    ┆ INJURED      ┆ SENIOR     │\n",
       "│               ┆     ┆     ┆            ┆             ┆ 06:15:00      ┆              ┆            │\n",
       "│ Blizzard Bob  ┆ 4   ┆ 37  ┆ 838.036926 ┆ 9793        ┆ 2022-01-06    ┆ INJURED      ┆ SENIOR     │\n",
       "│               ┆     ┆     ┆            ┆             ┆ 06:15:00      ┆              ┆            │\n",
       "│ Arctic Archie ┆ 3   ┆ 27  ┆ 591.511475 ┆ 3832        ┆ 2022-01-10    ┆ INJURED      ┆ SENIOR     │\n",
       "│               ┆     ┆     ┆            ┆             ┆ 06:15:00      ┆              ┆            │\n",
       "│ Arctic Archie ┆ 4   ┆ 27  ┆ 588.29071  ┆ 19115       ┆ 2022-01-14    ┆ INJURED      ┆ SENIOR     │\n",
       "│               ┆     ┆     ┆            ┆             ┆ 06:15:00      ┆              ┆            │\n",
       "│ ARCTIC ARCHIE ┆ 5   ┆ 27  ┆ 603.232117 ┆ 5152        ┆ 2022-01-16    ┆ INJURED      ┆ SENIOR     │\n",
       "│               ┆     ┆     ┆            ┆             ┆ 06:15:00      ┆              ┆            │\n",
       "│ …             ┆ …   ┆ …   ┆ …          ┆ …           ┆ …             ┆ …            ┆ …          │\n",
       "│ Blizzard Bob  ┆ 5   ┆ 38  ┆ 846.408203 ┆ 16214       ┆ 2022-12-22    ┆ INJURED      ┆ SENIOR     │\n",
       "│               ┆     ┆     ┆            ┆             ┆ 06:15:00      ┆              ┆            │\n",
       "│ Blizzard Bob  ┆ 3   ┆ 38  ┆ 846.470947 ┆ 9354        ┆ 2022-12-24    ┆ INJURED      ┆ SENIOR     │\n",
       "│               ┆     ┆     ┆            ┆             ┆ 06:15:00      ┆              ┆            │\n",
       "│ Blizzard Bob  ┆ 3   ┆ 38  ┆ 860.884094 ┆ 5286        ┆ 2022-12-26    ┆ INJURED      ┆ SENIOR     │\n",
       "│               ┆     ┆     ┆            ┆             ┆ 06:15:00      ┆              ┆            │\n",
       "│ Arctic Archie ┆ 3   ┆ 28  ┆ 595.860107 ┆ 19106       ┆ 2022-12-30    ┆ INJURED      ┆ SENIOR     │\n",
       "│               ┆     ┆     ┆            ┆             ┆ 06:15:00      ┆              ┆            │\n",
       "│ Blizzard Bob  ┆ 4   ┆ 38  ┆ 858.697205 ┆ 6180        ┆ 2022-12-30    ┆ INJURED      ┆ SENIOR     │\n",
       "│               ┆     ┆     ┆            ┆             ┆ 06:15:00      ┆              ┆            │\n",
       "└───────────────┴─────┴─────┴────────────┴─────────────┴───────────────┴──────────────┴────────────┘"
      ]
     },
     "execution_count": 4,
     "metadata": {},
     "output_type": "execute_result"
    }
   ],
   "source": [
    "batch_measurements.filter(\n",
    "    pl.col(\"timestamp\").dt.year() == 2022,\n",
    "    pl.col(\"age\") > 15,\n",
    "    pl.col(\"vet_health_check\") == \"INJURED\",\n",
    ")"
   ]
  },
  {
   "cell_type": "markdown",
   "metadata": {},
   "source": [
    "- How many times was Blizzard Bob's name capitalized in the batch measurements?"
   ]
  },
  {
   "cell_type": "code",
   "execution_count": 5,
   "metadata": {},
   "outputs": [
    {
     "data": {
      "text/plain": [
       "(112, 618)"
      ]
     },
     "execution_count": 5,
     "metadata": {},
     "output_type": "execute_result"
    }
   ],
   "source": [
    "batch_measurements.filter(name=\"BLIZZARD BOB\").select(\n",
    "    pl.len()\n",
    ").item(), batch_measurements.filter(name=\"Blizzard Bob\").select(pl.len()).item()"
   ]
  },
  {
   "cell_type": "markdown",
   "metadata": {},
   "source": [
    " - Was Cubby Coldpaw ever sick with a temperature above 40 degrees? (tip: union + downfill)"
   ]
  },
  {
   "cell_type": "code",
   "execution_count": 6,
   "metadata": {},
   "outputs": [
    {
     "data": {
      "text/html": [
       "<div><style>\n",
       ".dataframe > thead > tr,\n",
       ".dataframe > tbody > tr {\n",
       "  text-align: right;\n",
       "  white-space: pre-wrap;\n",
       "}\n",
       "</style>\n",
       "<small>shape: (10, 13)</small><table border=\"1\" class=\"dataframe\"><thead><tr><th>name</th><th>timestamp</th><th>blood_pressure</th><th>heart_rate</th><th>temperature</th><th>blood_glucose</th><th>sensor</th><th>vet</th><th>age</th><th>weight</th><th>daily_steps</th><th>vet_health_check</th><th>life_stage</th></tr><tr><td>str</td><td>datetime[μs]</td><td>i16</td><td>i16</td><td>f32</td><td>i16</td><td>i8</td><td>i8</td><td>i8</td><td>f32</td><td>i16</td><td>str</td><td>str</td></tr></thead><tbody><tr><td>&quot;Cubby Coldpaws&quot;</td><td>2024-04-03 08:03:43.895016</td><td>135</td><td>137</td><td>39.59</td><td>146</td><td>2</td><td>5</td><td>0</td><td>1.991295</td><td>7442</td><td>&quot;SICK&quot;</td><td>&quot;CUB&quot;</td></tr><tr><td>&quot;Cubby Coldpaws&quot;</td><td>2024-04-03 10:00:21.920445</td><td>87</td><td>147</td><td>39.950001</td><td>177</td><td>2</td><td>5</td><td>0</td><td>1.991295</td><td>7442</td><td>&quot;SICK&quot;</td><td>&quot;CUB&quot;</td></tr><tr><td>&quot;Cubby Coldpaws&quot;</td><td>2024-04-03 14:04:11.795415</td><td>93</td><td>169</td><td>39.900002</td><td>131</td><td>2</td><td>5</td><td>0</td><td>1.991295</td><td>7442</td><td>&quot;SICK&quot;</td><td>&quot;CUB&quot;</td></tr><tr><td>&quot;Cubby Coldpaws&quot;</td><td>2024-04-03 17:01:59.073997</td><td>81</td><td>153</td><td>40.0</td><td>212</td><td>2</td><td>5</td><td>0</td><td>1.991295</td><td>7442</td><td>&quot;SICK&quot;</td><td>&quot;CUB&quot;</td></tr><tr><td>&quot;Cubby Coldpaws&quot;</td><td>2024-04-04 08:07:42.860961</td><td>67</td><td>111</td><td>39.029999</td><td>125</td><td>2</td><td>5</td><td>0</td><td>1.991295</td><td>7442</td><td>&quot;SICK&quot;</td><td>&quot;CUB&quot;</td></tr><tr><td>&quot;Cubby Coldpaws&quot;</td><td>2024-04-04 11:08:43.334135</td><td>107</td><td>114</td><td>39.080002</td><td>177</td><td>2</td><td>5</td><td>0</td><td>1.991295</td><td>7442</td><td>&quot;SICK&quot;</td><td>&quot;CUB&quot;</td></tr><tr><td>&quot;Cubby Coldpaws&quot;</td><td>2024-04-04 16:06:40.674928</td><td>63</td><td>115</td><td>40.639999</td><td>202</td><td>2</td><td>5</td><td>0</td><td>1.991295</td><td>7442</td><td>&quot;SICK&quot;</td><td>&quot;CUB&quot;</td></tr><tr><td>&quot;Cubby Coldpaws&quot;</td><td>2024-04-17 12:09:16.543680</td><td>60</td><td>150</td><td>39.52</td><td>86</td><td>2</td><td>4</td><td>0</td><td>2.410815</td><td>8188</td><td>&quot;SICK&quot;</td><td>&quot;CUB&quot;</td></tr><tr><td>&quot;Cubby Coldpaws&quot;</td><td>2024-04-18 12:01:23.096467</td><td>73</td><td>169</td><td>39.220001</td><td>127</td><td>2</td><td>4</td><td>0</td><td>2.410815</td><td>8188</td><td>&quot;SICK&quot;</td><td>&quot;CUB&quot;</td></tr><tr><td>&quot;Cubby Coldpaws&quot;</td><td>2024-04-18 14:02:44.816238</td><td>140</td><td>157</td><td>39.41</td><td>185</td><td>2</td><td>4</td><td>0</td><td>2.410815</td><td>8188</td><td>&quot;SICK&quot;</td><td>&quot;CUB&quot;</td></tr></tbody></table></div>"
      ],
      "text/plain": [
       "shape: (10, 13)\n",
       "┌───────────┬───────────┬───────────┬───────────┬───┬──────────┬───────────┬───────────┬───────────┐\n",
       "│ name      ┆ timestamp ┆ blood_pre ┆ heart_rat ┆ … ┆ weight   ┆ daily_ste ┆ vet_healt ┆ life_stag │\n",
       "│ ---       ┆ ---       ┆ ssure     ┆ e         ┆   ┆ ---      ┆ ps        ┆ h_check   ┆ e         │\n",
       "│ str       ┆ datetime[ ┆ ---       ┆ ---       ┆   ┆ f32      ┆ ---       ┆ ---       ┆ ---       │\n",
       "│           ┆ μs]       ┆ i16       ┆ i16       ┆   ┆          ┆ i16       ┆ str       ┆ str       │\n",
       "╞═══════════╪═══════════╪═══════════╪═══════════╪═══╪══════════╪═══════════╪═══════════╪═══════════╡\n",
       "│ Cubby     ┆ 2024-04-0 ┆ 135       ┆ 137       ┆ … ┆ 1.991295 ┆ 7442      ┆ SICK      ┆ CUB       │\n",
       "│ Coldpaws  ┆ 3 08:03:4 ┆           ┆           ┆   ┆          ┆           ┆           ┆           │\n",
       "│           ┆ 3.895016  ┆           ┆           ┆   ┆          ┆           ┆           ┆           │\n",
       "│ Cubby     ┆ 2024-04-0 ┆ 87        ┆ 147       ┆ … ┆ 1.991295 ┆ 7442      ┆ SICK      ┆ CUB       │\n",
       "│ Coldpaws  ┆ 3 10:00:2 ┆           ┆           ┆   ┆          ┆           ┆           ┆           │\n",
       "│           ┆ 1.920445  ┆           ┆           ┆   ┆          ┆           ┆           ┆           │\n",
       "│ Cubby     ┆ 2024-04-0 ┆ 93        ┆ 169       ┆ … ┆ 1.991295 ┆ 7442      ┆ SICK      ┆ CUB       │\n",
       "│ Coldpaws  ┆ 3 14:04:1 ┆           ┆           ┆   ┆          ┆           ┆           ┆           │\n",
       "│           ┆ 1.795415  ┆           ┆           ┆   ┆          ┆           ┆           ┆           │\n",
       "│ Cubby     ┆ 2024-04-0 ┆ 81        ┆ 153       ┆ … ┆ 1.991295 ┆ 7442      ┆ SICK      ┆ CUB       │\n",
       "│ Coldpaws  ┆ 3 17:01:5 ┆           ┆           ┆   ┆          ┆           ┆           ┆           │\n",
       "│           ┆ 9.073997  ┆           ┆           ┆   ┆          ┆           ┆           ┆           │\n",
       "│ Cubby     ┆ 2024-04-0 ┆ 67        ┆ 111       ┆ … ┆ 1.991295 ┆ 7442      ┆ SICK      ┆ CUB       │\n",
       "│ Coldpaws  ┆ 4 08:07:4 ┆           ┆           ┆   ┆          ┆           ┆           ┆           │\n",
       "│           ┆ 2.860961  ┆           ┆           ┆   ┆          ┆           ┆           ┆           │\n",
       "│ Cubby     ┆ 2024-04-0 ┆ 107       ┆ 114       ┆ … ┆ 1.991295 ┆ 7442      ┆ SICK      ┆ CUB       │\n",
       "│ Coldpaws  ┆ 4 11:08:4 ┆           ┆           ┆   ┆          ┆           ┆           ┆           │\n",
       "│           ┆ 3.334135  ┆           ┆           ┆   ┆          ┆           ┆           ┆           │\n",
       "│ Cubby     ┆ 2024-04-0 ┆ 63        ┆ 115       ┆ … ┆ 1.991295 ┆ 7442      ┆ SICK      ┆ CUB       │\n",
       "│ Coldpaws  ┆ 4 16:06:4 ┆           ┆           ┆   ┆          ┆           ┆           ┆           │\n",
       "│           ┆ 0.674928  ┆           ┆           ┆   ┆          ┆           ┆           ┆           │\n",
       "│ Cubby     ┆ 2024-04-1 ┆ 60        ┆ 150       ┆ … ┆ 2.410815 ┆ 8188      ┆ SICK      ┆ CUB       │\n",
       "│ Coldpaws  ┆ 7 12:09:1 ┆           ┆           ┆   ┆          ┆           ┆           ┆           │\n",
       "│           ┆ 6.543680  ┆           ┆           ┆   ┆          ┆           ┆           ┆           │\n",
       "│ Cubby     ┆ 2024-04-1 ┆ 73        ┆ 169       ┆ … ┆ 2.410815 ┆ 8188      ┆ SICK      ┆ CUB       │\n",
       "│ Coldpaws  ┆ 8 12:01:2 ┆           ┆           ┆   ┆          ┆           ┆           ┆           │\n",
       "│           ┆ 3.096467  ┆           ┆           ┆   ┆          ┆           ┆           ┆           │\n",
       "│ Cubby     ┆ 2024-04-1 ┆ 140       ┆ 157       ┆ … ┆ 2.410815 ┆ 8188      ┆ SICK      ┆ CUB       │\n",
       "│ Coldpaws  ┆ 8 14:02:4 ┆           ┆           ┆   ┆          ┆           ┆           ┆           │\n",
       "│           ┆ 4.816238  ┆           ┆           ┆   ┆          ┆           ┆           ┆           │\n",
       "└───────────┴───────────┴───────────┴───────────┴───┴──────────┴───────────┴───────────┴───────────┘"
      ]
     },
     "execution_count": 6,
     "metadata": {},
     "output_type": "execute_result"
    }
   ],
   "source": [
    "filter = pl.col(\"name\").str.contains(\"(?i)Cubby Coldpaws\")\n",
    "pl.concat(\n",
    "    [measurements.filter(filter), batch_measurements.filter(filter)],\n",
    "    how=\"diagonal_relaxed\",\n",
    ").sort(by=\"timestamp\").fill_null(strategy=\"forward\").filter(\n",
    "    pl.col(\"vet_health_check\") == \"SICK\", pl.col(\"temperature\") > 39\n",
    ")"
   ]
  },
  {
   "cell_type": "markdown",
   "metadata": {},
   "source": [
    "# Windowing and Aggregations\n",
    "\n",
    "- For every year, figure out which polar bear was the heaviest"
   ]
  },
  {
   "cell_type": "code",
   "execution_count": 7,
   "metadata": {},
   "outputs": [
    {
     "data": {
      "text/html": [
       "<div><style>\n",
       ".dataframe > thead > tr,\n",
       ".dataframe > tbody > tr {\n",
       "  text-align: right;\n",
       "  white-space: pre-wrap;\n",
       "}\n",
       "</style>\n",
       "<small>shape: (5, 3)</small><table border=\"1\" class=\"dataframe\"><thead><tr><th>name</th><th>timestamp</th><th>weight</th></tr><tr><td>str</td><td>datetime[μs]</td><td>f32</td></tr></thead><tbody><tr><td>&quot;Blizzard Bob&quot;</td><td>2020-12-10 06:15:00</td><td>875.668762</td></tr><tr><td>&quot;Blizzard Bob&quot;</td><td>2021-05-19 06:15:00</td><td>874.678772</td></tr><tr><td>&quot;Blizzard Bob&quot;</td><td>2022-01-12 06:15:00</td><td>872.80896</td></tr><tr><td>&quot;BLIZZARD BOB&quot;</td><td>2023-07-22 06:15:00</td><td>876.960388</td></tr><tr><td>&quot;Blizzard Bob&quot;</td><td>2024-03-08 06:15:00</td><td>866.53772</td></tr></tbody></table></div>"
      ],
      "text/plain": [
       "shape: (5, 3)\n",
       "┌──────────────┬─────────────────────┬────────────┐\n",
       "│ name         ┆ timestamp           ┆ weight     │\n",
       "│ ---          ┆ ---                 ┆ ---        │\n",
       "│ str          ┆ datetime[μs]        ┆ f32        │\n",
       "╞══════════════╪═════════════════════╪════════════╡\n",
       "│ Blizzard Bob ┆ 2020-12-10 06:15:00 ┆ 875.668762 │\n",
       "│ Blizzard Bob ┆ 2021-05-19 06:15:00 ┆ 874.678772 │\n",
       "│ Blizzard Bob ┆ 2022-01-12 06:15:00 ┆ 872.80896  │\n",
       "│ BLIZZARD BOB ┆ 2023-07-22 06:15:00 ┆ 876.960388 │\n",
       "│ Blizzard Bob ┆ 2024-03-08 06:15:00 ┆ 866.53772  │\n",
       "└──────────────┴─────────────────────┴────────────┘"
      ]
     },
     "execution_count": 7,
     "metadata": {},
     "output_type": "execute_result"
    }
   ],
   "source": [
    "batch_measurements.select(\"name\", \"timestamp\", \"weight\").filter(\n",
    "    pl.col(\"weight\") == pl.col(\"weight\").max().over(pl.col(\"timestamp\").dt.year())\n",
    ")"
   ]
  },
  {
   "cell_type": "markdown",
   "metadata": {},
   "source": [
    "- When was the first and last measurement of each bear taken?"
   ]
  },
  {
   "cell_type": "code",
   "execution_count": 8,
   "metadata": {},
   "outputs": [
    {
     "data": {
      "text/html": [
       "<div><style>\n",
       ".dataframe > thead > tr,\n",
       ".dataframe > tbody > tr {\n",
       "  text-align: right;\n",
       "  white-space: pre-wrap;\n",
       "}\n",
       "</style>\n",
       "<small>shape: (6, 3)</small><table border=\"1\" class=\"dataframe\"><thead><tr><th>name</th><th>first measurement</th><th>last measurement</th></tr><tr><td>str</td><td>datetime[μs]</td><td>datetime[μs]</td></tr></thead><tbody><tr><td>&quot;Icy Ingrid&quot;</td><td>2020-06-12 00:09:16.849841</td><td>2024-04-18 23:03:37.742246</td></tr><tr><td>&quot;Arctic Archie&quot;</td><td>2020-04-20 00:09:23.837636</td><td>2024-04-18 23:03:40.083286</td></tr><tr><td>&quot;Chilly Willy&quot;</td><td>2020-04-20 00:05:50.722488</td><td>2024-04-18 23:00:52.469607</td></tr><tr><td>&quot;Peter Panda&quot;</td><td>2022-03-10 00:07:15.459260</td><td>2024-04-18 23:06:56.475744</td></tr><tr><td>&quot;Cubby Coldpaws&quot;</td><td>2024-03-24 00:06:27.887736</td><td>2024-04-18 23:03:11.691247</td></tr><tr><td>&quot;Blizzard Bob&quot;</td><td>2020-04-20 00:08:44.058993</td><td>2024-04-18 23:00:34.001580</td></tr></tbody></table></div>"
      ],
      "text/plain": [
       "shape: (6, 3)\n",
       "┌────────────────┬────────────────────────────┬────────────────────────────┐\n",
       "│ name           ┆ first measurement          ┆ last measurement           │\n",
       "│ ---            ┆ ---                        ┆ ---                        │\n",
       "│ str            ┆ datetime[μs]               ┆ datetime[μs]               │\n",
       "╞════════════════╪════════════════════════════╪════════════════════════════╡\n",
       "│ Icy Ingrid     ┆ 2020-06-12 00:09:16.849841 ┆ 2024-04-18 23:03:37.742246 │\n",
       "│ Arctic Archie  ┆ 2020-04-20 00:09:23.837636 ┆ 2024-04-18 23:03:40.083286 │\n",
       "│ Chilly Willy   ┆ 2020-04-20 00:05:50.722488 ┆ 2024-04-18 23:00:52.469607 │\n",
       "│ Peter Panda    ┆ 2022-03-10 00:07:15.459260 ┆ 2024-04-18 23:06:56.475744 │\n",
       "│ Cubby Coldpaws ┆ 2024-03-24 00:06:27.887736 ┆ 2024-04-18 23:03:11.691247 │\n",
       "│ Blizzard Bob   ┆ 2020-04-20 00:08:44.058993 ┆ 2024-04-18 23:00:34.001580 │\n",
       "└────────────────┴────────────────────────────┴────────────────────────────┘"
      ]
     },
     "execution_count": 8,
     "metadata": {},
     "output_type": "execute_result"
    }
   ],
   "source": [
    "measurements.group_by(\"name\").agg(\n",
    "    pl.col(\"timestamp\").first().alias(\"first measurement\"),\n",
    "    pl.col(\"timestamp\").last().alias(\"last measurement\"),\n",
    ")"
   ]
  },
  {
   "cell_type": "markdown",
   "metadata": {},
   "source": [
    "- For each lifestage group of polar bears and for each year, which polar bear was the most active (most amount of steps per day)?"
   ]
  },
  {
   "cell_type": "code",
   "execution_count": 9,
   "metadata": {},
   "outputs": [
    {
     "data": {
      "text/html": [
       "<div><style>\n",
       ".dataframe > thead > tr,\n",
       ".dataframe > tbody > tr {\n",
       "  text-align: right;\n",
       "  white-space: pre-wrap;\n",
       "}\n",
       "</style>\n",
       "<small>shape: (19, 8)</small><table border=\"1\" class=\"dataframe\"><thead><tr><th>name</th><th>vet</th><th>age</th><th>weight</th><th>daily_steps</th><th>timestamp</th><th>vet_health_check</th><th>life_stage</th></tr><tr><td>str</td><td>i8</td><td>i8</td><td>f32</td><td>i16</td><td>datetime[μs]</td><td>str</td><td>str</td></tr></thead><tbody><tr><td>&quot;Icy Ingrid&quot;</td><td>2</td><td>0</td><td>0.771681</td><td>19627</td><td>2020-06-21 06:15:00</td><td>&quot;HEALTHY&quot;</td><td>&quot;CUB&quot;</td></tr><tr><td>&quot;Arctic Archie&quot;</td><td>2</td><td>25</td><td>588.01947</td><td>19944</td><td>2020-07-31 06:15:00</td><td>&quot;INJURED&quot;</td><td>&quot;SENIOR&quot;</td></tr><tr><td>&quot;Chilly Willy&quot;</td><td>4</td><td>6</td><td>512.276245</td><td>19882</td><td>2020-11-20 06:15:00</td><td>&quot;SICK&quot;</td><td>&quot;ADULT&quot;</td></tr><tr><td>&quot;Icy Ingrid&quot;</td><td>2</td><td>0</td><td>50.80761</td><td>19982</td><td>2021-05-07 06:15:00</td><td>&quot;INJURED&quot;</td><td>&quot;CUB&quot;</td></tr><tr><td>&quot;Blizzard Bob&quot;</td><td>4</td><td>36</td><td>847.533569</td><td>19897</td><td>2021-06-14 06:15:00</td><td>&quot;INJURED&quot;</td><td>&quot;SENIOR&quot;</td></tr><tr><td>&hellip;</td><td>&hellip;</td><td>&hellip;</td><td>&hellip;</td><td>&hellip;</td><td>&hellip;</td><td>&hellip;</td><td>&hellip;</td></tr><tr><td>&quot;PETER PANDA&quot;</td><td>5</td><td>1</td><td>282.253815</td><td>19819</td><td>2023-10-26 06:15:00</td><td>&quot;SICK&quot;</td><td>&quot;JUV&quot;</td></tr><tr><td>&quot;Blizzard Bob&quot;</td><td>3</td><td>39</td><td>843.945312</td><td>19955</td><td>2024-01-04 06:15:00</td><td>&quot;SICK&quot;</td><td>&quot;SENIOR&quot;</td></tr><tr><td>&quot;Chilly Willy&quot;</td><td>3</td><td>9</td><td>508.098541</td><td>19591</td><td>2024-03-14 06:15:00</td><td>&quot;INJURED&quot;</td><td>&quot;ADULT&quot;</td></tr><tr><td>&quot;Icy Ingrid&quot;</td><td>3</td><td>3</td><td>276.189148</td><td>19720</td><td>2024-03-24 06:15:00</td><td>&quot;HEALTHY&quot;</td><td>&quot;JUV&quot;</td></tr><tr><td>&quot;CUBBY COLDPAWS&quot;</td><td>5</td><td>0</td><td>1.737006</td><td>18307</td><td>2024-03-24 06:15:00</td><td>&quot;INJURED&quot;</td><td>&quot;CUB&quot;</td></tr></tbody></table></div>"
      ],
      "text/plain": [
       "shape: (19, 8)\n",
       "┌───────────────┬─────┬─────┬────────────┬─────────────┬───────────────┬──────────────┬────────────┐\n",
       "│ name          ┆ vet ┆ age ┆ weight     ┆ daily_steps ┆ timestamp     ┆ vet_health_c ┆ life_stage │\n",
       "│ ---           ┆ --- ┆ --- ┆ ---        ┆ ---         ┆ ---           ┆ heck         ┆ ---        │\n",
       "│ str           ┆ i8  ┆ i8  ┆ f32        ┆ i16         ┆ datetime[μs]  ┆ ---          ┆ str        │\n",
       "│               ┆     ┆     ┆            ┆             ┆               ┆ str          ┆            │\n",
       "╞═══════════════╪═════╪═════╪════════════╪═════════════╪═══════════════╪══════════════╪════════════╡\n",
       "│ Icy Ingrid    ┆ 2   ┆ 0   ┆ 0.771681   ┆ 19627       ┆ 2020-06-21    ┆ HEALTHY      ┆ CUB        │\n",
       "│               ┆     ┆     ┆            ┆             ┆ 06:15:00      ┆              ┆            │\n",
       "│ Arctic Archie ┆ 2   ┆ 25  ┆ 588.01947  ┆ 19944       ┆ 2020-07-31    ┆ INJURED      ┆ SENIOR     │\n",
       "│               ┆     ┆     ┆            ┆             ┆ 06:15:00      ┆              ┆            │\n",
       "│ Chilly Willy  ┆ 4   ┆ 6   ┆ 512.276245 ┆ 19882       ┆ 2020-11-20    ┆ SICK         ┆ ADULT      │\n",
       "│               ┆     ┆     ┆            ┆             ┆ 06:15:00      ┆              ┆            │\n",
       "│ Icy Ingrid    ┆ 2   ┆ 0   ┆ 50.80761   ┆ 19982       ┆ 2021-05-07    ┆ INJURED      ┆ CUB        │\n",
       "│               ┆     ┆     ┆            ┆             ┆ 06:15:00      ┆              ┆            │\n",
       "│ Blizzard Bob  ┆ 4   ┆ 36  ┆ 847.533569 ┆ 19897       ┆ 2021-06-14    ┆ INJURED      ┆ SENIOR     │\n",
       "│               ┆     ┆     ┆            ┆             ┆ 06:15:00      ┆              ┆            │\n",
       "│ …             ┆ …   ┆ …   ┆ …          ┆ …           ┆ …             ┆ …            ┆ …          │\n",
       "│ PETER PANDA   ┆ 5   ┆ 1   ┆ 282.253815 ┆ 19819       ┆ 2023-10-26    ┆ SICK         ┆ JUV        │\n",
       "│               ┆     ┆     ┆            ┆             ┆ 06:15:00      ┆              ┆            │\n",
       "│ Blizzard Bob  ┆ 3   ┆ 39  ┆ 843.945312 ┆ 19955       ┆ 2024-01-04    ┆ SICK         ┆ SENIOR     │\n",
       "│               ┆     ┆     ┆            ┆             ┆ 06:15:00      ┆              ┆            │\n",
       "│ Chilly Willy  ┆ 3   ┆ 9   ┆ 508.098541 ┆ 19591       ┆ 2024-03-14    ┆ INJURED      ┆ ADULT      │\n",
       "│               ┆     ┆     ┆            ┆             ┆ 06:15:00      ┆              ┆            │\n",
       "│ Icy Ingrid    ┆ 3   ┆ 3   ┆ 276.189148 ┆ 19720       ┆ 2024-03-24    ┆ HEALTHY      ┆ JUV        │\n",
       "│               ┆     ┆     ┆            ┆             ┆ 06:15:00      ┆              ┆            │\n",
       "│ CUBBY         ┆ 5   ┆ 0   ┆ 1.737006   ┆ 18307       ┆ 2024-03-24    ┆ INJURED      ┆ CUB        │\n",
       "│ COLDPAWS      ┆     ┆     ┆            ┆             ┆ 06:15:00      ┆              ┆            │\n",
       "└───────────────┴─────┴─────┴────────────┴─────────────┴───────────────┴──────────────┴────────────┘"
      ]
     },
     "execution_count": 9,
     "metadata": {},
     "output_type": "execute_result"
    }
   ],
   "source": [
    "batch_measurements.filter(\n",
    "    pl.col(\"daily_steps\")\n",
    "    == pl.col(\"daily_steps\").max().over(pl.col(\"timestamp\").dt.year(), \"life_stage\")\n",
    ")"
   ]
  },
  {
   "cell_type": "markdown",
   "metadata": {},
   "source": [
    "- Find out which bears were more/less anxious (higher/lower blood pressure) than average after New Year's Eve (fireworks)?"
   ]
  },
  {
   "cell_type": "code",
   "execution_count": 10,
   "metadata": {},
   "outputs": [
    {
     "data": {
      "text/html": [
       "<div><style>\n",
       ".dataframe > thead > tr,\n",
       ".dataframe > tbody > tr {\n",
       "  text-align: right;\n",
       "  white-space: pre-wrap;\n",
       "}\n",
       "</style>\n",
       "<small>shape: (5, 3)</small><table border=\"1\" class=\"dataframe\"><thead><tr><th>name</th><th>lower than average</th><th>higher than average</th></tr><tr><td>str</td><td>u32</td><td>u32</td></tr></thead><tbody><tr><td>&quot;Chilly Willy&quot;</td><td>47</td><td>49</td></tr><tr><td>&quot;Arctic Archie&quot;</td><td>42</td><td>54</td></tr><tr><td>&quot;Icy Ingrid&quot;</td><td>48</td><td>48</td></tr><tr><td>&quot;Blizzard Bob&quot;</td><td>52</td><td>44</td></tr><tr><td>&quot;Peter Panda&quot;</td><td>22</td><td>26</td></tr></tbody></table></div>"
      ],
      "text/plain": [
       "shape: (5, 3)\n",
       "┌───────────────┬────────────────────┬─────────────────────┐\n",
       "│ name          ┆ lower than average ┆ higher than average │\n",
       "│ ---           ┆ ---                ┆ ---                 │\n",
       "│ str           ┆ u32                ┆ u32                 │\n",
       "╞═══════════════╪════════════════════╪═════════════════════╡\n",
       "│ Chilly Willy  ┆ 47                 ┆ 49                  │\n",
       "│ Arctic Archie ┆ 42                 ┆ 54                  │\n",
       "│ Icy Ingrid    ┆ 48                 ┆ 48                  │\n",
       "│ Blizzard Bob  ┆ 52                 ┆ 44                  │\n",
       "│ Peter Panda   ┆ 22                 ┆ 26                  │\n",
       "└───────────────┴────────────────────┴─────────────────────┘"
      ]
     },
     "execution_count": 10,
     "metadata": {},
     "output_type": "execute_result"
    }
   ],
   "source": [
    "measurements.with_columns(\n",
    "    (pl.col(\"blood_pressure\") < pl.col(\"blood_pressure\").mean()).alias(\n",
    "        \"lower than average\"\n",
    "    ),\n",
    "    (pl.col(\"blood_pressure\") > pl.col(\"blood_pressure\").mean()).alias(\n",
    "        \"higher than average\"\n",
    "    ),\n",
    ").filter(\n",
    "    pl.col(\"timestamp\").dt.month() == 1, pl.col(\"timestamp\").dt.day() == 1\n",
    ").group_by(\n",
    "    \"name\"\n",
    ").agg(\n",
    "    pl.col(\"lower than average\", \"higher than average\").sum()\n",
    ")"
   ]
  },
  {
   "cell_type": "markdown",
   "metadata": {},
   "source": [
    "- Which polar bear has the highest risk of becoming a diabetic? (polar bears have a higher risk of becoming diabetic after going through a high blood sugar level episode. An episode is defined as a three-day or longer period of an average daily bgl of 200)"
   ]
  },
  {
   "cell_type": "markdown",
   "metadata": {},
   "source": [
    "Approximate solution with group by:"
   ]
  },
  {
   "cell_type": "code",
   "execution_count": 11,
   "metadata": {},
   "outputs": [
    {
     "data": {
      "text/html": [
       "<div><style>\n",
       ".dataframe > thead > tr,\n",
       ".dataframe > tbody > tr {\n",
       "  text-align: right;\n",
       "  white-space: pre-wrap;\n",
       "}\n",
       "</style>\n",
       "<small>shape: (6, 2)</small><table border=\"1\" class=\"dataframe\"><thead><tr><th>name</th><th>blood_glucose</th></tr><tr><td>str</td><td>u32</td></tr></thead><tbody><tr><td>&quot;Peter Panda&quot;</td><td>1041</td></tr><tr><td>&quot;Blizzard Bob&quot;</td><td>24</td></tr><tr><td>&quot;Icy Ingrid&quot;</td><td>0</td></tr><tr><td>&quot;Cubby Coldpaws&quot;</td><td>0</td></tr><tr><td>&quot;Chilly Willy&quot;</td><td>0</td></tr><tr><td>&quot;Arctic Archie&quot;</td><td>0</td></tr></tbody></table></div>"
      ],
      "text/plain": [
       "shape: (6, 2)\n",
       "┌────────────────┬───────────────┐\n",
       "│ name           ┆ blood_glucose │\n",
       "│ ---            ┆ ---           │\n",
       "│ str            ┆ u32           │\n",
       "╞════════════════╪═══════════════╡\n",
       "│ Peter Panda    ┆ 1041          │\n",
       "│ Blizzard Bob   ┆ 24            │\n",
       "│ Icy Ingrid     ┆ 0             │\n",
       "│ Cubby Coldpaws ┆ 0             │\n",
       "│ Chilly Willy   ┆ 0             │\n",
       "│ Arctic Archie  ┆ 0             │\n",
       "└────────────────┴───────────────┘"
      ]
     },
     "execution_count": 11,
     "metadata": {},
     "output_type": "execute_result"
    }
   ],
   "source": [
    "measurements.select(\"name\", \"timestamp\", \"blood_glucose\").group_by_dynamic(\n",
    "    index_column=\"timestamp\", every=\"1d\", period=\"1d\", group_by=\"name\"\n",
    ").agg(pl.col(\"blood_glucose\").mean()).with_columns(\n",
    "    pl.col(\"blood_glucose\") > 200\n",
    ").rolling(\n",
    "    index_column=\"timestamp\", period=\"3d\", group_by=\"name\"\n",
    ").agg(\n",
    "    pl.col(\"blood_glucose\").sum()\n",
    ").select(\n",
    "    \"name\", \"blood_glucose\"\n",
    ").group_by(\n",
    "    \"name\"\n",
    ").sum().sort(\n",
    "    \"blood_glucose\", \"name\", descending=True\n",
    ")"
   ]
  },
  {
   "cell_type": "markdown",
   "metadata": {},
   "source": [
    "Correct solution, with `rle`"
   ]
  },
  {
   "cell_type": "code",
   "execution_count": 12,
   "metadata": {},
   "outputs": [
    {
     "data": {
      "text/html": [
       "<div><style>\n",
       ".dataframe > thead > tr,\n",
       ".dataframe > tbody > tr {\n",
       "  text-align: right;\n",
       "  white-space: pre-wrap;\n",
       "}\n",
       "</style>\n",
       "<small>shape: (1, 3)</small><table border=\"1\" class=\"dataframe\"><thead><tr><th>name</th><th>total days in episodes</th><th>number of episodes</th></tr><tr><td>str</td><td>i32</td><td>u32</td></tr></thead><tbody><tr><td>&quot;Peter Panda&quot;</td><td>146</td><td>42</td></tr></tbody></table></div>"
      ],
      "text/plain": [
       "shape: (1, 3)\n",
       "┌─────────────┬────────────────────────┬────────────────────┐\n",
       "│ name        ┆ total days in episodes ┆ number of episodes │\n",
       "│ ---         ┆ ---                    ┆ ---                │\n",
       "│ str         ┆ i32                    ┆ u32                │\n",
       "╞═════════════╪════════════════════════╪════════════════════╡\n",
       "│ Peter Panda ┆ 146                    ┆ 42                 │\n",
       "└─────────────┴────────────────────────┴────────────────────┘"
      ]
     },
     "execution_count": 12,
     "metadata": {},
     "output_type": "execute_result"
    }
   ],
   "source": [
    "measurements.select(\"name\", \"timestamp\", \"blood_glucose\").group_by_dynamic(\n",
    "    index_column=\"timestamp\", every=\"1d\", period=\"1d\", group_by=\"name\"\n",
    ").agg(pl.col(\"blood_glucose\").mean()).with_columns(\n",
    "    pl.col(\"blood_glucose\") > 200\n",
    ").group_by(\n",
    "    \"name\"\n",
    ").agg(\n",
    "    pl.col(\"blood_glucose\").rle()\n",
    ").explode(\n",
    "    \"blood_glucose\"\n",
    ").unnest(\n",
    "    \"blood_glucose\"\n",
    ").filter(\n",
    "    pl.col(\"lengths\") > 2, \"values\"\n",
    ").group_by(\n",
    "    \"name\"\n",
    ").sum().sort(\n",
    "    \"values\", \"name\", descending=True\n",
    ").rename(\n",
    "    {\"lengths\": \"total days in episodes\", \"values\": \"number of episodes\"}\n",
    ")"
   ]
  },
  {
   "cell_type": "code",
   "execution_count": 13,
   "metadata": {},
   "outputs": [
    {
     "name": "stdout",
     "output_type": "stream",
     "text": [
      "%opts magic unavailable (pyparsing cannot be imported)\n",
      "%compositor magic unavailable (pyparsing cannot be imported)\n"
     ]
    },
    {
     "data": {
      "application/javascript": "(function(root) {\n  function now() {\n    return new Date();\n  }\n\n  var force = true;\n  var py_version = '3.4.1'.replace('rc', '-rc.').replace('.dev', '-dev.');\n  var reloading = false;\n  var Bokeh = root.Bokeh;\n\n  if (typeof (root._bokeh_timeout) === \"undefined\" || force) {\n    root._bokeh_timeout = Date.now() + 5000;\n    root._bokeh_failed_load = false;\n  }\n\n  function run_callbacks() {\n    try {\n      root._bokeh_onload_callbacks.forEach(function(callback) {\n        if (callback != null)\n          callback();\n      });\n    } finally {\n      delete root._bokeh_onload_callbacks;\n    }\n    console.debug(\"Bokeh: all callbacks have finished\");\n  }\n\n  function load_libs(css_urls, js_urls, js_modules, js_exports, callback) {\n    if (css_urls == null) css_urls = [];\n    if (js_urls == null) js_urls = [];\n    if (js_modules == null) js_modules = [];\n    if (js_exports == null) js_exports = {};\n\n    root._bokeh_onload_callbacks.push(callback);\n\n    if (root._bokeh_is_loading > 0) {\n      console.debug(\"Bokeh: BokehJS is being loaded, scheduling callback at\", now());\n      return null;\n    }\n    if (js_urls.length === 0 && js_modules.length === 0 && Object.keys(js_exports).length === 0) {\n      run_callbacks();\n      return null;\n    }\n    if (!reloading) {\n      console.debug(\"Bokeh: BokehJS not loaded, scheduling load and callback at\", now());\n    }\n\n    function on_load() {\n      root._bokeh_is_loading--;\n      if (root._bokeh_is_loading === 0) {\n        console.debug(\"Bokeh: all BokehJS libraries/stylesheets loaded\");\n        run_callbacks()\n      }\n    }\n    window._bokeh_on_load = on_load\n\n    function on_error() {\n      console.error(\"failed to load \" + url);\n    }\n\n    var skip = [];\n    if (window.requirejs) {\n      window.requirejs.config({'packages': {}, 'paths': {}, 'shim': {}});\n      root._bokeh_is_loading = css_urls.length + 0;\n    } else {\n      root._bokeh_is_loading = css_urls.length + js_urls.length + js_modules.length + Object.keys(js_exports).length;\n    }\n\n    var existing_stylesheets = []\n    var links = document.getElementsByTagName('link')\n    for (var i = 0; i < links.length; i++) {\n      var link = links[i]\n      if (link.href != null) {\n\texisting_stylesheets.push(link.href)\n      }\n    }\n    for (var i = 0; i < css_urls.length; i++) {\n      var url = css_urls[i];\n      if (existing_stylesheets.indexOf(url) !== -1) {\n\ton_load()\n\tcontinue;\n      }\n      const element = document.createElement(\"link\");\n      element.onload = on_load;\n      element.onerror = on_error;\n      element.rel = \"stylesheet\";\n      element.type = \"text/css\";\n      element.href = url;\n      console.debug(\"Bokeh: injecting link tag for BokehJS stylesheet: \", url);\n      document.body.appendChild(element);\n    }    var existing_scripts = []\n    var scripts = document.getElementsByTagName('script')\n    for (var i = 0; i < scripts.length; i++) {\n      var script = scripts[i]\n      if (script.src != null) {\n\texisting_scripts.push(script.src)\n      }\n    }\n    for (var i = 0; i < js_urls.length; i++) {\n      var url = js_urls[i];\n      if (skip.indexOf(url) !== -1 || existing_scripts.indexOf(url) !== -1) {\n\tif (!window.requirejs) {\n\t  on_load();\n\t}\n\tcontinue;\n      }\n      var element = document.createElement('script');\n      element.onload = on_load;\n      element.onerror = on_error;\n      element.async = false;\n      element.src = url;\n      console.debug(\"Bokeh: injecting script tag for BokehJS library: \", url);\n      document.head.appendChild(element);\n    }\n    for (var i = 0; i < js_modules.length; i++) {\n      var url = js_modules[i];\n      if (skip.indexOf(url) !== -1 || existing_scripts.indexOf(url) !== -1) {\n\tif (!window.requirejs) {\n\t  on_load();\n\t}\n\tcontinue;\n      }\n      var element = document.createElement('script');\n      element.onload = on_load;\n      element.onerror = on_error;\n      element.async = false;\n      element.src = url;\n      element.type = \"module\";\n      console.debug(\"Bokeh: injecting script tag for BokehJS library: \", url);\n      document.head.appendChild(element);\n    }\n    for (const name in js_exports) {\n      var url = js_exports[name];\n      if (skip.indexOf(url) >= 0 || root[name] != null) {\n\tif (!window.requirejs) {\n\t  on_load();\n\t}\n\tcontinue;\n      }\n      var element = document.createElement('script');\n      element.onerror = on_error;\n      element.async = false;\n      element.type = \"module\";\n      console.debug(\"Bokeh: injecting script tag for BokehJS library: \", url);\n      element.textContent = `\n      import ${name} from \"${url}\"\n      window.${name} = ${name}\n      window._bokeh_on_load()\n      `\n      document.head.appendChild(element);\n    }\n    if (!js_urls.length && !js_modules.length) {\n      on_load()\n    }\n  };\n\n  function inject_raw_css(css) {\n    const element = document.createElement(\"style\");\n    element.appendChild(document.createTextNode(css));\n    document.body.appendChild(element);\n  }\n\n  var js_urls = [\"https://cdn.bokeh.org/bokeh/release/bokeh-3.4.1.min.js\", \"https://cdn.bokeh.org/bokeh/release/bokeh-gl-3.4.1.min.js\", \"https://cdn.bokeh.org/bokeh/release/bokeh-widgets-3.4.1.min.js\", \"https://cdn.bokeh.org/bokeh/release/bokeh-tables-3.4.1.min.js\", \"https://cdn.holoviz.org/panel/1.4.2/dist/panel.min.js\"];\n  var js_modules = [];\n  var js_exports = {};\n  var css_urls = [];\n  var inline_js = [    function(Bokeh) {\n      Bokeh.set_log_level(\"info\");\n    },\nfunction(Bokeh) {} // ensure no trailing comma for IE\n  ];\n\n  function run_inline_js() {\n    if ((root.Bokeh !== undefined) || (force === true)) {\n      for (var i = 0; i < inline_js.length; i++) {\n\ttry {\n          inline_js[i].call(root, root.Bokeh);\n\t} catch(e) {\n\t  if (!reloading) {\n\t    throw e;\n\t  }\n\t}\n      }\n      // Cache old bokeh versions\n      if (Bokeh != undefined && !reloading) {\n\tvar NewBokeh = root.Bokeh;\n\tif (Bokeh.versions === undefined) {\n\t  Bokeh.versions = new Map();\n\t}\n\tif (NewBokeh.version !== Bokeh.version) {\n\t  Bokeh.versions.set(NewBokeh.version, NewBokeh)\n\t}\n\troot.Bokeh = Bokeh;\n      }} else if (Date.now() < root._bokeh_timeout) {\n      setTimeout(run_inline_js, 100);\n    } else if (!root._bokeh_failed_load) {\n      console.log(\"Bokeh: BokehJS failed to load within specified timeout.\");\n      root._bokeh_failed_load = true;\n    }\n    root._bokeh_is_initializing = false\n  }\n\n  function load_or_wait() {\n    // Implement a backoff loop that tries to ensure we do not load multiple\n    // versions of Bokeh and its dependencies at the same time.\n    // In recent versions we use the root._bokeh_is_initializing flag\n    // to determine whether there is an ongoing attempt to initialize\n    // bokeh, however for backward compatibility we also try to ensure\n    // that we do not start loading a newer (Panel>=1.0 and Bokeh>3) version\n    // before older versions are fully initialized.\n    if (root._bokeh_is_initializing && Date.now() > root._bokeh_timeout) {\n      root._bokeh_is_initializing = false;\n      root._bokeh_onload_callbacks = undefined;\n      console.log(\"Bokeh: BokehJS was loaded multiple times but one version failed to initialize.\");\n      load_or_wait();\n    } else if (root._bokeh_is_initializing || (typeof root._bokeh_is_initializing === \"undefined\" && root._bokeh_onload_callbacks !== undefined)) {\n      setTimeout(load_or_wait, 100);\n    } else {\n      root._bokeh_is_initializing = true\n      root._bokeh_onload_callbacks = []\n      var bokeh_loaded = Bokeh != null && (Bokeh.version === py_version || (Bokeh.versions !== undefined && Bokeh.versions.has(py_version)));\n      if (!reloading && !bokeh_loaded) {\n\troot.Bokeh = undefined;\n      }\n      load_libs(css_urls, js_urls, js_modules, js_exports, function() {\n\tconsole.debug(\"Bokeh: BokehJS plotting callback run at\", now());\n\trun_inline_js();\n      });\n    }\n  }\n  // Give older versions of the autoload script a head-start to ensure\n  // they initialize before we start loading newer version.\n  setTimeout(load_or_wait, 100)\n}(window));",
      "application/vnd.holoviews_load.v0+json": ""
     },
     "metadata": {},
     "output_type": "display_data"
    },
    {
     "data": {
      "application/javascript": "\nif ((window.PyViz === undefined) || (window.PyViz instanceof HTMLElement)) {\n  window.PyViz = {comms: {}, comm_status:{}, kernels:{}, receivers: {}, plot_index: []}\n}\n\n\n    function JupyterCommManager() {\n    }\n\n    JupyterCommManager.prototype.register_target = function(plot_id, comm_id, msg_handler) {\n      if (window.comm_manager || ((window.Jupyter !== undefined) && (Jupyter.notebook.kernel != null))) {\n        var comm_manager = window.comm_manager || Jupyter.notebook.kernel.comm_manager;\n        comm_manager.register_target(comm_id, function(comm) {\n          comm.on_msg(msg_handler);\n        });\n      } else if ((plot_id in window.PyViz.kernels) && (window.PyViz.kernels[plot_id])) {\n        window.PyViz.kernels[plot_id].registerCommTarget(comm_id, function(comm) {\n          comm.onMsg = msg_handler;\n        });\n      } else if (typeof google != 'undefined' && google.colab.kernel != null) {\n        google.colab.kernel.comms.registerTarget(comm_id, (comm) => {\n          var messages = comm.messages[Symbol.asyncIterator]();\n          function processIteratorResult(result) {\n            var message = result.value;\n            console.log(message)\n            var content = {data: message.data, comm_id};\n            var buffers = []\n            for (var buffer of message.buffers || []) {\n              buffers.push(new DataView(buffer))\n            }\n            var metadata = message.metadata || {};\n            var msg = {content, buffers, metadata}\n            msg_handler(msg);\n            return messages.next().then(processIteratorResult);\n          }\n          return messages.next().then(processIteratorResult);\n        })\n      }\n    }\n\n    JupyterCommManager.prototype.get_client_comm = function(plot_id, comm_id, msg_handler) {\n      if (comm_id in window.PyViz.comms) {\n        return window.PyViz.comms[comm_id];\n      } else if (window.comm_manager || ((window.Jupyter !== undefined) && (Jupyter.notebook.kernel != null))) {\n        var comm_manager = window.comm_manager || Jupyter.notebook.kernel.comm_manager;\n        var comm = comm_manager.new_comm(comm_id, {}, {}, {}, comm_id);\n        if (msg_handler) {\n          comm.on_msg(msg_handler);\n        }\n      } else if ((plot_id in window.PyViz.kernels) && (window.PyViz.kernels[plot_id])) {\n        var comm = window.PyViz.kernels[plot_id].connectToComm(comm_id);\n        comm.open();\n        if (msg_handler) {\n          comm.onMsg = msg_handler;\n        }\n      } else if (typeof google != 'undefined' && google.colab.kernel != null) {\n        var comm_promise = google.colab.kernel.comms.open(comm_id)\n        comm_promise.then((comm) => {\n          window.PyViz.comms[comm_id] = comm;\n          if (msg_handler) {\n            var messages = comm.messages[Symbol.asyncIterator]();\n            function processIteratorResult(result) {\n              var message = result.value;\n              var content = {data: message.data};\n              var metadata = message.metadata || {comm_id};\n              var msg = {content, metadata}\n              msg_handler(msg);\n              return messages.next().then(processIteratorResult);\n            }\n            return messages.next().then(processIteratorResult);\n          }\n        }) \n        var sendClosure = (data, metadata, buffers, disposeOnDone) => {\n          return comm_promise.then((comm) => {\n            comm.send(data, metadata, buffers, disposeOnDone);\n          });\n        };\n        var comm = {\n          send: sendClosure\n        };\n      }\n      window.PyViz.comms[comm_id] = comm;\n      return comm;\n    }\n    window.PyViz.comm_manager = new JupyterCommManager();\n    \n\n\nvar JS_MIME_TYPE = 'application/javascript';\nvar HTML_MIME_TYPE = 'text/html';\nvar EXEC_MIME_TYPE = 'application/vnd.holoviews_exec.v0+json';\nvar CLASS_NAME = 'output';\n\n/**\n * Render data to the DOM node\n */\nfunction render(props, node) {\n  var div = document.createElement(\"div\");\n  var script = document.createElement(\"script\");\n  node.appendChild(div);\n  node.appendChild(script);\n}\n\n/**\n * Handle when a new output is added\n */\nfunction handle_add_output(event, handle) {\n  var output_area = handle.output_area;\n  var output = handle.output;\n  if ((output.data == undefined) || (!output.data.hasOwnProperty(EXEC_MIME_TYPE))) {\n    return\n  }\n  var id = output.metadata[EXEC_MIME_TYPE][\"id\"];\n  var toinsert = output_area.element.find(\".\" + CLASS_NAME.split(' ')[0]);\n  if (id !== undefined) {\n    var nchildren = toinsert.length;\n    var html_node = toinsert[nchildren-1].children[0];\n    html_node.innerHTML = output.data[HTML_MIME_TYPE];\n    var scripts = [];\n    var nodelist = html_node.querySelectorAll(\"script\");\n    for (var i in nodelist) {\n      if (nodelist.hasOwnProperty(i)) {\n        scripts.push(nodelist[i])\n      }\n    }\n\n    scripts.forEach( function (oldScript) {\n      var newScript = document.createElement(\"script\");\n      var attrs = [];\n      var nodemap = oldScript.attributes;\n      for (var j in nodemap) {\n        if (nodemap.hasOwnProperty(j)) {\n          attrs.push(nodemap[j])\n        }\n      }\n      attrs.forEach(function(attr) { newScript.setAttribute(attr.name, attr.value) });\n      newScript.appendChild(document.createTextNode(oldScript.innerHTML));\n      oldScript.parentNode.replaceChild(newScript, oldScript);\n    });\n    if (JS_MIME_TYPE in output.data) {\n      toinsert[nchildren-1].children[1].textContent = output.data[JS_MIME_TYPE];\n    }\n    output_area._hv_plot_id = id;\n    if ((window.Bokeh !== undefined) && (id in Bokeh.index)) {\n      window.PyViz.plot_index[id] = Bokeh.index[id];\n    } else {\n      window.PyViz.plot_index[id] = null;\n    }\n  } else if (output.metadata[EXEC_MIME_TYPE][\"server_id\"] !== undefined) {\n    var bk_div = document.createElement(\"div\");\n    bk_div.innerHTML = output.data[HTML_MIME_TYPE];\n    var script_attrs = bk_div.children[0].attributes;\n    for (var i = 0; i < script_attrs.length; i++) {\n      toinsert[toinsert.length - 1].childNodes[1].setAttribute(script_attrs[i].name, script_attrs[i].value);\n    }\n    // store reference to server id on output_area\n    output_area._bokeh_server_id = output.metadata[EXEC_MIME_TYPE][\"server_id\"];\n  }\n}\n\n/**\n * Handle when an output is cleared or removed\n */\nfunction handle_clear_output(event, handle) {\n  var id = handle.cell.output_area._hv_plot_id;\n  var server_id = handle.cell.output_area._bokeh_server_id;\n  if (((id === undefined) || !(id in PyViz.plot_index)) && (server_id !== undefined)) { return; }\n  var comm = window.PyViz.comm_manager.get_client_comm(\"hv-extension-comm\", \"hv-extension-comm\", function () {});\n  if (server_id !== null) {\n    comm.send({event_type: 'server_delete', 'id': server_id});\n    return;\n  } else if (comm !== null) {\n    comm.send({event_type: 'delete', 'id': id});\n  }\n  delete PyViz.plot_index[id];\n  if ((window.Bokeh !== undefined) & (id in window.Bokeh.index)) {\n    var doc = window.Bokeh.index[id].model.document\n    doc.clear();\n    const i = window.Bokeh.documents.indexOf(doc);\n    if (i > -1) {\n      window.Bokeh.documents.splice(i, 1);\n    }\n  }\n}\n\n/**\n * Handle kernel restart event\n */\nfunction handle_kernel_cleanup(event, handle) {\n  delete PyViz.comms[\"hv-extension-comm\"];\n  window.PyViz.plot_index = {}\n}\n\n/**\n * Handle update_display_data messages\n */\nfunction handle_update_output(event, handle) {\n  handle_clear_output(event, {cell: {output_area: handle.output_area}})\n  handle_add_output(event, handle)\n}\n\nfunction register_renderer(events, OutputArea) {\n  function append_mime(data, metadata, element) {\n    // create a DOM node to render to\n    var toinsert = this.create_output_subarea(\n    metadata,\n    CLASS_NAME,\n    EXEC_MIME_TYPE\n    );\n    this.keyboard_manager.register_events(toinsert);\n    // Render to node\n    var props = {data: data, metadata: metadata[EXEC_MIME_TYPE]};\n    render(props, toinsert[0]);\n    element.append(toinsert);\n    return toinsert\n  }\n\n  events.on('output_added.OutputArea', handle_add_output);\n  events.on('output_updated.OutputArea', handle_update_output);\n  events.on('clear_output.CodeCell', handle_clear_output);\n  events.on('delete.Cell', handle_clear_output);\n  events.on('kernel_ready.Kernel', handle_kernel_cleanup);\n\n  OutputArea.prototype.register_mime_type(EXEC_MIME_TYPE, append_mime, {\n    safe: true,\n    index: 0\n  });\n}\n\nif (window.Jupyter !== undefined) {\n  try {\n    var events = require('base/js/events');\n    var OutputArea = require('notebook/js/outputarea').OutputArea;\n    if (OutputArea.prototype.mime_types().indexOf(EXEC_MIME_TYPE) == -1) {\n      register_renderer(events, OutputArea);\n    }\n  } catch(err) {\n  }\n}\n",
      "application/vnd.holoviews_load.v0+json": ""
     },
     "metadata": {},
     "output_type": "display_data"
    },
    {
     "data": {
      "text/html": [
       "<style>*[data-root-id],\n",
       "*[data-root-id] > * {\n",
       "  box-sizing: border-box;\n",
       "  font-family: var(--jp-ui-font-family);\n",
       "  font-size: var(--jp-ui-font-size1);\n",
       "  color: var(--vscode-editor-foreground, var(--jp-ui-font-color1));\n",
       "}\n",
       "\n",
       "/* Override VSCode background color */\n",
       ".cell-output-ipywidget-background:has(\n",
       "    > .cell-output-ipywidget-background > .lm-Widget > *[data-root-id]\n",
       "  ),\n",
       ".cell-output-ipywidget-background:has(> .lm-Widget > *[data-root-id]) {\n",
       "  background-color: transparent !important;\n",
       "}\n",
       "</style>"
      ]
     },
     "metadata": {},
     "output_type": "display_data"
    },
    {
     "data": {
      "application/vnd.holoviews_exec.v0+json": "",
      "text/html": [
       "<div id='p1002'>\n",
       "  <div id=\"d4bc3214-b03e-4bf7-af49-647bda492e47\" data-root-id=\"p1002\" style=\"display: contents;\"></div>\n",
       "</div>\n",
       "<script type=\"application/javascript\">(function(root) {\n",
       "  var docs_json = {\"60c9a68e-f29e-482e-aa39-f14681c0442f\":{\"version\":\"3.4.1\",\"title\":\"Bokeh Application\",\"roots\":[{\"type\":\"object\",\"name\":\"panel.models.browser.BrowserInfo\",\"id\":\"p1002\"},{\"type\":\"object\",\"name\":\"panel.models.comm_manager.CommManager\",\"id\":\"p1003\",\"attributes\":{\"plot_id\":\"p1002\",\"comm_id\":\"346bc0fe29a54c2abc5d977a6b23b4bf\",\"client_comm_id\":\"580dac967a7142eb9a1be232b7f44d63\"}}],\"defs\":[{\"type\":\"model\",\"name\":\"ReactiveHTML1\"},{\"type\":\"model\",\"name\":\"FlexBox1\",\"properties\":[{\"name\":\"align_content\",\"kind\":\"Any\",\"default\":\"flex-start\"},{\"name\":\"align_items\",\"kind\":\"Any\",\"default\":\"flex-start\"},{\"name\":\"flex_direction\",\"kind\":\"Any\",\"default\":\"row\"},{\"name\":\"flex_wrap\",\"kind\":\"Any\",\"default\":\"wrap\"},{\"name\":\"gap\",\"kind\":\"Any\",\"default\":\"\"},{\"name\":\"justify_content\",\"kind\":\"Any\",\"default\":\"flex-start\"}]},{\"type\":\"model\",\"name\":\"FloatPanel1\",\"properties\":[{\"name\":\"config\",\"kind\":\"Any\",\"default\":{\"type\":\"map\"}},{\"name\":\"contained\",\"kind\":\"Any\",\"default\":true},{\"name\":\"position\",\"kind\":\"Any\",\"default\":\"right-top\"},{\"name\":\"offsetx\",\"kind\":\"Any\",\"default\":null},{\"name\":\"offsety\",\"kind\":\"Any\",\"default\":null},{\"name\":\"theme\",\"kind\":\"Any\",\"default\":\"primary\"},{\"name\":\"status\",\"kind\":\"Any\",\"default\":\"normalized\"}]},{\"type\":\"model\",\"name\":\"GridStack1\",\"properties\":[{\"name\":\"mode\",\"kind\":\"Any\",\"default\":\"warn\"},{\"name\":\"ncols\",\"kind\":\"Any\",\"default\":null},{\"name\":\"nrows\",\"kind\":\"Any\",\"default\":null},{\"name\":\"allow_resize\",\"kind\":\"Any\",\"default\":true},{\"name\":\"allow_drag\",\"kind\":\"Any\",\"default\":true},{\"name\":\"state\",\"kind\":\"Any\",\"default\":[]}]},{\"type\":\"model\",\"name\":\"drag1\",\"properties\":[{\"name\":\"slider_width\",\"kind\":\"Any\",\"default\":5},{\"name\":\"slider_color\",\"kind\":\"Any\",\"default\":\"black\"},{\"name\":\"value\",\"kind\":\"Any\",\"default\":50}]},{\"type\":\"model\",\"name\":\"click1\",\"properties\":[{\"name\":\"terminal_output\",\"kind\":\"Any\",\"default\":\"\"},{\"name\":\"debug_name\",\"kind\":\"Any\",\"default\":\"\"},{\"name\":\"clears\",\"kind\":\"Any\",\"default\":0}]},{\"type\":\"model\",\"name\":\"FastWrapper1\",\"properties\":[{\"name\":\"object\",\"kind\":\"Any\",\"default\":null},{\"name\":\"style\",\"kind\":\"Any\",\"default\":null}]},{\"type\":\"model\",\"name\":\"NotificationAreaBase1\",\"properties\":[{\"name\":\"js_events\",\"kind\":\"Any\",\"default\":{\"type\":\"map\"}},{\"name\":\"position\",\"kind\":\"Any\",\"default\":\"bottom-right\"},{\"name\":\"_clear\",\"kind\":\"Any\",\"default\":0}]},{\"type\":\"model\",\"name\":\"NotificationArea1\",\"properties\":[{\"name\":\"js_events\",\"kind\":\"Any\",\"default\":{\"type\":\"map\"}},{\"name\":\"notifications\",\"kind\":\"Any\",\"default\":[]},{\"name\":\"position\",\"kind\":\"Any\",\"default\":\"bottom-right\"},{\"name\":\"_clear\",\"kind\":\"Any\",\"default\":0},{\"name\":\"types\",\"kind\":\"Any\",\"default\":[{\"type\":\"map\",\"entries\":[[\"type\",\"warning\"],[\"background\",\"#ffc107\"],[\"icon\",{\"type\":\"map\",\"entries\":[[\"className\",\"fas fa-exclamation-triangle\"],[\"tagName\",\"i\"],[\"color\",\"white\"]]}]]},{\"type\":\"map\",\"entries\":[[\"type\",\"info\"],[\"background\",\"#007bff\"],[\"icon\",{\"type\":\"map\",\"entries\":[[\"className\",\"fas fa-info-circle\"],[\"tagName\",\"i\"],[\"color\",\"white\"]]}]]}]}]},{\"type\":\"model\",\"name\":\"Notification\",\"properties\":[{\"name\":\"background\",\"kind\":\"Any\",\"default\":null},{\"name\":\"duration\",\"kind\":\"Any\",\"default\":3000},{\"name\":\"icon\",\"kind\":\"Any\",\"default\":null},{\"name\":\"message\",\"kind\":\"Any\",\"default\":\"\"},{\"name\":\"notification_type\",\"kind\":\"Any\",\"default\":null},{\"name\":\"_destroyed\",\"kind\":\"Any\",\"default\":false}]},{\"type\":\"model\",\"name\":\"TemplateActions1\",\"properties\":[{\"name\":\"open_modal\",\"kind\":\"Any\",\"default\":0},{\"name\":\"close_modal\",\"kind\":\"Any\",\"default\":0}]},{\"type\":\"model\",\"name\":\"BootstrapTemplateActions1\",\"properties\":[{\"name\":\"open_modal\",\"kind\":\"Any\",\"default\":0},{\"name\":\"close_modal\",\"kind\":\"Any\",\"default\":0}]},{\"type\":\"model\",\"name\":\"TemplateEditor1\",\"properties\":[{\"name\":\"layout\",\"kind\":\"Any\",\"default\":[]}]},{\"type\":\"model\",\"name\":\"MaterialTemplateActions1\",\"properties\":[{\"name\":\"open_modal\",\"kind\":\"Any\",\"default\":0},{\"name\":\"close_modal\",\"kind\":\"Any\",\"default\":0}]},{\"type\":\"model\",\"name\":\"copy_to_clipboard1\",\"properties\":[{\"name\":\"fill\",\"kind\":\"Any\",\"default\":\"none\"},{\"name\":\"value\",\"kind\":\"Any\",\"default\":null}]}]}};\n",
       "  var render_items = [{\"docid\":\"60c9a68e-f29e-482e-aa39-f14681c0442f\",\"roots\":{\"p1002\":\"d4bc3214-b03e-4bf7-af49-647bda492e47\"},\"root_ids\":[\"p1002\"]}];\n",
       "  var docs = Object.values(docs_json)\n",
       "  if (!docs) {\n",
       "    return\n",
       "  }\n",
       "  const py_version = docs[0].version.replace('rc', '-rc.').replace('.dev', '-dev.')\n",
       "  function embed_document(root) {\n",
       "    var Bokeh = get_bokeh(root)\n",
       "    Bokeh.embed.embed_items_notebook(docs_json, render_items);\n",
       "    for (const render_item of render_items) {\n",
       "      for (const root_id of render_item.root_ids) {\n",
       "\tconst id_el = document.getElementById(root_id)\n",
       "\tif (id_el.children.length && (id_el.children[0].className === 'bk-root')) {\n",
       "\t  const root_el = id_el.children[0]\n",
       "\t  root_el.id = root_el.id + '-rendered'\n",
       "\t}\n",
       "      }\n",
       "    }\n",
       "  }\n",
       "  function get_bokeh(root) {\n",
       "    if (root.Bokeh === undefined) {\n",
       "      return null\n",
       "    } else if (root.Bokeh.version !== py_version) {\n",
       "      if (root.Bokeh.versions === undefined || !root.Bokeh.versions.has(py_version)) {\n",
       "\treturn null\n",
       "      }\n",
       "      return root.Bokeh.versions.get(py_version);\n",
       "    } else if (root.Bokeh.version === py_version) {\n",
       "      return root.Bokeh\n",
       "    }\n",
       "    return null\n",
       "  }\n",
       "  function is_loaded(root) {\n",
       "    var Bokeh = get_bokeh(root)\n",
       "    return (Bokeh != null && Bokeh.Panel !== undefined)\n",
       "  }\n",
       "  if (is_loaded(root)) {\n",
       "    embed_document(root);\n",
       "  } else {\n",
       "    var attempts = 0;\n",
       "    var timer = setInterval(function(root) {\n",
       "      if (is_loaded(root)) {\n",
       "        clearInterval(timer);\n",
       "        embed_document(root);\n",
       "      } else if (document.readyState == \"complete\") {\n",
       "        attempts++;\n",
       "        if (attempts > 200) {\n",
       "          clearInterval(timer);\n",
       "\t  var Bokeh = get_bokeh(root)\n",
       "\t  if (Bokeh == null || Bokeh.Panel == null) {\n",
       "            console.warn(\"Panel: ERROR: Unable to run Panel code because Bokeh or Panel library is missing\");\n",
       "\t  } else {\n",
       "\t    console.warn(\"Panel: WARNING: Attempting to render but not all required libraries could be resolved.\")\n",
       "\t    embed_document(root)\n",
       "\t  }\n",
       "        }\n",
       "      }\n",
       "    }, 25, root)\n",
       "  }\n",
       "})(window);</script>"
      ]
     },
     "metadata": {
      "application/vnd.holoviews_exec.v0+json": {
       "id": "p1002"
      }
     },
     "output_type": "display_data"
    },
    {
     "data": {},
     "metadata": {},
     "output_type": "display_data"
    },
    {
     "data": {
      "application/vnd.holoviews_exec.v0+json": "",
      "text/html": [
       "<div id='p1004'>\n",
       "  <div id=\"cb7e5c8a-af39-4526-a789-71aff18a3e85\" data-root-id=\"p1004\" style=\"display: contents;\"></div>\n",
       "</div>\n",
       "<script type=\"application/javascript\">(function(root) {\n",
       "  var docs_json = {\"9a95f738-de09-4e22-9e2c-03c7dd198432\":{\"version\":\"3.4.1\",\"title\":\"Bokeh Application\",\"roots\":[{\"type\":\"object\",\"name\":\"Row\",\"id\":\"p1004\",\"attributes\":{\"name\":\"Row00966\",\"tags\":[\"embedded\"],\"stylesheets\":[\"\\n:host(.pn-loading):before, .pn-loading:before {\\n  background-color: #c3c3c3;\\n  mask-size: auto calc(min(50%, 400px));\\n  -webkit-mask-size: auto calc(min(50%, 400px));\\n}\",{\"type\":\"object\",\"name\":\"ImportedStyleSheet\",\"id\":\"p1007\",\"attributes\":{\"url\":\"https://cdn.holoviz.org/panel/1.4.2/dist/css/loading.css\"}},{\"type\":\"object\",\"name\":\"ImportedStyleSheet\",\"id\":\"p1094\",\"attributes\":{\"url\":\"https://cdn.holoviz.org/panel/1.4.2/dist/css/listpanel.css\"}},{\"type\":\"object\",\"name\":\"ImportedStyleSheet\",\"id\":\"p1005\",\"attributes\":{\"url\":\"https://cdn.holoviz.org/panel/1.4.2/dist/bundled/theme/default.css\"}},{\"type\":\"object\",\"name\":\"ImportedStyleSheet\",\"id\":\"p1006\",\"attributes\":{\"url\":\"https://cdn.holoviz.org/panel/1.4.2/dist/bundled/theme/native.css\"}}],\"min_width\":700,\"margin\":0,\"sizing_mode\":\"stretch_width\",\"align\":\"start\",\"children\":[{\"type\":\"object\",\"name\":\"Spacer\",\"id\":\"p1008\",\"attributes\":{\"name\":\"HSpacer00973\",\"stylesheets\":[\"\\n:host(.pn-loading):before, .pn-loading:before {\\n  background-color: #c3c3c3;\\n  mask-size: auto calc(min(50%, 400px));\\n  -webkit-mask-size: auto calc(min(50%, 400px));\\n}\",{\"id\":\"p1007\"},{\"id\":\"p1005\"},{\"id\":\"p1006\"}],\"margin\":0,\"sizing_mode\":\"stretch_width\",\"align\":\"start\"}},{\"type\":\"object\",\"name\":\"Figure\",\"id\":\"p1019\",\"attributes\":{\"width\":700,\"height\":300,\"margin\":[5,10],\"sizing_mode\":\"fixed\",\"align\":\"start\",\"x_range\":{\"type\":\"object\",\"name\":\"Range1d\",\"id\":\"p1009\",\"attributes\":{\"tags\":[[[\"timestamp\",\"timestamp\",null]],[]],\"start\":1581938331428.5713,\"end\":1718800868571.4287,\"reset_start\":1581938331428.5713,\"reset_end\":1718800868571.4287}},\"y_range\":{\"type\":\"object\",\"name\":\"Range1d\",\"id\":\"p1010\",\"attributes\":{\"tags\":[[[\"blood_glucose\",\"blood_glucose\",null]],{\"type\":\"map\",\"entries\":[[\"invert_yaxis\",false],[\"autorange\",false]]}],\"start\":187.83749999999998,\"end\":214.28750000000002,\"reset_start\":187.83749999999998,\"reset_end\":214.28750000000002}},\"x_scale\":{\"type\":\"object\",\"name\":\"LinearScale\",\"id\":\"p1029\"},\"y_scale\":{\"type\":\"object\",\"name\":\"LinearScale\",\"id\":\"p1030\"},\"title\":{\"type\":\"object\",\"name\":\"Title\",\"id\":\"p1022\",\"attributes\":{\"text_color\":\"black\",\"text_font_size\":\"12pt\"}},\"renderers\":[{\"type\":\"object\",\"name\":\"GlyphRenderer\",\"id\":\"p1071\",\"attributes\":{\"name\":\"Blizzard Bob\",\"data_source\":{\"type\":\"object\",\"name\":\"ColumnDataSource\",\"id\":\"p1062\",\"attributes\":{\"selected\":{\"type\":\"object\",\"name\":\"Selection\",\"id\":\"p1063\",\"attributes\":{\"indices\":[],\"line_indices\":[]}},\"selection_policy\":{\"type\":\"object\",\"name\":\"UnionRenderers\",\"id\":\"p1064\"},\"data\":{\"type\":\"map\",\"entries\":[[\"timestamp\",{\"type\":\"ndarray\",\"array\":{\"type\":\"bytes\",\"data\":\"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\"},\"shape\":[661],\"dtype\":\"float64\",\"order\":\"little\"}],[\"blood_glucose\",{\"type\":\"ndarray\",\"array\":{\"type\":\"bytes\",\"data\":\"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\"},\"shape\":[661],\"dtype\":\"float64\",\"order\":\"little\"}],[\"name\",[\"Blizzard Bob\",\"Blizzard Bob\",\"Blizzard Bob\",\"Blizzard Bob\",\"Blizzard Bob\",\"Blizzard Bob\",\"Blizzard Bob\",\"Blizzard Bob\",\"Blizzard Bob\",\"Blizzard Bob\",\"Blizzard Bob\",\"Blizzard Bob\",\"Blizzard Bob\",\"Blizzard Bob\",\"Blizzard Bob\",\"Blizzard Bob\",\"Blizzard Bob\",\"Blizzard Bob\",\"Blizzard Bob\",\"Blizzard Bob\",\"Blizzard Bob\",\"Blizzard Bob\",\"Blizzard Bob\",\"Blizzard Bob\",\"Blizzard Bob\",\"Blizzard Bob\",\"Blizzard Bob\",\"Blizzard Bob\",\"Blizzard Bob\",\"Blizzard Bob\",\"Blizzard Bob\",\"Blizzard Bob\",\"Blizzard Bob\",\"Blizzard Bob\",\"Blizzard Bob\",\"Blizzard Bob\",\"Blizzard Bob\",\"Blizzard Bob\",\"Blizzard Bob\",\"Blizzard Bob\",\"Blizzard Bob\",\"Blizzard Bob\",\"Blizzard Bob\",\"Blizzard Bob\",\"Blizzard Bob\",\"Blizzard Bob\",\"Blizzard Bob\",\"Blizzard Bob\",\"Blizzard Bob\",\"Blizzard Bob\",\"Blizzard Bob\",\"Blizzard Bob\",\"Blizzard Bob\",\"Blizzard Bob\",\"Blizzard Bob\",\"Blizzard Bob\",\"Blizzard Bob\",\"Blizzard Bob\",\"Blizzard Bob\",\"Blizzard Bob\",\"Blizzard Bob\",\"Blizzard Bob\",\"Blizzard Bob\",\"Blizzard Bob\",\"Blizzard Bob\",\"Blizzard Bob\",\"Blizzard Bob\",\"Blizzard Bob\",\"Blizzard Bob\",\"Blizzard Bob\",\"Blizzard Bob\",\"Blizzard Bob\",\"Blizzard Bob\",\"Blizzard Bob\",\"Blizzard Bob\",\"Blizzard Bob\",\"Blizzard Bob\",\"Blizzard Bob\",\"Blizzard Bob\",\"Blizzard Bob\",\"Blizzard Bob\",\"Blizzard Bob\",\"Blizzard Bob\",\"Blizzard Bob\",\"Blizzard Bob\",\"Blizzard Bob\",\"Blizzard Bob\",\"Blizzard Bob\",\"Blizzard Bob\",\"Blizzard Bob\",\"Blizzard Bob\",\"Blizzard Bob\",\"Blizzard Bob\",\"Blizzard Bob\",\"Blizzard Bob\",\"Blizzard Bob\",\"Blizzard Bob\",\"Blizzard Bob\",\"Blizzard Bob\",\"Blizzard Bob\",\"Blizzard Bob\",\"Blizzard Bob\",\"Blizzard Bob\",\"Blizzard Bob\",\"Blizzard Bob\",\"Blizzard Bob\",\"Blizzard Bob\",\"Blizzard Bob\",\"Blizzard Bob\",\"Blizzard Bob\",\"Blizzard Bob\",\"Blizzard Bob\",\"Blizzard Bob\",\"Blizzard Bob\",\"Blizzard Bob\",\"Blizzard Bob\",\"Blizzard Bob\",\"Blizzard Bob\",\"Blizzard Bob\",\"Blizzard Bob\",\"Blizzard Bob\",\"Blizzard Bob\",\"Blizzard Bob\",\"Blizzard Bob\",\"Blizzard Bob\",\"Blizzard Bob\",\"Blizzard Bob\",\"Blizzard Bob\",\"Blizzard Bob\",\"Blizzard Bob\",\"Blizzard Bob\",\"Blizzard Bob\",\"Blizzard Bob\",\"Blizzard Bob\",\"Blizzard Bob\",\"Blizzard Bob\",\"Blizzard Bob\",\"Blizzard Bob\",\"Blizzard Bob\",\"Blizzard Bob\",\"Blizzard Bob\",\"Blizzard Bob\",\"Blizzard Bob\",\"Blizzard Bob\",\"Blizzard Bob\",\"Blizzard Bob\",\"Blizzard Bob\",\"Blizzard Bob\",\"Blizzard Bob\",\"Blizzard Bob\",\"Blizzard Bob\",\"Blizzard Bob\",\"Blizzard Bob\",\"Blizzard Bob\",\"Blizzard Bob\",\"Blizzard Bob\",\"Blizzard Bob\",\"Blizzard Bob\",\"Blizzard Bob\",\"Blizzard Bob\",\"Blizzard Bob\",\"Blizzard Bob\",\"Blizzard Bob\",\"Blizzard Bob\",\"Blizzard Bob\",\"Blizzard Bob\",\"Blizzard Bob\",\"Blizzard Bob\",\"Blizzard Bob\",\"Blizzard Bob\",\"Blizzard Bob\",\"Blizzard Bob\",\"Blizzard Bob\",\"Blizzard Bob\",\"Blizzard Bob\",\"Blizzard Bob\",\"Blizzard Bob\",\"Blizzard Bob\",\"Blizzard Bob\",\"Blizzard Bob\",\"Blizzard Bob\",\"Blizzard Bob\",\"Blizzard Bob\",\"Blizzard Bob\",\"Blizzard Bob\",\"Blizzard Bob\",\"Blizzard Bob\",\"Blizzard Bob\",\"Blizzard Bob\",\"Blizzard Bob\",\"Blizzard Bob\",\"Blizzard Bob\",\"Blizzard Bob\",\"Blizzard Bob\",\"Blizzard Bob\",\"Blizzard Bob\",\"Blizzard Bob\",\"Blizzard Bob\",\"Blizzard Bob\",\"Blizzard Bob\",\"Blizzard Bob\",\"Blizzard Bob\",\"Blizzard Bob\",\"Blizzard Bob\",\"Blizzard Bob\",\"Blizzard Bob\",\"Blizzard Bob\",\"Blizzard Bob\",\"Blizzard Bob\",\"Blizzard Bob\",\"Blizzard Bob\",\"Blizzard Bob\",\"Blizzard Bob\",\"Blizzard Bob\",\"Blizzard Bob\",\"Blizzard Bob\",\"Blizzard Bob\",\"Blizzard Bob\",\"Blizzard Bob\",\"Blizzard Bob\",\"Blizzard Bob\",\"Blizzard Bob\",\"Blizzard Bob\",\"Blizzard Bob\",\"Blizzard Bob\",\"Blizzard Bob\",\"Blizzard Bob\",\"Blizzard Bob\",\"Blizzard Bob\",\"Blizzard Bob\",\"Blizzard Bob\",\"Blizzard Bob\",\"Blizzard Bob\",\"Blizzard Bob\",\"Blizzard Bob\",\"Blizzard Bob\",\"Blizzard Bob\",\"Blizzard Bob\",\"Blizzard Bob\",\"Blizzard Bob\",\"Blizzard Bob\",\"Blizzard Bob\",\"Blizzard Bob\",\"Blizzard Bob\",\"Blizzard Bob\",\"Blizzard Bob\",\"Blizzard Bob\",\"Blizzard Bob\",\"Blizzard Bob\",\"Blizzard Bob\",\"Blizzard Bob\",\"Blizzard Bob\",\"Blizzard Bob\",\"Blizzard Bob\",\"Blizzard Bob\",\"Blizzard Bob\",\"Blizzard Bob\",\"Blizzard Bob\",\"Blizzard Bob\",\"Blizzard Bob\",\"Blizzard Bob\",\"Blizzard Bob\",\"Blizzard Bob\",\"Blizzard Bob\",\"Blizzard Bob\",\"Blizzard Bob\",\"Blizzard Bob\",\"Blizzard Bob\",\"Blizzard Bob\",\"Blizzard Bob\",\"Blizzard Bob\",\"Blizzard Bob\",\"Blizzard Bob\",\"Blizzard Bob\",\"Blizzard Bob\",\"Blizzard Bob\",\"Blizzard Bob\",\"Blizzard Bob\",\"Blizzard Bob\",\"Blizzard Bob\",\"Blizzard Bob\",\"Blizzard Bob\",\"Blizzard Bob\",\"Blizzard Bob\",\"Blizzard Bob\",\"Blizzard Bob\",\"Blizzard Bob\",\"Blizzard Bob\",\"Blizzard Bob\",\"Blizzard Bob\",\"Blizzard Bob\",\"Blizzard Bob\",\"Blizzard Bob\",\"Blizzard Bob\",\"Blizzard Bob\",\"Blizzard Bob\",\"Blizzard Bob\",\"Blizzard Bob\",\"Blizzard Bob\",\"Blizzard Bob\",\"Blizzard Bob\",\"Blizzard Bob\",\"Blizzard Bob\",\"Blizzard Bob\",\"Blizzard Bob\",\"Blizzard Bob\",\"Blizzard Bob\",\"Blizzard Bob\",\"Blizzard Bob\",\"Blizzard Bob\",\"Blizzard Bob\",\"Blizzard Bob\",\"Blizzard Bob\",\"Blizzard Bob\",\"Blizzard Bob\",\"Blizzard Bob\",\"Blizzard Bob\",\"Blizzard Bob\",\"Blizzard Bob\",\"Blizzard Bob\",\"Blizzard Bob\",\"Blizzard Bob\",\"Blizzard Bob\",\"Blizzard Bob\",\"Blizzard Bob\",\"Blizzard Bob\",\"Blizzard Bob\",\"Blizzard Bob\",\"Blizzard Bob\",\"Blizzard Bob\",\"Blizzard Bob\",\"Blizzard Bob\",\"Blizzard Bob\",\"Blizzard Bob\",\"Blizzard Bob\",\"Blizzard Bob\",\"Blizzard Bob\",\"Blizzard Bob\",\"Blizzard Bob\",\"Blizzard Bob\",\"Blizzard Bob\",\"Blizzard Bob\",\"Blizzard Bob\",\"Blizzard Bob\",\"Blizzard Bob\",\"Blizzard Bob\",\"Blizzard Bob\",\"Blizzard Bob\",\"Blizzard Bob\",\"Blizzard Bob\",\"Blizzard Bob\",\"Blizzard Bob\",\"Blizzard Bob\",\"Blizzard Bob\",\"Blizzard Bob\",\"Blizzard Bob\",\"Blizzard Bob\",\"Blizzard Bob\",\"Blizzard Bob\",\"Blizzard Bob\",\"Blizzard Bob\",\"Blizzard Bob\",\"Blizzard Bob\",\"Blizzard Bob\",\"Blizzard Bob\",\"Blizzard Bob\",\"Blizzard Bob\",\"Blizzard Bob\",\"Blizzard Bob\",\"Blizzard Bob\",\"Blizzard Bob\",\"Blizzard Bob\",\"Blizzard Bob\",\"Blizzard Bob\",\"Blizzard Bob\",\"Blizzard Bob\",\"Blizzard Bob\",\"Blizzard Bob\",\"Blizzard Bob\",\"Blizzard Bob\",\"Blizzard Bob\",\"Blizzard Bob\",\"Blizzard Bob\",\"Blizzard Bob\",\"Blizzard Bob\",\"Blizzard Bob\",\"Blizzard Bob\",\"Blizzard Bob\",\"Blizzard Bob\",\"Blizzard Bob\",\"Blizzard Bob\",\"Blizzard Bob\",\"Blizzard Bob\",\"Blizzard Bob\",\"Blizzard Bob\",\"Blizzard Bob\",\"Blizzard Bob\",\"Blizzard Bob\",\"Blizzard Bob\",\"Blizzard Bob\",\"Blizzard Bob\",\"Blizzard Bob\",\"Blizzard Bob\",\"Blizzard Bob\",\"Blizzard Bob\",\"Blizzard Bob\",\"Blizzard Bob\",\"Blizzard Bob\",\"Blizzard Bob\",\"Blizzard Bob\",\"Blizzard Bob\",\"Blizzard Bob\",\"Blizzard Bob\",\"Blizzard Bob\",\"Blizzard Bob\",\"Blizzard Bob\",\"Blizzard Bob\",\"Blizzard Bob\",\"Blizzard Bob\",\"Blizzard Bob\",\"Blizzard Bob\",\"Blizzard Bob\",\"Blizzard Bob\",\"Blizzard Bob\",\"Blizzard Bob\",\"Blizzard Bob\",\"Blizzard Bob\",\"Blizzard Bob\",\"Blizzard Bob\",\"Blizzard Bob\",\"Blizzard Bob\",\"Blizzard Bob\",\"Blizzard Bob\",\"Blizzard Bob\",\"Blizzard Bob\",\"Blizzard Bob\",\"Blizzard Bob\",\"Blizzard Bob\",\"Blizzard Bob\",\"Blizzard Bob\",\"Blizzard Bob\",\"Blizzard Bob\",\"Blizzard Bob\",\"Blizzard Bob\",\"Blizzard Bob\",\"Blizzard Bob\",\"Blizzard Bob\",\"Blizzard Bob\",\"Blizzard Bob\",\"Blizzard Bob\",\"Blizzard Bob\",\"Blizzard Bob\",\"Blizzard Bob\",\"Blizzard Bob\",\"Blizzard Bob\",\"Blizzard Bob\",\"Blizzard Bob\",\"Blizzard Bob\",\"Blizzard Bob\",\"Blizzard Bob\",\"Blizzard Bob\",\"Blizzard Bob\",\"Blizzard Bob\",\"Blizzard Bob\",\"Blizzard Bob\",\"Blizzard Bob\",\"Blizzard Bob\",\"Blizzard Bob\",\"Blizzard Bob\",\"Blizzard Bob\",\"Blizzard Bob\",\"Blizzard Bob\",\"Blizzard Bob\",\"Blizzard Bob\",\"Blizzard Bob\",\"Blizzard Bob\",\"Blizzard Bob\",\"Blizzard Bob\",\"Blizzard Bob\",\"Blizzard Bob\",\"Blizzard Bob\",\"Blizzard Bob\",\"Blizzard Bob\",\"Blizzard Bob\",\"Blizzard Bob\",\"Blizzard Bob\",\"Blizzard Bob\",\"Blizzard Bob\",\"Blizzard Bob\",\"Blizzard Bob\",\"Blizzard Bob\",\"Blizzard Bob\",\"Blizzard Bob\",\"Blizzard Bob\",\"Blizzard Bob\",\"Blizzard Bob\",\"Blizzard Bob\",\"Blizzard Bob\",\"Blizzard Bob\",\"Blizzard Bob\",\"Blizzard Bob\",\"Blizzard Bob\",\"Blizzard Bob\",\"Blizzard Bob\",\"Blizzard Bob\",\"Blizzard Bob\",\"Blizzard Bob\",\"Blizzard Bob\",\"Blizzard Bob\",\"Blizzard Bob\",\"Blizzard Bob\",\"Blizzard Bob\",\"Blizzard Bob\",\"Blizzard Bob\",\"Blizzard Bob\",\"Blizzard Bob\",\"Blizzard Bob\",\"Blizzard Bob\",\"Blizzard Bob\",\"Blizzard Bob\",\"Blizzard Bob\",\"Blizzard Bob\",\"Blizzard Bob\",\"Blizzard Bob\",\"Blizzard Bob\",\"Blizzard Bob\",\"Blizzard Bob\",\"Blizzard Bob\",\"Blizzard Bob\",\"Blizzard Bob\",\"Blizzard Bob\",\"Blizzard Bob\",\"Blizzard Bob\",\"Blizzard Bob\",\"Blizzard Bob\",\"Blizzard Bob\",\"Blizzard Bob\",\"Blizzard Bob\",\"Blizzard Bob\",\"Blizzard Bob\",\"Blizzard Bob\",\"Blizzard Bob\",\"Blizzard Bob\",\"Blizzard Bob\",\"Blizzard Bob\",\"Blizzard Bob\",\"Blizzard Bob\",\"Blizzard Bob\",\"Blizzard Bob\",\"Blizzard Bob\",\"Blizzard Bob\",\"Blizzard Bob\",\"Blizzard Bob\",\"Blizzard Bob\",\"Blizzard Bob\",\"Blizzard Bob\",\"Blizzard Bob\",\"Blizzard Bob\",\"Blizzard Bob\",\"Blizzard Bob\",\"Blizzard Bob\",\"Blizzard Bob\",\"Blizzard Bob\",\"Blizzard Bob\",\"Blizzard Bob\",\"Blizzard Bob\",\"Blizzard Bob\",\"Blizzard Bob\",\"Blizzard Bob\",\"Blizzard Bob\",\"Blizzard Bob\",\"Blizzard Bob\",\"Blizzard Bob\",\"Blizzard Bob\",\"Blizzard Bob\",\"Blizzard Bob\",\"Blizzard Bob\",\"Blizzard Bob\",\"Blizzard Bob\",\"Blizzard Bob\",\"Blizzard Bob\",\"Blizzard Bob\",\"Blizzard Bob\",\"Blizzard Bob\",\"Blizzard Bob\",\"Blizzard Bob\",\"Blizzard Bob\",\"Blizzard Bob\",\"Blizzard Bob\",\"Blizzard Bob\",\"Blizzard Bob\",\"Blizzard Bob\",\"Blizzard Bob\",\"Blizzard Bob\",\"Blizzard Bob\",\"Blizzard Bob\",\"Blizzard Bob\",\"Blizzard Bob\",\"Blizzard Bob\",\"Blizzard Bob\",\"Blizzard Bob\",\"Blizzard Bob\",\"Blizzard Bob\",\"Blizzard Bob\",\"Blizzard Bob\",\"Blizzard Bob\",\"Blizzard Bob\",\"Blizzard Bob\",\"Blizzard Bob\",\"Blizzard Bob\",\"Blizzard Bob\",\"Blizzard Bob\",\"Blizzard Bob\",\"Blizzard Bob\",\"Blizzard Bob\",\"Blizzard Bob\",\"Blizzard Bob\",\"Blizzard Bob\",\"Blizzard Bob\",\"Blizzard Bob\",\"Blizzard Bob\",\"Blizzard Bob\",\"Blizzard Bob\",\"Blizzard Bob\",\"Blizzard Bob\",\"Blizzard Bob\",\"Blizzard Bob\",\"Blizzard Bob\",\"Blizzard Bob\",\"Blizzard Bob\",\"Blizzard Bob\",\"Blizzard Bob\",\"Blizzard Bob\",\"Blizzard Bob\",\"Blizzard Bob\",\"Blizzard Bob\",\"Blizzard Bob\",\"Blizzard Bob\",\"Blizzard Bob\",\"Blizzard Bob\",\"Blizzard Bob\",\"Blizzard Bob\",\"Blizzard Bob\",\"Blizzard Bob\",\"Blizzard Bob\",\"Blizzard Bob\",\"Blizzard Bob\",\"Blizzard Bob\",\"Blizzard Bob\",\"Blizzard Bob\",\"Blizzard Bob\",\"Blizzard Bob\",\"Blizzard Bob\",\"Blizzard Bob\",\"Blizzard Bob\",\"Blizzard Bob\",\"Blizzard Bob\",\"Blizzard Bob\",\"Blizzard Bob\",\"Blizzard Bob\",\"Blizzard Bob\"]]]}}},\"view\":{\"type\":\"object\",\"name\":\"CDSView\",\"id\":\"p1072\",\"attributes\":{\"filter\":{\"type\":\"object\",\"name\":\"AllIndices\",\"id\":\"p1073\"}}},\"glyph\":{\"type\":\"object\",\"name\":\"Scatter\",\"id\":\"p1068\",\"attributes\":{\"tags\":[\"apply_ranges\"],\"x\":{\"type\":\"field\",\"field\":\"timestamp\"},\"y\":{\"type\":\"field\",\"field\":\"blood_glucose\"},\"size\":{\"type\":\"value\",\"value\":5.477225575051661},\"line_color\":{\"type\":\"value\",\"value\":\"#30a2da\"},\"fill_color\":{\"type\":\"value\",\"value\":\"#30a2da\"},\"hatch_color\":{\"type\":\"value\",\"value\":\"#30a2da\"}}},\"selection_glyph\":{\"type\":\"object\",\"name\":\"Scatter\",\"id\":\"p1076\",\"attributes\":{\"tags\":[\"apply_ranges\"],\"x\":{\"type\":\"field\",\"field\":\"timestamp\"},\"y\":{\"type\":\"field\",\"field\":\"blood_glucose\"},\"size\":{\"type\":\"value\",\"value\":5.477225575051661},\"angle\":{\"type\":\"value\",\"value\":0.0},\"line_color\":{\"type\":\"value\",\"value\":\"#30a2da\"},\"line_alpha\":{\"type\":\"value\",\"value\":1.0},\"line_width\":{\"type\":\"value\",\"value\":1},\"line_join\":{\"type\":\"value\",\"value\":\"bevel\"},\"line_cap\":{\"type\":\"value\",\"value\":\"butt\"},\"line_dash\":{\"type\":\"value\",\"value\":[]},\"line_dash_offset\":{\"type\":\"value\",\"value\":0},\"fill_color\":{\"type\":\"value\",\"value\":\"#30a2da\"},\"fill_alpha\":{\"type\":\"value\",\"value\":1.0},\"hatch_color\":{\"type\":\"value\",\"value\":\"#30a2da\"},\"hatch_alpha\":{\"type\":\"value\",\"value\":1.0},\"hatch_scale\":{\"type\":\"value\",\"value\":12.0},\"hatch_pattern\":{\"type\":\"value\",\"value\":null},\"hatch_weight\":{\"type\":\"value\",\"value\":1.0},\"marker\":{\"type\":\"value\",\"value\":\"circle\"}}},\"nonselection_glyph\":{\"type\":\"object\",\"name\":\"Scatter\",\"id\":\"p1069\",\"attributes\":{\"tags\":[\"apply_ranges\"],\"x\":{\"type\":\"field\",\"field\":\"timestamp\"},\"y\":{\"type\":\"field\",\"field\":\"blood_glucose\"},\"size\":{\"type\":\"value\",\"value\":5.477225575051661},\"line_color\":{\"type\":\"value\",\"value\":\"#30a2da\"},\"line_alpha\":{\"type\":\"value\",\"value\":0.1},\"fill_color\":{\"type\":\"value\",\"value\":\"#30a2da\"},\"fill_alpha\":{\"type\":\"value\",\"value\":0.1},\"hatch_color\":{\"type\":\"value\",\"value\":\"#30a2da\"},\"hatch_alpha\":{\"type\":\"value\",\"value\":0.1}}},\"muted_glyph\":{\"type\":\"object\",\"name\":\"Scatter\",\"id\":\"p1070\",\"attributes\":{\"tags\":[\"apply_ranges\"],\"x\":{\"type\":\"field\",\"field\":\"timestamp\"},\"y\":{\"type\":\"field\",\"field\":\"blood_glucose\"},\"size\":{\"type\":\"value\",\"value\":5.477225575051661},\"line_color\":{\"type\":\"value\",\"value\":\"#30a2da\"},\"line_alpha\":{\"type\":\"value\",\"value\":0.2},\"fill_color\":{\"type\":\"value\",\"value\":\"#30a2da\"},\"fill_alpha\":{\"type\":\"value\",\"value\":0.2},\"hatch_color\":{\"type\":\"value\",\"value\":\"#30a2da\"},\"hatch_alpha\":{\"type\":\"value\",\"value\":0.2}}}}},{\"type\":\"object\",\"name\":\"GlyphRenderer\",\"id\":\"p1086\",\"attributes\":{\"name\":\"Peter Panda\",\"data_source\":{\"type\":\"object\",\"name\":\"ColumnDataSource\",\"id\":\"p1077\",\"attributes\":{\"selected\":{\"type\":\"object\",\"name\":\"Selection\",\"id\":\"p1078\",\"attributes\":{\"indices\":[],\"line_indices\":[]}},\"selection_policy\":{\"type\":\"object\",\"name\":\"UnionRenderers\",\"id\":\"p1079\"},\"data\":{\"type\":\"map\",\"entries\":[[\"timestamp\",{\"type\":\"ndarray\",\"array\":{\"type\":\"bytes\",\"data\":\"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\"},\"shape\":[762],\"dtype\":\"float64\",\"order\":\"little\"}],[\"blood_glucose\",{\"type\":\"ndarray\",\"array\":{\"type\":\"bytes\",\"data\":\"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\"},\"shape\":[762],\"dtype\":\"float64\",\"order\":\"little\"}],[\"name\",[\"Peter Panda\",\"Peter Panda\",\"Peter Panda\",\"Peter Panda\",\"Peter Panda\",\"Peter Panda\",\"Peter Panda\",\"Peter Panda\",\"Peter Panda\",\"Peter Panda\",\"Peter Panda\",\"Peter Panda\",\"Peter Panda\",\"Peter Panda\",\"Peter Panda\",\"Peter Panda\",\"Peter Panda\",\"Peter Panda\",\"Peter Panda\",\"Peter Panda\",\"Peter Panda\",\"Peter Panda\",\"Peter Panda\",\"Peter Panda\",\"Peter Panda\",\"Peter Panda\",\"Peter Panda\",\"Peter Panda\",\"Peter Panda\",\"Peter Panda\",\"Peter Panda\",\"Peter Panda\",\"Peter Panda\",\"Peter Panda\",\"Peter Panda\",\"Peter Panda\",\"Peter Panda\",\"Peter Panda\",\"Peter Panda\",\"Peter Panda\",\"Peter Panda\",\"Peter Panda\",\"Peter Panda\",\"Peter Panda\",\"Peter Panda\",\"Peter Panda\",\"Peter Panda\",\"Peter Panda\",\"Peter Panda\",\"Peter Panda\",\"Peter Panda\",\"Peter Panda\",\"Peter Panda\",\"Peter Panda\",\"Peter Panda\",\"Peter Panda\",\"Peter Panda\",\"Peter Panda\",\"Peter Panda\",\"Peter Panda\",\"Peter Panda\",\"Peter Panda\",\"Peter Panda\",\"Peter Panda\",\"Peter Panda\",\"Peter Panda\",\"Peter Panda\",\"Peter Panda\",\"Peter Panda\",\"Peter Panda\",\"Peter Panda\",\"Peter Panda\",\"Peter Panda\",\"Peter Panda\",\"Peter Panda\",\"Peter Panda\",\"Peter Panda\",\"Peter Panda\",\"Peter Panda\",\"Peter Panda\",\"Peter Panda\",\"Peter Panda\",\"Peter Panda\",\"Peter Panda\",\"Peter Panda\",\"Peter Panda\",\"Peter Panda\",\"Peter Panda\",\"Peter Panda\",\"Peter Panda\",\"Peter Panda\",\"Peter Panda\",\"Peter Panda\",\"Peter Panda\",\"Peter Panda\",\"Peter Panda\",\"Peter Panda\",\"Peter Panda\",\"Peter Panda\",\"Peter Panda\",\"Peter Panda\",\"Peter Panda\",\"Peter Panda\",\"Peter Panda\",\"Peter Panda\",\"Peter Panda\",\"Peter Panda\",\"Peter Panda\",\"Peter Panda\",\"Peter Panda\",\"Peter Panda\",\"Peter Panda\",\"Peter Panda\",\"Peter Panda\",\"Peter Panda\",\"Peter Panda\",\"Peter Panda\",\"Peter Panda\",\"Peter Panda\",\"Peter Panda\",\"Peter Panda\",\"Peter Panda\",\"Peter Panda\",\"Peter Panda\",\"Peter Panda\",\"Peter Panda\",\"Peter Panda\",\"Peter Panda\",\"Peter Panda\",\"Peter Panda\",\"Peter Panda\",\"Peter Panda\",\"Peter Panda\",\"Peter Panda\",\"Peter Panda\",\"Peter Panda\",\"Peter Panda\",\"Peter Panda\",\"Peter Panda\",\"Peter Panda\",\"Peter Panda\",\"Peter Panda\",\"Peter Panda\",\"Peter Panda\",\"Peter Panda\",\"Peter Panda\",\"Peter Panda\",\"Peter Panda\",\"Peter Panda\",\"Peter Panda\",\"Peter Panda\",\"Peter Panda\",\"Peter Panda\",\"Peter Panda\",\"Peter Panda\",\"Peter Panda\",\"Peter Panda\",\"Peter Panda\",\"Peter Panda\",\"Peter Panda\",\"Peter Panda\",\"Peter Panda\",\"Peter Panda\",\"Peter Panda\",\"Peter Panda\",\"Peter Panda\",\"Peter Panda\",\"Peter Panda\",\"Peter Panda\",\"Peter Panda\",\"Peter Panda\",\"Peter Panda\",\"Peter Panda\",\"Peter Panda\",\"Peter Panda\",\"Peter Panda\",\"Peter Panda\",\"Peter Panda\",\"Peter Panda\",\"Peter Panda\",\"Peter Panda\",\"Peter Panda\",\"Peter Panda\",\"Peter Panda\",\"Peter Panda\",\"Peter Panda\",\"Peter Panda\",\"Peter Panda\",\"Peter Panda\",\"Peter Panda\",\"Peter Panda\",\"Peter Panda\",\"Peter Panda\",\"Peter Panda\",\"Peter Panda\",\"Peter Panda\",\"Peter Panda\",\"Peter Panda\",\"Peter Panda\",\"Peter Panda\",\"Peter Panda\",\"Peter Panda\",\"Peter Panda\",\"Peter Panda\",\"Peter Panda\",\"Peter Panda\",\"Peter Panda\",\"Peter Panda\",\"Peter Panda\",\"Peter Panda\",\"Peter Panda\",\"Peter Panda\",\"Peter Panda\",\"Peter Panda\",\"Peter Panda\",\"Peter Panda\",\"Peter Panda\",\"Peter Panda\",\"Peter Panda\",\"Peter Panda\",\"Peter Panda\",\"Peter Panda\",\"Peter Panda\",\"Peter Panda\",\"Peter Panda\",\"Peter Panda\",\"Peter Panda\",\"Peter Panda\",\"Peter Panda\",\"Peter Panda\",\"Peter Panda\",\"Peter Panda\",\"Peter Panda\",\"Peter Panda\",\"Peter Panda\",\"Peter Panda\",\"Peter Panda\",\"Peter Panda\",\"Peter Panda\",\"Peter Panda\",\"Peter Panda\",\"Peter Panda\",\"Peter Panda\",\"Peter Panda\",\"Peter Panda\",\"Peter Panda\",\"Peter Panda\",\"Peter Panda\",\"Peter Panda\",\"Peter Panda\",\"Peter Panda\",\"Peter Panda\",\"Peter Panda\",\"Peter Panda\",\"Peter Panda\",\"Peter Panda\",\"Peter Panda\",\"Peter Panda\",\"Peter Panda\",\"Peter Panda\",\"Peter Panda\",\"Peter Panda\",\"Peter Panda\",\"Peter Panda\",\"Peter Panda\",\"Peter Panda\",\"Peter Panda\",\"Peter Panda\",\"Peter Panda\",\"Peter Panda\",\"Peter Panda\",\"Peter Panda\",\"Peter Panda\",\"Peter Panda\",\"Peter Panda\",\"Peter Panda\",\"Peter Panda\",\"Peter Panda\",\"Peter Panda\",\"Peter Panda\",\"Peter Panda\",\"Peter Panda\",\"Peter Panda\",\"Peter Panda\",\"Peter Panda\",\"Peter Panda\",\"Peter Panda\",\"Peter Panda\",\"Peter Panda\",\"Peter Panda\",\"Peter Panda\",\"Peter Panda\",\"Peter Panda\",\"Peter Panda\",\"Peter Panda\",\"Peter Panda\",\"Peter Panda\",\"Peter Panda\",\"Peter Panda\",\"Peter Panda\",\"Peter Panda\",\"Peter Panda\",\"Peter Panda\",\"Peter Panda\",\"Peter Panda\",\"Peter Panda\",\"Peter Panda\",\"Peter Panda\",\"Peter Panda\",\"Peter Panda\",\"Peter Panda\",\"Peter Panda\",\"Peter Panda\",\"Peter Panda\",\"Peter Panda\",\"Peter Panda\",\"Peter Panda\",\"Peter Panda\",\"Peter Panda\",\"Peter Panda\",\"Peter Panda\",\"Peter Panda\",\"Peter Panda\",\"Peter Panda\",\"Peter Panda\",\"Peter Panda\",\"Peter Panda\",\"Peter Panda\",\"Peter Panda\",\"Peter Panda\",\"Peter Panda\",\"Peter Panda\",\"Peter Panda\",\"Peter Panda\",\"Peter Panda\",\"Peter Panda\",\"Peter Panda\",\"Peter Panda\",\"Peter Panda\",\"Peter Panda\",\"Peter Panda\",\"Peter Panda\",\"Peter Panda\",\"Peter Panda\",\"Peter Panda\",\"Peter Panda\",\"Peter Panda\",\"Peter Panda\",\"Peter Panda\",\"Peter Panda\",\"Peter Panda\",\"Peter Panda\",\"Peter Panda\",\"Peter Panda\",\"Peter Panda\",\"Peter Panda\",\"Peter Panda\",\"Peter Panda\",\"Peter Panda\",\"Peter Panda\",\"Peter Panda\",\"Peter Panda\",\"Peter Panda\",\"Peter Panda\",\"Peter Panda\",\"Peter Panda\",\"Peter Panda\",\"Peter Panda\",\"Peter Panda\",\"Peter Panda\",\"Peter Panda\",\"Peter Panda\",\"Peter Panda\",\"Peter Panda\",\"Peter Panda\",\"Peter Panda\",\"Peter Panda\",\"Peter Panda\",\"Peter Panda\",\"Peter Panda\",\"Peter Panda\",\"Peter Panda\",\"Peter Panda\",\"Peter Panda\",\"Peter Panda\",\"Peter Panda\",\"Peter Panda\",\"Peter Panda\",\"Peter Panda\",\"Peter Panda\",\"Peter Panda\",\"Peter Panda\",\"Peter Panda\",\"Peter Panda\",\"Peter Panda\",\"Peter Panda\",\"Peter Panda\",\"Peter Panda\",\"Peter Panda\",\"Peter Panda\",\"Peter Panda\",\"Peter Panda\",\"Peter Panda\",\"Peter Panda\",\"Peter Panda\",\"Peter Panda\",\"Peter Panda\",\"Peter Panda\",\"Peter Panda\",\"Peter Panda\",\"Peter Panda\",\"Peter Panda\",\"Peter Panda\",\"Peter Panda\",\"Peter Panda\",\"Peter Panda\",\"Peter Panda\",\"Peter Panda\",\"Peter Panda\",\"Peter Panda\",\"Peter Panda\",\"Peter Panda\",\"Peter Panda\",\"Peter Panda\",\"Peter Panda\",\"Peter Panda\",\"Peter Panda\",\"Peter Panda\",\"Peter Panda\",\"Peter Panda\",\"Peter Panda\",\"Peter Panda\",\"Peter Panda\",\"Peter Panda\",\"Peter Panda\",\"Peter Panda\",\"Peter Panda\",\"Peter Panda\",\"Peter Panda\",\"Peter Panda\",\"Peter Panda\",\"Peter Panda\",\"Peter Panda\",\"Peter Panda\",\"Peter Panda\",\"Peter Panda\",\"Peter Panda\",\"Peter Panda\",\"Peter Panda\",\"Peter Panda\",\"Peter Panda\",\"Peter Panda\",\"Peter Panda\",\"Peter Panda\",\"Peter Panda\",\"Peter Panda\",\"Peter Panda\",\"Peter Panda\",\"Peter Panda\",\"Peter Panda\",\"Peter Panda\",\"Peter Panda\",\"Peter Panda\",\"Peter Panda\",\"Peter Panda\",\"Peter Panda\",\"Peter Panda\",\"Peter Panda\",\"Peter Panda\",\"Peter Panda\",\"Peter Panda\",\"Peter Panda\",\"Peter Panda\",\"Peter Panda\",\"Peter Panda\",\"Peter Panda\",\"Peter Panda\",\"Peter Panda\",\"Peter Panda\",\"Peter Panda\",\"Peter Panda\",\"Peter Panda\",\"Peter Panda\",\"Peter Panda\",\"Peter Panda\",\"Peter Panda\",\"Peter Panda\",\"Peter Panda\",\"Peter Panda\",\"Peter Panda\",\"Peter Panda\",\"Peter Panda\",\"Peter Panda\",\"Peter Panda\",\"Peter Panda\",\"Peter Panda\",\"Peter Panda\",\"Peter Panda\",\"Peter Panda\",\"Peter Panda\",\"Peter Panda\",\"Peter Panda\",\"Peter Panda\",\"Peter Panda\",\"Peter Panda\",\"Peter Panda\",\"Peter Panda\",\"Peter Panda\",\"Peter Panda\",\"Peter Panda\",\"Peter Panda\",\"Peter Panda\",\"Peter Panda\",\"Peter Panda\",\"Peter Panda\",\"Peter Panda\",\"Peter Panda\",\"Peter Panda\",\"Peter Panda\",\"Peter Panda\",\"Peter Panda\",\"Peter Panda\",\"Peter Panda\",\"Peter Panda\",\"Peter Panda\",\"Peter Panda\",\"Peter Panda\",\"Peter Panda\",\"Peter Panda\",\"Peter Panda\",\"Peter Panda\",\"Peter Panda\",\"Peter Panda\",\"Peter Panda\",\"Peter Panda\",\"Peter Panda\",\"Peter Panda\",\"Peter Panda\",\"Peter Panda\",\"Peter Panda\",\"Peter Panda\",\"Peter Panda\",\"Peter Panda\",\"Peter Panda\",\"Peter Panda\",\"Peter Panda\",\"Peter Panda\",\"Peter Panda\",\"Peter Panda\",\"Peter Panda\",\"Peter Panda\",\"Peter Panda\",\"Peter Panda\",\"Peter Panda\",\"Peter Panda\",\"Peter Panda\",\"Peter Panda\",\"Peter Panda\",\"Peter Panda\",\"Peter Panda\",\"Peter Panda\",\"Peter Panda\",\"Peter Panda\",\"Peter Panda\",\"Peter Panda\",\"Peter Panda\",\"Peter Panda\",\"Peter Panda\",\"Peter Panda\",\"Peter Panda\",\"Peter Panda\",\"Peter Panda\",\"Peter Panda\",\"Peter Panda\",\"Peter Panda\",\"Peter Panda\",\"Peter Panda\",\"Peter Panda\",\"Peter Panda\",\"Peter Panda\",\"Peter Panda\",\"Peter Panda\",\"Peter Panda\",\"Peter Panda\",\"Peter Panda\",\"Peter Panda\",\"Peter Panda\",\"Peter Panda\",\"Peter Panda\",\"Peter Panda\",\"Peter Panda\",\"Peter Panda\",\"Peter Panda\",\"Peter Panda\",\"Peter Panda\",\"Peter Panda\",\"Peter Panda\",\"Peter Panda\",\"Peter Panda\",\"Peter Panda\",\"Peter Panda\",\"Peter Panda\",\"Peter Panda\",\"Peter Panda\",\"Peter Panda\",\"Peter Panda\",\"Peter Panda\",\"Peter Panda\",\"Peter Panda\",\"Peter Panda\",\"Peter Panda\",\"Peter Panda\",\"Peter Panda\",\"Peter Panda\",\"Peter Panda\",\"Peter Panda\",\"Peter Panda\",\"Peter Panda\",\"Peter Panda\",\"Peter Panda\",\"Peter Panda\",\"Peter Panda\",\"Peter Panda\",\"Peter Panda\",\"Peter Panda\",\"Peter Panda\",\"Peter Panda\",\"Peter Panda\",\"Peter Panda\",\"Peter Panda\",\"Peter Panda\",\"Peter Panda\",\"Peter Panda\",\"Peter Panda\",\"Peter Panda\",\"Peter Panda\",\"Peter Panda\",\"Peter Panda\",\"Peter Panda\",\"Peter Panda\",\"Peter Panda\",\"Peter Panda\",\"Peter Panda\",\"Peter Panda\",\"Peter Panda\",\"Peter Panda\",\"Peter Panda\",\"Peter Panda\",\"Peter Panda\",\"Peter Panda\",\"Peter Panda\",\"Peter Panda\",\"Peter Panda\",\"Peter Panda\",\"Peter Panda\",\"Peter Panda\",\"Peter Panda\",\"Peter Panda\",\"Peter Panda\",\"Peter Panda\",\"Peter Panda\",\"Peter Panda\",\"Peter Panda\",\"Peter Panda\",\"Peter Panda\",\"Peter Panda\",\"Peter Panda\",\"Peter Panda\",\"Peter Panda\",\"Peter Panda\",\"Peter Panda\",\"Peter Panda\",\"Peter Panda\",\"Peter Panda\",\"Peter Panda\",\"Peter Panda\",\"Peter Panda\",\"Peter Panda\",\"Peter Panda\",\"Peter Panda\",\"Peter Panda\",\"Peter Panda\",\"Peter Panda\",\"Peter Panda\",\"Peter Panda\",\"Peter Panda\",\"Peter Panda\",\"Peter Panda\",\"Peter Panda\",\"Peter Panda\",\"Peter Panda\",\"Peter Panda\",\"Peter Panda\",\"Peter Panda\",\"Peter Panda\",\"Peter Panda\",\"Peter Panda\",\"Peter Panda\",\"Peter Panda\",\"Peter Panda\",\"Peter Panda\",\"Peter Panda\",\"Peter Panda\",\"Peter Panda\",\"Peter Panda\",\"Peter Panda\",\"Peter Panda\",\"Peter Panda\",\"Peter Panda\",\"Peter Panda\",\"Peter Panda\",\"Peter Panda\",\"Peter Panda\",\"Peter Panda\",\"Peter Panda\",\"Peter Panda\",\"Peter Panda\",\"Peter Panda\",\"Peter Panda\",\"Peter Panda\",\"Peter Panda\",\"Peter Panda\",\"Peter Panda\",\"Peter Panda\",\"Peter Panda\",\"Peter Panda\",\"Peter Panda\",\"Peter Panda\",\"Peter Panda\",\"Peter Panda\",\"Peter Panda\",\"Peter Panda\",\"Peter Panda\",\"Peter Panda\",\"Peter Panda\",\"Peter Panda\",\"Peter Panda\",\"Peter Panda\",\"Peter Panda\",\"Peter Panda\",\"Peter Panda\",\"Peter Panda\",\"Peter Panda\",\"Peter Panda\",\"Peter Panda\",\"Peter Panda\",\"Peter Panda\",\"Peter Panda\",\"Peter Panda\",\"Peter Panda\",\"Peter Panda\",\"Peter Panda\",\"Peter Panda\",\"Peter Panda\",\"Peter Panda\",\"Peter Panda\",\"Peter Panda\",\"Peter Panda\",\"Peter Panda\",\"Peter Panda\",\"Peter Panda\",\"Peter Panda\"]]]}}},\"view\":{\"type\":\"object\",\"name\":\"CDSView\",\"id\":\"p1087\",\"attributes\":{\"filter\":{\"type\":\"object\",\"name\":\"AllIndices\",\"id\":\"p1088\"}}},\"glyph\":{\"type\":\"object\",\"name\":\"Scatter\",\"id\":\"p1083\",\"attributes\":{\"tags\":[\"apply_ranges\"],\"x\":{\"type\":\"field\",\"field\":\"timestamp\"},\"y\":{\"type\":\"field\",\"field\":\"blood_glucose\"},\"size\":{\"type\":\"value\",\"value\":5.477225575051661},\"line_color\":{\"type\":\"value\",\"value\":\"#fc4f30\"},\"fill_color\":{\"type\":\"value\",\"value\":\"#fc4f30\"},\"hatch_color\":{\"type\":\"value\",\"value\":\"#fc4f30\"}}},\"selection_glyph\":{\"type\":\"object\",\"name\":\"Scatter\",\"id\":\"p1090\",\"attributes\":{\"tags\":[\"apply_ranges\"],\"x\":{\"type\":\"field\",\"field\":\"timestamp\"},\"y\":{\"type\":\"field\",\"field\":\"blood_glucose\"},\"size\":{\"type\":\"value\",\"value\":5.477225575051661},\"angle\":{\"type\":\"value\",\"value\":0.0},\"line_color\":{\"type\":\"value\",\"value\":\"#fc4f30\"},\"line_alpha\":{\"type\":\"value\",\"value\":1.0},\"line_width\":{\"type\":\"value\",\"value\":1},\"line_join\":{\"type\":\"value\",\"value\":\"bevel\"},\"line_cap\":{\"type\":\"value\",\"value\":\"butt\"},\"line_dash\":{\"type\":\"value\",\"value\":[]},\"line_dash_offset\":{\"type\":\"value\",\"value\":0},\"fill_color\":{\"type\":\"value\",\"value\":\"#fc4f30\"},\"fill_alpha\":{\"type\":\"value\",\"value\":1.0},\"hatch_color\":{\"type\":\"value\",\"value\":\"#fc4f30\"},\"hatch_alpha\":{\"type\":\"value\",\"value\":1.0},\"hatch_scale\":{\"type\":\"value\",\"value\":12.0},\"hatch_pattern\":{\"type\":\"value\",\"value\":null},\"hatch_weight\":{\"type\":\"value\",\"value\":1.0},\"marker\":{\"type\":\"value\",\"value\":\"circle\"}}},\"nonselection_glyph\":{\"type\":\"object\",\"name\":\"Scatter\",\"id\":\"p1084\",\"attributes\":{\"tags\":[\"apply_ranges\"],\"x\":{\"type\":\"field\",\"field\":\"timestamp\"},\"y\":{\"type\":\"field\",\"field\":\"blood_glucose\"},\"size\":{\"type\":\"value\",\"value\":5.477225575051661},\"line_color\":{\"type\":\"value\",\"value\":\"#fc4f30\"},\"line_alpha\":{\"type\":\"value\",\"value\":0.1},\"fill_color\":{\"type\":\"value\",\"value\":\"#fc4f30\"},\"fill_alpha\":{\"type\":\"value\",\"value\":0.1},\"hatch_color\":{\"type\":\"value\",\"value\":\"#fc4f30\"},\"hatch_alpha\":{\"type\":\"value\",\"value\":0.1}}},\"muted_glyph\":{\"type\":\"object\",\"name\":\"Scatter\",\"id\":\"p1085\",\"attributes\":{\"tags\":[\"apply_ranges\"],\"x\":{\"type\":\"field\",\"field\":\"timestamp\"},\"y\":{\"type\":\"field\",\"field\":\"blood_glucose\"},\"size\":{\"type\":\"value\",\"value\":5.477225575051661},\"line_color\":{\"type\":\"value\",\"value\":\"#fc4f30\"},\"line_alpha\":{\"type\":\"value\",\"value\":0.2},\"fill_color\":{\"type\":\"value\",\"value\":\"#fc4f30\"},\"fill_alpha\":{\"type\":\"value\",\"value\":0.2},\"hatch_color\":{\"type\":\"value\",\"value\":\"#fc4f30\"},\"hatch_alpha\":{\"type\":\"value\",\"value\":0.2}}}}}],\"toolbar\":{\"type\":\"object\",\"name\":\"Toolbar\",\"id\":\"p1028\",\"attributes\":{\"tools\":[{\"type\":\"object\",\"name\":\"WheelZoomTool\",\"id\":\"p1014\",\"attributes\":{\"tags\":[\"hv_created\"],\"renderers\":\"auto\",\"zoom_together\":\"none\"}},{\"type\":\"object\",\"name\":\"HoverTool\",\"id\":\"p1015\",\"attributes\":{\"tags\":[\"hv_created\"],\"renderers\":[{\"id\":\"p1071\"},{\"id\":\"p1086\"}],\"tooltips\":[[\"name\",\"@{name}\"],[\"timestamp\",\"@{timestamp}{%F %T}\"],[\"blood_glucose\",\"@{blood_glucose}\"]],\"formatters\":{\"type\":\"map\",\"entries\":[[\"@{timestamp}\",\"datetime\"]]}}},{\"type\":\"object\",\"name\":\"SaveTool\",\"id\":\"p1053\"},{\"type\":\"object\",\"name\":\"PanTool\",\"id\":\"p1054\"},{\"type\":\"object\",\"name\":\"BoxZoomTool\",\"id\":\"p1055\",\"attributes\":{\"overlay\":{\"type\":\"object\",\"name\":\"BoxAnnotation\",\"id\":\"p1056\",\"attributes\":{\"syncable\":false,\"level\":\"overlay\",\"visible\":false,\"left\":{\"type\":\"number\",\"value\":\"nan\"},\"right\":{\"type\":\"number\",\"value\":\"nan\"},\"top\":{\"type\":\"number\",\"value\":\"nan\"},\"bottom\":{\"type\":\"number\",\"value\":\"nan\"},\"left_units\":\"canvas\",\"right_units\":\"canvas\",\"top_units\":\"canvas\",\"bottom_units\":\"canvas\",\"line_color\":\"black\",\"line_alpha\":1.0,\"line_width\":2,\"line_dash\":[4,4],\"fill_color\":\"lightgrey\",\"fill_alpha\":0.5}}}},{\"type\":\"object\",\"name\":\"ResetTool\",\"id\":\"p1061\"}],\"active_drag\":{\"id\":\"p1054\"},\"active_scroll\":{\"id\":\"p1014\"}}},\"left\":[{\"type\":\"object\",\"name\":\"LinearAxis\",\"id\":\"p1048\",\"attributes\":{\"ticker\":{\"type\":\"object\",\"name\":\"BasicTicker\",\"id\":\"p1049\",\"attributes\":{\"mantissas\":[1,2,5]}},\"formatter\":{\"type\":\"object\",\"name\":\"BasicTickFormatter\",\"id\":\"p1050\"},\"axis_label\":\"blood_glucose\",\"major_label_policy\":{\"type\":\"object\",\"name\":\"AllLabels\",\"id\":\"p1051\"}}}],\"right\":[{\"type\":\"object\",\"name\":\"Legend\",\"id\":\"p1074\",\"attributes\":{\"location\":[0,0],\"title\":\"name\",\"click_policy\":\"mute\",\"items\":[{\"type\":\"object\",\"name\":\"LegendItem\",\"id\":\"p1075\",\"attributes\":{\"label\":{\"type\":\"value\",\"value\":\"Blizzard Bob\"},\"renderers\":[{\"id\":\"p1071\"}]}},{\"type\":\"object\",\"name\":\"LegendItem\",\"id\":\"p1089\",\"attributes\":{\"label\":{\"type\":\"value\",\"value\":\"Peter Panda\"},\"renderers\":[{\"id\":\"p1086\"}]}}]}}],\"below\":[{\"type\":\"object\",\"name\":\"DatetimeAxis\",\"id\":\"p1031\",\"attributes\":{\"ticker\":{\"type\":\"object\",\"name\":\"DatetimeTicker\",\"id\":\"p1032\",\"attributes\":{\"num_minor_ticks\":5,\"tickers\":[{\"type\":\"object\",\"name\":\"AdaptiveTicker\",\"id\":\"p1033\",\"attributes\":{\"num_minor_ticks\":0,\"mantissas\":[1,2,5],\"max_interval\":500.0}},{\"type\":\"object\",\"name\":\"AdaptiveTicker\",\"id\":\"p1034\",\"attributes\":{\"num_minor_ticks\":0,\"base\":60,\"mantissas\":[1,2,5,10,15,20,30],\"min_interval\":1000.0,\"max_interval\":1800000.0}},{\"type\":\"object\",\"name\":\"AdaptiveTicker\",\"id\":\"p1035\",\"attributes\":{\"num_minor_ticks\":0,\"base\":24,\"mantissas\":[1,2,4,6,8,12],\"min_interval\":3600000.0,\"max_interval\":43200000.0}},{\"type\":\"object\",\"name\":\"DaysTicker\",\"id\":\"p1036\",\"attributes\":{\"days\":[1,2,3,4,5,6,7,8,9,10,11,12,13,14,15,16,17,18,19,20,21,22,23,24,25,26,27,28,29,30,31]}},{\"type\":\"object\",\"name\":\"DaysTicker\",\"id\":\"p1037\",\"attributes\":{\"days\":[1,4,7,10,13,16,19,22,25,28]}},{\"type\":\"object\",\"name\":\"DaysTicker\",\"id\":\"p1038\",\"attributes\":{\"days\":[1,8,15,22]}},{\"type\":\"object\",\"name\":\"DaysTicker\",\"id\":\"p1039\",\"attributes\":{\"days\":[1,15]}},{\"type\":\"object\",\"name\":\"MonthsTicker\",\"id\":\"p1040\",\"attributes\":{\"months\":[0,1,2,3,4,5,6,7,8,9,10,11]}},{\"type\":\"object\",\"name\":\"MonthsTicker\",\"id\":\"p1041\",\"attributes\":{\"months\":[0,2,4,6,8,10]}},{\"type\":\"object\",\"name\":\"MonthsTicker\",\"id\":\"p1042\",\"attributes\":{\"months\":[0,4,8]}},{\"type\":\"object\",\"name\":\"MonthsTicker\",\"id\":\"p1043\",\"attributes\":{\"months\":[0,6]}},{\"type\":\"object\",\"name\":\"YearsTicker\",\"id\":\"p1044\"}]}},\"formatter\":{\"type\":\"object\",\"name\":\"DatetimeTickFormatter\",\"id\":\"p1045\"},\"axis_label\":\"timestamp\",\"major_label_policy\":{\"type\":\"object\",\"name\":\"AllLabels\",\"id\":\"p1046\"}}}],\"center\":[{\"type\":\"object\",\"name\":\"Grid\",\"id\":\"p1047\",\"attributes\":{\"axis\":{\"id\":\"p1031\"},\"grid_line_color\":null}},{\"type\":\"object\",\"name\":\"Grid\",\"id\":\"p1052\",\"attributes\":{\"dimension\":1,\"axis\":{\"id\":\"p1048\"},\"grid_line_color\":null}}],\"min_border_top\":10,\"min_border_bottom\":10,\"min_border_left\":10,\"min_border_right\":10,\"output_backend\":\"webgl\"}},{\"type\":\"object\",\"name\":\"Spacer\",\"id\":\"p1092\",\"attributes\":{\"name\":\"HSpacer00974\",\"stylesheets\":[\"\\n:host(.pn-loading):before, .pn-loading:before {\\n  background-color: #c3c3c3;\\n  mask-size: auto calc(min(50%, 400px));\\n  -webkit-mask-size: auto calc(min(50%, 400px));\\n}\",{\"id\":\"p1007\"},{\"id\":\"p1005\"},{\"id\":\"p1006\"}],\"margin\":0,\"sizing_mode\":\"stretch_width\",\"align\":\"start\"}}]}}],\"defs\":[{\"type\":\"model\",\"name\":\"ReactiveHTML1\"},{\"type\":\"model\",\"name\":\"FlexBox1\",\"properties\":[{\"name\":\"align_content\",\"kind\":\"Any\",\"default\":\"flex-start\"},{\"name\":\"align_items\",\"kind\":\"Any\",\"default\":\"flex-start\"},{\"name\":\"flex_direction\",\"kind\":\"Any\",\"default\":\"row\"},{\"name\":\"flex_wrap\",\"kind\":\"Any\",\"default\":\"wrap\"},{\"name\":\"gap\",\"kind\":\"Any\",\"default\":\"\"},{\"name\":\"justify_content\",\"kind\":\"Any\",\"default\":\"flex-start\"}]},{\"type\":\"model\",\"name\":\"FloatPanel1\",\"properties\":[{\"name\":\"config\",\"kind\":\"Any\",\"default\":{\"type\":\"map\"}},{\"name\":\"contained\",\"kind\":\"Any\",\"default\":true},{\"name\":\"position\",\"kind\":\"Any\",\"default\":\"right-top\"},{\"name\":\"offsetx\",\"kind\":\"Any\",\"default\":null},{\"name\":\"offsety\",\"kind\":\"Any\",\"default\":null},{\"name\":\"theme\",\"kind\":\"Any\",\"default\":\"primary\"},{\"name\":\"status\",\"kind\":\"Any\",\"default\":\"normalized\"}]},{\"type\":\"model\",\"name\":\"GridStack1\",\"properties\":[{\"name\":\"mode\",\"kind\":\"Any\",\"default\":\"warn\"},{\"name\":\"ncols\",\"kind\":\"Any\",\"default\":null},{\"name\":\"nrows\",\"kind\":\"Any\",\"default\":null},{\"name\":\"allow_resize\",\"kind\":\"Any\",\"default\":true},{\"name\":\"allow_drag\",\"kind\":\"Any\",\"default\":true},{\"name\":\"state\",\"kind\":\"Any\",\"default\":[]}]},{\"type\":\"model\",\"name\":\"drag1\",\"properties\":[{\"name\":\"slider_width\",\"kind\":\"Any\",\"default\":5},{\"name\":\"slider_color\",\"kind\":\"Any\",\"default\":\"black\"},{\"name\":\"value\",\"kind\":\"Any\",\"default\":50}]},{\"type\":\"model\",\"name\":\"click1\",\"properties\":[{\"name\":\"terminal_output\",\"kind\":\"Any\",\"default\":\"\"},{\"name\":\"debug_name\",\"kind\":\"Any\",\"default\":\"\"},{\"name\":\"clears\",\"kind\":\"Any\",\"default\":0}]},{\"type\":\"model\",\"name\":\"FastWrapper1\",\"properties\":[{\"name\":\"object\",\"kind\":\"Any\",\"default\":null},{\"name\":\"style\",\"kind\":\"Any\",\"default\":null}]},{\"type\":\"model\",\"name\":\"NotificationAreaBase1\",\"properties\":[{\"name\":\"js_events\",\"kind\":\"Any\",\"default\":{\"type\":\"map\"}},{\"name\":\"position\",\"kind\":\"Any\",\"default\":\"bottom-right\"},{\"name\":\"_clear\",\"kind\":\"Any\",\"default\":0}]},{\"type\":\"model\",\"name\":\"NotificationArea1\",\"properties\":[{\"name\":\"js_events\",\"kind\":\"Any\",\"default\":{\"type\":\"map\"}},{\"name\":\"notifications\",\"kind\":\"Any\",\"default\":[]},{\"name\":\"position\",\"kind\":\"Any\",\"default\":\"bottom-right\"},{\"name\":\"_clear\",\"kind\":\"Any\",\"default\":0},{\"name\":\"types\",\"kind\":\"Any\",\"default\":[{\"type\":\"map\",\"entries\":[[\"type\",\"warning\"],[\"background\",\"#ffc107\"],[\"icon\",{\"type\":\"map\",\"entries\":[[\"className\",\"fas fa-exclamation-triangle\"],[\"tagName\",\"i\"],[\"color\",\"white\"]]}]]},{\"type\":\"map\",\"entries\":[[\"type\",\"info\"],[\"background\",\"#007bff\"],[\"icon\",{\"type\":\"map\",\"entries\":[[\"className\",\"fas fa-info-circle\"],[\"tagName\",\"i\"],[\"color\",\"white\"]]}]]}]}]},{\"type\":\"model\",\"name\":\"Notification\",\"properties\":[{\"name\":\"background\",\"kind\":\"Any\",\"default\":null},{\"name\":\"duration\",\"kind\":\"Any\",\"default\":3000},{\"name\":\"icon\",\"kind\":\"Any\",\"default\":null},{\"name\":\"message\",\"kind\":\"Any\",\"default\":\"\"},{\"name\":\"notification_type\",\"kind\":\"Any\",\"default\":null},{\"name\":\"_destroyed\",\"kind\":\"Any\",\"default\":false}]},{\"type\":\"model\",\"name\":\"TemplateActions1\",\"properties\":[{\"name\":\"open_modal\",\"kind\":\"Any\",\"default\":0},{\"name\":\"close_modal\",\"kind\":\"Any\",\"default\":0}]},{\"type\":\"model\",\"name\":\"BootstrapTemplateActions1\",\"properties\":[{\"name\":\"open_modal\",\"kind\":\"Any\",\"default\":0},{\"name\":\"close_modal\",\"kind\":\"Any\",\"default\":0}]},{\"type\":\"model\",\"name\":\"TemplateEditor1\",\"properties\":[{\"name\":\"layout\",\"kind\":\"Any\",\"default\":[]}]},{\"type\":\"model\",\"name\":\"MaterialTemplateActions1\",\"properties\":[{\"name\":\"open_modal\",\"kind\":\"Any\",\"default\":0},{\"name\":\"close_modal\",\"kind\":\"Any\",\"default\":0}]},{\"type\":\"model\",\"name\":\"copy_to_clipboard1\",\"properties\":[{\"name\":\"fill\",\"kind\":\"Any\",\"default\":\"none\"},{\"name\":\"value\",\"kind\":\"Any\",\"default\":null}]}]}};\n",
       "  var render_items = [{\"docid\":\"9a95f738-de09-4e22-9e2c-03c7dd198432\",\"roots\":{\"p1004\":\"cb7e5c8a-af39-4526-a789-71aff18a3e85\"},\"root_ids\":[\"p1004\"]}];\n",
       "  var docs = Object.values(docs_json)\n",
       "  if (!docs) {\n",
       "    return\n",
       "  }\n",
       "  const py_version = docs[0].version.replace('rc', '-rc.').replace('.dev', '-dev.')\n",
       "  function embed_document(root) {\n",
       "    var Bokeh = get_bokeh(root)\n",
       "    Bokeh.embed.embed_items_notebook(docs_json, render_items);\n",
       "    for (const render_item of render_items) {\n",
       "      for (const root_id of render_item.root_ids) {\n",
       "\tconst id_el = document.getElementById(root_id)\n",
       "\tif (id_el.children.length && (id_el.children[0].className === 'bk-root')) {\n",
       "\t  const root_el = id_el.children[0]\n",
       "\t  root_el.id = root_el.id + '-rendered'\n",
       "\t}\n",
       "      }\n",
       "    }\n",
       "  }\n",
       "  function get_bokeh(root) {\n",
       "    if (root.Bokeh === undefined) {\n",
       "      return null\n",
       "    } else if (root.Bokeh.version !== py_version) {\n",
       "      if (root.Bokeh.versions === undefined || !root.Bokeh.versions.has(py_version)) {\n",
       "\treturn null\n",
       "      }\n",
       "      return root.Bokeh.versions.get(py_version);\n",
       "    } else if (root.Bokeh.version === py_version) {\n",
       "      return root.Bokeh\n",
       "    }\n",
       "    return null\n",
       "  }\n",
       "  function is_loaded(root) {\n",
       "    var Bokeh = get_bokeh(root)\n",
       "    return (Bokeh != null && Bokeh.Panel !== undefined)\n",
       "  }\n",
       "  if (is_loaded(root)) {\n",
       "    embed_document(root);\n",
       "  } else {\n",
       "    var attempts = 0;\n",
       "    var timer = setInterval(function(root) {\n",
       "      if (is_loaded(root)) {\n",
       "        clearInterval(timer);\n",
       "        embed_document(root);\n",
       "      } else if (document.readyState == \"complete\") {\n",
       "        attempts++;\n",
       "        if (attempts > 200) {\n",
       "          clearInterval(timer);\n",
       "\t  var Bokeh = get_bokeh(root)\n",
       "\t  if (Bokeh == null || Bokeh.Panel == null) {\n",
       "            console.warn(\"Panel: ERROR: Unable to run Panel code because Bokeh or Panel library is missing\");\n",
       "\t  } else {\n",
       "\t    console.warn(\"Panel: WARNING: Attempting to render but not all required libraries could be resolved.\")\n",
       "\t    embed_document(root)\n",
       "\t  }\n",
       "        }\n",
       "      }\n",
       "    }, 25, root)\n",
       "  }\n",
       "})(window);</script>"
      ],
      "text/plain": [
       ":NdOverlay   [name]\n",
       "   :Scatter   [timestamp]   (blood_glucose)"
      ]
     },
     "execution_count": 13,
     "metadata": {
      "application/vnd.holoviews_exec.v0+json": {
       "id": "p1004"
      }
     },
     "output_type": "execute_result"
    }
   ],
   "source": [
    "measurements.select(\"name\", \"timestamp\", \"blood_glucose\").group_by_dynamic(\n",
    "    index_column=\"timestamp\", every=\"1d\", period=\"1d\", group_by=\"name\"\n",
    ").agg(pl.col(\"blood_glucose\").mean()).filter(\n",
    "    pl.col(\"name\").is_in([\"Blizzard Bob\", \"Peter Panda\"]), pl.col(\"blood_glucose\") > 190\n",
    ").plot.scatter(\n",
    "    x=\"timestamp\", y=\"blood_glucose\", by=\"name\"\n",
    ")"
   ]
  },
  {
   "cell_type": "markdown",
   "metadata": {},
   "source": [
    "# Joins\n",
    "\n",
    "Which vet diagnosed most sick polar bears?"
   ]
  },
  {
   "cell_type": "code",
   "execution_count": 14,
   "metadata": {},
   "outputs": [
    {
     "data": {
      "text/html": [
       "<div><style>\n",
       ".dataframe > thead > tr,\n",
       ".dataframe > tbody > tr {\n",
       "  text-align: right;\n",
       "  white-space: pre-wrap;\n",
       "}\n",
       "</style>\n",
       "<small>shape: (5, 2)</small><table border=\"1\" class=\"dataframe\"><thead><tr><th>vet</th><th>name</th></tr><tr><td>i8</td><td>str</td></tr></thead><tbody><tr><td>1</td><td>&quot;Zooey Codewell&quot;</td></tr><tr><td>2</td><td>&quot;Script Safari&quot;</td></tr><tr><td>3</td><td>&quot;Debug Dino&quot;</td></tr><tr><td>4</td><td>&quot;Pixel Paws&quot;</td></tr><tr><td>5</td><td>&quot;Byte Lyon&quot;</td></tr></tbody></table></div>"
      ],
      "text/plain": [
       "shape: (5, 2)\n",
       "┌─────┬────────────────┐\n",
       "│ vet ┆ name           │\n",
       "│ --- ┆ ---            │\n",
       "│ i8  ┆ str            │\n",
       "╞═════╪════════════════╡\n",
       "│ 1   ┆ Zooey Codewell │\n",
       "│ 2   ┆ Script Safari  │\n",
       "│ 3   ┆ Debug Dino     │\n",
       "│ 4   ┆ Pixel Paws     │\n",
       "│ 5   ┆ Byte Lyon      │\n",
       "└─────┴────────────────┘"
      ]
     },
     "execution_count": 14,
     "metadata": {},
     "output_type": "execute_result"
    }
   ],
   "source": [
    "dim_vet = pl.read_parquet(\"data/dim_vet.parquet\").select(pl.all().shrink_dtype())\n",
    "dim_vet"
   ]
  },
  {
   "cell_type": "code",
   "execution_count": 15,
   "metadata": {},
   "outputs": [
    {
     "data": {
      "text/html": [
       "<div><style>\n",
       ".dataframe > thead > tr,\n",
       ".dataframe > tbody > tr {\n",
       "  text-align: right;\n",
       "  white-space: pre-wrap;\n",
       "}\n",
       "</style>\n",
       "<small>shape: (0, 2)</small><table border=\"1\" class=\"dataframe\"><thead><tr><th>len</th><th>name</th></tr><tr><td>u32</td><td>str</td></tr></thead><tbody></tbody></table></div>"
      ],
      "text/plain": [
       "shape: (0, 2)\n",
       "┌─────┬──────┐\n",
       "│ len ┆ name │\n",
       "│ --- ┆ ---  │\n",
       "│ u32 ┆ str  │\n",
       "╞═════╪══════╡\n",
       "└─────┴──────┘"
      ]
     },
     "execution_count": 15,
     "metadata": {},
     "output_type": "execute_result"
    }
   ],
   "source": [
    "batch_measurements.join(\n",
    "    other=dim_vet.filter(name=\"Pixel Paw\"), on=\"vet\", how=\"inner\"\n",
    ").filter(vet_health_check=\"SICK\").group_by(\"vet\").agg(pl.len()).join(\n",
    "    other=dim_vet, on=\"vet\", how=\"left\"\n",
    ").drop(\"vet\").sort(\"len\", descending=True)"
   ]
  },
  {
   "cell_type": "code",
   "execution_count": 16,
   "metadata": {},
   "outputs": [
    {
     "data": {
      "text/html": [
       "<div><style>\n",
       ".dataframe > thead > tr,\n",
       ".dataframe > tbody > tr {\n",
       "  text-align: right;\n",
       "  white-space: pre-wrap;\n",
       "}\n",
       "</style>\n",
       "<small>shape: (3, 2)</small><table border=\"1\" class=\"dataframe\"><thead><tr><th>vet</th><th>name</th></tr><tr><td>i8</td><td>str</td></tr></thead><tbody><tr><td>2</td><td>&quot;Script Safari&quot;</td></tr><tr><td>3</td><td>&quot;Debug Dino&quot;</td></tr><tr><td>4</td><td>&quot;Pixel Paws&quot;</td></tr></tbody></table></div>"
      ],
      "text/plain": [
       "shape: (3, 2)\n",
       "┌─────┬───────────────┐\n",
       "│ vet ┆ name          │\n",
       "│ --- ┆ ---           │\n",
       "│ i8  ┆ str           │\n",
       "╞═════╪═══════════════╡\n",
       "│ 2   ┆ Script Safari │\n",
       "│ 3   ┆ Debug Dino    │\n",
       "│ 4   ┆ Pixel Paws    │\n",
       "└─────┴───────────────┘"
      ]
     },
     "execution_count": 16,
     "metadata": {},
     "output_type": "execute_result"
    }
   ],
   "source": [
    "dim_vet.join(\n",
    "    other=batch_measurements.filter(\n",
    "        pl.col(\"weight\") > pl.col(\"weight\").quantile(0.999)\n",
    "    ),\n",
    "    on=\"vet\",\n",
    "    how=\"anti\",\n",
    ")"
   ]
  },
  {
   "cell_type": "markdown",
   "metadata": {},
   "source": [
    "Which vet was the least consistent in name capitalization?"
   ]
  },
  {
   "cell_type": "code",
   "execution_count": 17,
   "metadata": {},
   "outputs": [
    {
     "data": {
      "text/html": [
       "<div><style>\n",
       ".dataframe > thead > tr,\n",
       ".dataframe > tbody > tr {\n",
       "  text-align: right;\n",
       "  white-space: pre-wrap;\n",
       "}\n",
       "</style>\n",
       "<small>shape: (5, 2)</small><table border=\"1\" class=\"dataframe\"><thead><tr><th>is_misspelt</th><th>name</th></tr><tr><td>f64</td><td>str</td></tr></thead><tbody><tr><td>0.535022</td><td>&quot;Byte Lyon&quot;</td></tr><tr><td>0.191291</td><td>&quot;Pixel Paws&quot;</td></tr><tr><td>0.101025</td><td>&quot;Script Safari&quot;</td></tr><tr><td>0.0</td><td>&quot;Debug Dino&quot;</td></tr><tr><td>0.0</td><td>&quot;Zooey Codewell&quot;</td></tr></tbody></table></div>"
      ],
      "text/plain": [
       "shape: (5, 2)\n",
       "┌─────────────┬────────────────┐\n",
       "│ is_misspelt ┆ name           │\n",
       "│ ---         ┆ ---            │\n",
       "│ f64         ┆ str            │\n",
       "╞═════════════╪════════════════╡\n",
       "│ 0.535022    ┆ Byte Lyon      │\n",
       "│ 0.191291    ┆ Pixel Paws     │\n",
       "│ 0.101025    ┆ Script Safari  │\n",
       "│ 0.0         ┆ Debug Dino     │\n",
       "│ 0.0         ┆ Zooey Codewell │\n",
       "└─────────────┴────────────────┘"
      ]
     },
     "execution_count": 17,
     "metadata": {},
     "output_type": "execute_result"
    }
   ],
   "source": [
    "batch_measurements.select(\"name\", \"vet\").with_columns(\n",
    "    (pl.col(\"name\") == pl.col(\"name\").str.to_uppercase()).alias(\"is_misspelt\")\n",
    ").group_by(\"vet\").agg(pl.col(\"is_misspelt\").sum() / pl.len()).join(\n",
    "    other=dim_vet, on=\"vet\", how=\"left\"\n",
    ").drop(\"vet\").sort(\"is_misspelt\", descending=True)"
   ]
  },
  {
   "cell_type": "markdown",
   "metadata": {},
   "source": [
    "Which day had the lowest bear-to-visitor ratio?"
   ]
  },
  {
   "cell_type": "code",
   "execution_count": 25,
   "metadata": {},
   "outputs": [
    {
     "data": {
      "text/html": [
       "<div><style>\n",
       ".dataframe > thead > tr,\n",
       ".dataframe > tbody > tr {\n",
       "  text-align: right;\n",
       "  white-space: pre-wrap;\n",
       "}\n",
       "</style>\n",
       "<small>shape: (1_459, 2)</small><table border=\"1\" class=\"dataframe\"><thead><tr><th>timestamp</th><th>visitors</th></tr><tr><td>datetime[μs]</td><td>i16</td></tr></thead><tbody><tr><td>2020-04-20 18:00:00</td><td>2176</td></tr><tr><td>2020-04-21 18:00:00</td><td>2247</td></tr><tr><td>2020-04-22 18:00:00</td><td>2134</td></tr><tr><td>2020-04-23 18:00:00</td><td>2223</td></tr><tr><td>2020-04-24 18:00:00</td><td>2132</td></tr><tr><td>&hellip;</td><td>&hellip;</td></tr><tr><td>2024-04-13 18:00:00</td><td>2725</td></tr><tr><td>2024-04-14 18:00:00</td><td>2576</td></tr><tr><td>2024-04-15 18:00:00</td><td>2037</td></tr><tr><td>2024-04-16 18:00:00</td><td>2147</td></tr><tr><td>2024-04-17 18:00:00</td><td>2156</td></tr></tbody></table></div>"
      ],
      "text/plain": [
       "shape: (1_459, 2)\n",
       "┌─────────────────────┬──────────┐\n",
       "│ timestamp           ┆ visitors │\n",
       "│ ---                 ┆ ---      │\n",
       "│ datetime[μs]        ┆ i16      │\n",
       "╞═════════════════════╪══════════╡\n",
       "│ 2020-04-20 18:00:00 ┆ 2176     │\n",
       "│ 2020-04-21 18:00:00 ┆ 2247     │\n",
       "│ 2020-04-22 18:00:00 ┆ 2134     │\n",
       "│ 2020-04-23 18:00:00 ┆ 2223     │\n",
       "│ 2020-04-24 18:00:00 ┆ 2132     │\n",
       "│ …                   ┆ …        │\n",
       "│ 2024-04-13 18:00:00 ┆ 2725     │\n",
       "│ 2024-04-14 18:00:00 ┆ 2576     │\n",
       "│ 2024-04-15 18:00:00 ┆ 2037     │\n",
       "│ 2024-04-16 18:00:00 ┆ 2147     │\n",
       "│ 2024-04-17 18:00:00 ┆ 2156     │\n",
       "└─────────────────────┴──────────┘"
      ]
     },
     "execution_count": 25,
     "metadata": {},
     "output_type": "execute_result"
    }
   ],
   "source": [
    "visitors = pl.read_parquet(\"data/visitors.parquet\").sort(\"timestamp\")\n",
    "visitors"
   ]
  },
  {
   "cell_type": "code",
   "execution_count": 23,
   "metadata": {},
   "outputs": [
    {
     "data": {
      "text/html": [
       "<div><style>\n",
       ".dataframe > thead > tr,\n",
       ".dataframe > tbody > tr {\n",
       "  text-align: right;\n",
       "  white-space: pre-wrap;\n",
       "}\n",
       "</style>\n",
       "<small>shape: (591, 2)</small><table border=\"1\" class=\"dataframe\"><thead><tr><th>timestamp</th><th>bears</th></tr><tr><td>datetime[μs]</td><td>u32</td></tr></thead><tbody><tr><td>2020-04-20 06:15:00</td><td>1</td></tr><tr><td>2020-04-22 06:15:00</td><td>1</td></tr><tr><td>2020-04-24 06:15:00</td><td>2</td></tr><tr><td>2020-04-26 06:15:00</td><td>1</td></tr><tr><td>2020-05-02 06:15:00</td><td>1</td></tr><tr><td>&hellip;</td><td>&hellip;</td></tr><tr><td>2024-04-09 06:15:00</td><td>2</td></tr><tr><td>2024-04-11 06:15:00</td><td>2</td></tr><tr><td>2024-04-13 06:15:00</td><td>3</td></tr><tr><td>2024-04-15 06:15:00</td><td>3</td></tr><tr><td>2024-04-17 06:15:00</td><td>1</td></tr></tbody></table></div>"
      ],
      "text/plain": [
       "shape: (591, 2)\n",
       "┌─────────────────────┬───────┐\n",
       "│ timestamp           ┆ bears │\n",
       "│ ---                 ┆ ---   │\n",
       "│ datetime[μs]        ┆ u32   │\n",
       "╞═════════════════════╪═══════╡\n",
       "│ 2020-04-20 06:15:00 ┆ 1     │\n",
       "│ 2020-04-22 06:15:00 ┆ 1     │\n",
       "│ 2020-04-24 06:15:00 ┆ 2     │\n",
       "│ 2020-04-26 06:15:00 ┆ 1     │\n",
       "│ 2020-05-02 06:15:00 ┆ 1     │\n",
       "│ …                   ┆ …     │\n",
       "│ 2024-04-09 06:15:00 ┆ 2     │\n",
       "│ 2024-04-11 06:15:00 ┆ 2     │\n",
       "│ 2024-04-13 06:15:00 ┆ 3     │\n",
       "│ 2024-04-15 06:15:00 ┆ 3     │\n",
       "│ 2024-04-17 06:15:00 ┆ 1     │\n",
       "└─────────────────────┴───────┘"
      ]
     },
     "execution_count": 23,
     "metadata": {},
     "output_type": "execute_result"
    }
   ],
   "source": [
    "visible_bears_per_day = batch_measurements.filter(vet_health_check=\"HEALTHY\").group_by(\"timestamp\").len(\n",
    "    name=\"bears\"\n",
    ").sort(\"timestamp\")\n",
    "visible_bears_per_day"
   ]
  },
  {
   "cell_type": "code",
   "execution_count": 28,
   "metadata": {},
   "outputs": [
    {
     "data": {
      "text/html": [
       "<div><style>\n",
       ".dataframe > thead > tr,\n",
       ".dataframe > tbody > tr {\n",
       "  text-align: right;\n",
       "  white-space: pre-wrap;\n",
       "}\n",
       "</style>\n",
       "<small>shape: (1_459, 4)</small><table border=\"1\" class=\"dataframe\"><thead><tr><th>timestamp</th><th>visitors</th><th>bears</th><th>ratio</th></tr><tr><td>datetime[μs]</td><td>i16</td><td>u32</td><td>f64</td></tr></thead><tbody><tr><td>2023-04-09 18:00:00</td><td>2798</td><td>1</td><td>0.000357</td></tr><tr><td>2023-06-04 18:00:00</td><td>2796</td><td>1</td><td>0.000358</td></tr><tr><td>2022-12-11 18:00:00</td><td>2795</td><td>1</td><td>0.000358</td></tr><tr><td>2021-12-04 18:00:00</td><td>2793</td><td>1</td><td>0.000358</td></tr><tr><td>2022-09-04 18:00:00</td><td>2790</td><td>1</td><td>0.000358</td></tr><tr><td>&hellip;</td><td>&hellip;</td><td>&hellip;</td><td>&hellip;</td></tr><tr><td>2021-11-09 18:00:00</td><td>2180</td><td>4</td><td>0.001835</td></tr><tr><td>2020-09-29 18:00:00</td><td>2134</td><td>4</td><td>0.001874</td></tr><tr><td>2021-11-10 18:00:00</td><td>2112</td><td>4</td><td>0.001894</td></tr><tr><td>2024-01-01 18:00:00</td><td>2085</td><td>4</td><td>0.001918</td></tr><tr><td>2023-12-08 18:00:00</td><td>2002</td><td>4</td><td>0.001998</td></tr></tbody></table></div>"
      ],
      "text/plain": [
       "shape: (1_459, 4)\n",
       "┌─────────────────────┬──────────┬───────┬──────────┐\n",
       "│ timestamp           ┆ visitors ┆ bears ┆ ratio    │\n",
       "│ ---                 ┆ ---      ┆ ---   ┆ ---      │\n",
       "│ datetime[μs]        ┆ i16      ┆ u32   ┆ f64      │\n",
       "╞═════════════════════╪══════════╪═══════╪══════════╡\n",
       "│ 2023-04-09 18:00:00 ┆ 2798     ┆ 1     ┆ 0.000357 │\n",
       "│ 2023-06-04 18:00:00 ┆ 2796     ┆ 1     ┆ 0.000358 │\n",
       "│ 2022-12-11 18:00:00 ┆ 2795     ┆ 1     ┆ 0.000358 │\n",
       "│ 2021-12-04 18:00:00 ┆ 2793     ┆ 1     ┆ 0.000358 │\n",
       "│ 2022-09-04 18:00:00 ┆ 2790     ┆ 1     ┆ 0.000358 │\n",
       "│ …                   ┆ …        ┆ …     ┆ …        │\n",
       "│ 2021-11-09 18:00:00 ┆ 2180     ┆ 4     ┆ 0.001835 │\n",
       "│ 2020-09-29 18:00:00 ┆ 2134     ┆ 4     ┆ 0.001874 │\n",
       "│ 2021-11-10 18:00:00 ┆ 2112     ┆ 4     ┆ 0.001894 │\n",
       "│ 2024-01-01 18:00:00 ┆ 2085     ┆ 4     ┆ 0.001918 │\n",
       "│ 2023-12-08 18:00:00 ┆ 2002     ┆ 4     ┆ 0.001998 │\n",
       "└─────────────────────┴──────────┴───────┴──────────┘"
      ]
     },
     "execution_count": 28,
     "metadata": {},
     "output_type": "execute_result"
    }
   ],
   "source": [
    "visitors.join_asof(other=visible_bears_per_day, on=\"timestamp\").with_columns(\n",
    "    (pl.col(\"bears\") / pl.col(\"visitors\")).alias(\"ratio\")\n",
    ").sort(\"ratio\")"
   ]
  }
 ],
 "metadata": {
  "kernelspec": {
   "display_name": ".venv",
   "language": "python",
   "name": "python3"
  },
  "language_info": {
   "codemirror_mode": {
    "name": "ipython",
    "version": 3
   },
   "file_extension": ".py",
   "mimetype": "text/x-python",
   "name": "python",
   "nbconvert_exporter": "python",
   "pygments_lexer": "ipython3",
   "version": "3.10.11"
  }
 },
 "nbformat": 4,
 "nbformat_minor": 2
}
