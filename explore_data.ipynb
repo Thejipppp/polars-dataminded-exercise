{
 "cells": [
  {
   "cell_type": "code",
   "execution_count": 1,
   "metadata": {},
   "outputs": [],
   "source": [
    "import polars as pl"
   ]
  },
  {
   "cell_type": "code",
   "execution_count": 2,
   "metadata": {},
   "outputs": [
    {
     "data": {
      "text/html": [
       "<div><style>\n",
       ".dataframe > thead > tr,\n",
       ".dataframe > tbody > tr {\n",
       "  text-align: right;\n",
       "  white-space: pre-wrap;\n",
       "}\n",
       "</style>\n",
       "<small>shape: (158_016, 7)</small><table border=\"1\" class=\"dataframe\"><thead><tr><th>name</th><th>timestamp</th><th>blood_pressure</th><th>heart_rate</th><th>temperature</th><th>blood_glucose</th><th>sensor</th></tr><tr><td>str</td><td>datetime[μs]</td><td>i16</td><td>i16</td><td>f32</td><td>i16</td><td>i8</td></tr></thead><tbody><tr><td>&quot;Arctic Archie&quot;</td><td>2020-04-20 00:04:50.480239</td><td>91</td><td>71</td><td>36.049999</td><td>189</td><td>2</td></tr><tr><td>&quot;Chilly Willy&quot;</td><td>2020-04-20 00:06:00.077239</td><td>121</td><td>39</td><td>35.380001</td><td>101</td><td>2</td></tr><tr><td>&quot;Blizzard Bob&quot;</td><td>2020-04-20 00:04:32.316505</td><td>131</td><td>70</td><td>36.040001</td><td>189</td><td>4</td></tr><tr><td>&quot;Arctic Archie&quot;</td><td>2020-04-20 01:08:47.843849</td><td>81</td><td>64</td><td>36.169998</td><td>146</td><td>3</td></tr><tr><td>&quot;Chilly Willy&quot;</td><td>2020-04-20 01:00:31.335780</td><td>74</td><td>68</td><td>36.040001</td><td>119</td><td>4</td></tr><tr><td>&hellip;</td><td>&hellip;</td><td>&hellip;</td><td>&hellip;</td><td>&hellip;</td><td>&hellip;</td><td>&hellip;</td></tr><tr><td>&quot;Peter Panda&quot;</td><td>2024-04-18 23:07:42.837390</td><td>64</td><td>72</td><td>38.560001</td><td>201</td><td>4</td></tr><tr><td>&quot;Arctic Archie&quot;</td><td>2024-04-18 23:02:55.436679</td><td>105</td><td>70</td><td>36.139999</td><td>159</td><td>3</td></tr><tr><td>&quot;Chilly Willy&quot;</td><td>2024-04-18 23:00:09.368244</td><td>113</td><td>57</td><td>38.209999</td><td>202</td><td>2</td></tr><tr><td>&quot;Cubby Coldpaws&quot;</td><td>2024-04-18 23:04:33.095812</td><td>85</td><td>130</td><td>36.189999</td><td>167</td><td>3</td></tr><tr><td>&quot;Blizzard Bob&quot;</td><td>2024-04-18 23:07:14.255318</td><td>88</td><td>80</td><td>35.25</td><td>96</td><td>2</td></tr></tbody></table></div>"
      ],
      "text/plain": [
       "shape: (158_016, 7)\n",
       "┌───────────────┬───────────────┬───────────────┬────────────┬─────────────┬──────────────┬────────┐\n",
       "│ name          ┆ timestamp     ┆ blood_pressur ┆ heart_rate ┆ temperature ┆ blood_glucos ┆ sensor │\n",
       "│ ---           ┆ ---           ┆ e             ┆ ---        ┆ ---         ┆ e            ┆ ---    │\n",
       "│ str           ┆ datetime[μs]  ┆ ---           ┆ i16        ┆ f32         ┆ ---          ┆ i8     │\n",
       "│               ┆               ┆ i16           ┆            ┆             ┆ i16          ┆        │\n",
       "╞═══════════════╪═══════════════╪═══════════════╪════════════╪═════════════╪══════════════╪════════╡\n",
       "│ Arctic Archie ┆ 2020-04-20    ┆ 91            ┆ 71         ┆ 36.049999   ┆ 189          ┆ 2      │\n",
       "│               ┆ 00:04:50.4802 ┆               ┆            ┆             ┆              ┆        │\n",
       "│               ┆ 39            ┆               ┆            ┆             ┆              ┆        │\n",
       "│ Chilly Willy  ┆ 2020-04-20    ┆ 121           ┆ 39         ┆ 35.380001   ┆ 101          ┆ 2      │\n",
       "│               ┆ 00:06:00.0772 ┆               ┆            ┆             ┆              ┆        │\n",
       "│               ┆ 39            ┆               ┆            ┆             ┆              ┆        │\n",
       "│ Blizzard Bob  ┆ 2020-04-20    ┆ 131           ┆ 70         ┆ 36.040001   ┆ 189          ┆ 4      │\n",
       "│               ┆ 00:04:32.3165 ┆               ┆            ┆             ┆              ┆        │\n",
       "│               ┆ 05            ┆               ┆            ┆             ┆              ┆        │\n",
       "│ Arctic Archie ┆ 2020-04-20    ┆ 81            ┆ 64         ┆ 36.169998   ┆ 146          ┆ 3      │\n",
       "│               ┆ 01:08:47.8438 ┆               ┆            ┆             ┆              ┆        │\n",
       "│               ┆ 49            ┆               ┆            ┆             ┆              ┆        │\n",
       "│ Chilly Willy  ┆ 2020-04-20    ┆ 74            ┆ 68         ┆ 36.040001   ┆ 119          ┆ 4      │\n",
       "│               ┆ 01:00:31.3357 ┆               ┆            ┆             ┆              ┆        │\n",
       "│               ┆ 80            ┆               ┆            ┆             ┆              ┆        │\n",
       "│ …             ┆ …             ┆ …             ┆ …          ┆ …           ┆ …            ┆ …      │\n",
       "│ Peter Panda   ┆ 2024-04-18    ┆ 64            ┆ 72         ┆ 38.560001   ┆ 201          ┆ 4      │\n",
       "│               ┆ 23:07:42.8373 ┆               ┆            ┆             ┆              ┆        │\n",
       "│               ┆ 90            ┆               ┆            ┆             ┆              ┆        │\n",
       "│ Arctic Archie ┆ 2024-04-18    ┆ 105           ┆ 70         ┆ 36.139999   ┆ 159          ┆ 3      │\n",
       "│               ┆ 23:02:55.4366 ┆               ┆            ┆             ┆              ┆        │\n",
       "│               ┆ 79            ┆               ┆            ┆             ┆              ┆        │\n",
       "│ Chilly Willy  ┆ 2024-04-18    ┆ 113           ┆ 57         ┆ 38.209999   ┆ 202          ┆ 2      │\n",
       "│               ┆ 23:00:09.3682 ┆               ┆            ┆             ┆              ┆        │\n",
       "│               ┆ 44            ┆               ┆            ┆             ┆              ┆        │\n",
       "│ Cubby         ┆ 2024-04-18    ┆ 85            ┆ 130        ┆ 36.189999   ┆ 167          ┆ 3      │\n",
       "│ Coldpaws      ┆ 23:04:33.0958 ┆               ┆            ┆             ┆              ┆        │\n",
       "│               ┆ 12            ┆               ┆            ┆             ┆              ┆        │\n",
       "│ Blizzard Bob  ┆ 2024-04-18    ┆ 88            ┆ 80         ┆ 35.25       ┆ 96           ┆ 2      │\n",
       "│               ┆ 23:07:14.2553 ┆               ┆            ┆             ┆              ┆        │\n",
       "│               ┆ 18            ┆               ┆            ┆             ┆              ┆        │\n",
       "└───────────────┴───────────────┴───────────────┴────────────┴─────────────┴──────────────┴────────┘"
      ]
     },
     "execution_count": 2,
     "metadata": {},
     "output_type": "execute_result"
    }
   ],
   "source": [
    "measurements = pl.read_parquet(\"data/measurements.parquet\")\n",
    "measurements"
   ]
  },
  {
   "cell_type": "code",
   "execution_count": 3,
   "metadata": {},
   "outputs": [
    {
     "data": {
      "text/html": [
       "<div><style>\n",
       ".dataframe > thead > tr,\n",
       ".dataframe > tbody > tr {\n",
       "  text-align: right;\n",
       "  white-space: pre-wrap;\n",
       "}\n",
       "</style>\n",
       "<small>shape: (3_291, 8)</small><table border=\"1\" class=\"dataframe\"><thead><tr><th>name</th><th>vet</th><th>age</th><th>weight</th><th>daily_steps</th><th>timestamp</th><th>vet_health_check</th><th>life_stage</th></tr><tr><td>str</td><td>i8</td><td>i8</td><td>f32</td><td>i16</td><td>datetime[μs]</td><td>str</td><td>str</td></tr></thead><tbody><tr><td>&quot;Arctic Archie&quot;</td><td>1</td><td>25</td><td>582.744507</td><td>8318</td><td>2020-04-20 06:15:00</td><td>&quot;HEALTHY&quot;</td><td>&quot;SENIOR&quot;</td></tr><tr><td>&quot;Chilly Willy&quot;</td><td>2</td><td>5</td><td>496.005005</td><td>13675</td><td>2020-04-20 06:15:00</td><td>&quot;HEALTHY&quot;</td><td>&quot;ADULT&quot;</td></tr><tr><td>&quot;Blizzard Bob&quot;</td><td>5</td><td>35</td><td>852.612427</td><td>6854</td><td>2020-04-20 06:15:00</td><td>&quot;INJURED&quot;</td><td>&quot;SENIOR&quot;</td></tr><tr><td>&quot;Arctic Archie&quot;</td><td>2</td><td>25</td><td>592.455444</td><td>7713</td><td>2020-04-22 06:15:00</td><td>&quot;INJURED&quot;</td><td>&quot;SENIOR&quot;</td></tr><tr><td>&quot;Chilly Willy&quot;</td><td>2</td><td>5</td><td>502.672821</td><td>10289</td><td>2020-04-22 06:15:00</td><td>&quot;HEALTHY&quot;</td><td>&quot;ADULT&quot;</td></tr><tr><td>&hellip;</td><td>&hellip;</td><td>&hellip;</td><td>&hellip;</td><td>&hellip;</td><td>&hellip;</td><td>&hellip;</td><td>&hellip;</td></tr><tr><td>&quot;Peter Panda&quot;</td><td>5</td><td>2</td><td>319.055389</td><td>5215</td><td>2024-04-17 06:15:00</td><td>&quot;SICK&quot;</td><td>&quot;JUV&quot;</td></tr><tr><td>&quot;Arctic Archie&quot;</td><td>2</td><td>29</td><td>596.792786</td><td>3877</td><td>2024-04-17 06:15:00</td><td>&quot;INJURED&quot;</td><td>&quot;SENIOR&quot;</td></tr><tr><td>&quot;Chilly Willy&quot;</td><td>4</td><td>9</td><td>498.009399</td><td>13822</td><td>2024-04-17 06:15:00</td><td>&quot;HEALTHY&quot;</td><td>&quot;ADULT&quot;</td></tr><tr><td>&quot;Cubby Coldpaws&quot;</td><td>5</td><td>0</td><td>2.410815</td><td>17398</td><td>2024-04-17 06:15:00</td><td>&quot;HEALTHY&quot;</td><td>&quot;CUB&quot;</td></tr><tr><td>&quot;Blizzard Bob&quot;</td><td>4</td><td>39</td><td>849.581055</td><td>7728</td><td>2024-04-17 06:15:00</td><td>&quot;SICK&quot;</td><td>&quot;SENIOR&quot;</td></tr></tbody></table></div>"
      ],
      "text/plain": [
       "shape: (3_291, 8)\n",
       "┌───────────────┬─────┬─────┬────────────┬─────────────┬───────────────┬──────────────┬────────────┐\n",
       "│ name          ┆ vet ┆ age ┆ weight     ┆ daily_steps ┆ timestamp     ┆ vet_health_c ┆ life_stage │\n",
       "│ ---           ┆ --- ┆ --- ┆ ---        ┆ ---         ┆ ---           ┆ heck         ┆ ---        │\n",
       "│ str           ┆ i8  ┆ i8  ┆ f32        ┆ i16         ┆ datetime[μs]  ┆ ---          ┆ str        │\n",
       "│               ┆     ┆     ┆            ┆             ┆               ┆ str          ┆            │\n",
       "╞═══════════════╪═════╪═════╪════════════╪═════════════╪═══════════════╪══════════════╪════════════╡\n",
       "│ Arctic Archie ┆ 1   ┆ 25  ┆ 582.744507 ┆ 8318        ┆ 2020-04-20    ┆ HEALTHY      ┆ SENIOR     │\n",
       "│               ┆     ┆     ┆            ┆             ┆ 06:15:00      ┆              ┆            │\n",
       "│ Chilly Willy  ┆ 2   ┆ 5   ┆ 496.005005 ┆ 13675       ┆ 2020-04-20    ┆ HEALTHY      ┆ ADULT      │\n",
       "│               ┆     ┆     ┆            ┆             ┆ 06:15:00      ┆              ┆            │\n",
       "│ Blizzard Bob  ┆ 5   ┆ 35  ┆ 852.612427 ┆ 6854        ┆ 2020-04-20    ┆ INJURED      ┆ SENIOR     │\n",
       "│               ┆     ┆     ┆            ┆             ┆ 06:15:00      ┆              ┆            │\n",
       "│ Arctic Archie ┆ 2   ┆ 25  ┆ 592.455444 ┆ 7713        ┆ 2020-04-22    ┆ INJURED      ┆ SENIOR     │\n",
       "│               ┆     ┆     ┆            ┆             ┆ 06:15:00      ┆              ┆            │\n",
       "│ Chilly Willy  ┆ 2   ┆ 5   ┆ 502.672821 ┆ 10289       ┆ 2020-04-22    ┆ HEALTHY      ┆ ADULT      │\n",
       "│               ┆     ┆     ┆            ┆             ┆ 06:15:00      ┆              ┆            │\n",
       "│ …             ┆ …   ┆ …   ┆ …          ┆ …           ┆ …             ┆ …            ┆ …          │\n",
       "│ Peter Panda   ┆ 5   ┆ 2   ┆ 319.055389 ┆ 5215        ┆ 2024-04-17    ┆ SICK         ┆ JUV        │\n",
       "│               ┆     ┆     ┆            ┆             ┆ 06:15:00      ┆              ┆            │\n",
       "│ Arctic Archie ┆ 2   ┆ 29  ┆ 596.792786 ┆ 3877        ┆ 2024-04-17    ┆ INJURED      ┆ SENIOR     │\n",
       "│               ┆     ┆     ┆            ┆             ┆ 06:15:00      ┆              ┆            │\n",
       "│ Chilly Willy  ┆ 4   ┆ 9   ┆ 498.009399 ┆ 13822       ┆ 2024-04-17    ┆ HEALTHY      ┆ ADULT      │\n",
       "│               ┆     ┆     ┆            ┆             ┆ 06:15:00      ┆              ┆            │\n",
       "│ Cubby         ┆ 5   ┆ 0   ┆ 2.410815   ┆ 17398       ┆ 2024-04-17    ┆ HEALTHY      ┆ CUB        │\n",
       "│ Coldpaws      ┆     ┆     ┆            ┆             ┆ 06:15:00      ┆              ┆            │\n",
       "│ Blizzard Bob  ┆ 4   ┆ 39  ┆ 849.581055 ┆ 7728        ┆ 2024-04-17    ┆ SICK         ┆ SENIOR     │\n",
       "│               ┆     ┆     ┆            ┆             ┆ 06:15:00      ┆              ┆            │\n",
       "└───────────────┴─────┴─────┴────────────┴─────────────┴───────────────┴──────────────┴────────────┘"
      ]
     },
     "execution_count": 3,
     "metadata": {},
     "output_type": "execute_result"
    }
   ],
   "source": [
    "batch_measurements = pl.read_parquet(\"data/batch_measurements.parquet\")\n",
    "batch_measurements"
   ]
  },
  {
   "cell_type": "markdown",
   "metadata": {},
   "source": [
    "## Basic Transforms: Filter, project, Union\n",
    "\n",
    "- Was there in 2022 an injured polar bear older than 15 (i.e. a senior polar bear)?"
   ]
  },
  {
   "cell_type": "code",
   "execution_count": 4,
   "metadata": {},
   "outputs": [
    {
     "data": {
      "text/html": [
       "<div><style>\n",
       ".dataframe > thead > tr,\n",
       ".dataframe > tbody > tr {\n",
       "  text-align: right;\n",
       "  white-space: pre-wrap;\n",
       "}\n",
       "</style>\n",
       "<small>shape: (118, 8)</small><table border=\"1\" class=\"dataframe\"><thead><tr><th>name</th><th>vet</th><th>age</th><th>weight</th><th>daily_steps</th><th>timestamp</th><th>vet_health_check</th><th>life_stage</th></tr><tr><td>str</td><td>i8</td><td>i8</td><td>f32</td><td>i16</td><td>datetime[μs]</td><td>str</td><td>str</td></tr></thead><tbody><tr><td>&quot;Arctic Archie&quot;</td><td>2</td><td>27</td><td>600.978638</td><td>2103</td><td>2022-01-02 06:15:00</td><td>&quot;INJURED&quot;</td><td>&quot;SENIOR&quot;</td></tr><tr><td>&quot;Arctic Archie&quot;</td><td>5</td><td>27</td><td>602.421082</td><td>17645</td><td>2022-01-08 06:15:00</td><td>&quot;INJURED&quot;</td><td>&quot;SENIOR&quot;</td></tr><tr><td>&quot;Blizzard Bob&quot;</td><td>2</td><td>37</td><td>840.560364</td><td>6459</td><td>2022-01-12 06:15:00</td><td>&quot;INJURED&quot;</td><td>&quot;SENIOR&quot;</td></tr><tr><td>&quot;ARCTIC ARCHIE&quot;</td><td>4</td><td>27</td><td>598.606201</td><td>17821</td><td>2022-01-18 06:15:00</td><td>&quot;INJURED&quot;</td><td>&quot;SENIOR&quot;</td></tr><tr><td>&quot;Blizzard Bob&quot;</td><td>2</td><td>37</td><td>865.314453</td><td>13139</td><td>2022-01-24 06:15:00</td><td>&quot;INJURED&quot;</td><td>&quot;SENIOR&quot;</td></tr><tr><td>&hellip;</td><td>&hellip;</td><td>&hellip;</td><td>&hellip;</td><td>&hellip;</td><td>&hellip;</td><td>&hellip;</td><td>&hellip;</td></tr><tr><td>&quot;Blizzard Bob&quot;</td><td>1</td><td>38</td><td>846.052246</td><td>9828</td><td>2022-12-20 06:15:00</td><td>&quot;INJURED&quot;</td><td>&quot;SENIOR&quot;</td></tr><tr><td>&quot;Blizzard Bob&quot;</td><td>5</td><td>38</td><td>842.704041</td><td>16676</td><td>2022-12-26 06:15:00</td><td>&quot;INJURED&quot;</td><td>&quot;SENIOR&quot;</td></tr><tr><td>&quot;Arctic Archie&quot;</td><td>1</td><td>28</td><td>608.15741</td><td>10494</td><td>2022-12-28 06:15:00</td><td>&quot;INJURED&quot;</td><td>&quot;SENIOR&quot;</td></tr><tr><td>&quot;Blizzard Bob&quot;</td><td>2</td><td>38</td><td>844.760376</td><td>7440</td><td>2022-12-28 06:15:00</td><td>&quot;INJURED&quot;</td><td>&quot;SENIOR&quot;</td></tr><tr><td>&quot;Arctic Archie&quot;</td><td>2</td><td>28</td><td>595.152222</td><td>5487</td><td>2022-12-30 06:15:00</td><td>&quot;INJURED&quot;</td><td>&quot;SENIOR&quot;</td></tr></tbody></table></div>"
      ],
      "text/plain": [
       "shape: (118, 8)\n",
       "┌───────────────┬─────┬─────┬────────────┬─────────────┬───────────────┬──────────────┬────────────┐\n",
       "│ name          ┆ vet ┆ age ┆ weight     ┆ daily_steps ┆ timestamp     ┆ vet_health_c ┆ life_stage │\n",
       "│ ---           ┆ --- ┆ --- ┆ ---        ┆ ---         ┆ ---           ┆ heck         ┆ ---        │\n",
       "│ str           ┆ i8  ┆ i8  ┆ f32        ┆ i16         ┆ datetime[μs]  ┆ ---          ┆ str        │\n",
       "│               ┆     ┆     ┆            ┆             ┆               ┆ str          ┆            │\n",
       "╞═══════════════╪═════╪═════╪════════════╪═════════════╪═══════════════╪══════════════╪════════════╡\n",
       "│ Arctic Archie ┆ 2   ┆ 27  ┆ 600.978638 ┆ 2103        ┆ 2022-01-02    ┆ INJURED      ┆ SENIOR     │\n",
       "│               ┆     ┆     ┆            ┆             ┆ 06:15:00      ┆              ┆            │\n",
       "│ Arctic Archie ┆ 5   ┆ 27  ┆ 602.421082 ┆ 17645       ┆ 2022-01-08    ┆ INJURED      ┆ SENIOR     │\n",
       "│               ┆     ┆     ┆            ┆             ┆ 06:15:00      ┆              ┆            │\n",
       "│ Blizzard Bob  ┆ 2   ┆ 37  ┆ 840.560364 ┆ 6459        ┆ 2022-01-12    ┆ INJURED      ┆ SENIOR     │\n",
       "│               ┆     ┆     ┆            ┆             ┆ 06:15:00      ┆              ┆            │\n",
       "│ ARCTIC ARCHIE ┆ 4   ┆ 27  ┆ 598.606201 ┆ 17821       ┆ 2022-01-18    ┆ INJURED      ┆ SENIOR     │\n",
       "│               ┆     ┆     ┆            ┆             ┆ 06:15:00      ┆              ┆            │\n",
       "│ Blizzard Bob  ┆ 2   ┆ 37  ┆ 865.314453 ┆ 13139       ┆ 2022-01-24    ┆ INJURED      ┆ SENIOR     │\n",
       "│               ┆     ┆     ┆            ┆             ┆ 06:15:00      ┆              ┆            │\n",
       "│ …             ┆ …   ┆ …   ┆ …          ┆ …           ┆ …             ┆ …            ┆ …          │\n",
       "│ Blizzard Bob  ┆ 1   ┆ 38  ┆ 846.052246 ┆ 9828        ┆ 2022-12-20    ┆ INJURED      ┆ SENIOR     │\n",
       "│               ┆     ┆     ┆            ┆             ┆ 06:15:00      ┆              ┆            │\n",
       "│ Blizzard Bob  ┆ 5   ┆ 38  ┆ 842.704041 ┆ 16676       ┆ 2022-12-26    ┆ INJURED      ┆ SENIOR     │\n",
       "│               ┆     ┆     ┆            ┆             ┆ 06:15:00      ┆              ┆            │\n",
       "│ Arctic Archie ┆ 1   ┆ 28  ┆ 608.15741  ┆ 10494       ┆ 2022-12-28    ┆ INJURED      ┆ SENIOR     │\n",
       "│               ┆     ┆     ┆            ┆             ┆ 06:15:00      ┆              ┆            │\n",
       "│ Blizzard Bob  ┆ 2   ┆ 38  ┆ 844.760376 ┆ 7440        ┆ 2022-12-28    ┆ INJURED      ┆ SENIOR     │\n",
       "│               ┆     ┆     ┆            ┆             ┆ 06:15:00      ┆              ┆            │\n",
       "│ Arctic Archie ┆ 2   ┆ 28  ┆ 595.152222 ┆ 5487        ┆ 2022-12-30    ┆ INJURED      ┆ SENIOR     │\n",
       "│               ┆     ┆     ┆            ┆             ┆ 06:15:00      ┆              ┆            │\n",
       "└───────────────┴─────┴─────┴────────────┴─────────────┴───────────────┴──────────────┴────────────┘"
      ]
     },
     "execution_count": 4,
     "metadata": {},
     "output_type": "execute_result"
    }
   ],
   "source": [
    "batch_measurements.filter(\n",
    "    pl.col(\"timestamp\").dt.year() == 2022,\n",
    "    pl.col(\"age\") > 15,\n",
    "    pl.col(\"vet_health_check\") == \"INJURED\",\n",
    ")"
   ]
  },
  {
   "cell_type": "markdown",
   "metadata": {},
   "source": [
    "- How many times was Blizzard Bob's name capitalized in the batch measurements?"
   ]
  },
  {
   "cell_type": "code",
   "execution_count": 5,
   "metadata": {},
   "outputs": [
    {
     "data": {
      "text/plain": [
       "(106, 624)"
      ]
     },
     "execution_count": 5,
     "metadata": {},
     "output_type": "execute_result"
    }
   ],
   "source": [
    "batch_measurements.filter(name=\"BLIZZARD BOB\").select(\n",
    "    pl.len()\n",
    ").item(), batch_measurements.filter(name=\"Blizzard Bob\").select(pl.len()).item()"
   ]
  },
  {
   "cell_type": "markdown",
   "metadata": {},
   "source": [
    " - Was Cubby Coldpaw ever sick with a temperature above 40 degrees? (tip: union + downfill)"
   ]
  },
  {
   "cell_type": "code",
   "execution_count": 6,
   "metadata": {},
   "outputs": [
    {
     "data": {
      "text/html": [
       "<div><style>\n",
       ".dataframe > thead > tr,\n",
       ".dataframe > tbody > tr {\n",
       "  text-align: right;\n",
       "  white-space: pre-wrap;\n",
       "}\n",
       "</style>\n",
       "<small>shape: (17, 13)</small><table border=\"1\" class=\"dataframe\"><thead><tr><th>name</th><th>timestamp</th><th>blood_pressure</th><th>heart_rate</th><th>temperature</th><th>blood_glucose</th><th>sensor</th><th>vet</th><th>age</th><th>weight</th><th>daily_steps</th><th>vet_health_check</th><th>life_stage</th></tr><tr><td>str</td><td>datetime[μs]</td><td>i16</td><td>i16</td><td>f32</td><td>i16</td><td>i8</td><td>i8</td><td>i8</td><td>f32</td><td>i16</td><td>str</td><td>str</td></tr></thead><tbody><tr><td>&quot;Cubby Coldpaws&quot;</td><td>2024-04-03 08:04:54.349079</td><td>128</td><td>130</td><td>39.509998</td><td>223</td><td>2</td><td>3</td><td>0</td><td>1.991295</td><td>15985</td><td>&quot;SICK&quot;</td><td>&quot;CUB&quot;</td></tr><tr><td>&quot;Cubby Coldpaws&quot;</td><td>2024-04-03 09:05:56.451039</td><td>85</td><td>136</td><td>39.060001</td><td>158</td><td>2</td><td>3</td><td>0</td><td>1.991295</td><td>15985</td><td>&quot;SICK&quot;</td><td>&quot;CUB&quot;</td></tr><tr><td>&quot;Cubby Coldpaws&quot;</td><td>2024-04-03 12:04:41.117695</td><td>89</td><td>134</td><td>39.009998</td><td>161</td><td>3</td><td>3</td><td>0</td><td>1.991295</td><td>15985</td><td>&quot;SICK&quot;</td><td>&quot;CUB&quot;</td></tr><tr><td>&quot;Cubby Coldpaws&quot;</td><td>2024-04-03 14:05:34.633770</td><td>60</td><td>134</td><td>39.23</td><td>194</td><td>2</td><td>3</td><td>0</td><td>1.991295</td><td>15985</td><td>&quot;SICK&quot;</td><td>&quot;CUB&quot;</td></tr><tr><td>&quot;Cubby Coldpaws&quot;</td><td>2024-04-05 12:03:01.018255</td><td>88</td><td>138</td><td>39.16</td><td>158</td><td>3</td><td>5</td><td>0</td><td>2.046444</td><td>13040</td><td>&quot;SICK&quot;</td><td>&quot;CUB&quot;</td></tr><tr><td>&hellip;</td><td>&hellip;</td><td>&hellip;</td><td>&hellip;</td><td>&hellip;</td><td>&hellip;</td><td>&hellip;</td><td>&hellip;</td><td>&hellip;</td><td>&hellip;</td><td>&hellip;</td><td>&hellip;</td><td>&hellip;</td></tr><tr><td>&quot;Cubby Coldpaws&quot;</td><td>2024-04-09 12:05:23.896249</td><td>95</td><td>108</td><td>39.27</td><td>148</td><td>2</td><td>2</td><td>0</td><td>2.161351</td><td>13975</td><td>&quot;SICK&quot;</td><td>&quot;CUB&quot;</td></tr><tr><td>&quot;Cubby Coldpaws&quot;</td><td>2024-04-10 12:02:02.962703</td><td>101</td><td>120</td><td>39.150002</td><td>136</td><td>2</td><td>2</td><td>0</td><td>2.161351</td><td>13975</td><td>&quot;SICK&quot;</td><td>&quot;CUB&quot;</td></tr><tr><td>&quot;Cubby Coldpaws&quot;</td><td>2024-04-10 16:00:03.955140</td><td>93</td><td>122</td><td>39.98</td><td>180</td><td>2</td><td>2</td><td>0</td><td>2.161351</td><td>13975</td><td>&quot;SICK&quot;</td><td>&quot;CUB&quot;</td></tr><tr><td>&quot;Cubby Coldpaws&quot;</td><td>2024-04-14 11:05:08.643333</td><td>133</td><td>129</td><td>39.669998</td><td>162</td><td>1</td><td>3</td><td>0</td><td>2.282689</td><td>18855</td><td>&quot;SICK&quot;</td><td>&quot;CUB&quot;</td></tr><tr><td>&quot;Cubby Coldpaws&quot;</td><td>2024-04-14 12:08:48.288950</td><td>82</td><td>133</td><td>39.02</td><td>160</td><td>4</td><td>3</td><td>0</td><td>2.282689</td><td>18855</td><td>&quot;SICK&quot;</td><td>&quot;CUB&quot;</td></tr></tbody></table></div>"
      ],
      "text/plain": [
       "shape: (17, 13)\n",
       "┌───────────┬───────────┬───────────┬───────────┬───┬──────────┬───────────┬───────────┬───────────┐\n",
       "│ name      ┆ timestamp ┆ blood_pre ┆ heart_rat ┆ … ┆ weight   ┆ daily_ste ┆ vet_healt ┆ life_stag │\n",
       "│ ---       ┆ ---       ┆ ssure     ┆ e         ┆   ┆ ---      ┆ ps        ┆ h_check   ┆ e         │\n",
       "│ str       ┆ datetime[ ┆ ---       ┆ ---       ┆   ┆ f32      ┆ ---       ┆ ---       ┆ ---       │\n",
       "│           ┆ μs]       ┆ i16       ┆ i16       ┆   ┆          ┆ i16       ┆ str       ┆ str       │\n",
       "╞═══════════╪═══════════╪═══════════╪═══════════╪═══╪══════════╪═══════════╪═══════════╪═══════════╡\n",
       "│ Cubby     ┆ 2024-04-0 ┆ 128       ┆ 130       ┆ … ┆ 1.991295 ┆ 15985     ┆ SICK      ┆ CUB       │\n",
       "│ Coldpaws  ┆ 3 08:04:5 ┆           ┆           ┆   ┆          ┆           ┆           ┆           │\n",
       "│           ┆ 4.349079  ┆           ┆           ┆   ┆          ┆           ┆           ┆           │\n",
       "│ Cubby     ┆ 2024-04-0 ┆ 85        ┆ 136       ┆ … ┆ 1.991295 ┆ 15985     ┆ SICK      ┆ CUB       │\n",
       "│ Coldpaws  ┆ 3 09:05:5 ┆           ┆           ┆   ┆          ┆           ┆           ┆           │\n",
       "│           ┆ 6.451039  ┆           ┆           ┆   ┆          ┆           ┆           ┆           │\n",
       "│ Cubby     ┆ 2024-04-0 ┆ 89        ┆ 134       ┆ … ┆ 1.991295 ┆ 15985     ┆ SICK      ┆ CUB       │\n",
       "│ Coldpaws  ┆ 3 12:04:4 ┆           ┆           ┆   ┆          ┆           ┆           ┆           │\n",
       "│           ┆ 1.117695  ┆           ┆           ┆   ┆          ┆           ┆           ┆           │\n",
       "│ Cubby     ┆ 2024-04-0 ┆ 60        ┆ 134       ┆ … ┆ 1.991295 ┆ 15985     ┆ SICK      ┆ CUB       │\n",
       "│ Coldpaws  ┆ 3 14:05:3 ┆           ┆           ┆   ┆          ┆           ┆           ┆           │\n",
       "│           ┆ 4.633770  ┆           ┆           ┆   ┆          ┆           ┆           ┆           │\n",
       "│ Cubby     ┆ 2024-04-0 ┆ 88        ┆ 138       ┆ … ┆ 2.046444 ┆ 13040     ┆ SICK      ┆ CUB       │\n",
       "│ Coldpaws  ┆ 5 12:03:0 ┆           ┆           ┆   ┆          ┆           ┆           ┆           │\n",
       "│           ┆ 1.018255  ┆           ┆           ┆   ┆          ┆           ┆           ┆           │\n",
       "│ …         ┆ …         ┆ …         ┆ …         ┆ … ┆ …        ┆ …         ┆ …         ┆ …         │\n",
       "│ Cubby     ┆ 2024-04-0 ┆ 95        ┆ 108       ┆ … ┆ 2.161351 ┆ 13975     ┆ SICK      ┆ CUB       │\n",
       "│ Coldpaws  ┆ 9 12:05:2 ┆           ┆           ┆   ┆          ┆           ┆           ┆           │\n",
       "│           ┆ 3.896249  ┆           ┆           ┆   ┆          ┆           ┆           ┆           │\n",
       "│ Cubby     ┆ 2024-04-1 ┆ 101       ┆ 120       ┆ … ┆ 2.161351 ┆ 13975     ┆ SICK      ┆ CUB       │\n",
       "│ Coldpaws  ┆ 0 12:02:0 ┆           ┆           ┆   ┆          ┆           ┆           ┆           │\n",
       "│           ┆ 2.962703  ┆           ┆           ┆   ┆          ┆           ┆           ┆           │\n",
       "│ Cubby     ┆ 2024-04-1 ┆ 93        ┆ 122       ┆ … ┆ 2.161351 ┆ 13975     ┆ SICK      ┆ CUB       │\n",
       "│ Coldpaws  ┆ 0 16:00:0 ┆           ┆           ┆   ┆          ┆           ┆           ┆           │\n",
       "│           ┆ 3.955140  ┆           ┆           ┆   ┆          ┆           ┆           ┆           │\n",
       "│ Cubby     ┆ 2024-04-1 ┆ 133       ┆ 129       ┆ … ┆ 2.282689 ┆ 18855     ┆ SICK      ┆ CUB       │\n",
       "│ Coldpaws  ┆ 4 11:05:0 ┆           ┆           ┆   ┆          ┆           ┆           ┆           │\n",
       "│           ┆ 8.643333  ┆           ┆           ┆   ┆          ┆           ┆           ┆           │\n",
       "│ Cubby     ┆ 2024-04-1 ┆ 82        ┆ 133       ┆ … ┆ 2.282689 ┆ 18855     ┆ SICK      ┆ CUB       │\n",
       "│ Coldpaws  ┆ 4 12:08:4 ┆           ┆           ┆   ┆          ┆           ┆           ┆           │\n",
       "│           ┆ 8.288950  ┆           ┆           ┆   ┆          ┆           ┆           ┆           │\n",
       "└───────────┴───────────┴───────────┴───────────┴───┴──────────┴───────────┴───────────┴───────────┘"
      ]
     },
     "execution_count": 6,
     "metadata": {},
     "output_type": "execute_result"
    }
   ],
   "source": [
    "filter = pl.col(\"name\").str.contains(\"(?i)Cubby Coldpaws\")\n",
    "pl.concat(\n",
    "    [measurements.filter(filter), batch_measurements.filter(filter)],\n",
    "    how=\"diagonal_relaxed\",\n",
    ").sort(by=\"timestamp\").fill_null(strategy=\"forward\").filter(\n",
    "    pl.col(\"vet_health_check\") == \"SICK\", pl.col(\"temperature\") > 39\n",
    ")"
   ]
  },
  {
   "cell_type": "markdown",
   "metadata": {},
   "source": [
    "# Windowing and Aggregations\n",
    "\n",
    "- For every year, figure out which polar bear was the heaviest"
   ]
  },
  {
   "cell_type": "code",
   "execution_count": 7,
   "metadata": {},
   "outputs": [
    {
     "data": {
      "text/html": [
       "<div><style>\n",
       ".dataframe > thead > tr,\n",
       ".dataframe > tbody > tr {\n",
       "  text-align: right;\n",
       "  white-space: pre-wrap;\n",
       "}\n",
       "</style>\n",
       "<small>shape: (5, 3)</small><table border=\"1\" class=\"dataframe\"><thead><tr><th>name</th><th>timestamp</th><th>weight</th></tr><tr><td>str</td><td>datetime[μs]</td><td>f32</td></tr></thead><tbody><tr><td>&quot;Blizzard Bob&quot;</td><td>2020-08-12 06:15:00</td><td>875.465149</td></tr><tr><td>&quot;Blizzard Bob&quot;</td><td>2021-09-02 06:15:00</td><td>878.228271</td></tr><tr><td>&quot;Blizzard Bob&quot;</td><td>2022-08-22 06:15:00</td><td>874.462158</td></tr><tr><td>&quot;Blizzard Bob&quot;</td><td>2023-10-04 06:15:00</td><td>878.402161</td></tr><tr><td>&quot;Blizzard Bob&quot;</td><td>2024-02-11 06:15:00</td><td>877.566895</td></tr></tbody></table></div>"
      ],
      "text/plain": [
       "shape: (5, 3)\n",
       "┌──────────────┬─────────────────────┬────────────┐\n",
       "│ name         ┆ timestamp           ┆ weight     │\n",
       "│ ---          ┆ ---                 ┆ ---        │\n",
       "│ str          ┆ datetime[μs]        ┆ f32        │\n",
       "╞══════════════╪═════════════════════╪════════════╡\n",
       "│ Blizzard Bob ┆ 2020-08-12 06:15:00 ┆ 875.465149 │\n",
       "│ Blizzard Bob ┆ 2021-09-02 06:15:00 ┆ 878.228271 │\n",
       "│ Blizzard Bob ┆ 2022-08-22 06:15:00 ┆ 874.462158 │\n",
       "│ Blizzard Bob ┆ 2023-10-04 06:15:00 ┆ 878.402161 │\n",
       "│ Blizzard Bob ┆ 2024-02-11 06:15:00 ┆ 877.566895 │\n",
       "└──────────────┴─────────────────────┴────────────┘"
      ]
     },
     "execution_count": 7,
     "metadata": {},
     "output_type": "execute_result"
    }
   ],
   "source": [
    "batch_measurements.select(\"name\", \"timestamp\", \"weight\").filter(\n",
    "    pl.col(\"weight\") == pl.col(\"weight\").max().over(pl.col(\"timestamp\").dt.year())\n",
    ")"
   ]
  },
  {
   "cell_type": "markdown",
   "metadata": {},
   "source": [
    "- When was the first and last measurement of each bear taken?"
   ]
  },
  {
   "cell_type": "code",
   "execution_count": 8,
   "metadata": {},
   "outputs": [
    {
     "data": {
      "text/html": [
       "<div><style>\n",
       ".dataframe > thead > tr,\n",
       ".dataframe > tbody > tr {\n",
       "  text-align: right;\n",
       "  white-space: pre-wrap;\n",
       "}\n",
       "</style>\n",
       "<small>shape: (6, 3)</small><table border=\"1\" class=\"dataframe\"><thead><tr><th>name</th><th>first measurement</th><th>last measurement</th></tr><tr><td>str</td><td>datetime[μs]</td><td>datetime[μs]</td></tr></thead><tbody><tr><td>&quot;Peter Panda&quot;</td><td>2022-03-10 00:06:22.204451</td><td>2024-04-18 23:07:42.837390</td></tr><tr><td>&quot;Icy Ingrid&quot;</td><td>2020-06-12 00:06:39.577116</td><td>2024-04-18 23:00:15.044912</td></tr><tr><td>&quot;Blizzard Bob&quot;</td><td>2020-04-20 00:04:32.316505</td><td>2024-04-18 23:07:14.255318</td></tr><tr><td>&quot;Chilly Willy&quot;</td><td>2020-04-20 00:06:00.077239</td><td>2024-04-18 23:00:09.368244</td></tr><tr><td>&quot;Arctic Archie&quot;</td><td>2020-04-20 00:04:50.480239</td><td>2024-04-18 23:02:55.436679</td></tr><tr><td>&quot;Cubby Coldpaws&quot;</td><td>2024-03-24 00:02:26.626629</td><td>2024-04-18 23:04:33.095812</td></tr></tbody></table></div>"
      ],
      "text/plain": [
       "shape: (6, 3)\n",
       "┌────────────────┬────────────────────────────┬────────────────────────────┐\n",
       "│ name           ┆ first measurement          ┆ last measurement           │\n",
       "│ ---            ┆ ---                        ┆ ---                        │\n",
       "│ str            ┆ datetime[μs]               ┆ datetime[μs]               │\n",
       "╞════════════════╪════════════════════════════╪════════════════════════════╡\n",
       "│ Peter Panda    ┆ 2022-03-10 00:06:22.204451 ┆ 2024-04-18 23:07:42.837390 │\n",
       "│ Icy Ingrid     ┆ 2020-06-12 00:06:39.577116 ┆ 2024-04-18 23:00:15.044912 │\n",
       "│ Blizzard Bob   ┆ 2020-04-20 00:04:32.316505 ┆ 2024-04-18 23:07:14.255318 │\n",
       "│ Chilly Willy   ┆ 2020-04-20 00:06:00.077239 ┆ 2024-04-18 23:00:09.368244 │\n",
       "│ Arctic Archie  ┆ 2020-04-20 00:04:50.480239 ┆ 2024-04-18 23:02:55.436679 │\n",
       "│ Cubby Coldpaws ┆ 2024-03-24 00:02:26.626629 ┆ 2024-04-18 23:04:33.095812 │\n",
       "└────────────────┴────────────────────────────┴────────────────────────────┘"
      ]
     },
     "execution_count": 8,
     "metadata": {},
     "output_type": "execute_result"
    }
   ],
   "source": [
    "measurements.group_by(\"name\").agg(\n",
    "    pl.col(\"timestamp\").first().alias(\"first measurement\"),\n",
    "    pl.col(\"timestamp\").last().alias(\"last measurement\"),\n",
    ")"
   ]
  },
  {
   "cell_type": "markdown",
   "metadata": {},
   "source": [
    "- For each lifestage group of polar bears and for each year, which polar bear was the most active (most amount of steps per day)?"
   ]
  },
  {
   "cell_type": "code",
   "execution_count": 9,
   "metadata": {},
   "outputs": [
    {
     "data": {
      "text/html": [
       "<div><style>\n",
       ".dataframe > thead > tr,\n",
       ".dataframe > tbody > tr {\n",
       "  text-align: right;\n",
       "  white-space: pre-wrap;\n",
       "}\n",
       "</style>\n",
       "<small>shape: (19, 8)</small><table border=\"1\" class=\"dataframe\"><thead><tr><th>name</th><th>vet</th><th>age</th><th>weight</th><th>daily_steps</th><th>timestamp</th><th>vet_health_check</th><th>life_stage</th></tr><tr><td>str</td><td>i8</td><td>i8</td><td>f32</td><td>i16</td><td>datetime[μs]</td><td>str</td><td>str</td></tr></thead><tbody><tr><td>&quot;Chilly Willy&quot;</td><td>3</td><td>5</td><td>516.934692</td><td>19939</td><td>2020-07-17 06:15:00</td><td>&quot;INJURED&quot;</td><td>&quot;ADULT&quot;</td></tr><tr><td>&quot;Blizzard Bob&quot;</td><td>2</td><td>35</td><td>847.644836</td><td>19899</td><td>2020-07-25 06:15:00</td><td>&quot;INJURED&quot;</td><td>&quot;SENIOR&quot;</td></tr><tr><td>&quot;Icy Ingrid&quot;</td><td>1</td><td>0</td><td>4.280061</td><td>19191</td><td>2020-10-25 06:15:00</td><td>&quot;SICK&quot;</td><td>&quot;CUB&quot;</td></tr><tr><td>&quot;Arctic Archie&quot;</td><td>5</td><td>26</td><td>603.595886</td><td>19910</td><td>2021-02-04 06:15:00</td><td>&quot;INJURED&quot;</td><td>&quot;SENIOR&quot;</td></tr><tr><td>&quot;Icy Ingrid&quot;</td><td>4</td><td>0</td><td>31.844097</td><td>19982</td><td>2021-04-13 06:15:00</td><td>&quot;HEALTHY&quot;</td><td>&quot;CUB&quot;</td></tr><tr><td>&hellip;</td><td>&hellip;</td><td>&hellip;</td><td>&hellip;</td><td>&hellip;</td><td>&hellip;</td><td>&hellip;</td><td>&hellip;</td></tr><tr><td>&quot;Chilly Willy&quot;</td><td>4</td><td>8</td><td>496.30188</td><td>19991</td><td>2023-06-30 06:15:00</td><td>&quot;HEALTHY&quot;</td><td>&quot;ADULT&quot;</td></tr><tr><td>&quot;Icy Ingrid&quot;</td><td>1</td><td>3</td><td>271.402832</td><td>19667</td><td>2024-01-26 06:15:00</td><td>&quot;SICK&quot;</td><td>&quot;JUV&quot;</td></tr><tr><td>&quot;Blizzard Bob&quot;</td><td>2</td><td>39</td><td>876.487671</td><td>19834</td><td>2024-03-18 06:15:00</td><td>&quot;HEALTHY&quot;</td><td>&quot;SENIOR&quot;</td></tr><tr><td>&quot;Chilly Willy&quot;</td><td>3</td><td>9</td><td>489.563416</td><td>19314</td><td>2024-03-24 06:15:00</td><td>&quot;INJURED&quot;</td><td>&quot;ADULT&quot;</td></tr><tr><td>&quot;Cubby Coldpaws&quot;</td><td>4</td><td>0</td><td>2.103115</td><td>19520</td><td>2024-04-07 06:15:00</td><td>&quot;SICK&quot;</td><td>&quot;CUB&quot;</td></tr></tbody></table></div>"
      ],
      "text/plain": [
       "shape: (19, 8)\n",
       "┌───────────────┬─────┬─────┬────────────┬─────────────┬───────────────┬──────────────┬────────────┐\n",
       "│ name          ┆ vet ┆ age ┆ weight     ┆ daily_steps ┆ timestamp     ┆ vet_health_c ┆ life_stage │\n",
       "│ ---           ┆ --- ┆ --- ┆ ---        ┆ ---         ┆ ---           ┆ heck         ┆ ---        │\n",
       "│ str           ┆ i8  ┆ i8  ┆ f32        ┆ i16         ┆ datetime[μs]  ┆ ---          ┆ str        │\n",
       "│               ┆     ┆     ┆            ┆             ┆               ┆ str          ┆            │\n",
       "╞═══════════════╪═════╪═════╪════════════╪═════════════╪═══════════════╪══════════════╪════════════╡\n",
       "│ Chilly Willy  ┆ 3   ┆ 5   ┆ 516.934692 ┆ 19939       ┆ 2020-07-17    ┆ INJURED      ┆ ADULT      │\n",
       "│               ┆     ┆     ┆            ┆             ┆ 06:15:00      ┆              ┆            │\n",
       "│ Blizzard Bob  ┆ 2   ┆ 35  ┆ 847.644836 ┆ 19899       ┆ 2020-07-25    ┆ INJURED      ┆ SENIOR     │\n",
       "│               ┆     ┆     ┆            ┆             ┆ 06:15:00      ┆              ┆            │\n",
       "│ Icy Ingrid    ┆ 1   ┆ 0   ┆ 4.280061   ┆ 19191       ┆ 2020-10-25    ┆ SICK         ┆ CUB        │\n",
       "│               ┆     ┆     ┆            ┆             ┆ 06:15:00      ┆              ┆            │\n",
       "│ Arctic Archie ┆ 5   ┆ 26  ┆ 603.595886 ┆ 19910       ┆ 2021-02-04    ┆ INJURED      ┆ SENIOR     │\n",
       "│               ┆     ┆     ┆            ┆             ┆ 06:15:00      ┆              ┆            │\n",
       "│ Icy Ingrid    ┆ 4   ┆ 0   ┆ 31.844097  ┆ 19982       ┆ 2021-04-13    ┆ HEALTHY      ┆ CUB        │\n",
       "│               ┆     ┆     ┆            ┆             ┆ 06:15:00      ┆              ┆            │\n",
       "│ …             ┆ …   ┆ …   ┆ …          ┆ …           ┆ …             ┆ …            ┆ …          │\n",
       "│ Chilly Willy  ┆ 4   ┆ 8   ┆ 496.30188  ┆ 19991       ┆ 2023-06-30    ┆ HEALTHY      ┆ ADULT      │\n",
       "│               ┆     ┆     ┆            ┆             ┆ 06:15:00      ┆              ┆            │\n",
       "│ Icy Ingrid    ┆ 1   ┆ 3   ┆ 271.402832 ┆ 19667       ┆ 2024-01-26    ┆ SICK         ┆ JUV        │\n",
       "│               ┆     ┆     ┆            ┆             ┆ 06:15:00      ┆              ┆            │\n",
       "│ Blizzard Bob  ┆ 2   ┆ 39  ┆ 876.487671 ┆ 19834       ┆ 2024-03-18    ┆ HEALTHY      ┆ SENIOR     │\n",
       "│               ┆     ┆     ┆            ┆             ┆ 06:15:00      ┆              ┆            │\n",
       "│ Chilly Willy  ┆ 3   ┆ 9   ┆ 489.563416 ┆ 19314       ┆ 2024-03-24    ┆ INJURED      ┆ ADULT      │\n",
       "│               ┆     ┆     ┆            ┆             ┆ 06:15:00      ┆              ┆            │\n",
       "│ Cubby         ┆ 4   ┆ 0   ┆ 2.103115   ┆ 19520       ┆ 2024-04-07    ┆ SICK         ┆ CUB        │\n",
       "│ Coldpaws      ┆     ┆     ┆            ┆             ┆ 06:15:00      ┆              ┆            │\n",
       "└───────────────┴─────┴─────┴────────────┴─────────────┴───────────────┴──────────────┴────────────┘"
      ]
     },
     "execution_count": 9,
     "metadata": {},
     "output_type": "execute_result"
    }
   ],
   "source": [
    "batch_measurements.filter(\n",
    "    pl.col(\"daily_steps\")\n",
    "    == pl.col(\"daily_steps\").max().over(pl.col(\"timestamp\").dt.year(), \"life_stage\")\n",
    ")"
   ]
  },
  {
   "cell_type": "markdown",
   "metadata": {},
   "source": [
    "- Find out which bears were more/less anxious (higher/lower blood pressure) than average after New Year's Eve (fireworks)?"
   ]
  },
  {
   "cell_type": "code",
   "execution_count": 10,
   "metadata": {},
   "outputs": [
    {
     "data": {
      "text/html": [
       "<div><style>\n",
       ".dataframe > thead > tr,\n",
       ".dataframe > tbody > tr {\n",
       "  text-align: right;\n",
       "  white-space: pre-wrap;\n",
       "}\n",
       "</style>\n",
       "<small>shape: (5, 3)</small><table border=\"1\" class=\"dataframe\"><thead><tr><th>name</th><th>lower than average</th><th>higher than average</th></tr><tr><td>str</td><td>u32</td><td>u32</td></tr></thead><tbody><tr><td>&quot;Blizzard Bob&quot;</td><td>50</td><td>46</td></tr><tr><td>&quot;Icy Ingrid&quot;</td><td>47</td><td>49</td></tr><tr><td>&quot;Peter Panda&quot;</td><td>26</td><td>22</td></tr><tr><td>&quot;Chilly Willy&quot;</td><td>46</td><td>50</td></tr><tr><td>&quot;Arctic Archie&quot;</td><td>58</td><td>38</td></tr></tbody></table></div>"
      ],
      "text/plain": [
       "shape: (5, 3)\n",
       "┌───────────────┬────────────────────┬─────────────────────┐\n",
       "│ name          ┆ lower than average ┆ higher than average │\n",
       "│ ---           ┆ ---                ┆ ---                 │\n",
       "│ str           ┆ u32                ┆ u32                 │\n",
       "╞═══════════════╪════════════════════╪═════════════════════╡\n",
       "│ Blizzard Bob  ┆ 50                 ┆ 46                  │\n",
       "│ Icy Ingrid    ┆ 47                 ┆ 49                  │\n",
       "│ Peter Panda   ┆ 26                 ┆ 22                  │\n",
       "│ Chilly Willy  ┆ 46                 ┆ 50                  │\n",
       "│ Arctic Archie ┆ 58                 ┆ 38                  │\n",
       "└───────────────┴────────────────────┴─────────────────────┘"
      ]
     },
     "execution_count": 10,
     "metadata": {},
     "output_type": "execute_result"
    }
   ],
   "source": [
    "measurements.with_columns(\n",
    "    (pl.col(\"blood_pressure\") < pl.col(\"blood_pressure\").mean()).alias(\n",
    "        \"lower than average\"\n",
    "    ),\n",
    "    (pl.col(\"blood_pressure\") > pl.col(\"blood_pressure\").mean()).alias(\n",
    "        \"higher than average\"\n",
    "    ),\n",
    ").filter(\n",
    "    pl.col(\"timestamp\").dt.month() == 1, pl.col(\"timestamp\").dt.day() == 1\n",
    ").group_by(\n",
    "    \"name\"\n",
    ").agg(\n",
    "    pl.col(\"lower than average\", \"higher than average\").sum()\n",
    ")"
   ]
  },
  {
   "cell_type": "markdown",
   "metadata": {},
   "source": [
    "- Which polar bear has the highest risk of becoming a diabetic? (polar bears have a higher risk of becoming diabetic after going through a high blood sugar level episode. An episode is defined as a three-day or longer period of an average daily bgl of 200)"
   ]
  },
  {
   "cell_type": "markdown",
   "metadata": {},
   "source": [
    "Approximate solution with group by:"
   ]
  },
  {
   "cell_type": "code",
   "execution_count": 11,
   "metadata": {},
   "outputs": [
    {
     "data": {
      "text/html": [
       "<div><style>\n",
       ".dataframe > thead > tr,\n",
       ".dataframe > tbody > tr {\n",
       "  text-align: right;\n",
       "  white-space: pre-wrap;\n",
       "}\n",
       "</style>\n",
       "<small>shape: (6, 2)</small><table border=\"1\" class=\"dataframe\"><thead><tr><th>name</th><th>blood_glucose</th></tr><tr><td>str</td><td>u32</td></tr></thead><tbody><tr><td>&quot;Peter Panda&quot;</td><td>992</td></tr><tr><td>&quot;Blizzard Bob&quot;</td><td>36</td></tr><tr><td>&quot;Icy Ingrid&quot;</td><td>0</td></tr><tr><td>&quot;Cubby Coldpaws&quot;</td><td>0</td></tr><tr><td>&quot;Chilly Willy&quot;</td><td>0</td></tr><tr><td>&quot;Arctic Archie&quot;</td><td>0</td></tr></tbody></table></div>"
      ],
      "text/plain": [
       "shape: (6, 2)\n",
       "┌────────────────┬───────────────┐\n",
       "│ name           ┆ blood_glucose │\n",
       "│ ---            ┆ ---           │\n",
       "│ str            ┆ u32           │\n",
       "╞════════════════╪═══════════════╡\n",
       "│ Peter Panda    ┆ 992           │\n",
       "│ Blizzard Bob   ┆ 36            │\n",
       "│ Icy Ingrid     ┆ 0             │\n",
       "│ Cubby Coldpaws ┆ 0             │\n",
       "│ Chilly Willy   ┆ 0             │\n",
       "│ Arctic Archie  ┆ 0             │\n",
       "└────────────────┴───────────────┘"
      ]
     },
     "execution_count": 11,
     "metadata": {},
     "output_type": "execute_result"
    }
   ],
   "source": [
    "measurements.select(\"name\", \"timestamp\", \"blood_glucose\").group_by_dynamic(\n",
    "    index_column=\"timestamp\", every=\"1d\", period=\"1d\", group_by=\"name\"\n",
    ").agg(pl.col(\"blood_glucose\").mean()).with_columns(\n",
    "    pl.col(\"blood_glucose\") > 200\n",
    ").rolling(\n",
    "    index_column=\"timestamp\", period=\"3d\", group_by=\"name\"\n",
    ").agg(\n",
    "    pl.col(\"blood_glucose\").sum()\n",
    ").select(\n",
    "    \"name\", \"blood_glucose\"\n",
    ").group_by(\n",
    "    \"name\"\n",
    ").sum().sort(\n",
    "    \"blood_glucose\", \"name\", descending=True\n",
    ")"
   ]
  },
  {
   "cell_type": "markdown",
   "metadata": {},
   "source": [
    "Correct solution, with `rle`"
   ]
  },
  {
   "cell_type": "code",
   "execution_count": 12,
   "metadata": {},
   "outputs": [
    {
     "data": {
      "text/html": [
       "<div><style>\n",
       ".dataframe > thead > tr,\n",
       ".dataframe > tbody > tr {\n",
       "  text-align: right;\n",
       "  white-space: pre-wrap;\n",
       "}\n",
       "</style>\n",
       "<small>shape: (1, 3)</small><table border=\"1\" class=\"dataframe\"><thead><tr><th>name</th><th>total days in episodes</th><th>number of episodes</th></tr><tr><td>str</td><td>i32</td><td>u32</td></tr></thead><tbody><tr><td>&quot;Peter Panda&quot;</td><td>129</td><td>38</td></tr></tbody></table></div>"
      ],
      "text/plain": [
       "shape: (1, 3)\n",
       "┌─────────────┬────────────────────────┬────────────────────┐\n",
       "│ name        ┆ total days in episodes ┆ number of episodes │\n",
       "│ ---         ┆ ---                    ┆ ---                │\n",
       "│ str         ┆ i32                    ┆ u32                │\n",
       "╞═════════════╪════════════════════════╪════════════════════╡\n",
       "│ Peter Panda ┆ 129                    ┆ 38                 │\n",
       "└─────────────┴────────────────────────┴────────────────────┘"
      ]
     },
     "execution_count": 12,
     "metadata": {},
     "output_type": "execute_result"
    }
   ],
   "source": [
    "measurements.select(\"name\", \"timestamp\", \"blood_glucose\").group_by_dynamic(\n",
    "    index_column=\"timestamp\", every=\"1d\", period=\"1d\", group_by=\"name\"\n",
    ").agg(pl.col(\"blood_glucose\").mean()).with_columns(\n",
    "    pl.col(\"blood_glucose\") > 200\n",
    ").group_by(\n",
    "    \"name\"\n",
    ").agg(\n",
    "    pl.col(\"blood_glucose\").rle()\n",
    ").explode(\n",
    "    \"blood_glucose\"\n",
    ").unnest(\n",
    "    \"blood_glucose\"\n",
    ").filter(\n",
    "    pl.col(\"lengths\") > 2, \"values\"\n",
    ").group_by(\n",
    "    \"name\"\n",
    ").sum().sort(\n",
    "    \"values\", \"name\", descending=True\n",
    ").rename(\n",
    "    {\"lengths\": \"total days in episodes\", \"values\": \"number of episodes\"}\n",
    ")"
   ]
  },
  {
   "cell_type": "code",
   "execution_count": 13,
   "metadata": {},
   "outputs": [
    {
     "name": "stdout",
     "output_type": "stream",
     "text": [
      "%opts magic unavailable (pyparsing cannot be imported)\n",
      "%compositor magic unavailable (pyparsing cannot be imported)\n"
     ]
    },
    {
     "data": {
      "application/javascript": "(function(root) {\n  function now() {\n    return new Date();\n  }\n\n  var force = true;\n  var py_version = '3.4.1'.replace('rc', '-rc.').replace('.dev', '-dev.');\n  var reloading = false;\n  var Bokeh = root.Bokeh;\n\n  if (typeof (root._bokeh_timeout) === \"undefined\" || force) {\n    root._bokeh_timeout = Date.now() + 5000;\n    root._bokeh_failed_load = false;\n  }\n\n  function run_callbacks() {\n    try {\n      root._bokeh_onload_callbacks.forEach(function(callback) {\n        if (callback != null)\n          callback();\n      });\n    } finally {\n      delete root._bokeh_onload_callbacks;\n    }\n    console.debug(\"Bokeh: all callbacks have finished\");\n  }\n\n  function load_libs(css_urls, js_urls, js_modules, js_exports, callback) {\n    if (css_urls == null) css_urls = [];\n    if (js_urls == null) js_urls = [];\n    if (js_modules == null) js_modules = [];\n    if (js_exports == null) js_exports = {};\n\n    root._bokeh_onload_callbacks.push(callback);\n\n    if (root._bokeh_is_loading > 0) {\n      console.debug(\"Bokeh: BokehJS is being loaded, scheduling callback at\", now());\n      return null;\n    }\n    if (js_urls.length === 0 && js_modules.length === 0 && Object.keys(js_exports).length === 0) {\n      run_callbacks();\n      return null;\n    }\n    if (!reloading) {\n      console.debug(\"Bokeh: BokehJS not loaded, scheduling load and callback at\", now());\n    }\n\n    function on_load() {\n      root._bokeh_is_loading--;\n      if (root._bokeh_is_loading === 0) {\n        console.debug(\"Bokeh: all BokehJS libraries/stylesheets loaded\");\n        run_callbacks()\n      }\n    }\n    window._bokeh_on_load = on_load\n\n    function on_error() {\n      console.error(\"failed to load \" + url);\n    }\n\n    var skip = [];\n    if (window.requirejs) {\n      window.requirejs.config({'packages': {}, 'paths': {}, 'shim': {}});\n      root._bokeh_is_loading = css_urls.length + 0;\n    } else {\n      root._bokeh_is_loading = css_urls.length + js_urls.length + js_modules.length + Object.keys(js_exports).length;\n    }\n\n    var existing_stylesheets = []\n    var links = document.getElementsByTagName('link')\n    for (var i = 0; i < links.length; i++) {\n      var link = links[i]\n      if (link.href != null) {\n\texisting_stylesheets.push(link.href)\n      }\n    }\n    for (var i = 0; i < css_urls.length; i++) {\n      var url = css_urls[i];\n      if (existing_stylesheets.indexOf(url) !== -1) {\n\ton_load()\n\tcontinue;\n      }\n      const element = document.createElement(\"link\");\n      element.onload = on_load;\n      element.onerror = on_error;\n      element.rel = \"stylesheet\";\n      element.type = \"text/css\";\n      element.href = url;\n      console.debug(\"Bokeh: injecting link tag for BokehJS stylesheet: \", url);\n      document.body.appendChild(element);\n    }    var existing_scripts = []\n    var scripts = document.getElementsByTagName('script')\n    for (var i = 0; i < scripts.length; i++) {\n      var script = scripts[i]\n      if (script.src != null) {\n\texisting_scripts.push(script.src)\n      }\n    }\n    for (var i = 0; i < js_urls.length; i++) {\n      var url = js_urls[i];\n      if (skip.indexOf(url) !== -1 || existing_scripts.indexOf(url) !== -1) {\n\tif (!window.requirejs) {\n\t  on_load();\n\t}\n\tcontinue;\n      }\n      var element = document.createElement('script');\n      element.onload = on_load;\n      element.onerror = on_error;\n      element.async = false;\n      element.src = url;\n      console.debug(\"Bokeh: injecting script tag for BokehJS library: \", url);\n      document.head.appendChild(element);\n    }\n    for (var i = 0; i < js_modules.length; i++) {\n      var url = js_modules[i];\n      if (skip.indexOf(url) !== -1 || existing_scripts.indexOf(url) !== -1) {\n\tif (!window.requirejs) {\n\t  on_load();\n\t}\n\tcontinue;\n      }\n      var element = document.createElement('script');\n      element.onload = on_load;\n      element.onerror = on_error;\n      element.async = false;\n      element.src = url;\n      element.type = \"module\";\n      console.debug(\"Bokeh: injecting script tag for BokehJS library: \", url);\n      document.head.appendChild(element);\n    }\n    for (const name in js_exports) {\n      var url = js_exports[name];\n      if (skip.indexOf(url) >= 0 || root[name] != null) {\n\tif (!window.requirejs) {\n\t  on_load();\n\t}\n\tcontinue;\n      }\n      var element = document.createElement('script');\n      element.onerror = on_error;\n      element.async = false;\n      element.type = \"module\";\n      console.debug(\"Bokeh: injecting script tag for BokehJS library: \", url);\n      element.textContent = `\n      import ${name} from \"${url}\"\n      window.${name} = ${name}\n      window._bokeh_on_load()\n      `\n      document.head.appendChild(element);\n    }\n    if (!js_urls.length && !js_modules.length) {\n      on_load()\n    }\n  };\n\n  function inject_raw_css(css) {\n    const element = document.createElement(\"style\");\n    element.appendChild(document.createTextNode(css));\n    document.body.appendChild(element);\n  }\n\n  var js_urls = [\"https://cdn.bokeh.org/bokeh/release/bokeh-3.4.1.min.js\", \"https://cdn.bokeh.org/bokeh/release/bokeh-gl-3.4.1.min.js\", \"https://cdn.bokeh.org/bokeh/release/bokeh-widgets-3.4.1.min.js\", \"https://cdn.bokeh.org/bokeh/release/bokeh-tables-3.4.1.min.js\", \"https://cdn.holoviz.org/panel/1.4.2/dist/panel.min.js\"];\n  var js_modules = [];\n  var js_exports = {};\n  var css_urls = [];\n  var inline_js = [    function(Bokeh) {\n      Bokeh.set_log_level(\"info\");\n    },\nfunction(Bokeh) {} // ensure no trailing comma for IE\n  ];\n\n  function run_inline_js() {\n    if ((root.Bokeh !== undefined) || (force === true)) {\n      for (var i = 0; i < inline_js.length; i++) {\n\ttry {\n          inline_js[i].call(root, root.Bokeh);\n\t} catch(e) {\n\t  if (!reloading) {\n\t    throw e;\n\t  }\n\t}\n      }\n      // Cache old bokeh versions\n      if (Bokeh != undefined && !reloading) {\n\tvar NewBokeh = root.Bokeh;\n\tif (Bokeh.versions === undefined) {\n\t  Bokeh.versions = new Map();\n\t}\n\tif (NewBokeh.version !== Bokeh.version) {\n\t  Bokeh.versions.set(NewBokeh.version, NewBokeh)\n\t}\n\troot.Bokeh = Bokeh;\n      }} else if (Date.now() < root._bokeh_timeout) {\n      setTimeout(run_inline_js, 100);\n    } else if (!root._bokeh_failed_load) {\n      console.log(\"Bokeh: BokehJS failed to load within specified timeout.\");\n      root._bokeh_failed_load = true;\n    }\n    root._bokeh_is_initializing = false\n  }\n\n  function load_or_wait() {\n    // Implement a backoff loop that tries to ensure we do not load multiple\n    // versions of Bokeh and its dependencies at the same time.\n    // In recent versions we use the root._bokeh_is_initializing flag\n    // to determine whether there is an ongoing attempt to initialize\n    // bokeh, however for backward compatibility we also try to ensure\n    // that we do not start loading a newer (Panel>=1.0 and Bokeh>3) version\n    // before older versions are fully initialized.\n    if (root._bokeh_is_initializing && Date.now() > root._bokeh_timeout) {\n      root._bokeh_is_initializing = false;\n      root._bokeh_onload_callbacks = undefined;\n      console.log(\"Bokeh: BokehJS was loaded multiple times but one version failed to initialize.\");\n      load_or_wait();\n    } else if (root._bokeh_is_initializing || (typeof root._bokeh_is_initializing === \"undefined\" && root._bokeh_onload_callbacks !== undefined)) {\n      setTimeout(load_or_wait, 100);\n    } else {\n      root._bokeh_is_initializing = true\n      root._bokeh_onload_callbacks = []\n      var bokeh_loaded = Bokeh != null && (Bokeh.version === py_version || (Bokeh.versions !== undefined && Bokeh.versions.has(py_version)));\n      if (!reloading && !bokeh_loaded) {\n\troot.Bokeh = undefined;\n      }\n      load_libs(css_urls, js_urls, js_modules, js_exports, function() {\n\tconsole.debug(\"Bokeh: BokehJS plotting callback run at\", now());\n\trun_inline_js();\n      });\n    }\n  }\n  // Give older versions of the autoload script a head-start to ensure\n  // they initialize before we start loading newer version.\n  setTimeout(load_or_wait, 100)\n}(window));",
      "application/vnd.holoviews_load.v0+json": ""
     },
     "metadata": {},
     "output_type": "display_data"
    },
    {
     "data": {
      "application/javascript": "\nif ((window.PyViz === undefined) || (window.PyViz instanceof HTMLElement)) {\n  window.PyViz = {comms: {}, comm_status:{}, kernels:{}, receivers: {}, plot_index: []}\n}\n\n\n    function JupyterCommManager() {\n    }\n\n    JupyterCommManager.prototype.register_target = function(plot_id, comm_id, msg_handler) {\n      if (window.comm_manager || ((window.Jupyter !== undefined) && (Jupyter.notebook.kernel != null))) {\n        var comm_manager = window.comm_manager || Jupyter.notebook.kernel.comm_manager;\n        comm_manager.register_target(comm_id, function(comm) {\n          comm.on_msg(msg_handler);\n        });\n      } else if ((plot_id in window.PyViz.kernels) && (window.PyViz.kernels[plot_id])) {\n        window.PyViz.kernels[plot_id].registerCommTarget(comm_id, function(comm) {\n          comm.onMsg = msg_handler;\n        });\n      } else if (typeof google != 'undefined' && google.colab.kernel != null) {\n        google.colab.kernel.comms.registerTarget(comm_id, (comm) => {\n          var messages = comm.messages[Symbol.asyncIterator]();\n          function processIteratorResult(result) {\n            var message = result.value;\n            console.log(message)\n            var content = {data: message.data, comm_id};\n            var buffers = []\n            for (var buffer of message.buffers || []) {\n              buffers.push(new DataView(buffer))\n            }\n            var metadata = message.metadata || {};\n            var msg = {content, buffers, metadata}\n            msg_handler(msg);\n            return messages.next().then(processIteratorResult);\n          }\n          return messages.next().then(processIteratorResult);\n        })\n      }\n    }\n\n    JupyterCommManager.prototype.get_client_comm = function(plot_id, comm_id, msg_handler) {\n      if (comm_id in window.PyViz.comms) {\n        return window.PyViz.comms[comm_id];\n      } else if (window.comm_manager || ((window.Jupyter !== undefined) && (Jupyter.notebook.kernel != null))) {\n        var comm_manager = window.comm_manager || Jupyter.notebook.kernel.comm_manager;\n        var comm = comm_manager.new_comm(comm_id, {}, {}, {}, comm_id);\n        if (msg_handler) {\n          comm.on_msg(msg_handler);\n        }\n      } else if ((plot_id in window.PyViz.kernels) && (window.PyViz.kernels[plot_id])) {\n        var comm = window.PyViz.kernels[plot_id].connectToComm(comm_id);\n        comm.open();\n        if (msg_handler) {\n          comm.onMsg = msg_handler;\n        }\n      } else if (typeof google != 'undefined' && google.colab.kernel != null) {\n        var comm_promise = google.colab.kernel.comms.open(comm_id)\n        comm_promise.then((comm) => {\n          window.PyViz.comms[comm_id] = comm;\n          if (msg_handler) {\n            var messages = comm.messages[Symbol.asyncIterator]();\n            function processIteratorResult(result) {\n              var message = result.value;\n              var content = {data: message.data};\n              var metadata = message.metadata || {comm_id};\n              var msg = {content, metadata}\n              msg_handler(msg);\n              return messages.next().then(processIteratorResult);\n            }\n            return messages.next().then(processIteratorResult);\n          }\n        }) \n        var sendClosure = (data, metadata, buffers, disposeOnDone) => {\n          return comm_promise.then((comm) => {\n            comm.send(data, metadata, buffers, disposeOnDone);\n          });\n        };\n        var comm = {\n          send: sendClosure\n        };\n      }\n      window.PyViz.comms[comm_id] = comm;\n      return comm;\n    }\n    window.PyViz.comm_manager = new JupyterCommManager();\n    \n\n\nvar JS_MIME_TYPE = 'application/javascript';\nvar HTML_MIME_TYPE = 'text/html';\nvar EXEC_MIME_TYPE = 'application/vnd.holoviews_exec.v0+json';\nvar CLASS_NAME = 'output';\n\n/**\n * Render data to the DOM node\n */\nfunction render(props, node) {\n  var div = document.createElement(\"div\");\n  var script = document.createElement(\"script\");\n  node.appendChild(div);\n  node.appendChild(script);\n}\n\n/**\n * Handle when a new output is added\n */\nfunction handle_add_output(event, handle) {\n  var output_area = handle.output_area;\n  var output = handle.output;\n  if ((output.data == undefined) || (!output.data.hasOwnProperty(EXEC_MIME_TYPE))) {\n    return\n  }\n  var id = output.metadata[EXEC_MIME_TYPE][\"id\"];\n  var toinsert = output_area.element.find(\".\" + CLASS_NAME.split(' ')[0]);\n  if (id !== undefined) {\n    var nchildren = toinsert.length;\n    var html_node = toinsert[nchildren-1].children[0];\n    html_node.innerHTML = output.data[HTML_MIME_TYPE];\n    var scripts = [];\n    var nodelist = html_node.querySelectorAll(\"script\");\n    for (var i in nodelist) {\n      if (nodelist.hasOwnProperty(i)) {\n        scripts.push(nodelist[i])\n      }\n    }\n\n    scripts.forEach( function (oldScript) {\n      var newScript = document.createElement(\"script\");\n      var attrs = [];\n      var nodemap = oldScript.attributes;\n      for (var j in nodemap) {\n        if (nodemap.hasOwnProperty(j)) {\n          attrs.push(nodemap[j])\n        }\n      }\n      attrs.forEach(function(attr) { newScript.setAttribute(attr.name, attr.value) });\n      newScript.appendChild(document.createTextNode(oldScript.innerHTML));\n      oldScript.parentNode.replaceChild(newScript, oldScript);\n    });\n    if (JS_MIME_TYPE in output.data) {\n      toinsert[nchildren-1].children[1].textContent = output.data[JS_MIME_TYPE];\n    }\n    output_area._hv_plot_id = id;\n    if ((window.Bokeh !== undefined) && (id in Bokeh.index)) {\n      window.PyViz.plot_index[id] = Bokeh.index[id];\n    } else {\n      window.PyViz.plot_index[id] = null;\n    }\n  } else if (output.metadata[EXEC_MIME_TYPE][\"server_id\"] !== undefined) {\n    var bk_div = document.createElement(\"div\");\n    bk_div.innerHTML = output.data[HTML_MIME_TYPE];\n    var script_attrs = bk_div.children[0].attributes;\n    for (var i = 0; i < script_attrs.length; i++) {\n      toinsert[toinsert.length - 1].childNodes[1].setAttribute(script_attrs[i].name, script_attrs[i].value);\n    }\n    // store reference to server id on output_area\n    output_area._bokeh_server_id = output.metadata[EXEC_MIME_TYPE][\"server_id\"];\n  }\n}\n\n/**\n * Handle when an output is cleared or removed\n */\nfunction handle_clear_output(event, handle) {\n  var id = handle.cell.output_area._hv_plot_id;\n  var server_id = handle.cell.output_area._bokeh_server_id;\n  if (((id === undefined) || !(id in PyViz.plot_index)) && (server_id !== undefined)) { return; }\n  var comm = window.PyViz.comm_manager.get_client_comm(\"hv-extension-comm\", \"hv-extension-comm\", function () {});\n  if (server_id !== null) {\n    comm.send({event_type: 'server_delete', 'id': server_id});\n    return;\n  } else if (comm !== null) {\n    comm.send({event_type: 'delete', 'id': id});\n  }\n  delete PyViz.plot_index[id];\n  if ((window.Bokeh !== undefined) & (id in window.Bokeh.index)) {\n    var doc = window.Bokeh.index[id].model.document\n    doc.clear();\n    const i = window.Bokeh.documents.indexOf(doc);\n    if (i > -1) {\n      window.Bokeh.documents.splice(i, 1);\n    }\n  }\n}\n\n/**\n * Handle kernel restart event\n */\nfunction handle_kernel_cleanup(event, handle) {\n  delete PyViz.comms[\"hv-extension-comm\"];\n  window.PyViz.plot_index = {}\n}\n\n/**\n * Handle update_display_data messages\n */\nfunction handle_update_output(event, handle) {\n  handle_clear_output(event, {cell: {output_area: handle.output_area}})\n  handle_add_output(event, handle)\n}\n\nfunction register_renderer(events, OutputArea) {\n  function append_mime(data, metadata, element) {\n    // create a DOM node to render to\n    var toinsert = this.create_output_subarea(\n    metadata,\n    CLASS_NAME,\n    EXEC_MIME_TYPE\n    );\n    this.keyboard_manager.register_events(toinsert);\n    // Render to node\n    var props = {data: data, metadata: metadata[EXEC_MIME_TYPE]};\n    render(props, toinsert[0]);\n    element.append(toinsert);\n    return toinsert\n  }\n\n  events.on('output_added.OutputArea', handle_add_output);\n  events.on('output_updated.OutputArea', handle_update_output);\n  events.on('clear_output.CodeCell', handle_clear_output);\n  events.on('delete.Cell', handle_clear_output);\n  events.on('kernel_ready.Kernel', handle_kernel_cleanup);\n\n  OutputArea.prototype.register_mime_type(EXEC_MIME_TYPE, append_mime, {\n    safe: true,\n    index: 0\n  });\n}\n\nif (window.Jupyter !== undefined) {\n  try {\n    var events = require('base/js/events');\n    var OutputArea = require('notebook/js/outputarea').OutputArea;\n    if (OutputArea.prototype.mime_types().indexOf(EXEC_MIME_TYPE) == -1) {\n      register_renderer(events, OutputArea);\n    }\n  } catch(err) {\n  }\n}\n",
      "application/vnd.holoviews_load.v0+json": ""
     },
     "metadata": {},
     "output_type": "display_data"
    },
    {
     "data": {
      "text/html": [
       "<style>*[data-root-id],\n",
       "*[data-root-id] > * {\n",
       "  box-sizing: border-box;\n",
       "  font-family: var(--jp-ui-font-family);\n",
       "  font-size: var(--jp-ui-font-size1);\n",
       "  color: var(--vscode-editor-foreground, var(--jp-ui-font-color1));\n",
       "}\n",
       "\n",
       "/* Override VSCode background color */\n",
       ".cell-output-ipywidget-background:has(\n",
       "    > .cell-output-ipywidget-background > .lm-Widget > *[data-root-id]\n",
       "  ),\n",
       ".cell-output-ipywidget-background:has(> .lm-Widget > *[data-root-id]) {\n",
       "  background-color: transparent !important;\n",
       "}\n",
       "</style>"
      ]
     },
     "metadata": {},
     "output_type": "display_data"
    },
    {
     "data": {
      "application/vnd.holoviews_exec.v0+json": "",
      "text/html": [
       "<div id='p1002'>\n",
       "  <div id=\"f7f735cb-9589-4eb7-819c-3ea6c2d47eb9\" data-root-id=\"p1002\" style=\"display: contents;\"></div>\n",
       "</div>\n",
       "<script type=\"application/javascript\">(function(root) {\n",
       "  var docs_json = {\"ba05f3ea-463b-4ed8-8114-5d32f4aa5b41\":{\"version\":\"3.4.1\",\"title\":\"Bokeh Application\",\"roots\":[{\"type\":\"object\",\"name\":\"panel.models.browser.BrowserInfo\",\"id\":\"p1002\"},{\"type\":\"object\",\"name\":\"panel.models.comm_manager.CommManager\",\"id\":\"p1003\",\"attributes\":{\"plot_id\":\"p1002\",\"comm_id\":\"86daea1570c744ba860c76f06bd000f9\",\"client_comm_id\":\"20e4a9615343461f9870529cd8c3adfc\"}}],\"defs\":[{\"type\":\"model\",\"name\":\"ReactiveHTML1\"},{\"type\":\"model\",\"name\":\"FlexBox1\",\"properties\":[{\"name\":\"align_content\",\"kind\":\"Any\",\"default\":\"flex-start\"},{\"name\":\"align_items\",\"kind\":\"Any\",\"default\":\"flex-start\"},{\"name\":\"flex_direction\",\"kind\":\"Any\",\"default\":\"row\"},{\"name\":\"flex_wrap\",\"kind\":\"Any\",\"default\":\"wrap\"},{\"name\":\"gap\",\"kind\":\"Any\",\"default\":\"\"},{\"name\":\"justify_content\",\"kind\":\"Any\",\"default\":\"flex-start\"}]},{\"type\":\"model\",\"name\":\"FloatPanel1\",\"properties\":[{\"name\":\"config\",\"kind\":\"Any\",\"default\":{\"type\":\"map\"}},{\"name\":\"contained\",\"kind\":\"Any\",\"default\":true},{\"name\":\"position\",\"kind\":\"Any\",\"default\":\"right-top\"},{\"name\":\"offsetx\",\"kind\":\"Any\",\"default\":null},{\"name\":\"offsety\",\"kind\":\"Any\",\"default\":null},{\"name\":\"theme\",\"kind\":\"Any\",\"default\":\"primary\"},{\"name\":\"status\",\"kind\":\"Any\",\"default\":\"normalized\"}]},{\"type\":\"model\",\"name\":\"GridStack1\",\"properties\":[{\"name\":\"mode\",\"kind\":\"Any\",\"default\":\"warn\"},{\"name\":\"ncols\",\"kind\":\"Any\",\"default\":null},{\"name\":\"nrows\",\"kind\":\"Any\",\"default\":null},{\"name\":\"allow_resize\",\"kind\":\"Any\",\"default\":true},{\"name\":\"allow_drag\",\"kind\":\"Any\",\"default\":true},{\"name\":\"state\",\"kind\":\"Any\",\"default\":[]}]},{\"type\":\"model\",\"name\":\"drag1\",\"properties\":[{\"name\":\"slider_width\",\"kind\":\"Any\",\"default\":5},{\"name\":\"slider_color\",\"kind\":\"Any\",\"default\":\"black\"},{\"name\":\"value\",\"kind\":\"Any\",\"default\":50}]},{\"type\":\"model\",\"name\":\"click1\",\"properties\":[{\"name\":\"terminal_output\",\"kind\":\"Any\",\"default\":\"\"},{\"name\":\"debug_name\",\"kind\":\"Any\",\"default\":\"\"},{\"name\":\"clears\",\"kind\":\"Any\",\"default\":0}]},{\"type\":\"model\",\"name\":\"FastWrapper1\",\"properties\":[{\"name\":\"object\",\"kind\":\"Any\",\"default\":null},{\"name\":\"style\",\"kind\":\"Any\",\"default\":null}]},{\"type\":\"model\",\"name\":\"NotificationAreaBase1\",\"properties\":[{\"name\":\"js_events\",\"kind\":\"Any\",\"default\":{\"type\":\"map\"}},{\"name\":\"position\",\"kind\":\"Any\",\"default\":\"bottom-right\"},{\"name\":\"_clear\",\"kind\":\"Any\",\"default\":0}]},{\"type\":\"model\",\"name\":\"NotificationArea1\",\"properties\":[{\"name\":\"js_events\",\"kind\":\"Any\",\"default\":{\"type\":\"map\"}},{\"name\":\"notifications\",\"kind\":\"Any\",\"default\":[]},{\"name\":\"position\",\"kind\":\"Any\",\"default\":\"bottom-right\"},{\"name\":\"_clear\",\"kind\":\"Any\",\"default\":0},{\"name\":\"types\",\"kind\":\"Any\",\"default\":[{\"type\":\"map\",\"entries\":[[\"type\",\"warning\"],[\"background\",\"#ffc107\"],[\"icon\",{\"type\":\"map\",\"entries\":[[\"className\",\"fas fa-exclamation-triangle\"],[\"tagName\",\"i\"],[\"color\",\"white\"]]}]]},{\"type\":\"map\",\"entries\":[[\"type\",\"info\"],[\"background\",\"#007bff\"],[\"icon\",{\"type\":\"map\",\"entries\":[[\"className\",\"fas fa-info-circle\"],[\"tagName\",\"i\"],[\"color\",\"white\"]]}]]}]}]},{\"type\":\"model\",\"name\":\"Notification\",\"properties\":[{\"name\":\"background\",\"kind\":\"Any\",\"default\":null},{\"name\":\"duration\",\"kind\":\"Any\",\"default\":3000},{\"name\":\"icon\",\"kind\":\"Any\",\"default\":null},{\"name\":\"message\",\"kind\":\"Any\",\"default\":\"\"},{\"name\":\"notification_type\",\"kind\":\"Any\",\"default\":null},{\"name\":\"_destroyed\",\"kind\":\"Any\",\"default\":false}]},{\"type\":\"model\",\"name\":\"TemplateActions1\",\"properties\":[{\"name\":\"open_modal\",\"kind\":\"Any\",\"default\":0},{\"name\":\"close_modal\",\"kind\":\"Any\",\"default\":0}]},{\"type\":\"model\",\"name\":\"BootstrapTemplateActions1\",\"properties\":[{\"name\":\"open_modal\",\"kind\":\"Any\",\"default\":0},{\"name\":\"close_modal\",\"kind\":\"Any\",\"default\":0}]},{\"type\":\"model\",\"name\":\"TemplateEditor1\",\"properties\":[{\"name\":\"layout\",\"kind\":\"Any\",\"default\":[]}]},{\"type\":\"model\",\"name\":\"MaterialTemplateActions1\",\"properties\":[{\"name\":\"open_modal\",\"kind\":\"Any\",\"default\":0},{\"name\":\"close_modal\",\"kind\":\"Any\",\"default\":0}]},{\"type\":\"model\",\"name\":\"copy_to_clipboard1\",\"properties\":[{\"name\":\"fill\",\"kind\":\"Any\",\"default\":\"none\"},{\"name\":\"value\",\"kind\":\"Any\",\"default\":null}]}]}};\n",
       "  var render_items = [{\"docid\":\"ba05f3ea-463b-4ed8-8114-5d32f4aa5b41\",\"roots\":{\"p1002\":\"f7f735cb-9589-4eb7-819c-3ea6c2d47eb9\"},\"root_ids\":[\"p1002\"]}];\n",
       "  var docs = Object.values(docs_json)\n",
       "  if (!docs) {\n",
       "    return\n",
       "  }\n",
       "  const py_version = docs[0].version.replace('rc', '-rc.').replace('.dev', '-dev.')\n",
       "  function embed_document(root) {\n",
       "    var Bokeh = get_bokeh(root)\n",
       "    Bokeh.embed.embed_items_notebook(docs_json, render_items);\n",
       "    for (const render_item of render_items) {\n",
       "      for (const root_id of render_item.root_ids) {\n",
       "\tconst id_el = document.getElementById(root_id)\n",
       "\tif (id_el.children.length && (id_el.children[0].className === 'bk-root')) {\n",
       "\t  const root_el = id_el.children[0]\n",
       "\t  root_el.id = root_el.id + '-rendered'\n",
       "\t}\n",
       "      }\n",
       "    }\n",
       "  }\n",
       "  function get_bokeh(root) {\n",
       "    if (root.Bokeh === undefined) {\n",
       "      return null\n",
       "    } else if (root.Bokeh.version !== py_version) {\n",
       "      if (root.Bokeh.versions === undefined || !root.Bokeh.versions.has(py_version)) {\n",
       "\treturn null\n",
       "      }\n",
       "      return root.Bokeh.versions.get(py_version);\n",
       "    } else if (root.Bokeh.version === py_version) {\n",
       "      return root.Bokeh\n",
       "    }\n",
       "    return null\n",
       "  }\n",
       "  function is_loaded(root) {\n",
       "    var Bokeh = get_bokeh(root)\n",
       "    return (Bokeh != null && Bokeh.Panel !== undefined)\n",
       "  }\n",
       "  if (is_loaded(root)) {\n",
       "    embed_document(root);\n",
       "  } else {\n",
       "    var attempts = 0;\n",
       "    var timer = setInterval(function(root) {\n",
       "      if (is_loaded(root)) {\n",
       "        clearInterval(timer);\n",
       "        embed_document(root);\n",
       "      } else if (document.readyState == \"complete\") {\n",
       "        attempts++;\n",
       "        if (attempts > 200) {\n",
       "          clearInterval(timer);\n",
       "\t  var Bokeh = get_bokeh(root)\n",
       "\t  if (Bokeh == null || Bokeh.Panel == null) {\n",
       "            console.warn(\"Panel: ERROR: Unable to run Panel code because Bokeh or Panel library is missing\");\n",
       "\t  } else {\n",
       "\t    console.warn(\"Panel: WARNING: Attempting to render but not all required libraries could be resolved.\")\n",
       "\t    embed_document(root)\n",
       "\t  }\n",
       "        }\n",
       "      }\n",
       "    }, 25, root)\n",
       "  }\n",
       "})(window);</script>"
      ]
     },
     "metadata": {
      "application/vnd.holoviews_exec.v0+json": {
       "id": "p1002"
      }
     },
     "output_type": "display_data"
    },
    {
     "data": {},
     "metadata": {},
     "output_type": "display_data"
    },
    {
     "data": {
      "application/vnd.holoviews_exec.v0+json": "",
      "text/html": [
       "<div id='p1004'>\n",
       "  <div id=\"ebab7780-dfba-4968-a1f0-05853c9124a7\" data-root-id=\"p1004\" style=\"display: contents;\"></div>\n",
       "</div>\n",
       "<script type=\"application/javascript\">(function(root) {\n",
       "  var docs_json = {\"9162cf9d-6366-47f1-9df7-174b081d9c27\":{\"version\":\"3.4.1\",\"title\":\"Bokeh Application\",\"roots\":[{\"type\":\"object\",\"name\":\"Row\",\"id\":\"p1004\",\"attributes\":{\"name\":\"Row00966\",\"tags\":[\"embedded\"],\"stylesheets\":[\"\\n:host(.pn-loading):before, .pn-loading:before {\\n  background-color: #c3c3c3;\\n  mask-size: auto calc(min(50%, 400px));\\n  -webkit-mask-size: auto calc(min(50%, 400px));\\n}\",{\"type\":\"object\",\"name\":\"ImportedStyleSheet\",\"id\":\"p1007\",\"attributes\":{\"url\":\"https://cdn.holoviz.org/panel/1.4.2/dist/css/loading.css\"}},{\"type\":\"object\",\"name\":\"ImportedStyleSheet\",\"id\":\"p1094\",\"attributes\":{\"url\":\"https://cdn.holoviz.org/panel/1.4.2/dist/css/listpanel.css\"}},{\"type\":\"object\",\"name\":\"ImportedStyleSheet\",\"id\":\"p1005\",\"attributes\":{\"url\":\"https://cdn.holoviz.org/panel/1.4.2/dist/bundled/theme/default.css\"}},{\"type\":\"object\",\"name\":\"ImportedStyleSheet\",\"id\":\"p1006\",\"attributes\":{\"url\":\"https://cdn.holoviz.org/panel/1.4.2/dist/bundled/theme/native.css\"}}],\"min_width\":700,\"margin\":0,\"sizing_mode\":\"stretch_width\",\"align\":\"start\",\"children\":[{\"type\":\"object\",\"name\":\"Spacer\",\"id\":\"p1008\",\"attributes\":{\"name\":\"HSpacer00973\",\"stylesheets\":[\"\\n:host(.pn-loading):before, .pn-loading:before {\\n  background-color: #c3c3c3;\\n  mask-size: auto calc(min(50%, 400px));\\n  -webkit-mask-size: auto calc(min(50%, 400px));\\n}\",{\"id\":\"p1007\"},{\"id\":\"p1005\"},{\"id\":\"p1006\"}],\"margin\":0,\"sizing_mode\":\"stretch_width\",\"align\":\"start\"}},{\"type\":\"object\",\"name\":\"Figure\",\"id\":\"p1019\",\"attributes\":{\"width\":700,\"height\":300,\"margin\":[5,10],\"sizing_mode\":\"fixed\",\"align\":\"start\",\"x_range\":{\"type\":\"object\",\"name\":\"Range1d\",\"id\":\"p1009\",\"attributes\":{\"tags\":[[[\"timestamp\",\"timestamp\",null]],[]],\"start\":1581938331428.5713,\"end\":1718800868571.4287,\"reset_start\":1581938331428.5713,\"reset_end\":1718800868571.4287}},\"y_range\":{\"type\":\"object\",\"name\":\"Range1d\",\"id\":\"p1010\",\"attributes\":{\"tags\":[[[\"blood_glucose\",\"blood_glucose\",null]],{\"type\":\"map\",\"entries\":[[\"invert_yaxis\",false],[\"autorange\",false]]}],\"start\":187.99166666666665,\"end\":212.59166666666667,\"reset_start\":187.99166666666665,\"reset_end\":212.59166666666667}},\"x_scale\":{\"type\":\"object\",\"name\":\"LinearScale\",\"id\":\"p1029\"},\"y_scale\":{\"type\":\"object\",\"name\":\"LinearScale\",\"id\":\"p1030\"},\"title\":{\"type\":\"object\",\"name\":\"Title\",\"id\":\"p1022\",\"attributes\":{\"text_color\":\"black\",\"text_font_size\":\"12pt\"}},\"renderers\":[{\"type\":\"object\",\"name\":\"GlyphRenderer\",\"id\":\"p1071\",\"attributes\":{\"name\":\"Blizzard Bob\",\"data_source\":{\"type\":\"object\",\"name\":\"ColumnDataSource\",\"id\":\"p1062\",\"attributes\":{\"selected\":{\"type\":\"object\",\"name\":\"Selection\",\"id\":\"p1063\",\"attributes\":{\"indices\":[],\"line_indices\":[]}},\"selection_policy\":{\"type\":\"object\",\"name\":\"UnionRenderers\",\"id\":\"p1064\"},\"data\":{\"type\":\"map\",\"entries\":[[\"timestamp\",{\"type\":\"ndarray\",\"array\":{\"type\":\"bytes\",\"data\":\"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\"},\"shape\":[699],\"dtype\":\"float64\",\"order\":\"little\"}],[\"blood_glucose\",{\"type\":\"ndarray\",\"array\":{\"type\":\"bytes\",\"data\":\"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\"},\"shape\":[699],\"dtype\":\"float64\",\"order\":\"little\"}],[\"name\",[\"Blizzard Bob\",\"Blizzard Bob\",\"Blizzard Bob\",\"Blizzard Bob\",\"Blizzard Bob\",\"Blizzard Bob\",\"Blizzard Bob\",\"Blizzard Bob\",\"Blizzard Bob\",\"Blizzard Bob\",\"Blizzard Bob\",\"Blizzard Bob\",\"Blizzard Bob\",\"Blizzard Bob\",\"Blizzard Bob\",\"Blizzard Bob\",\"Blizzard Bob\",\"Blizzard Bob\",\"Blizzard Bob\",\"Blizzard Bob\",\"Blizzard Bob\",\"Blizzard Bob\",\"Blizzard Bob\",\"Blizzard Bob\",\"Blizzard Bob\",\"Blizzard Bob\",\"Blizzard Bob\",\"Blizzard Bob\",\"Blizzard Bob\",\"Blizzard Bob\",\"Blizzard Bob\",\"Blizzard Bob\",\"Blizzard Bob\",\"Blizzard Bob\",\"Blizzard Bob\",\"Blizzard Bob\",\"Blizzard Bob\",\"Blizzard Bob\",\"Blizzard Bob\",\"Blizzard Bob\",\"Blizzard Bob\",\"Blizzard Bob\",\"Blizzard Bob\",\"Blizzard Bob\",\"Blizzard Bob\",\"Blizzard Bob\",\"Blizzard Bob\",\"Blizzard Bob\",\"Blizzard Bob\",\"Blizzard Bob\",\"Blizzard Bob\",\"Blizzard Bob\",\"Blizzard Bob\",\"Blizzard Bob\",\"Blizzard Bob\",\"Blizzard Bob\",\"Blizzard Bob\",\"Blizzard Bob\",\"Blizzard Bob\",\"Blizzard Bob\",\"Blizzard Bob\",\"Blizzard Bob\",\"Blizzard Bob\",\"Blizzard Bob\",\"Blizzard Bob\",\"Blizzard Bob\",\"Blizzard Bob\",\"Blizzard Bob\",\"Blizzard Bob\",\"Blizzard Bob\",\"Blizzard Bob\",\"Blizzard Bob\",\"Blizzard Bob\",\"Blizzard Bob\",\"Blizzard Bob\",\"Blizzard Bob\",\"Blizzard Bob\",\"Blizzard Bob\",\"Blizzard Bob\",\"Blizzard Bob\",\"Blizzard Bob\",\"Blizzard Bob\",\"Blizzard Bob\",\"Blizzard Bob\",\"Blizzard Bob\",\"Blizzard Bob\",\"Blizzard Bob\",\"Blizzard Bob\",\"Blizzard Bob\",\"Blizzard Bob\",\"Blizzard Bob\",\"Blizzard Bob\",\"Blizzard Bob\",\"Blizzard Bob\",\"Blizzard Bob\",\"Blizzard Bob\",\"Blizzard Bob\",\"Blizzard Bob\",\"Blizzard Bob\",\"Blizzard Bob\",\"Blizzard Bob\",\"Blizzard Bob\",\"Blizzard Bob\",\"Blizzard Bob\",\"Blizzard Bob\",\"Blizzard Bob\",\"Blizzard Bob\",\"Blizzard Bob\",\"Blizzard Bob\",\"Blizzard Bob\",\"Blizzard Bob\",\"Blizzard Bob\",\"Blizzard Bob\",\"Blizzard Bob\",\"Blizzard Bob\",\"Blizzard Bob\",\"Blizzard Bob\",\"Blizzard Bob\",\"Blizzard Bob\",\"Blizzard Bob\",\"Blizzard Bob\",\"Blizzard Bob\",\"Blizzard Bob\",\"Blizzard Bob\",\"Blizzard Bob\",\"Blizzard Bob\",\"Blizzard Bob\",\"Blizzard Bob\",\"Blizzard Bob\",\"Blizzard Bob\",\"Blizzard Bob\",\"Blizzard Bob\",\"Blizzard Bob\",\"Blizzard Bob\",\"Blizzard Bob\",\"Blizzard Bob\",\"Blizzard Bob\",\"Blizzard Bob\",\"Blizzard Bob\",\"Blizzard Bob\",\"Blizzard Bob\",\"Blizzard Bob\",\"Blizzard Bob\",\"Blizzard Bob\",\"Blizzard Bob\",\"Blizzard Bob\",\"Blizzard Bob\",\"Blizzard Bob\",\"Blizzard Bob\",\"Blizzard Bob\",\"Blizzard Bob\",\"Blizzard Bob\",\"Blizzard Bob\",\"Blizzard Bob\",\"Blizzard Bob\",\"Blizzard Bob\",\"Blizzard Bob\",\"Blizzard Bob\",\"Blizzard Bob\",\"Blizzard Bob\",\"Blizzard Bob\",\"Blizzard Bob\",\"Blizzard Bob\",\"Blizzard Bob\",\"Blizzard Bob\",\"Blizzard Bob\",\"Blizzard Bob\",\"Blizzard Bob\",\"Blizzard Bob\",\"Blizzard Bob\",\"Blizzard Bob\",\"Blizzard Bob\",\"Blizzard Bob\",\"Blizzard Bob\",\"Blizzard Bob\",\"Blizzard Bob\",\"Blizzard Bob\",\"Blizzard Bob\",\"Blizzard Bob\",\"Blizzard Bob\",\"Blizzard Bob\",\"Blizzard Bob\",\"Blizzard Bob\",\"Blizzard Bob\",\"Blizzard Bob\",\"Blizzard Bob\",\"Blizzard Bob\",\"Blizzard Bob\",\"Blizzard Bob\",\"Blizzard Bob\",\"Blizzard Bob\",\"Blizzard Bob\",\"Blizzard Bob\",\"Blizzard Bob\",\"Blizzard Bob\",\"Blizzard Bob\",\"Blizzard Bob\",\"Blizzard Bob\",\"Blizzard Bob\",\"Blizzard Bob\",\"Blizzard Bob\",\"Blizzard Bob\",\"Blizzard Bob\",\"Blizzard Bob\",\"Blizzard Bob\",\"Blizzard Bob\",\"Blizzard Bob\",\"Blizzard Bob\",\"Blizzard Bob\",\"Blizzard Bob\",\"Blizzard Bob\",\"Blizzard Bob\",\"Blizzard Bob\",\"Blizzard Bob\",\"Blizzard Bob\",\"Blizzard Bob\",\"Blizzard Bob\",\"Blizzard Bob\",\"Blizzard Bob\",\"Blizzard Bob\",\"Blizzard Bob\",\"Blizzard Bob\",\"Blizzard Bob\",\"Blizzard Bob\",\"Blizzard Bob\",\"Blizzard Bob\",\"Blizzard Bob\",\"Blizzard Bob\",\"Blizzard Bob\",\"Blizzard Bob\",\"Blizzard Bob\",\"Blizzard Bob\",\"Blizzard Bob\",\"Blizzard Bob\",\"Blizzard Bob\",\"Blizzard Bob\",\"Blizzard Bob\",\"Blizzard Bob\",\"Blizzard Bob\",\"Blizzard Bob\",\"Blizzard Bob\",\"Blizzard Bob\",\"Blizzard Bob\",\"Blizzard Bob\",\"Blizzard Bob\",\"Blizzard Bob\",\"Blizzard Bob\",\"Blizzard Bob\",\"Blizzard Bob\",\"Blizzard Bob\",\"Blizzard Bob\",\"Blizzard Bob\",\"Blizzard Bob\",\"Blizzard Bob\",\"Blizzard Bob\",\"Blizzard Bob\",\"Blizzard Bob\",\"Blizzard Bob\",\"Blizzard Bob\",\"Blizzard Bob\",\"Blizzard Bob\",\"Blizzard Bob\",\"Blizzard Bob\",\"Blizzard Bob\",\"Blizzard Bob\",\"Blizzard Bob\",\"Blizzard Bob\",\"Blizzard Bob\",\"Blizzard Bob\",\"Blizzard Bob\",\"Blizzard Bob\",\"Blizzard Bob\",\"Blizzard Bob\",\"Blizzard Bob\",\"Blizzard Bob\",\"Blizzard Bob\",\"Blizzard Bob\",\"Blizzard Bob\",\"Blizzard Bob\",\"Blizzard Bob\",\"Blizzard Bob\",\"Blizzard Bob\",\"Blizzard Bob\",\"Blizzard Bob\",\"Blizzard Bob\",\"Blizzard Bob\",\"Blizzard Bob\",\"Blizzard Bob\",\"Blizzard Bob\",\"Blizzard Bob\",\"Blizzard Bob\",\"Blizzard Bob\",\"Blizzard Bob\",\"Blizzard Bob\",\"Blizzard Bob\",\"Blizzard Bob\",\"Blizzard Bob\",\"Blizzard Bob\",\"Blizzard Bob\",\"Blizzard Bob\",\"Blizzard Bob\",\"Blizzard Bob\",\"Blizzard Bob\",\"Blizzard Bob\",\"Blizzard Bob\",\"Blizzard Bob\",\"Blizzard Bob\",\"Blizzard Bob\",\"Blizzard Bob\",\"Blizzard Bob\",\"Blizzard Bob\",\"Blizzard Bob\",\"Blizzard Bob\",\"Blizzard Bob\",\"Blizzard Bob\",\"Blizzard Bob\",\"Blizzard Bob\",\"Blizzard Bob\",\"Blizzard Bob\",\"Blizzard Bob\",\"Blizzard Bob\",\"Blizzard Bob\",\"Blizzard Bob\",\"Blizzard Bob\",\"Blizzard Bob\",\"Blizzard Bob\",\"Blizzard Bob\",\"Blizzard Bob\",\"Blizzard Bob\",\"Blizzard Bob\",\"Blizzard Bob\",\"Blizzard Bob\",\"Blizzard Bob\",\"Blizzard Bob\",\"Blizzard Bob\",\"Blizzard Bob\",\"Blizzard Bob\",\"Blizzard Bob\",\"Blizzard Bob\",\"Blizzard Bob\",\"Blizzard Bob\",\"Blizzard Bob\",\"Blizzard Bob\",\"Blizzard Bob\",\"Blizzard Bob\",\"Blizzard Bob\",\"Blizzard Bob\",\"Blizzard Bob\",\"Blizzard Bob\",\"Blizzard Bob\",\"Blizzard Bob\",\"Blizzard Bob\",\"Blizzard Bob\",\"Blizzard Bob\",\"Blizzard Bob\",\"Blizzard Bob\",\"Blizzard Bob\",\"Blizzard Bob\",\"Blizzard Bob\",\"Blizzard Bob\",\"Blizzard Bob\",\"Blizzard Bob\",\"Blizzard Bob\",\"Blizzard Bob\",\"Blizzard Bob\",\"Blizzard Bob\",\"Blizzard Bob\",\"Blizzard Bob\",\"Blizzard Bob\",\"Blizzard Bob\",\"Blizzard Bob\",\"Blizzard Bob\",\"Blizzard Bob\",\"Blizzard Bob\",\"Blizzard Bob\",\"Blizzard Bob\",\"Blizzard Bob\",\"Blizzard Bob\",\"Blizzard Bob\",\"Blizzard Bob\",\"Blizzard Bob\",\"Blizzard Bob\",\"Blizzard Bob\",\"Blizzard Bob\",\"Blizzard Bob\",\"Blizzard Bob\",\"Blizzard Bob\",\"Blizzard Bob\",\"Blizzard Bob\",\"Blizzard Bob\",\"Blizzard Bob\",\"Blizzard Bob\",\"Blizzard Bob\",\"Blizzard Bob\",\"Blizzard Bob\",\"Blizzard Bob\",\"Blizzard Bob\",\"Blizzard Bob\",\"Blizzard Bob\",\"Blizzard Bob\",\"Blizzard Bob\",\"Blizzard Bob\",\"Blizzard Bob\",\"Blizzard Bob\",\"Blizzard Bob\",\"Blizzard Bob\",\"Blizzard Bob\",\"Blizzard Bob\",\"Blizzard Bob\",\"Blizzard Bob\",\"Blizzard Bob\",\"Blizzard Bob\",\"Blizzard Bob\",\"Blizzard Bob\",\"Blizzard Bob\",\"Blizzard Bob\",\"Blizzard Bob\",\"Blizzard Bob\",\"Blizzard Bob\",\"Blizzard Bob\",\"Blizzard Bob\",\"Blizzard Bob\",\"Blizzard Bob\",\"Blizzard Bob\",\"Blizzard Bob\",\"Blizzard Bob\",\"Blizzard Bob\",\"Blizzard Bob\",\"Blizzard Bob\",\"Blizzard Bob\",\"Blizzard Bob\",\"Blizzard Bob\",\"Blizzard Bob\",\"Blizzard Bob\",\"Blizzard Bob\",\"Blizzard Bob\",\"Blizzard Bob\",\"Blizzard Bob\",\"Blizzard Bob\",\"Blizzard Bob\",\"Blizzard Bob\",\"Blizzard Bob\",\"Blizzard Bob\",\"Blizzard Bob\",\"Blizzard Bob\",\"Blizzard Bob\",\"Blizzard Bob\",\"Blizzard Bob\",\"Blizzard Bob\",\"Blizzard Bob\",\"Blizzard Bob\",\"Blizzard Bob\",\"Blizzard Bob\",\"Blizzard Bob\",\"Blizzard Bob\",\"Blizzard Bob\",\"Blizzard Bob\",\"Blizzard Bob\",\"Blizzard Bob\",\"Blizzard Bob\",\"Blizzard Bob\",\"Blizzard Bob\",\"Blizzard Bob\",\"Blizzard Bob\",\"Blizzard Bob\",\"Blizzard Bob\",\"Blizzard Bob\",\"Blizzard Bob\",\"Blizzard Bob\",\"Blizzard Bob\",\"Blizzard Bob\",\"Blizzard Bob\",\"Blizzard Bob\",\"Blizzard Bob\",\"Blizzard Bob\",\"Blizzard Bob\",\"Blizzard Bob\",\"Blizzard Bob\",\"Blizzard Bob\",\"Blizzard Bob\",\"Blizzard Bob\",\"Blizzard Bob\",\"Blizzard Bob\",\"Blizzard Bob\",\"Blizzard Bob\",\"Blizzard Bob\",\"Blizzard Bob\",\"Blizzard Bob\",\"Blizzard Bob\",\"Blizzard Bob\",\"Blizzard Bob\",\"Blizzard Bob\",\"Blizzard Bob\",\"Blizzard Bob\",\"Blizzard Bob\",\"Blizzard Bob\",\"Blizzard Bob\",\"Blizzard Bob\",\"Blizzard Bob\",\"Blizzard Bob\",\"Blizzard Bob\",\"Blizzard Bob\",\"Blizzard Bob\",\"Blizzard Bob\",\"Blizzard Bob\",\"Blizzard Bob\",\"Blizzard Bob\",\"Blizzard Bob\",\"Blizzard Bob\",\"Blizzard Bob\",\"Blizzard Bob\",\"Blizzard Bob\",\"Blizzard Bob\",\"Blizzard Bob\",\"Blizzard Bob\",\"Blizzard Bob\",\"Blizzard Bob\",\"Blizzard Bob\",\"Blizzard Bob\",\"Blizzard Bob\",\"Blizzard Bob\",\"Blizzard Bob\",\"Blizzard Bob\",\"Blizzard Bob\",\"Blizzard Bob\",\"Blizzard Bob\",\"Blizzard Bob\",\"Blizzard Bob\",\"Blizzard Bob\",\"Blizzard Bob\",\"Blizzard Bob\",\"Blizzard Bob\",\"Blizzard Bob\",\"Blizzard Bob\",\"Blizzard Bob\",\"Blizzard Bob\",\"Blizzard Bob\",\"Blizzard Bob\",\"Blizzard Bob\",\"Blizzard Bob\",\"Blizzard Bob\",\"Blizzard Bob\",\"Blizzard Bob\",\"Blizzard Bob\",\"Blizzard Bob\",\"Blizzard Bob\",\"Blizzard Bob\",\"Blizzard Bob\",\"Blizzard Bob\",\"Blizzard Bob\",\"Blizzard Bob\",\"Blizzard Bob\",\"Blizzard Bob\",\"Blizzard Bob\",\"Blizzard Bob\",\"Blizzard Bob\",\"Blizzard Bob\",\"Blizzard Bob\",\"Blizzard Bob\",\"Blizzard Bob\",\"Blizzard Bob\",\"Blizzard Bob\",\"Blizzard Bob\",\"Blizzard Bob\",\"Blizzard Bob\",\"Blizzard Bob\",\"Blizzard Bob\",\"Blizzard Bob\",\"Blizzard Bob\",\"Blizzard Bob\",\"Blizzard Bob\",\"Blizzard Bob\",\"Blizzard Bob\",\"Blizzard Bob\",\"Blizzard Bob\",\"Blizzard Bob\",\"Blizzard Bob\",\"Blizzard Bob\",\"Blizzard Bob\",\"Blizzard Bob\",\"Blizzard Bob\",\"Blizzard Bob\",\"Blizzard Bob\",\"Blizzard Bob\",\"Blizzard Bob\",\"Blizzard Bob\",\"Blizzard Bob\",\"Blizzard Bob\",\"Blizzard Bob\",\"Blizzard Bob\",\"Blizzard Bob\",\"Blizzard Bob\",\"Blizzard Bob\",\"Blizzard Bob\",\"Blizzard Bob\",\"Blizzard Bob\",\"Blizzard Bob\",\"Blizzard Bob\",\"Blizzard Bob\",\"Blizzard Bob\",\"Blizzard Bob\",\"Blizzard Bob\",\"Blizzard Bob\",\"Blizzard Bob\",\"Blizzard Bob\",\"Blizzard Bob\",\"Blizzard Bob\",\"Blizzard Bob\",\"Blizzard Bob\",\"Blizzard Bob\",\"Blizzard Bob\",\"Blizzard Bob\",\"Blizzard Bob\",\"Blizzard Bob\",\"Blizzard Bob\",\"Blizzard Bob\",\"Blizzard Bob\",\"Blizzard Bob\",\"Blizzard Bob\",\"Blizzard Bob\",\"Blizzard Bob\",\"Blizzard Bob\",\"Blizzard Bob\",\"Blizzard Bob\",\"Blizzard Bob\",\"Blizzard Bob\",\"Blizzard Bob\",\"Blizzard Bob\",\"Blizzard Bob\",\"Blizzard Bob\",\"Blizzard Bob\",\"Blizzard Bob\",\"Blizzard Bob\",\"Blizzard Bob\",\"Blizzard Bob\",\"Blizzard Bob\",\"Blizzard Bob\",\"Blizzard Bob\",\"Blizzard Bob\",\"Blizzard Bob\",\"Blizzard Bob\",\"Blizzard Bob\",\"Blizzard Bob\",\"Blizzard Bob\",\"Blizzard Bob\",\"Blizzard Bob\",\"Blizzard Bob\",\"Blizzard Bob\",\"Blizzard Bob\",\"Blizzard Bob\",\"Blizzard Bob\",\"Blizzard Bob\",\"Blizzard Bob\",\"Blizzard Bob\",\"Blizzard Bob\",\"Blizzard Bob\",\"Blizzard Bob\",\"Blizzard Bob\",\"Blizzard Bob\",\"Blizzard Bob\",\"Blizzard Bob\",\"Blizzard Bob\",\"Blizzard Bob\",\"Blizzard Bob\",\"Blizzard Bob\",\"Blizzard Bob\",\"Blizzard Bob\",\"Blizzard Bob\",\"Blizzard Bob\",\"Blizzard Bob\",\"Blizzard Bob\",\"Blizzard Bob\",\"Blizzard Bob\",\"Blizzard Bob\",\"Blizzard Bob\",\"Blizzard Bob\",\"Blizzard Bob\",\"Blizzard Bob\",\"Blizzard Bob\",\"Blizzard Bob\",\"Blizzard Bob\",\"Blizzard Bob\",\"Blizzard Bob\",\"Blizzard Bob\",\"Blizzard Bob\",\"Blizzard Bob\",\"Blizzard Bob\",\"Blizzard Bob\",\"Blizzard Bob\",\"Blizzard Bob\",\"Blizzard Bob\",\"Blizzard Bob\",\"Blizzard Bob\",\"Blizzard Bob\",\"Blizzard Bob\",\"Blizzard Bob\",\"Blizzard Bob\",\"Blizzard Bob\",\"Blizzard Bob\"]]]}}},\"view\":{\"type\":\"object\",\"name\":\"CDSView\",\"id\":\"p1072\",\"attributes\":{\"filter\":{\"type\":\"object\",\"name\":\"AllIndices\",\"id\":\"p1073\"}}},\"glyph\":{\"type\":\"object\",\"name\":\"Scatter\",\"id\":\"p1068\",\"attributes\":{\"tags\":[\"apply_ranges\"],\"x\":{\"type\":\"field\",\"field\":\"timestamp\"},\"y\":{\"type\":\"field\",\"field\":\"blood_glucose\"},\"size\":{\"type\":\"value\",\"value\":5.477225575051661},\"line_color\":{\"type\":\"value\",\"value\":\"#30a2da\"},\"fill_color\":{\"type\":\"value\",\"value\":\"#30a2da\"},\"hatch_color\":{\"type\":\"value\",\"value\":\"#30a2da\"}}},\"selection_glyph\":{\"type\":\"object\",\"name\":\"Scatter\",\"id\":\"p1076\",\"attributes\":{\"tags\":[\"apply_ranges\"],\"x\":{\"type\":\"field\",\"field\":\"timestamp\"},\"y\":{\"type\":\"field\",\"field\":\"blood_glucose\"},\"size\":{\"type\":\"value\",\"value\":5.477225575051661},\"angle\":{\"type\":\"value\",\"value\":0.0},\"line_color\":{\"type\":\"value\",\"value\":\"#30a2da\"},\"line_alpha\":{\"type\":\"value\",\"value\":1.0},\"line_width\":{\"type\":\"value\",\"value\":1},\"line_join\":{\"type\":\"value\",\"value\":\"bevel\"},\"line_cap\":{\"type\":\"value\",\"value\":\"butt\"},\"line_dash\":{\"type\":\"value\",\"value\":[]},\"line_dash_offset\":{\"type\":\"value\",\"value\":0},\"fill_color\":{\"type\":\"value\",\"value\":\"#30a2da\"},\"fill_alpha\":{\"type\":\"value\",\"value\":1.0},\"hatch_color\":{\"type\":\"value\",\"value\":\"#30a2da\"},\"hatch_alpha\":{\"type\":\"value\",\"value\":1.0},\"hatch_scale\":{\"type\":\"value\",\"value\":12.0},\"hatch_pattern\":{\"type\":\"value\",\"value\":null},\"hatch_weight\":{\"type\":\"value\",\"value\":1.0},\"marker\":{\"type\":\"value\",\"value\":\"circle\"}}},\"nonselection_glyph\":{\"type\":\"object\",\"name\":\"Scatter\",\"id\":\"p1069\",\"attributes\":{\"tags\":[\"apply_ranges\"],\"x\":{\"type\":\"field\",\"field\":\"timestamp\"},\"y\":{\"type\":\"field\",\"field\":\"blood_glucose\"},\"size\":{\"type\":\"value\",\"value\":5.477225575051661},\"line_color\":{\"type\":\"value\",\"value\":\"#30a2da\"},\"line_alpha\":{\"type\":\"value\",\"value\":0.1},\"fill_color\":{\"type\":\"value\",\"value\":\"#30a2da\"},\"fill_alpha\":{\"type\":\"value\",\"value\":0.1},\"hatch_color\":{\"type\":\"value\",\"value\":\"#30a2da\"},\"hatch_alpha\":{\"type\":\"value\",\"value\":0.1}}},\"muted_glyph\":{\"type\":\"object\",\"name\":\"Scatter\",\"id\":\"p1070\",\"attributes\":{\"tags\":[\"apply_ranges\"],\"x\":{\"type\":\"field\",\"field\":\"timestamp\"},\"y\":{\"type\":\"field\",\"field\":\"blood_glucose\"},\"size\":{\"type\":\"value\",\"value\":5.477225575051661},\"line_color\":{\"type\":\"value\",\"value\":\"#30a2da\"},\"line_alpha\":{\"type\":\"value\",\"value\":0.2},\"fill_color\":{\"type\":\"value\",\"value\":\"#30a2da\"},\"fill_alpha\":{\"type\":\"value\",\"value\":0.2},\"hatch_color\":{\"type\":\"value\",\"value\":\"#30a2da\"},\"hatch_alpha\":{\"type\":\"value\",\"value\":0.2}}}}},{\"type\":\"object\",\"name\":\"GlyphRenderer\",\"id\":\"p1086\",\"attributes\":{\"name\":\"Peter Panda\",\"data_source\":{\"type\":\"object\",\"name\":\"ColumnDataSource\",\"id\":\"p1077\",\"attributes\":{\"selected\":{\"type\":\"object\",\"name\":\"Selection\",\"id\":\"p1078\",\"attributes\":{\"indices\":[],\"line_indices\":[]}},\"selection_policy\":{\"type\":\"object\",\"name\":\"UnionRenderers\",\"id\":\"p1079\"},\"data\":{\"type\":\"map\",\"entries\":[[\"timestamp\",{\"type\":\"ndarray\",\"array\":{\"type\":\"bytes\",\"data\":\"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\"},\"shape\":[757],\"dtype\":\"float64\",\"order\":\"little\"}],[\"blood_glucose\",{\"type\":\"ndarray\",\"array\":{\"type\":\"bytes\",\"data\":\"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\"},\"shape\":[757],\"dtype\":\"float64\",\"order\":\"little\"}],[\"name\",[\"Peter Panda\",\"Peter Panda\",\"Peter Panda\",\"Peter Panda\",\"Peter Panda\",\"Peter Panda\",\"Peter Panda\",\"Peter Panda\",\"Peter Panda\",\"Peter Panda\",\"Peter Panda\",\"Peter Panda\",\"Peter Panda\",\"Peter Panda\",\"Peter Panda\",\"Peter Panda\",\"Peter Panda\",\"Peter Panda\",\"Peter Panda\",\"Peter Panda\",\"Peter Panda\",\"Peter Panda\",\"Peter Panda\",\"Peter Panda\",\"Peter Panda\",\"Peter Panda\",\"Peter Panda\",\"Peter Panda\",\"Peter Panda\",\"Peter Panda\",\"Peter Panda\",\"Peter Panda\",\"Peter Panda\",\"Peter Panda\",\"Peter Panda\",\"Peter Panda\",\"Peter Panda\",\"Peter Panda\",\"Peter Panda\",\"Peter Panda\",\"Peter Panda\",\"Peter Panda\",\"Peter Panda\",\"Peter Panda\",\"Peter Panda\",\"Peter Panda\",\"Peter Panda\",\"Peter Panda\",\"Peter Panda\",\"Peter Panda\",\"Peter Panda\",\"Peter Panda\",\"Peter Panda\",\"Peter Panda\",\"Peter Panda\",\"Peter Panda\",\"Peter Panda\",\"Peter Panda\",\"Peter Panda\",\"Peter Panda\",\"Peter Panda\",\"Peter Panda\",\"Peter Panda\",\"Peter Panda\",\"Peter Panda\",\"Peter Panda\",\"Peter Panda\",\"Peter Panda\",\"Peter Panda\",\"Peter Panda\",\"Peter Panda\",\"Peter Panda\",\"Peter Panda\",\"Peter Panda\",\"Peter Panda\",\"Peter Panda\",\"Peter Panda\",\"Peter Panda\",\"Peter Panda\",\"Peter Panda\",\"Peter Panda\",\"Peter Panda\",\"Peter Panda\",\"Peter Panda\",\"Peter Panda\",\"Peter Panda\",\"Peter Panda\",\"Peter Panda\",\"Peter Panda\",\"Peter Panda\",\"Peter Panda\",\"Peter Panda\",\"Peter Panda\",\"Peter Panda\",\"Peter Panda\",\"Peter Panda\",\"Peter Panda\",\"Peter Panda\",\"Peter Panda\",\"Peter Panda\",\"Peter Panda\",\"Peter Panda\",\"Peter Panda\",\"Peter Panda\",\"Peter Panda\",\"Peter Panda\",\"Peter Panda\",\"Peter Panda\",\"Peter Panda\",\"Peter Panda\",\"Peter Panda\",\"Peter Panda\",\"Peter Panda\",\"Peter Panda\",\"Peter Panda\",\"Peter Panda\",\"Peter Panda\",\"Peter Panda\",\"Peter Panda\",\"Peter Panda\",\"Peter Panda\",\"Peter Panda\",\"Peter Panda\",\"Peter Panda\",\"Peter Panda\",\"Peter Panda\",\"Peter Panda\",\"Peter Panda\",\"Peter Panda\",\"Peter Panda\",\"Peter Panda\",\"Peter Panda\",\"Peter Panda\",\"Peter Panda\",\"Peter Panda\",\"Peter Panda\",\"Peter Panda\",\"Peter Panda\",\"Peter Panda\",\"Peter Panda\",\"Peter Panda\",\"Peter Panda\",\"Peter Panda\",\"Peter Panda\",\"Peter Panda\",\"Peter Panda\",\"Peter Panda\",\"Peter Panda\",\"Peter Panda\",\"Peter Panda\",\"Peter Panda\",\"Peter Panda\",\"Peter Panda\",\"Peter Panda\",\"Peter Panda\",\"Peter Panda\",\"Peter Panda\",\"Peter Panda\",\"Peter Panda\",\"Peter Panda\",\"Peter Panda\",\"Peter Panda\",\"Peter Panda\",\"Peter Panda\",\"Peter Panda\",\"Peter Panda\",\"Peter Panda\",\"Peter Panda\",\"Peter Panda\",\"Peter Panda\",\"Peter Panda\",\"Peter Panda\",\"Peter Panda\",\"Peter Panda\",\"Peter Panda\",\"Peter Panda\",\"Peter Panda\",\"Peter Panda\",\"Peter Panda\",\"Peter Panda\",\"Peter Panda\",\"Peter Panda\",\"Peter Panda\",\"Peter Panda\",\"Peter Panda\",\"Peter Panda\",\"Peter Panda\",\"Peter Panda\",\"Peter Panda\",\"Peter Panda\",\"Peter Panda\",\"Peter Panda\",\"Peter Panda\",\"Peter Panda\",\"Peter Panda\",\"Peter Panda\",\"Peter Panda\",\"Peter Panda\",\"Peter Panda\",\"Peter Panda\",\"Peter Panda\",\"Peter Panda\",\"Peter Panda\",\"Peter Panda\",\"Peter Panda\",\"Peter Panda\",\"Peter Panda\",\"Peter Panda\",\"Peter Panda\",\"Peter Panda\",\"Peter Panda\",\"Peter Panda\",\"Peter Panda\",\"Peter Panda\",\"Peter Panda\",\"Peter Panda\",\"Peter Panda\",\"Peter Panda\",\"Peter Panda\",\"Peter Panda\",\"Peter Panda\",\"Peter Panda\",\"Peter Panda\",\"Peter Panda\",\"Peter Panda\",\"Peter Panda\",\"Peter Panda\",\"Peter Panda\",\"Peter Panda\",\"Peter Panda\",\"Peter Panda\",\"Peter Panda\",\"Peter Panda\",\"Peter Panda\",\"Peter Panda\",\"Peter Panda\",\"Peter Panda\",\"Peter Panda\",\"Peter Panda\",\"Peter Panda\",\"Peter Panda\",\"Peter Panda\",\"Peter Panda\",\"Peter Panda\",\"Peter Panda\",\"Peter Panda\",\"Peter Panda\",\"Peter Panda\",\"Peter Panda\",\"Peter Panda\",\"Peter Panda\",\"Peter Panda\",\"Peter Panda\",\"Peter Panda\",\"Peter Panda\",\"Peter Panda\",\"Peter Panda\",\"Peter Panda\",\"Peter Panda\",\"Peter Panda\",\"Peter Panda\",\"Peter Panda\",\"Peter Panda\",\"Peter Panda\",\"Peter Panda\",\"Peter Panda\",\"Peter Panda\",\"Peter Panda\",\"Peter Panda\",\"Peter Panda\",\"Peter Panda\",\"Peter Panda\",\"Peter Panda\",\"Peter Panda\",\"Peter Panda\",\"Peter Panda\",\"Peter Panda\",\"Peter Panda\",\"Peter Panda\",\"Peter Panda\",\"Peter Panda\",\"Peter Panda\",\"Peter Panda\",\"Peter Panda\",\"Peter Panda\",\"Peter Panda\",\"Peter Panda\",\"Peter Panda\",\"Peter Panda\",\"Peter Panda\",\"Peter Panda\",\"Peter Panda\",\"Peter Panda\",\"Peter Panda\",\"Peter Panda\",\"Peter Panda\",\"Peter Panda\",\"Peter Panda\",\"Peter Panda\",\"Peter Panda\",\"Peter Panda\",\"Peter Panda\",\"Peter Panda\",\"Peter Panda\",\"Peter Panda\",\"Peter Panda\",\"Peter Panda\",\"Peter Panda\",\"Peter Panda\",\"Peter Panda\",\"Peter Panda\",\"Peter Panda\",\"Peter Panda\",\"Peter Panda\",\"Peter Panda\",\"Peter Panda\",\"Peter Panda\",\"Peter Panda\",\"Peter Panda\",\"Peter Panda\",\"Peter Panda\",\"Peter Panda\",\"Peter Panda\",\"Peter Panda\",\"Peter Panda\",\"Peter Panda\",\"Peter Panda\",\"Peter Panda\",\"Peter Panda\",\"Peter Panda\",\"Peter Panda\",\"Peter Panda\",\"Peter Panda\",\"Peter Panda\",\"Peter Panda\",\"Peter Panda\",\"Peter Panda\",\"Peter Panda\",\"Peter Panda\",\"Peter Panda\",\"Peter Panda\",\"Peter Panda\",\"Peter Panda\",\"Peter Panda\",\"Peter Panda\",\"Peter Panda\",\"Peter Panda\",\"Peter Panda\",\"Peter Panda\",\"Peter Panda\",\"Peter Panda\",\"Peter Panda\",\"Peter Panda\",\"Peter Panda\",\"Peter Panda\",\"Peter Panda\",\"Peter Panda\",\"Peter Panda\",\"Peter Panda\",\"Peter Panda\",\"Peter Panda\",\"Peter Panda\",\"Peter Panda\",\"Peter Panda\",\"Peter Panda\",\"Peter Panda\",\"Peter Panda\",\"Peter Panda\",\"Peter Panda\",\"Peter Panda\",\"Peter Panda\",\"Peter Panda\",\"Peter Panda\",\"Peter Panda\",\"Peter Panda\",\"Peter Panda\",\"Peter Panda\",\"Peter Panda\",\"Peter Panda\",\"Peter Panda\",\"Peter Panda\",\"Peter Panda\",\"Peter Panda\",\"Peter Panda\",\"Peter Panda\",\"Peter Panda\",\"Peter Panda\",\"Peter Panda\",\"Peter Panda\",\"Peter Panda\",\"Peter Panda\",\"Peter Panda\",\"Peter Panda\",\"Peter Panda\",\"Peter Panda\",\"Peter Panda\",\"Peter Panda\",\"Peter Panda\",\"Peter Panda\",\"Peter Panda\",\"Peter Panda\",\"Peter Panda\",\"Peter Panda\",\"Peter Panda\",\"Peter Panda\",\"Peter Panda\",\"Peter Panda\",\"Peter Panda\",\"Peter Panda\",\"Peter Panda\",\"Peter Panda\",\"Peter Panda\",\"Peter Panda\",\"Peter Panda\",\"Peter Panda\",\"Peter Panda\",\"Peter Panda\",\"Peter Panda\",\"Peter Panda\",\"Peter Panda\",\"Peter Panda\",\"Peter Panda\",\"Peter Panda\",\"Peter Panda\",\"Peter Panda\",\"Peter Panda\",\"Peter Panda\",\"Peter Panda\",\"Peter Panda\",\"Peter Panda\",\"Peter Panda\",\"Peter Panda\",\"Peter Panda\",\"Peter Panda\",\"Peter Panda\",\"Peter Panda\",\"Peter Panda\",\"Peter Panda\",\"Peter Panda\",\"Peter Panda\",\"Peter Panda\",\"Peter Panda\",\"Peter Panda\",\"Peter Panda\",\"Peter Panda\",\"Peter Panda\",\"Peter Panda\",\"Peter Panda\",\"Peter Panda\",\"Peter Panda\",\"Peter Panda\",\"Peter Panda\",\"Peter Panda\",\"Peter Panda\",\"Peter Panda\",\"Peter Panda\",\"Peter Panda\",\"Peter Panda\",\"Peter Panda\",\"Peter Panda\",\"Peter Panda\",\"Peter Panda\",\"Peter Panda\",\"Peter Panda\",\"Peter Panda\",\"Peter Panda\",\"Peter Panda\",\"Peter Panda\",\"Peter Panda\",\"Peter Panda\",\"Peter Panda\",\"Peter Panda\",\"Peter Panda\",\"Peter Panda\",\"Peter Panda\",\"Peter Panda\",\"Peter Panda\",\"Peter Panda\",\"Peter Panda\",\"Peter Panda\",\"Peter Panda\",\"Peter Panda\",\"Peter Panda\",\"Peter Panda\",\"Peter Panda\",\"Peter Panda\",\"Peter Panda\",\"Peter Panda\",\"Peter Panda\",\"Peter Panda\",\"Peter Panda\",\"Peter Panda\",\"Peter Panda\",\"Peter Panda\",\"Peter Panda\",\"Peter Panda\",\"Peter Panda\",\"Peter Panda\",\"Peter Panda\",\"Peter Panda\",\"Peter Panda\",\"Peter Panda\",\"Peter Panda\",\"Peter Panda\",\"Peter Panda\",\"Peter Panda\",\"Peter Panda\",\"Peter Panda\",\"Peter Panda\",\"Peter Panda\",\"Peter Panda\",\"Peter Panda\",\"Peter Panda\",\"Peter Panda\",\"Peter Panda\",\"Peter Panda\",\"Peter Panda\",\"Peter Panda\",\"Peter Panda\",\"Peter Panda\",\"Peter Panda\",\"Peter Panda\",\"Peter Panda\",\"Peter Panda\",\"Peter Panda\",\"Peter Panda\",\"Peter Panda\",\"Peter Panda\",\"Peter Panda\",\"Peter Panda\",\"Peter Panda\",\"Peter Panda\",\"Peter Panda\",\"Peter Panda\",\"Peter Panda\",\"Peter Panda\",\"Peter Panda\",\"Peter Panda\",\"Peter Panda\",\"Peter Panda\",\"Peter Panda\",\"Peter Panda\",\"Peter Panda\",\"Peter Panda\",\"Peter Panda\",\"Peter Panda\",\"Peter Panda\",\"Peter Panda\",\"Peter Panda\",\"Peter Panda\",\"Peter Panda\",\"Peter Panda\",\"Peter Panda\",\"Peter Panda\",\"Peter Panda\",\"Peter Panda\",\"Peter Panda\",\"Peter Panda\",\"Peter Panda\",\"Peter Panda\",\"Peter Panda\",\"Peter Panda\",\"Peter Panda\",\"Peter Panda\",\"Peter Panda\",\"Peter Panda\",\"Peter Panda\",\"Peter Panda\",\"Peter Panda\",\"Peter Panda\",\"Peter Panda\",\"Peter Panda\",\"Peter Panda\",\"Peter Panda\",\"Peter Panda\",\"Peter Panda\",\"Peter Panda\",\"Peter Panda\",\"Peter Panda\",\"Peter Panda\",\"Peter Panda\",\"Peter Panda\",\"Peter Panda\",\"Peter Panda\",\"Peter Panda\",\"Peter Panda\",\"Peter Panda\",\"Peter Panda\",\"Peter Panda\",\"Peter Panda\",\"Peter Panda\",\"Peter Panda\",\"Peter Panda\",\"Peter Panda\",\"Peter Panda\",\"Peter Panda\",\"Peter Panda\",\"Peter Panda\",\"Peter Panda\",\"Peter Panda\",\"Peter Panda\",\"Peter Panda\",\"Peter Panda\",\"Peter Panda\",\"Peter Panda\",\"Peter Panda\",\"Peter Panda\",\"Peter Panda\",\"Peter Panda\",\"Peter Panda\",\"Peter Panda\",\"Peter Panda\",\"Peter Panda\",\"Peter Panda\",\"Peter Panda\",\"Peter Panda\",\"Peter Panda\",\"Peter Panda\",\"Peter Panda\",\"Peter Panda\",\"Peter Panda\",\"Peter Panda\",\"Peter Panda\",\"Peter Panda\",\"Peter Panda\",\"Peter Panda\",\"Peter Panda\",\"Peter Panda\",\"Peter Panda\",\"Peter Panda\",\"Peter Panda\",\"Peter Panda\",\"Peter Panda\",\"Peter Panda\",\"Peter Panda\",\"Peter Panda\",\"Peter Panda\",\"Peter Panda\",\"Peter Panda\",\"Peter Panda\",\"Peter Panda\",\"Peter Panda\",\"Peter Panda\",\"Peter Panda\",\"Peter Panda\",\"Peter Panda\",\"Peter Panda\",\"Peter Panda\",\"Peter Panda\",\"Peter Panda\",\"Peter Panda\",\"Peter Panda\",\"Peter Panda\",\"Peter Panda\",\"Peter Panda\",\"Peter Panda\",\"Peter Panda\",\"Peter Panda\",\"Peter Panda\",\"Peter Panda\",\"Peter Panda\",\"Peter Panda\",\"Peter Panda\",\"Peter Panda\",\"Peter Panda\",\"Peter Panda\",\"Peter Panda\",\"Peter Panda\",\"Peter Panda\",\"Peter Panda\",\"Peter Panda\",\"Peter Panda\",\"Peter Panda\",\"Peter Panda\",\"Peter Panda\",\"Peter Panda\",\"Peter Panda\",\"Peter Panda\",\"Peter Panda\",\"Peter Panda\",\"Peter Panda\",\"Peter Panda\",\"Peter Panda\",\"Peter Panda\",\"Peter Panda\",\"Peter Panda\",\"Peter Panda\",\"Peter Panda\",\"Peter Panda\",\"Peter Panda\",\"Peter Panda\",\"Peter Panda\",\"Peter Panda\",\"Peter Panda\",\"Peter Panda\",\"Peter Panda\",\"Peter Panda\",\"Peter Panda\",\"Peter Panda\",\"Peter Panda\",\"Peter Panda\",\"Peter Panda\",\"Peter Panda\",\"Peter Panda\",\"Peter Panda\",\"Peter Panda\",\"Peter Panda\",\"Peter Panda\",\"Peter Panda\",\"Peter Panda\",\"Peter Panda\",\"Peter Panda\",\"Peter Panda\",\"Peter Panda\",\"Peter Panda\",\"Peter Panda\",\"Peter Panda\",\"Peter Panda\",\"Peter Panda\",\"Peter Panda\",\"Peter Panda\",\"Peter Panda\",\"Peter Panda\",\"Peter Panda\",\"Peter Panda\",\"Peter Panda\",\"Peter Panda\",\"Peter Panda\",\"Peter Panda\",\"Peter Panda\",\"Peter Panda\",\"Peter Panda\",\"Peter Panda\",\"Peter Panda\",\"Peter Panda\",\"Peter Panda\",\"Peter Panda\",\"Peter Panda\",\"Peter Panda\",\"Peter Panda\",\"Peter Panda\",\"Peter Panda\",\"Peter Panda\",\"Peter Panda\",\"Peter Panda\",\"Peter Panda\",\"Peter Panda\",\"Peter Panda\",\"Peter Panda\",\"Peter Panda\",\"Peter Panda\",\"Peter Panda\",\"Peter Panda\",\"Peter Panda\",\"Peter Panda\",\"Peter Panda\",\"Peter Panda\"]]]}}},\"view\":{\"type\":\"object\",\"name\":\"CDSView\",\"id\":\"p1087\",\"attributes\":{\"filter\":{\"type\":\"object\",\"name\":\"AllIndices\",\"id\":\"p1088\"}}},\"glyph\":{\"type\":\"object\",\"name\":\"Scatter\",\"id\":\"p1083\",\"attributes\":{\"tags\":[\"apply_ranges\"],\"x\":{\"type\":\"field\",\"field\":\"timestamp\"},\"y\":{\"type\":\"field\",\"field\":\"blood_glucose\"},\"size\":{\"type\":\"value\",\"value\":5.477225575051661},\"line_color\":{\"type\":\"value\",\"value\":\"#fc4f30\"},\"fill_color\":{\"type\":\"value\",\"value\":\"#fc4f30\"},\"hatch_color\":{\"type\":\"value\",\"value\":\"#fc4f30\"}}},\"selection_glyph\":{\"type\":\"object\",\"name\":\"Scatter\",\"id\":\"p1090\",\"attributes\":{\"tags\":[\"apply_ranges\"],\"x\":{\"type\":\"field\",\"field\":\"timestamp\"},\"y\":{\"type\":\"field\",\"field\":\"blood_glucose\"},\"size\":{\"type\":\"value\",\"value\":5.477225575051661},\"angle\":{\"type\":\"value\",\"value\":0.0},\"line_color\":{\"type\":\"value\",\"value\":\"#fc4f30\"},\"line_alpha\":{\"type\":\"value\",\"value\":1.0},\"line_width\":{\"type\":\"value\",\"value\":1},\"line_join\":{\"type\":\"value\",\"value\":\"bevel\"},\"line_cap\":{\"type\":\"value\",\"value\":\"butt\"},\"line_dash\":{\"type\":\"value\",\"value\":[]},\"line_dash_offset\":{\"type\":\"value\",\"value\":0},\"fill_color\":{\"type\":\"value\",\"value\":\"#fc4f30\"},\"fill_alpha\":{\"type\":\"value\",\"value\":1.0},\"hatch_color\":{\"type\":\"value\",\"value\":\"#fc4f30\"},\"hatch_alpha\":{\"type\":\"value\",\"value\":1.0},\"hatch_scale\":{\"type\":\"value\",\"value\":12.0},\"hatch_pattern\":{\"type\":\"value\",\"value\":null},\"hatch_weight\":{\"type\":\"value\",\"value\":1.0},\"marker\":{\"type\":\"value\",\"value\":\"circle\"}}},\"nonselection_glyph\":{\"type\":\"object\",\"name\":\"Scatter\",\"id\":\"p1084\",\"attributes\":{\"tags\":[\"apply_ranges\"],\"x\":{\"type\":\"field\",\"field\":\"timestamp\"},\"y\":{\"type\":\"field\",\"field\":\"blood_glucose\"},\"size\":{\"type\":\"value\",\"value\":5.477225575051661},\"line_color\":{\"type\":\"value\",\"value\":\"#fc4f30\"},\"line_alpha\":{\"type\":\"value\",\"value\":0.1},\"fill_color\":{\"type\":\"value\",\"value\":\"#fc4f30\"},\"fill_alpha\":{\"type\":\"value\",\"value\":0.1},\"hatch_color\":{\"type\":\"value\",\"value\":\"#fc4f30\"},\"hatch_alpha\":{\"type\":\"value\",\"value\":0.1}}},\"muted_glyph\":{\"type\":\"object\",\"name\":\"Scatter\",\"id\":\"p1085\",\"attributes\":{\"tags\":[\"apply_ranges\"],\"x\":{\"type\":\"field\",\"field\":\"timestamp\"},\"y\":{\"type\":\"field\",\"field\":\"blood_glucose\"},\"size\":{\"type\":\"value\",\"value\":5.477225575051661},\"line_color\":{\"type\":\"value\",\"value\":\"#fc4f30\"},\"line_alpha\":{\"type\":\"value\",\"value\":0.2},\"fill_color\":{\"type\":\"value\",\"value\":\"#fc4f30\"},\"fill_alpha\":{\"type\":\"value\",\"value\":0.2},\"hatch_color\":{\"type\":\"value\",\"value\":\"#fc4f30\"},\"hatch_alpha\":{\"type\":\"value\",\"value\":0.2}}}}}],\"toolbar\":{\"type\":\"object\",\"name\":\"Toolbar\",\"id\":\"p1028\",\"attributes\":{\"tools\":[{\"type\":\"object\",\"name\":\"WheelZoomTool\",\"id\":\"p1014\",\"attributes\":{\"tags\":[\"hv_created\"],\"renderers\":\"auto\",\"zoom_together\":\"none\"}},{\"type\":\"object\",\"name\":\"HoverTool\",\"id\":\"p1015\",\"attributes\":{\"tags\":[\"hv_created\"],\"renderers\":[{\"id\":\"p1071\"},{\"id\":\"p1086\"}],\"tooltips\":[[\"name\",\"@{name}\"],[\"timestamp\",\"@{timestamp}{%F %T}\"],[\"blood_glucose\",\"@{blood_glucose}\"]],\"formatters\":{\"type\":\"map\",\"entries\":[[\"@{timestamp}\",\"datetime\"]]}}},{\"type\":\"object\",\"name\":\"SaveTool\",\"id\":\"p1053\"},{\"type\":\"object\",\"name\":\"PanTool\",\"id\":\"p1054\"},{\"type\":\"object\",\"name\":\"BoxZoomTool\",\"id\":\"p1055\",\"attributes\":{\"overlay\":{\"type\":\"object\",\"name\":\"BoxAnnotation\",\"id\":\"p1056\",\"attributes\":{\"syncable\":false,\"level\":\"overlay\",\"visible\":false,\"left\":{\"type\":\"number\",\"value\":\"nan\"},\"right\":{\"type\":\"number\",\"value\":\"nan\"},\"top\":{\"type\":\"number\",\"value\":\"nan\"},\"bottom\":{\"type\":\"number\",\"value\":\"nan\"},\"left_units\":\"canvas\",\"right_units\":\"canvas\",\"top_units\":\"canvas\",\"bottom_units\":\"canvas\",\"line_color\":\"black\",\"line_alpha\":1.0,\"line_width\":2,\"line_dash\":[4,4],\"fill_color\":\"lightgrey\",\"fill_alpha\":0.5}}}},{\"type\":\"object\",\"name\":\"ResetTool\",\"id\":\"p1061\"}],\"active_drag\":{\"id\":\"p1054\"},\"active_scroll\":{\"id\":\"p1014\"}}},\"left\":[{\"type\":\"object\",\"name\":\"LinearAxis\",\"id\":\"p1048\",\"attributes\":{\"ticker\":{\"type\":\"object\",\"name\":\"BasicTicker\",\"id\":\"p1049\",\"attributes\":{\"mantissas\":[1,2,5]}},\"formatter\":{\"type\":\"object\",\"name\":\"BasicTickFormatter\",\"id\":\"p1050\"},\"axis_label\":\"blood_glucose\",\"major_label_policy\":{\"type\":\"object\",\"name\":\"AllLabels\",\"id\":\"p1051\"}}}],\"right\":[{\"type\":\"object\",\"name\":\"Legend\",\"id\":\"p1074\",\"attributes\":{\"location\":[0,0],\"title\":\"name\",\"click_policy\":\"mute\",\"items\":[{\"type\":\"object\",\"name\":\"LegendItem\",\"id\":\"p1075\",\"attributes\":{\"label\":{\"type\":\"value\",\"value\":\"Blizzard Bob\"},\"renderers\":[{\"id\":\"p1071\"}]}},{\"type\":\"object\",\"name\":\"LegendItem\",\"id\":\"p1089\",\"attributes\":{\"label\":{\"type\":\"value\",\"value\":\"Peter Panda\"},\"renderers\":[{\"id\":\"p1086\"}]}}]}}],\"below\":[{\"type\":\"object\",\"name\":\"DatetimeAxis\",\"id\":\"p1031\",\"attributes\":{\"ticker\":{\"type\":\"object\",\"name\":\"DatetimeTicker\",\"id\":\"p1032\",\"attributes\":{\"num_minor_ticks\":5,\"tickers\":[{\"type\":\"object\",\"name\":\"AdaptiveTicker\",\"id\":\"p1033\",\"attributes\":{\"num_minor_ticks\":0,\"mantissas\":[1,2,5],\"max_interval\":500.0}},{\"type\":\"object\",\"name\":\"AdaptiveTicker\",\"id\":\"p1034\",\"attributes\":{\"num_minor_ticks\":0,\"base\":60,\"mantissas\":[1,2,5,10,15,20,30],\"min_interval\":1000.0,\"max_interval\":1800000.0}},{\"type\":\"object\",\"name\":\"AdaptiveTicker\",\"id\":\"p1035\",\"attributes\":{\"num_minor_ticks\":0,\"base\":24,\"mantissas\":[1,2,4,6,8,12],\"min_interval\":3600000.0,\"max_interval\":43200000.0}},{\"type\":\"object\",\"name\":\"DaysTicker\",\"id\":\"p1036\",\"attributes\":{\"days\":[1,2,3,4,5,6,7,8,9,10,11,12,13,14,15,16,17,18,19,20,21,22,23,24,25,26,27,28,29,30,31]}},{\"type\":\"object\",\"name\":\"DaysTicker\",\"id\":\"p1037\",\"attributes\":{\"days\":[1,4,7,10,13,16,19,22,25,28]}},{\"type\":\"object\",\"name\":\"DaysTicker\",\"id\":\"p1038\",\"attributes\":{\"days\":[1,8,15,22]}},{\"type\":\"object\",\"name\":\"DaysTicker\",\"id\":\"p1039\",\"attributes\":{\"days\":[1,15]}},{\"type\":\"object\",\"name\":\"MonthsTicker\",\"id\":\"p1040\",\"attributes\":{\"months\":[0,1,2,3,4,5,6,7,8,9,10,11]}},{\"type\":\"object\",\"name\":\"MonthsTicker\",\"id\":\"p1041\",\"attributes\":{\"months\":[0,2,4,6,8,10]}},{\"type\":\"object\",\"name\":\"MonthsTicker\",\"id\":\"p1042\",\"attributes\":{\"months\":[0,4,8]}},{\"type\":\"object\",\"name\":\"MonthsTicker\",\"id\":\"p1043\",\"attributes\":{\"months\":[0,6]}},{\"type\":\"object\",\"name\":\"YearsTicker\",\"id\":\"p1044\"}]}},\"formatter\":{\"type\":\"object\",\"name\":\"DatetimeTickFormatter\",\"id\":\"p1045\"},\"axis_label\":\"timestamp\",\"major_label_policy\":{\"type\":\"object\",\"name\":\"AllLabels\",\"id\":\"p1046\"}}}],\"center\":[{\"type\":\"object\",\"name\":\"Grid\",\"id\":\"p1047\",\"attributes\":{\"axis\":{\"id\":\"p1031\"},\"grid_line_color\":null}},{\"type\":\"object\",\"name\":\"Grid\",\"id\":\"p1052\",\"attributes\":{\"dimension\":1,\"axis\":{\"id\":\"p1048\"},\"grid_line_color\":null}}],\"min_border_top\":10,\"min_border_bottom\":10,\"min_border_left\":10,\"min_border_right\":10,\"output_backend\":\"webgl\"}},{\"type\":\"object\",\"name\":\"Spacer\",\"id\":\"p1092\",\"attributes\":{\"name\":\"HSpacer00974\",\"stylesheets\":[\"\\n:host(.pn-loading):before, .pn-loading:before {\\n  background-color: #c3c3c3;\\n  mask-size: auto calc(min(50%, 400px));\\n  -webkit-mask-size: auto calc(min(50%, 400px));\\n}\",{\"id\":\"p1007\"},{\"id\":\"p1005\"},{\"id\":\"p1006\"}],\"margin\":0,\"sizing_mode\":\"stretch_width\",\"align\":\"start\"}}]}}],\"defs\":[{\"type\":\"model\",\"name\":\"ReactiveHTML1\"},{\"type\":\"model\",\"name\":\"FlexBox1\",\"properties\":[{\"name\":\"align_content\",\"kind\":\"Any\",\"default\":\"flex-start\"},{\"name\":\"align_items\",\"kind\":\"Any\",\"default\":\"flex-start\"},{\"name\":\"flex_direction\",\"kind\":\"Any\",\"default\":\"row\"},{\"name\":\"flex_wrap\",\"kind\":\"Any\",\"default\":\"wrap\"},{\"name\":\"gap\",\"kind\":\"Any\",\"default\":\"\"},{\"name\":\"justify_content\",\"kind\":\"Any\",\"default\":\"flex-start\"}]},{\"type\":\"model\",\"name\":\"FloatPanel1\",\"properties\":[{\"name\":\"config\",\"kind\":\"Any\",\"default\":{\"type\":\"map\"}},{\"name\":\"contained\",\"kind\":\"Any\",\"default\":true},{\"name\":\"position\",\"kind\":\"Any\",\"default\":\"right-top\"},{\"name\":\"offsetx\",\"kind\":\"Any\",\"default\":null},{\"name\":\"offsety\",\"kind\":\"Any\",\"default\":null},{\"name\":\"theme\",\"kind\":\"Any\",\"default\":\"primary\"},{\"name\":\"status\",\"kind\":\"Any\",\"default\":\"normalized\"}]},{\"type\":\"model\",\"name\":\"GridStack1\",\"properties\":[{\"name\":\"mode\",\"kind\":\"Any\",\"default\":\"warn\"},{\"name\":\"ncols\",\"kind\":\"Any\",\"default\":null},{\"name\":\"nrows\",\"kind\":\"Any\",\"default\":null},{\"name\":\"allow_resize\",\"kind\":\"Any\",\"default\":true},{\"name\":\"allow_drag\",\"kind\":\"Any\",\"default\":true},{\"name\":\"state\",\"kind\":\"Any\",\"default\":[]}]},{\"type\":\"model\",\"name\":\"drag1\",\"properties\":[{\"name\":\"slider_width\",\"kind\":\"Any\",\"default\":5},{\"name\":\"slider_color\",\"kind\":\"Any\",\"default\":\"black\"},{\"name\":\"value\",\"kind\":\"Any\",\"default\":50}]},{\"type\":\"model\",\"name\":\"click1\",\"properties\":[{\"name\":\"terminal_output\",\"kind\":\"Any\",\"default\":\"\"},{\"name\":\"debug_name\",\"kind\":\"Any\",\"default\":\"\"},{\"name\":\"clears\",\"kind\":\"Any\",\"default\":0}]},{\"type\":\"model\",\"name\":\"FastWrapper1\",\"properties\":[{\"name\":\"object\",\"kind\":\"Any\",\"default\":null},{\"name\":\"style\",\"kind\":\"Any\",\"default\":null}]},{\"type\":\"model\",\"name\":\"NotificationAreaBase1\",\"properties\":[{\"name\":\"js_events\",\"kind\":\"Any\",\"default\":{\"type\":\"map\"}},{\"name\":\"position\",\"kind\":\"Any\",\"default\":\"bottom-right\"},{\"name\":\"_clear\",\"kind\":\"Any\",\"default\":0}]},{\"type\":\"model\",\"name\":\"NotificationArea1\",\"properties\":[{\"name\":\"js_events\",\"kind\":\"Any\",\"default\":{\"type\":\"map\"}},{\"name\":\"notifications\",\"kind\":\"Any\",\"default\":[]},{\"name\":\"position\",\"kind\":\"Any\",\"default\":\"bottom-right\"},{\"name\":\"_clear\",\"kind\":\"Any\",\"default\":0},{\"name\":\"types\",\"kind\":\"Any\",\"default\":[{\"type\":\"map\",\"entries\":[[\"type\",\"warning\"],[\"background\",\"#ffc107\"],[\"icon\",{\"type\":\"map\",\"entries\":[[\"className\",\"fas fa-exclamation-triangle\"],[\"tagName\",\"i\"],[\"color\",\"white\"]]}]]},{\"type\":\"map\",\"entries\":[[\"type\",\"info\"],[\"background\",\"#007bff\"],[\"icon\",{\"type\":\"map\",\"entries\":[[\"className\",\"fas fa-info-circle\"],[\"tagName\",\"i\"],[\"color\",\"white\"]]}]]}]}]},{\"type\":\"model\",\"name\":\"Notification\",\"properties\":[{\"name\":\"background\",\"kind\":\"Any\",\"default\":null},{\"name\":\"duration\",\"kind\":\"Any\",\"default\":3000},{\"name\":\"icon\",\"kind\":\"Any\",\"default\":null},{\"name\":\"message\",\"kind\":\"Any\",\"default\":\"\"},{\"name\":\"notification_type\",\"kind\":\"Any\",\"default\":null},{\"name\":\"_destroyed\",\"kind\":\"Any\",\"default\":false}]},{\"type\":\"model\",\"name\":\"TemplateActions1\",\"properties\":[{\"name\":\"open_modal\",\"kind\":\"Any\",\"default\":0},{\"name\":\"close_modal\",\"kind\":\"Any\",\"default\":0}]},{\"type\":\"model\",\"name\":\"BootstrapTemplateActions1\",\"properties\":[{\"name\":\"open_modal\",\"kind\":\"Any\",\"default\":0},{\"name\":\"close_modal\",\"kind\":\"Any\",\"default\":0}]},{\"type\":\"model\",\"name\":\"TemplateEditor1\",\"properties\":[{\"name\":\"layout\",\"kind\":\"Any\",\"default\":[]}]},{\"type\":\"model\",\"name\":\"MaterialTemplateActions1\",\"properties\":[{\"name\":\"open_modal\",\"kind\":\"Any\",\"default\":0},{\"name\":\"close_modal\",\"kind\":\"Any\",\"default\":0}]},{\"type\":\"model\",\"name\":\"copy_to_clipboard1\",\"properties\":[{\"name\":\"fill\",\"kind\":\"Any\",\"default\":\"none\"},{\"name\":\"value\",\"kind\":\"Any\",\"default\":null}]}]}};\n",
       "  var render_items = [{\"docid\":\"9162cf9d-6366-47f1-9df7-174b081d9c27\",\"roots\":{\"p1004\":\"ebab7780-dfba-4968-a1f0-05853c9124a7\"},\"root_ids\":[\"p1004\"]}];\n",
       "  var docs = Object.values(docs_json)\n",
       "  if (!docs) {\n",
       "    return\n",
       "  }\n",
       "  const py_version = docs[0].version.replace('rc', '-rc.').replace('.dev', '-dev.')\n",
       "  function embed_document(root) {\n",
       "    var Bokeh = get_bokeh(root)\n",
       "    Bokeh.embed.embed_items_notebook(docs_json, render_items);\n",
       "    for (const render_item of render_items) {\n",
       "      for (const root_id of render_item.root_ids) {\n",
       "\tconst id_el = document.getElementById(root_id)\n",
       "\tif (id_el.children.length && (id_el.children[0].className === 'bk-root')) {\n",
       "\t  const root_el = id_el.children[0]\n",
       "\t  root_el.id = root_el.id + '-rendered'\n",
       "\t}\n",
       "      }\n",
       "    }\n",
       "  }\n",
       "  function get_bokeh(root) {\n",
       "    if (root.Bokeh === undefined) {\n",
       "      return null\n",
       "    } else if (root.Bokeh.version !== py_version) {\n",
       "      if (root.Bokeh.versions === undefined || !root.Bokeh.versions.has(py_version)) {\n",
       "\treturn null\n",
       "      }\n",
       "      return root.Bokeh.versions.get(py_version);\n",
       "    } else if (root.Bokeh.version === py_version) {\n",
       "      return root.Bokeh\n",
       "    }\n",
       "    return null\n",
       "  }\n",
       "  function is_loaded(root) {\n",
       "    var Bokeh = get_bokeh(root)\n",
       "    return (Bokeh != null && Bokeh.Panel !== undefined)\n",
       "  }\n",
       "  if (is_loaded(root)) {\n",
       "    embed_document(root);\n",
       "  } else {\n",
       "    var attempts = 0;\n",
       "    var timer = setInterval(function(root) {\n",
       "      if (is_loaded(root)) {\n",
       "        clearInterval(timer);\n",
       "        embed_document(root);\n",
       "      } else if (document.readyState == \"complete\") {\n",
       "        attempts++;\n",
       "        if (attempts > 200) {\n",
       "          clearInterval(timer);\n",
       "\t  var Bokeh = get_bokeh(root)\n",
       "\t  if (Bokeh == null || Bokeh.Panel == null) {\n",
       "            console.warn(\"Panel: ERROR: Unable to run Panel code because Bokeh or Panel library is missing\");\n",
       "\t  } else {\n",
       "\t    console.warn(\"Panel: WARNING: Attempting to render but not all required libraries could be resolved.\")\n",
       "\t    embed_document(root)\n",
       "\t  }\n",
       "        }\n",
       "      }\n",
       "    }, 25, root)\n",
       "  }\n",
       "})(window);</script>"
      ],
      "text/plain": [
       ":NdOverlay   [name]\n",
       "   :Scatter   [timestamp]   (blood_glucose)"
      ]
     },
     "execution_count": 13,
     "metadata": {
      "application/vnd.holoviews_exec.v0+json": {
       "id": "p1004"
      }
     },
     "output_type": "execute_result"
    }
   ],
   "source": [
    "measurements.select(\"name\", \"timestamp\", \"blood_glucose\").group_by_dynamic(\n",
    "    index_column=\"timestamp\", every=\"1d\", period=\"1d\", group_by=\"name\"\n",
    ").agg(pl.col(\"blood_glucose\").mean()).filter(\n",
    "    pl.col(\"name\").is_in([\"Blizzard Bob\", \"Peter Panda\"]), pl.col(\"blood_glucose\") > 190\n",
    ").plot.scatter(\n",
    "    x=\"timestamp\", y=\"blood_glucose\", by=\"name\"\n",
    ")"
   ]
  },
  {
   "cell_type": "markdown",
   "metadata": {},
   "source": [
    "# Joins\n",
    "\n",
    "How many times has vet practice Digital Wildlife Care diagnosed a polar bear as sick?"
   ]
  },
  {
   "cell_type": "code",
   "execution_count": 14,
   "metadata": {},
   "outputs": [
    {
     "data": {
      "text/html": [
       "<div><style>\n",
       ".dataframe > thead > tr,\n",
       ".dataframe > tbody > tr {\n",
       "  text-align: right;\n",
       "  white-space: pre-wrap;\n",
       "}\n",
       "</style>\n",
       "<small>shape: (5, 3)</small><table border=\"1\" class=\"dataframe\"><thead><tr><th>vet</th><th>name</th><th>practice</th></tr><tr><td>i8</td><td>str</td><td>str</td></tr></thead><tbody><tr><td>1</td><td>&quot;Zooey Codewell&quot;</td><td>&quot;TechSavvy Vets&quot;</td></tr><tr><td>2</td><td>&quot;Script Safari&quot;</td><td>&quot;Digital Wildlife Care&quot;</td></tr><tr><td>3</td><td>&quot;Debug Dino&quot;</td><td>&quot;Digital Wildlife Care&quot;</td></tr><tr><td>4</td><td>&quot;Pixel Paws&quot;</td><td>&quot;CodePaws Veterinary Clinic&quot;</td></tr><tr><td>5</td><td>&quot;Byte Lyon&quot;</td><td>&quot;TechSavvy Vets&quot;</td></tr></tbody></table></div>"
      ],
      "text/plain": [
       "shape: (5, 3)\n",
       "┌─────┬────────────────┬────────────────────────────┐\n",
       "│ vet ┆ name           ┆ practice                   │\n",
       "│ --- ┆ ---            ┆ ---                        │\n",
       "│ i8  ┆ str            ┆ str                        │\n",
       "╞═════╪════════════════╪════════════════════════════╡\n",
       "│ 1   ┆ Zooey Codewell ┆ TechSavvy Vets             │\n",
       "│ 2   ┆ Script Safari  ┆ Digital Wildlife Care      │\n",
       "│ 3   ┆ Debug Dino     ┆ Digital Wildlife Care      │\n",
       "│ 4   ┆ Pixel Paws     ┆ CodePaws Veterinary Clinic │\n",
       "│ 5   ┆ Byte Lyon      ┆ TechSavvy Vets             │\n",
       "└─────┴────────────────┴────────────────────────────┘"
      ]
     },
     "execution_count": 14,
     "metadata": {},
     "output_type": "execute_result"
    }
   ],
   "source": [
    "dim_vet = pl.read_parquet(\"data/dim_vet.parquet\").select(pl.all().shrink_dtype())\n",
    "dim_vet"
   ]
  },
  {
   "cell_type": "code",
   "execution_count": 15,
   "metadata": {},
   "outputs": [
    {
     "data": {
      "text/html": [
       "<div><style>\n",
       ".dataframe > thead > tr,\n",
       ".dataframe > tbody > tr {\n",
       "  text-align: right;\n",
       "  white-space: pre-wrap;\n",
       "}\n",
       "</style>\n",
       "<small>shape: (1, 1)</small><table border=\"1\" class=\"dataframe\"><thead><tr><th>len</th></tr><tr><td>u32</td></tr></thead><tbody><tr><td>546</td></tr></tbody></table></div>"
      ],
      "text/plain": [
       "shape: (1, 1)\n",
       "┌─────┐\n",
       "│ len │\n",
       "│ --- │\n",
       "│ u32 │\n",
       "╞═════╡\n",
       "│ 546 │\n",
       "└─────┘"
      ]
     },
     "execution_count": 15,
     "metadata": {},
     "output_type": "execute_result"
    }
   ],
   "source": [
    "batch_measurements.join(\n",
    "    other=dim_vet.filter(practice=\"Digital Wildlife Care\"), on=\"vet\", how=\"inner\"\n",
    ").filter(vet_health_check=\"SICK\").select(pl.len())"
   ]
  },
  {
   "cell_type": "code",
   "execution_count": 16,
   "metadata": {},
   "outputs": [
    {
     "data": {
      "text/html": [
       "<div><style>\n",
       ".dataframe > thead > tr,\n",
       ".dataframe > tbody > tr {\n",
       "  text-align: right;\n",
       "  white-space: pre-wrap;\n",
       "}\n",
       "</style>\n",
       "<small>shape: (3, 3)</small><table border=\"1\" class=\"dataframe\"><thead><tr><th>vet</th><th>name</th><th>practice</th></tr><tr><td>i8</td><td>str</td><td>str</td></tr></thead><tbody><tr><td>2</td><td>&quot;Script Safari&quot;</td><td>&quot;Digital Wildlife Care&quot;</td></tr><tr><td>3</td><td>&quot;Debug Dino&quot;</td><td>&quot;Digital Wildlife Care&quot;</td></tr><tr><td>5</td><td>&quot;Byte Lyon&quot;</td><td>&quot;TechSavvy Vets&quot;</td></tr></tbody></table></div>"
      ],
      "text/plain": [
       "shape: (3, 3)\n",
       "┌─────┬───────────────┬───────────────────────┐\n",
       "│ vet ┆ name          ┆ practice              │\n",
       "│ --- ┆ ---           ┆ ---                   │\n",
       "│ i8  ┆ str           ┆ str                   │\n",
       "╞═════╪═══════════════╪═══════════════════════╡\n",
       "│ 2   ┆ Script Safari ┆ Digital Wildlife Care │\n",
       "│ 3   ┆ Debug Dino    ┆ Digital Wildlife Care │\n",
       "│ 5   ┆ Byte Lyon     ┆ TechSavvy Vets        │\n",
       "└─────┴───────────────┴───────────────────────┘"
      ]
     },
     "execution_count": 16,
     "metadata": {},
     "output_type": "execute_result"
    }
   ],
   "source": [
    "dim_vet.join(\n",
    "    other=batch_measurements.filter(\n",
    "        pl.col(\"weight\") > pl.col(\"weight\").quantile(0.999)\n",
    "    ),\n",
    "    on=\"vet\",\n",
    "    how=\"anti\",\n",
    ")"
   ]
  },
  {
   "cell_type": "markdown",
   "metadata": {},
   "source": [
    "Which vet was the least consistent in name capitalization?"
   ]
  },
  {
   "cell_type": "code",
   "execution_count": 17,
   "metadata": {},
   "outputs": [
    {
     "data": {
      "text/html": [
       "<div><style>\n",
       ".dataframe > thead > tr,\n",
       ".dataframe > tbody > tr {\n",
       "  text-align: right;\n",
       "  white-space: pre-wrap;\n",
       "}\n",
       "</style>\n",
       "<small>shape: (5, 3)</small><table border=\"1\" class=\"dataframe\"><thead><tr><th>is_misspelt</th><th>name</th><th>practice</th></tr><tr><td>f64</td><td>str</td><td>str</td></tr></thead><tbody><tr><td>0.468892</td><td>&quot;Byte Lyon&quot;</td><td>&quot;TechSavvy Vets&quot;</td></tr><tr><td>0.230999</td><td>&quot;Pixel Paws&quot;</td><td>&quot;CodePaws Veterinary Clinic&quot;</td></tr><tr><td>0.117647</td><td>&quot;Script Safari&quot;</td><td>&quot;Digital Wildlife Care&quot;</td></tr><tr><td>0.0</td><td>&quot;Debug Dino&quot;</td><td>&quot;Digital Wildlife Care&quot;</td></tr><tr><td>0.0</td><td>&quot;Zooey Codewell&quot;</td><td>&quot;TechSavvy Vets&quot;</td></tr></tbody></table></div>"
      ],
      "text/plain": [
       "shape: (5, 3)\n",
       "┌─────────────┬────────────────┬────────────────────────────┐\n",
       "│ is_misspelt ┆ name           ┆ practice                   │\n",
       "│ ---         ┆ ---            ┆ ---                        │\n",
       "│ f64         ┆ str            ┆ str                        │\n",
       "╞═════════════╪════════════════╪════════════════════════════╡\n",
       "│ 0.468892    ┆ Byte Lyon      ┆ TechSavvy Vets             │\n",
       "│ 0.230999    ┆ Pixel Paws     ┆ CodePaws Veterinary Clinic │\n",
       "│ 0.117647    ┆ Script Safari  ┆ Digital Wildlife Care      │\n",
       "│ 0.0         ┆ Debug Dino     ┆ Digital Wildlife Care      │\n",
       "│ 0.0         ┆ Zooey Codewell ┆ TechSavvy Vets             │\n",
       "└─────────────┴────────────────┴────────────────────────────┘"
      ]
     },
     "execution_count": 17,
     "metadata": {},
     "output_type": "execute_result"
    }
   ],
   "source": [
    "batch_measurements.select(\"name\", \"vet\").with_columns(\n",
    "    (pl.col(\"name\") == pl.col(\"name\").str.to_uppercase()).alias(\"is_misspelt\")\n",
    ").group_by(\"vet\").agg(pl.col(\"is_misspelt\").sum() / pl.len()).join(\n",
    "    other=dim_vet, on=\"vet\", how=\"left\"\n",
    ").drop(\"vet\").sort(\"is_misspelt\", descending=True)"
   ]
  },
  {
   "cell_type": "markdown",
   "metadata": {},
   "source": [
    "Which day had the lowest bear-to-visitor ratio?"
   ]
  },
  {
   "cell_type": "code",
   "execution_count": 18,
   "metadata": {},
   "outputs": [
    {
     "data": {
      "text/html": [
       "<div><style>\n",
       ".dataframe > thead > tr,\n",
       ".dataframe > tbody > tr {\n",
       "  text-align: right;\n",
       "  white-space: pre-wrap;\n",
       "}\n",
       "</style>\n",
       "<small>shape: (1_459, 2)</small><table border=\"1\" class=\"dataframe\"><thead><tr><th>timestamp</th><th>visitors</th></tr><tr><td>datetime[μs]</td><td>i16</td></tr></thead><tbody><tr><td>2020-04-20 18:00:00</td><td>2057</td></tr><tr><td>2020-04-21 18:00:00</td><td>2264</td></tr><tr><td>2020-04-22 18:00:00</td><td>2388</td></tr><tr><td>2020-04-23 18:00:00</td><td>2041</td></tr><tr><td>2020-04-24 18:00:00</td><td>2038</td></tr><tr><td>&hellip;</td><td>&hellip;</td></tr><tr><td>2024-04-13 18:00:00</td><td>2545</td></tr><tr><td>2024-04-14 18:00:00</td><td>2665</td></tr><tr><td>2024-04-15 18:00:00</td><td>2392</td></tr><tr><td>2024-04-16 18:00:00</td><td>2292</td></tr><tr><td>2024-04-17 18:00:00</td><td>2180</td></tr></tbody></table></div>"
      ],
      "text/plain": [
       "shape: (1_459, 2)\n",
       "┌─────────────────────┬──────────┐\n",
       "│ timestamp           ┆ visitors │\n",
       "│ ---                 ┆ ---      │\n",
       "│ datetime[μs]        ┆ i16      │\n",
       "╞═════════════════════╪══════════╡\n",
       "│ 2020-04-20 18:00:00 ┆ 2057     │\n",
       "│ 2020-04-21 18:00:00 ┆ 2264     │\n",
       "│ 2020-04-22 18:00:00 ┆ 2388     │\n",
       "│ 2020-04-23 18:00:00 ┆ 2041     │\n",
       "│ 2020-04-24 18:00:00 ┆ 2038     │\n",
       "│ …                   ┆ …        │\n",
       "│ 2024-04-13 18:00:00 ┆ 2545     │\n",
       "│ 2024-04-14 18:00:00 ┆ 2665     │\n",
       "│ 2024-04-15 18:00:00 ┆ 2392     │\n",
       "│ 2024-04-16 18:00:00 ┆ 2292     │\n",
       "│ 2024-04-17 18:00:00 ┆ 2180     │\n",
       "└─────────────────────┴──────────┘"
      ]
     },
     "execution_count": 18,
     "metadata": {},
     "output_type": "execute_result"
    }
   ],
   "source": [
    "visitors = pl.read_parquet(\"data/visitors.parquet\").sort(\"timestamp\")\n",
    "visitors"
   ]
  },
  {
   "cell_type": "code",
   "execution_count": 19,
   "metadata": {},
   "outputs": [
    {
     "data": {
      "text/html": [
       "<div><style>\n",
       ".dataframe > thead > tr,\n",
       ".dataframe > tbody > tr {\n",
       "  text-align: right;\n",
       "  white-space: pre-wrap;\n",
       "}\n",
       "</style>\n",
       "<small>shape: (592, 2)</small><table border=\"1\" class=\"dataframe\"><thead><tr><th>timestamp</th><th>bears</th></tr><tr><td>datetime[μs]</td><td>u32</td></tr></thead><tbody><tr><td>2020-04-20 06:15:00</td><td>2</td></tr><tr><td>2020-04-22 06:15:00</td><td>1</td></tr><tr><td>2020-04-30 06:15:00</td><td>1</td></tr><tr><td>2020-05-06 06:15:00</td><td>1</td></tr><tr><td>2020-05-08 06:15:00</td><td>1</td></tr><tr><td>&hellip;</td><td>&hellip;</td></tr><tr><td>2024-04-07 06:15:00</td><td>1</td></tr><tr><td>2024-04-09 06:15:00</td><td>3</td></tr><tr><td>2024-04-11 06:15:00</td><td>3</td></tr><tr><td>2024-04-13 06:15:00</td><td>1</td></tr><tr><td>2024-04-17 06:15:00</td><td>2</td></tr></tbody></table></div>"
      ],
      "text/plain": [
       "shape: (592, 2)\n",
       "┌─────────────────────┬───────┐\n",
       "│ timestamp           ┆ bears │\n",
       "│ ---                 ┆ ---   │\n",
       "│ datetime[μs]        ┆ u32   │\n",
       "╞═════════════════════╪═══════╡\n",
       "│ 2020-04-20 06:15:00 ┆ 2     │\n",
       "│ 2020-04-22 06:15:00 ┆ 1     │\n",
       "│ 2020-04-30 06:15:00 ┆ 1     │\n",
       "│ 2020-05-06 06:15:00 ┆ 1     │\n",
       "│ 2020-05-08 06:15:00 ┆ 1     │\n",
       "│ …                   ┆ …     │\n",
       "│ 2024-04-07 06:15:00 ┆ 1     │\n",
       "│ 2024-04-09 06:15:00 ┆ 3     │\n",
       "│ 2024-04-11 06:15:00 ┆ 3     │\n",
       "│ 2024-04-13 06:15:00 ┆ 1     │\n",
       "│ 2024-04-17 06:15:00 ┆ 2     │\n",
       "└─────────────────────┴───────┘"
      ]
     },
     "execution_count": 19,
     "metadata": {},
     "output_type": "execute_result"
    }
   ],
   "source": [
    "visible_bears_per_day = batch_measurements.filter(vet_health_check=\"HEALTHY\").group_by(\"timestamp\").len(\n",
    "    name=\"bears\"\n",
    ").sort(\"timestamp\")\n",
    "visible_bears_per_day"
   ]
  },
  {
   "cell_type": "code",
   "execution_count": 20,
   "metadata": {},
   "outputs": [
    {
     "data": {
      "text/html": [
       "<div><style>\n",
       ".dataframe > thead > tr,\n",
       ".dataframe > tbody > tr {\n",
       "  text-align: right;\n",
       "  white-space: pre-wrap;\n",
       "}\n",
       "</style>\n",
       "<small>shape: (1_459, 4)</small><table border=\"1\" class=\"dataframe\"><thead><tr><th>timestamp</th><th>visitors</th><th>bears</th><th>ratio</th></tr><tr><td>datetime[μs]</td><td>i16</td><td>u32</td><td>f64</td></tr></thead><tbody><tr><td>2023-07-02 18:00:00</td><td>2799</td><td>1</td><td>0.000357</td></tr><tr><td>2021-01-24 18:00:00</td><td>2798</td><td>1</td><td>0.000357</td></tr><tr><td>2021-07-17 18:00:00</td><td>2795</td><td>1</td><td>0.000358</td></tr><tr><td>2023-10-21 18:00:00</td><td>2790</td><td>1</td><td>0.000358</td></tr><tr><td>2024-04-06 18:00:00</td><td>2790</td><td>1</td><td>0.000358</td></tr><tr><td>&hellip;</td><td>&hellip;</td><td>&hellip;</td><td>&hellip;</td></tr><tr><td>2024-02-08 18:00:00</td><td>2079</td><td>4</td><td>0.001924</td></tr><tr><td>2023-02-02 18:00:00</td><td>2040</td><td>4</td><td>0.001961</td></tr><tr><td>2023-01-12 18:00:00</td><td>2039</td><td>4</td><td>0.001962</td></tr><tr><td>2024-01-01 18:00:00</td><td>2022</td><td>4</td><td>0.001978</td></tr><tr><td>2023-02-28 18:00:00</td><td>2019</td><td>4</td><td>0.001981</td></tr></tbody></table></div>"
      ],
      "text/plain": [
       "shape: (1_459, 4)\n",
       "┌─────────────────────┬──────────┬───────┬──────────┐\n",
       "│ timestamp           ┆ visitors ┆ bears ┆ ratio    │\n",
       "│ ---                 ┆ ---      ┆ ---   ┆ ---      │\n",
       "│ datetime[μs]        ┆ i16      ┆ u32   ┆ f64      │\n",
       "╞═════════════════════╪══════════╪═══════╪══════════╡\n",
       "│ 2023-07-02 18:00:00 ┆ 2799     ┆ 1     ┆ 0.000357 │\n",
       "│ 2021-01-24 18:00:00 ┆ 2798     ┆ 1     ┆ 0.000357 │\n",
       "│ 2021-07-17 18:00:00 ┆ 2795     ┆ 1     ┆ 0.000358 │\n",
       "│ 2023-10-21 18:00:00 ┆ 2790     ┆ 1     ┆ 0.000358 │\n",
       "│ 2024-04-06 18:00:00 ┆ 2790     ┆ 1     ┆ 0.000358 │\n",
       "│ …                   ┆ …        ┆ …     ┆ …        │\n",
       "│ 2024-02-08 18:00:00 ┆ 2079     ┆ 4     ┆ 0.001924 │\n",
       "│ 2023-02-02 18:00:00 ┆ 2040     ┆ 4     ┆ 0.001961 │\n",
       "│ 2023-01-12 18:00:00 ┆ 2039     ┆ 4     ┆ 0.001962 │\n",
       "│ 2024-01-01 18:00:00 ┆ 2022     ┆ 4     ┆ 0.001978 │\n",
       "│ 2023-02-28 18:00:00 ┆ 2019     ┆ 4     ┆ 0.001981 │\n",
       "└─────────────────────┴──────────┴───────┴──────────┘"
      ]
     },
     "execution_count": 20,
     "metadata": {},
     "output_type": "execute_result"
    }
   ],
   "source": [
    "visitors.join_asof(other=visible_bears_per_day, on=\"timestamp\").with_columns(\n",
    "    (pl.col(\"bears\") / pl.col(\"visitors\")).alias(\"ratio\")\n",
    ").sort(\"ratio\")"
   ]
  }
 ],
 "metadata": {
  "kernelspec": {
   "display_name": ".venv",
   "language": "python",
   "name": "python3"
  },
  "language_info": {
   "codemirror_mode": {
    "name": "ipython",
    "version": 3
   },
   "file_extension": ".py",
   "mimetype": "text/x-python",
   "name": "python",
   "nbconvert_exporter": "python",
   "pygments_lexer": "ipython3",
   "version": "3.10.11"
  }
 },
 "nbformat": 4,
 "nbformat_minor": 2
}
