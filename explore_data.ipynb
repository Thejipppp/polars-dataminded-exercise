{
 "cells": [
  {
   "cell_type": "code",
   "execution_count": 1,
   "metadata": {},
   "outputs": [],
   "source": [
    "import polars as pl"
   ]
  },
  {
   "cell_type": "code",
   "execution_count": 2,
   "metadata": {},
   "outputs": [
    {
     "data": {
      "text/html": [
       "<div><style>\n",
       ".dataframe > thead > tr,\n",
       ".dataframe > tbody > tr {\n",
       "  text-align: right;\n",
       "  white-space: pre-wrap;\n",
       "}\n",
       "</style>\n",
       "<small>shape: (158_016, 6)</small><table border=\"1\" class=\"dataframe\"><thead><tr><th>name</th><th>timestamp</th><th>blood_pressure</th><th>heart_rate</th><th>temperature</th><th>blood_glucose</th></tr><tr><td>str</td><td>datetime[μs]</td><td>i16</td><td>i16</td><td>f32</td><td>i16</td></tr></thead><tbody><tr><td>&quot;Arctic Archie&quot;</td><td>2020-04-20 00:09:05.915752</td><td>126</td><td>66</td><td>35.860001</td><td>155</td></tr><tr><td>&quot;Chilly Willy&quot;</td><td>2020-04-20 00:03:09.240004</td><td>72</td><td>62</td><td>35.959999</td><td>115</td></tr><tr><td>&quot;Blizzard Bob&quot;</td><td>2020-04-20 00:00:21.265568</td><td>126</td><td>56</td><td>36.07</td><td>192</td></tr><tr><td>&quot;Arctic Archie&quot;</td><td>2020-04-20 01:03:58.174774</td><td>83</td><td>74</td><td>35.939999</td><td>154</td></tr><tr><td>&quot;Chilly Willy&quot;</td><td>2020-04-20 01:05:57.794002</td><td>71</td><td>72</td><td>35.66</td><td>112</td></tr><tr><td>&hellip;</td><td>&hellip;</td><td>&hellip;</td><td>&hellip;</td><td>&hellip;</td><td>&hellip;</td></tr><tr><td>&quot;Peter Panda&quot;</td><td>2024-04-18 23:02:54.446361</td><td>137</td><td>71</td><td>38.52</td><td>204</td></tr><tr><td>&quot;Arctic Archie&quot;</td><td>2024-04-18 23:03:41.806258</td><td>108</td><td>64</td><td>36.290001</td><td>147</td></tr><tr><td>&quot;Chilly Willy&quot;</td><td>2024-04-18 23:01:00.699120</td><td>93</td><td>66</td><td>36.360001</td><td>116</td></tr><tr><td>&quot;Cubby Coldpaws&quot;</td><td>2024-04-18 23:01:57.459280</td><td>86</td><td>132</td><td>35.75</td><td>152</td></tr><tr><td>&quot;Blizzard Bob&quot;</td><td>2024-04-18 23:06:15.533603</td><td>116</td><td>72</td><td>35.830002</td><td>194</td></tr></tbody></table></div>"
      ],
      "text/plain": [
       "shape: (158_016, 6)\n",
       "┌────────────────┬─────────────────┬────────────────┬────────────┬─────────────┬───────────────┐\n",
       "│ name           ┆ timestamp       ┆ blood_pressure ┆ heart_rate ┆ temperature ┆ blood_glucose │\n",
       "│ ---            ┆ ---             ┆ ---            ┆ ---        ┆ ---         ┆ ---           │\n",
       "│ str            ┆ datetime[μs]    ┆ i16            ┆ i16        ┆ f32         ┆ i16           │\n",
       "╞════════════════╪═════════════════╪════════════════╪════════════╪═════════════╪═══════════════╡\n",
       "│ Arctic Archie  ┆ 2020-04-20      ┆ 126            ┆ 66         ┆ 35.860001   ┆ 155           │\n",
       "│                ┆ 00:09:05.915752 ┆                ┆            ┆             ┆               │\n",
       "│ Chilly Willy   ┆ 2020-04-20      ┆ 72             ┆ 62         ┆ 35.959999   ┆ 115           │\n",
       "│                ┆ 00:03:09.240004 ┆                ┆            ┆             ┆               │\n",
       "│ Blizzard Bob   ┆ 2020-04-20      ┆ 126            ┆ 56         ┆ 36.07       ┆ 192           │\n",
       "│                ┆ 00:00:21.265568 ┆                ┆            ┆             ┆               │\n",
       "│ Arctic Archie  ┆ 2020-04-20      ┆ 83             ┆ 74         ┆ 35.939999   ┆ 154           │\n",
       "│                ┆ 01:03:58.174774 ┆                ┆            ┆             ┆               │\n",
       "│ Chilly Willy   ┆ 2020-04-20      ┆ 71             ┆ 72         ┆ 35.66       ┆ 112           │\n",
       "│                ┆ 01:05:57.794002 ┆                ┆            ┆             ┆               │\n",
       "│ …              ┆ …               ┆ …              ┆ …          ┆ …           ┆ …             │\n",
       "│ Peter Panda    ┆ 2024-04-18      ┆ 137            ┆ 71         ┆ 38.52       ┆ 204           │\n",
       "│                ┆ 23:02:54.446361 ┆                ┆            ┆             ┆               │\n",
       "│ Arctic Archie  ┆ 2024-04-18      ┆ 108            ┆ 64         ┆ 36.290001   ┆ 147           │\n",
       "│                ┆ 23:03:41.806258 ┆                ┆            ┆             ┆               │\n",
       "│ Chilly Willy   ┆ 2024-04-18      ┆ 93             ┆ 66         ┆ 36.360001   ┆ 116           │\n",
       "│                ┆ 23:01:00.699120 ┆                ┆            ┆             ┆               │\n",
       "│ Cubby Coldpaws ┆ 2024-04-18      ┆ 86             ┆ 132        ┆ 35.75       ┆ 152           │\n",
       "│                ┆ 23:01:57.459280 ┆                ┆            ┆             ┆               │\n",
       "│ Blizzard Bob   ┆ 2024-04-18      ┆ 116            ┆ 72         ┆ 35.830002   ┆ 194           │\n",
       "│                ┆ 23:06:15.533603 ┆                ┆            ┆             ┆               │\n",
       "└────────────────┴─────────────────┴────────────────┴────────────┴─────────────┴───────────────┘"
      ]
     },
     "execution_count": 2,
     "metadata": {},
     "output_type": "execute_result"
    }
   ],
   "source": [
    "measurements = pl.read_parquet(\"data/measurements.parquet\")\n",
    "measurements"
   ]
  },
  {
   "cell_type": "code",
   "execution_count": 3,
   "metadata": {},
   "outputs": [
    {
     "data": {
      "text/html": [
       "<div><style>\n",
       ".dataframe > thead > tr,\n",
       ".dataframe > tbody > tr {\n",
       "  text-align: right;\n",
       "  white-space: pre-wrap;\n",
       "}\n",
       "</style>\n",
       "<small>shape: (3_291, 8)</small><table border=\"1\" class=\"dataframe\"><thead><tr><th>name</th><th>vet</th><th>age</th><th>weight</th><th>daily_steps</th><th>timestamp</th><th>vet_health_check</th><th>life_stage</th></tr><tr><td>str</td><td>i8</td><td>i8</td><td>f32</td><td>i16</td><td>datetime[μs]</td><td>str</td><td>str</td></tr></thead><tbody><tr><td>&quot;ARCTIC ARCHIE&quot;</td><td>5</td><td>25</td><td>602.579834</td><td>16006</td><td>2020-04-20 06:15:00</td><td>&quot;INJURED&quot;</td><td>&quot;SENIOR&quot;</td></tr><tr><td>&quot;Chilly Willy&quot;</td><td>1</td><td>5</td><td>500.916779</td><td>9386</td><td>2020-04-20 06:15:00</td><td>&quot;HEALTHY&quot;</td><td>&quot;ADULT&quot;</td></tr><tr><td>&quot;Blizzard Bob&quot;</td><td>4</td><td>35</td><td>858.577148</td><td>12950</td><td>2020-04-20 06:15:00</td><td>&quot;HEALTHY&quot;</td><td>&quot;SENIOR&quot;</td></tr><tr><td>&quot;ARCTIC ARCHIE&quot;</td><td>5</td><td>25</td><td>606.220032</td><td>3162</td><td>2020-04-22 06:15:00</td><td>&quot;SICK&quot;</td><td>&quot;SENIOR&quot;</td></tr><tr><td>&quot;Chilly Willy&quot;</td><td>4</td><td>5</td><td>507.499573</td><td>2709</td><td>2020-04-22 06:15:00</td><td>&quot;INJURED&quot;</td><td>&quot;ADULT&quot;</td></tr><tr><td>&hellip;</td><td>&hellip;</td><td>&hellip;</td><td>&hellip;</td><td>&hellip;</td><td>&hellip;</td><td>&hellip;</td><td>&hellip;</td></tr><tr><td>&quot;Peter Panda&quot;</td><td>3</td><td>2</td><td>308.347321</td><td>3269</td><td>2024-04-17 06:15:00</td><td>&quot;SICK&quot;</td><td>&quot;JUV&quot;</td></tr><tr><td>&quot;ARCTIC ARCHIE&quot;</td><td>5</td><td>29</td><td>605.241638</td><td>7530</td><td>2024-04-17 06:15:00</td><td>&quot;INJURED&quot;</td><td>&quot;SENIOR&quot;</td></tr><tr><td>&quot;Chilly Willy&quot;</td><td>3</td><td>9</td><td>501.613251</td><td>11964</td><td>2024-04-17 06:15:00</td><td>&quot;SICK&quot;</td><td>&quot;ADULT&quot;</td></tr><tr><td>&quot;Cubby Coldpaws&quot;</td><td>4</td><td>0</td><td>2.410815</td><td>8776</td><td>2024-04-17 06:15:00</td><td>&quot;INJURED&quot;</td><td>&quot;CUB&quot;</td></tr><tr><td>&quot;BLIZZARD BOB&quot;</td><td>5</td><td>39</td><td>858.931091</td><td>18945</td><td>2024-04-17 06:15:00</td><td>&quot;INJURED&quot;</td><td>&quot;SENIOR&quot;</td></tr></tbody></table></div>"
      ],
      "text/plain": [
       "shape: (3_291, 8)\n",
       "┌───────────────┬─────┬─────┬────────────┬─────────────┬───────────────┬──────────────┬────────────┐\n",
       "│ name          ┆ vet ┆ age ┆ weight     ┆ daily_steps ┆ timestamp     ┆ vet_health_c ┆ life_stage │\n",
       "│ ---           ┆ --- ┆ --- ┆ ---        ┆ ---         ┆ ---           ┆ heck         ┆ ---        │\n",
       "│ str           ┆ i8  ┆ i8  ┆ f32        ┆ i16         ┆ datetime[μs]  ┆ ---          ┆ str        │\n",
       "│               ┆     ┆     ┆            ┆             ┆               ┆ str          ┆            │\n",
       "╞═══════════════╪═════╪═════╪════════════╪═════════════╪═══════════════╪══════════════╪════════════╡\n",
       "│ ARCTIC ARCHIE ┆ 5   ┆ 25  ┆ 602.579834 ┆ 16006       ┆ 2020-04-20    ┆ INJURED      ┆ SENIOR     │\n",
       "│               ┆     ┆     ┆            ┆             ┆ 06:15:00      ┆              ┆            │\n",
       "│ Chilly Willy  ┆ 1   ┆ 5   ┆ 500.916779 ┆ 9386        ┆ 2020-04-20    ┆ HEALTHY      ┆ ADULT      │\n",
       "│               ┆     ┆     ┆            ┆             ┆ 06:15:00      ┆              ┆            │\n",
       "│ Blizzard Bob  ┆ 4   ┆ 35  ┆ 858.577148 ┆ 12950       ┆ 2020-04-20    ┆ HEALTHY      ┆ SENIOR     │\n",
       "│               ┆     ┆     ┆            ┆             ┆ 06:15:00      ┆              ┆            │\n",
       "│ ARCTIC ARCHIE ┆ 5   ┆ 25  ┆ 606.220032 ┆ 3162        ┆ 2020-04-22    ┆ SICK         ┆ SENIOR     │\n",
       "│               ┆     ┆     ┆            ┆             ┆ 06:15:00      ┆              ┆            │\n",
       "│ Chilly Willy  ┆ 4   ┆ 5   ┆ 507.499573 ┆ 2709        ┆ 2020-04-22    ┆ INJURED      ┆ ADULT      │\n",
       "│               ┆     ┆     ┆            ┆             ┆ 06:15:00      ┆              ┆            │\n",
       "│ …             ┆ …   ┆ …   ┆ …          ┆ …           ┆ …             ┆ …            ┆ …          │\n",
       "│ Peter Panda   ┆ 3   ┆ 2   ┆ 308.347321 ┆ 3269        ┆ 2024-04-17    ┆ SICK         ┆ JUV        │\n",
       "│               ┆     ┆     ┆            ┆             ┆ 06:15:00      ┆              ┆            │\n",
       "│ ARCTIC ARCHIE ┆ 5   ┆ 29  ┆ 605.241638 ┆ 7530        ┆ 2024-04-17    ┆ INJURED      ┆ SENIOR     │\n",
       "│               ┆     ┆     ┆            ┆             ┆ 06:15:00      ┆              ┆            │\n",
       "│ Chilly Willy  ┆ 3   ┆ 9   ┆ 501.613251 ┆ 11964       ┆ 2024-04-17    ┆ SICK         ┆ ADULT      │\n",
       "│               ┆     ┆     ┆            ┆             ┆ 06:15:00      ┆              ┆            │\n",
       "│ Cubby         ┆ 4   ┆ 0   ┆ 2.410815   ┆ 8776        ┆ 2024-04-17    ┆ INJURED      ┆ CUB        │\n",
       "│ Coldpaws      ┆     ┆     ┆            ┆             ┆ 06:15:00      ┆              ┆            │\n",
       "│ BLIZZARD BOB  ┆ 5   ┆ 39  ┆ 858.931091 ┆ 18945       ┆ 2024-04-17    ┆ INJURED      ┆ SENIOR     │\n",
       "│               ┆     ┆     ┆            ┆             ┆ 06:15:00      ┆              ┆            │\n",
       "└───────────────┴─────┴─────┴────────────┴─────────────┴───────────────┴──────────────┴────────────┘"
      ]
     },
     "execution_count": 3,
     "metadata": {},
     "output_type": "execute_result"
    }
   ],
   "source": [
    "batch_measurements = pl.read_parquet(\"data/batch_measurements.parquet\")\n",
    "batch_measurements"
   ]
  },
  {
   "cell_type": "markdown",
   "metadata": {},
   "source": [
    "## Basic Transforms: Filter, project, Union\n",
    "\n",
    "- Was there in 2022 an injured polar bear older than 15 (i.e. a senior polar bear)?"
   ]
  },
  {
   "cell_type": "code",
   "execution_count": 4,
   "metadata": {},
   "outputs": [
    {
     "data": {
      "text/html": [
       "<div><style>\n",
       ".dataframe > thead > tr,\n",
       ".dataframe > tbody > tr {\n",
       "  text-align: right;\n",
       "  white-space: pre-wrap;\n",
       "}\n",
       "</style>\n",
       "<small>shape: (126, 8)</small><table border=\"1\" class=\"dataframe\"><thead><tr><th>name</th><th>vet</th><th>age</th><th>weight</th><th>daily_steps</th><th>timestamp</th><th>vet_health_check</th><th>life_stage</th></tr><tr><td>str</td><td>i8</td><td>i8</td><td>f32</td><td>i16</td><td>datetime[μs]</td><td>str</td><td>str</td></tr></thead><tbody><tr><td>&quot;BLIZZARD BOB&quot;</td><td>5</td><td>37</td><td>849.126404</td><td>1706</td><td>2022-01-04 06:15:00</td><td>&quot;INJURED&quot;</td><td>&quot;SENIOR&quot;</td></tr><tr><td>&quot;Blizzard Bob&quot;</td><td>2</td><td>37</td><td>858.342957</td><td>13218</td><td>2022-01-08 06:15:00</td><td>&quot;INJURED&quot;</td><td>&quot;SENIOR&quot;</td></tr><tr><td>&quot;Blizzard Bob&quot;</td><td>3</td><td>37</td><td>867.172668</td><td>17313</td><td>2022-01-12 06:15:00</td><td>&quot;INJURED&quot;</td><td>&quot;SENIOR&quot;</td></tr><tr><td>&quot;ARCTIC ARCHIE&quot;</td><td>5</td><td>27</td><td>602.737976</td><td>15833</td><td>2022-01-14 06:15:00</td><td>&quot;INJURED&quot;</td><td>&quot;SENIOR&quot;</td></tr><tr><td>&quot;Blizzard Bob&quot;</td><td>5</td><td>37</td><td>851.439575</td><td>10281</td><td>2022-01-14 06:15:00</td><td>&quot;INJURED&quot;</td><td>&quot;SENIOR&quot;</td></tr><tr><td>&hellip;</td><td>&hellip;</td><td>&hellip;</td><td>&hellip;</td><td>&hellip;</td><td>&hellip;</td><td>&hellip;</td><td>&hellip;</td></tr><tr><td>&quot;BLIZZARD BOB&quot;</td><td>5</td><td>38</td><td>850.709473</td><td>13550</td><td>2022-12-24 06:15:00</td><td>&quot;INJURED&quot;</td><td>&quot;SENIOR&quot;</td></tr><tr><td>&quot;Arctic Archie&quot;</td><td>3</td><td>28</td><td>615.534912</td><td>10807</td><td>2022-12-26 06:15:00</td><td>&quot;INJURED&quot;</td><td>&quot;SENIOR&quot;</td></tr><tr><td>&quot;Blizzard Bob&quot;</td><td>1</td><td>38</td><td>844.144226</td><td>14087</td><td>2022-12-26 06:15:00</td><td>&quot;INJURED&quot;</td><td>&quot;SENIOR&quot;</td></tr><tr><td>&quot;Arctic Archie&quot;</td><td>2</td><td>28</td><td>586.479248</td><td>12090</td><td>2022-12-28 06:15:00</td><td>&quot;INJURED&quot;</td><td>&quot;SENIOR&quot;</td></tr><tr><td>&quot;Arctic Archie&quot;</td><td>4</td><td>28</td><td>588.035095</td><td>16122</td><td>2022-12-30 06:15:00</td><td>&quot;INJURED&quot;</td><td>&quot;SENIOR&quot;</td></tr></tbody></table></div>"
      ],
      "text/plain": [
       "shape: (126, 8)\n",
       "┌───────────────┬─────┬─────┬────────────┬─────────────┬───────────────┬──────────────┬────────────┐\n",
       "│ name          ┆ vet ┆ age ┆ weight     ┆ daily_steps ┆ timestamp     ┆ vet_health_c ┆ life_stage │\n",
       "│ ---           ┆ --- ┆ --- ┆ ---        ┆ ---         ┆ ---           ┆ heck         ┆ ---        │\n",
       "│ str           ┆ i8  ┆ i8  ┆ f32        ┆ i16         ┆ datetime[μs]  ┆ ---          ┆ str        │\n",
       "│               ┆     ┆     ┆            ┆             ┆               ┆ str          ┆            │\n",
       "╞═══════════════╪═════╪═════╪════════════╪═════════════╪═══════════════╪══════════════╪════════════╡\n",
       "│ BLIZZARD BOB  ┆ 5   ┆ 37  ┆ 849.126404 ┆ 1706        ┆ 2022-01-04    ┆ INJURED      ┆ SENIOR     │\n",
       "│               ┆     ┆     ┆            ┆             ┆ 06:15:00      ┆              ┆            │\n",
       "│ Blizzard Bob  ┆ 2   ┆ 37  ┆ 858.342957 ┆ 13218       ┆ 2022-01-08    ┆ INJURED      ┆ SENIOR     │\n",
       "│               ┆     ┆     ┆            ┆             ┆ 06:15:00      ┆              ┆            │\n",
       "│ Blizzard Bob  ┆ 3   ┆ 37  ┆ 867.172668 ┆ 17313       ┆ 2022-01-12    ┆ INJURED      ┆ SENIOR     │\n",
       "│               ┆     ┆     ┆            ┆             ┆ 06:15:00      ┆              ┆            │\n",
       "│ ARCTIC ARCHIE ┆ 5   ┆ 27  ┆ 602.737976 ┆ 15833       ┆ 2022-01-14    ┆ INJURED      ┆ SENIOR     │\n",
       "│               ┆     ┆     ┆            ┆             ┆ 06:15:00      ┆              ┆            │\n",
       "│ Blizzard Bob  ┆ 5   ┆ 37  ┆ 851.439575 ┆ 10281       ┆ 2022-01-14    ┆ INJURED      ┆ SENIOR     │\n",
       "│               ┆     ┆     ┆            ┆             ┆ 06:15:00      ┆              ┆            │\n",
       "│ …             ┆ …   ┆ …   ┆ …          ┆ …           ┆ …             ┆ …            ┆ …          │\n",
       "│ BLIZZARD BOB  ┆ 5   ┆ 38  ┆ 850.709473 ┆ 13550       ┆ 2022-12-24    ┆ INJURED      ┆ SENIOR     │\n",
       "│               ┆     ┆     ┆            ┆             ┆ 06:15:00      ┆              ┆            │\n",
       "│ Arctic Archie ┆ 3   ┆ 28  ┆ 615.534912 ┆ 10807       ┆ 2022-12-26    ┆ INJURED      ┆ SENIOR     │\n",
       "│               ┆     ┆     ┆            ┆             ┆ 06:15:00      ┆              ┆            │\n",
       "│ Blizzard Bob  ┆ 1   ┆ 38  ┆ 844.144226 ┆ 14087       ┆ 2022-12-26    ┆ INJURED      ┆ SENIOR     │\n",
       "│               ┆     ┆     ┆            ┆             ┆ 06:15:00      ┆              ┆            │\n",
       "│ Arctic Archie ┆ 2   ┆ 28  ┆ 586.479248 ┆ 12090       ┆ 2022-12-28    ┆ INJURED      ┆ SENIOR     │\n",
       "│               ┆     ┆     ┆            ┆             ┆ 06:15:00      ┆              ┆            │\n",
       "│ Arctic Archie ┆ 4   ┆ 28  ┆ 588.035095 ┆ 16122       ┆ 2022-12-30    ┆ INJURED      ┆ SENIOR     │\n",
       "│               ┆     ┆     ┆            ┆             ┆ 06:15:00      ┆              ┆            │\n",
       "└───────────────┴─────┴─────┴────────────┴─────────────┴───────────────┴──────────────┴────────────┘"
      ]
     },
     "execution_count": 4,
     "metadata": {},
     "output_type": "execute_result"
    }
   ],
   "source": [
    "batch_measurements.filter(pl.col(\"timestamp\").dt.year() == 2022, pl.col(\"age\") > 15, pl.col(\"vet_health_check\") == \"INJURED\")"
   ]
  },
  {
   "cell_type": "markdown",
   "metadata": {},
   "source": [
    "- How many times was Blizzard Bob's name capitalized in the batch measurements?"
   ]
  },
  {
   "cell_type": "code",
   "execution_count": 5,
   "metadata": {},
   "outputs": [
    {
     "data": {
      "text/plain": [
       "(127, 603)"
      ]
     },
     "execution_count": 5,
     "metadata": {},
     "output_type": "execute_result"
    }
   ],
   "source": [
    "batch_measurements.filter(name=\"BLIZZARD BOB\").select(pl.len()).item(), batch_measurements.filter(name=\"Blizzard Bob\").select(pl.len()).item()"
   ]
  },
  {
   "cell_type": "markdown",
   "metadata": {},
   "source": [
    " - Was Cubby Coldpaw ever sick with a temperature above 40 degrees? (tip: union + downfill)"
   ]
  },
  {
   "cell_type": "code",
   "execution_count": 6,
   "metadata": {},
   "outputs": [
    {
     "data": {
      "text/html": [
       "<div><style>\n",
       ".dataframe > thead > tr,\n",
       ".dataframe > tbody > tr {\n",
       "  text-align: right;\n",
       "  white-space: pre-wrap;\n",
       "}\n",
       "</style>\n",
       "<small>shape: (8, 12)</small><table border=\"1\" class=\"dataframe\"><thead><tr><th>name</th><th>timestamp</th><th>blood_pressure</th><th>heart_rate</th><th>temperature</th><th>blood_glucose</th><th>vet</th><th>age</th><th>weight</th><th>daily_steps</th><th>vet_health_check</th><th>life_stage</th></tr><tr><td>str</td><td>datetime[μs]</td><td>i16</td><td>i16</td><td>f32</td><td>i16</td><td>i8</td><td>i8</td><td>f32</td><td>i16</td><td>str</td><td>str</td></tr></thead><tbody><tr><td>&quot;Cubby Coldpaws&quot;</td><td>2024-03-28 12:08:44.258966</td><td>104</td><td>130</td><td>39.02</td><td>173</td><td>3</td><td>0</td><td>1.834584</td><td>14419</td><td>&quot;SICK&quot;</td><td>&quot;CUB&quot;</td></tr><tr><td>&quot;Cubby Coldpaws&quot;</td><td>2024-03-28 13:08:03.580084</td><td>122</td><td>136</td><td>39.209999</td><td>166</td><td>3</td><td>0</td><td>1.834584</td><td>14419</td><td>&quot;SICK&quot;</td><td>&quot;CUB&quot;</td></tr><tr><td>&quot;Cubby Coldpaws&quot;</td><td>2024-03-29 11:09:18.976513</td><td>116</td><td>145</td><td>39.040001</td><td>164</td><td>3</td><td>0</td><td>1.834584</td><td>14419</td><td>&quot;SICK&quot;</td><td>&quot;CUB&quot;</td></tr><tr><td>&quot;Cubby Coldpaws&quot;</td><td>2024-04-07 12:00:56.409269</td><td>128</td><td>132</td><td>39.27</td><td>169</td><td>3</td><td>0</td><td>2.103115</td><td>3277</td><td>&quot;SICK&quot;</td><td>&quot;CUB&quot;</td></tr><tr><td>&quot;Cubby Coldpaws&quot;</td><td>2024-04-07 14:01:18.140735</td><td>73</td><td>134</td><td>39.099998</td><td>177</td><td>3</td><td>0</td><td>2.103115</td><td>3277</td><td>&quot;SICK&quot;</td><td>&quot;CUB&quot;</td></tr><tr><td>&quot;Cubby Coldpaws&quot;</td><td>2024-04-08 12:07:49.954839</td><td>86</td><td>142</td><td>39.549999</td><td>175</td><td>3</td><td>0</td><td>2.103115</td><td>3277</td><td>&quot;SICK&quot;</td><td>&quot;CUB&quot;</td></tr><tr><td>&quot;Cubby Coldpaws&quot;</td><td>2024-04-10 10:07:59.513127</td><td>136</td><td>134</td><td>39.18</td><td>169</td><td>3</td><td>0</td><td>2.161351</td><td>9795</td><td>&quot;SICK&quot;</td><td>&quot;CUB&quot;</td></tr><tr><td>&quot;Cubby Coldpaws&quot;</td><td>2024-04-10 11:09:08.529234</td><td>119</td><td>138</td><td>39.279999</td><td>168</td><td>3</td><td>0</td><td>2.161351</td><td>9795</td><td>&quot;SICK&quot;</td><td>&quot;CUB&quot;</td></tr></tbody></table></div>"
      ],
      "text/plain": [
       "shape: (8, 12)\n",
       "┌───────────┬───────────┬───────────┬───────────┬───┬──────────┬───────────┬───────────┬───────────┐\n",
       "│ name      ┆ timestamp ┆ blood_pre ┆ heart_rat ┆ … ┆ weight   ┆ daily_ste ┆ vet_healt ┆ life_stag │\n",
       "│ ---       ┆ ---       ┆ ssure     ┆ e         ┆   ┆ ---      ┆ ps        ┆ h_check   ┆ e         │\n",
       "│ str       ┆ datetime[ ┆ ---       ┆ ---       ┆   ┆ f32      ┆ ---       ┆ ---       ┆ ---       │\n",
       "│           ┆ μs]       ┆ i16       ┆ i16       ┆   ┆          ┆ i16       ┆ str       ┆ str       │\n",
       "╞═══════════╪═══════════╪═══════════╪═══════════╪═══╪══════════╪═══════════╪═══════════╪═══════════╡\n",
       "│ Cubby     ┆ 2024-03-2 ┆ 104       ┆ 130       ┆ … ┆ 1.834584 ┆ 14419     ┆ SICK      ┆ CUB       │\n",
       "│ Coldpaws  ┆ 8 12:08:4 ┆           ┆           ┆   ┆          ┆           ┆           ┆           │\n",
       "│           ┆ 4.258966  ┆           ┆           ┆   ┆          ┆           ┆           ┆           │\n",
       "│ Cubby     ┆ 2024-03-2 ┆ 122       ┆ 136       ┆ … ┆ 1.834584 ┆ 14419     ┆ SICK      ┆ CUB       │\n",
       "│ Coldpaws  ┆ 8 13:08:0 ┆           ┆           ┆   ┆          ┆           ┆           ┆           │\n",
       "│           ┆ 3.580084  ┆           ┆           ┆   ┆          ┆           ┆           ┆           │\n",
       "│ Cubby     ┆ 2024-03-2 ┆ 116       ┆ 145       ┆ … ┆ 1.834584 ┆ 14419     ┆ SICK      ┆ CUB       │\n",
       "│ Coldpaws  ┆ 9 11:09:1 ┆           ┆           ┆   ┆          ┆           ┆           ┆           │\n",
       "│           ┆ 8.976513  ┆           ┆           ┆   ┆          ┆           ┆           ┆           │\n",
       "│ Cubby     ┆ 2024-04-0 ┆ 128       ┆ 132       ┆ … ┆ 2.103115 ┆ 3277      ┆ SICK      ┆ CUB       │\n",
       "│ Coldpaws  ┆ 7 12:00:5 ┆           ┆           ┆   ┆          ┆           ┆           ┆           │\n",
       "│           ┆ 6.409269  ┆           ┆           ┆   ┆          ┆           ┆           ┆           │\n",
       "│ Cubby     ┆ 2024-04-0 ┆ 73        ┆ 134       ┆ … ┆ 2.103115 ┆ 3277      ┆ SICK      ┆ CUB       │\n",
       "│ Coldpaws  ┆ 7 14:01:1 ┆           ┆           ┆   ┆          ┆           ┆           ┆           │\n",
       "│           ┆ 8.140735  ┆           ┆           ┆   ┆          ┆           ┆           ┆           │\n",
       "│ Cubby     ┆ 2024-04-0 ┆ 86        ┆ 142       ┆ … ┆ 2.103115 ┆ 3277      ┆ SICK      ┆ CUB       │\n",
       "│ Coldpaws  ┆ 8 12:07:4 ┆           ┆           ┆   ┆          ┆           ┆           ┆           │\n",
       "│           ┆ 9.954839  ┆           ┆           ┆   ┆          ┆           ┆           ┆           │\n",
       "│ Cubby     ┆ 2024-04-1 ┆ 136       ┆ 134       ┆ … ┆ 2.161351 ┆ 9795      ┆ SICK      ┆ CUB       │\n",
       "│ Coldpaws  ┆ 0 10:07:5 ┆           ┆           ┆   ┆          ┆           ┆           ┆           │\n",
       "│           ┆ 9.513127  ┆           ┆           ┆   ┆          ┆           ┆           ┆           │\n",
       "│ Cubby     ┆ 2024-04-1 ┆ 119       ┆ 138       ┆ … ┆ 2.161351 ┆ 9795      ┆ SICK      ┆ CUB       │\n",
       "│ Coldpaws  ┆ 0 11:09:0 ┆           ┆           ┆   ┆          ┆           ┆           ┆           │\n",
       "│           ┆ 8.529234  ┆           ┆           ┆   ┆          ┆           ┆           ┆           │\n",
       "└───────────┴───────────┴───────────┴───────────┴───┴──────────┴───────────┴───────────┴───────────┘"
      ]
     },
     "execution_count": 6,
     "metadata": {},
     "output_type": "execute_result"
    }
   ],
   "source": [
    "filter = pl.col(\"name\").str.contains(\"(?i)Cubby Coldpaws\")\n",
    "pl.concat(\n",
    "    [measurements.filter(filter), batch_measurements.filter(filter)],\n",
    "    how=\"diagonal_relaxed\",\n",
    ").sort(by=\"timestamp\").fill_null(strategy=\"forward\").filter(\n",
    "    pl.col(\"vet_health_check\") == \"SICK\", pl.col(\"temperature\") > 39\n",
    ")"
   ]
  },
  {
   "cell_type": "markdown",
   "metadata": {},
   "source": [
    "# Windowing and Aggregations\n",
    "\n",
    "- For every year, figure out which polar bear was the heaviest"
   ]
  },
  {
   "cell_type": "code",
   "execution_count": 7,
   "metadata": {},
   "outputs": [
    {
     "data": {
      "text/html": [
       "<div><style>\n",
       ".dataframe > thead > tr,\n",
       ".dataframe > tbody > tr {\n",
       "  text-align: right;\n",
       "  white-space: pre-wrap;\n",
       "}\n",
       "</style>\n",
       "<small>shape: (5, 3)</small><table border=\"1\" class=\"dataframe\"><thead><tr><th>name</th><th>timestamp</th><th>weight</th></tr><tr><td>str</td><td>datetime[μs]</td><td>f32</td></tr></thead><tbody><tr><td>&quot;Blizzard Bob&quot;</td><td>2020-09-19 06:15:00</td><td>868.621704</td></tr><tr><td>&quot;Blizzard Bob&quot;</td><td>2021-06-10 06:15:00</td><td>877.176575</td></tr><tr><td>&quot;Blizzard Bob&quot;</td><td>2022-10-25 06:15:00</td><td>875.102356</td></tr><tr><td>&quot;Blizzard Bob&quot;</td><td>2023-12-01 06:15:00</td><td>876.387939</td></tr><tr><td>&quot;Blizzard Bob&quot;</td><td>2024-01-28 06:15:00</td><td>877.227234</td></tr></tbody></table></div>"
      ],
      "text/plain": [
       "shape: (5, 3)\n",
       "┌──────────────┬─────────────────────┬────────────┐\n",
       "│ name         ┆ timestamp           ┆ weight     │\n",
       "│ ---          ┆ ---                 ┆ ---        │\n",
       "│ str          ┆ datetime[μs]        ┆ f32        │\n",
       "╞══════════════╪═════════════════════╪════════════╡\n",
       "│ Blizzard Bob ┆ 2020-09-19 06:15:00 ┆ 868.621704 │\n",
       "│ Blizzard Bob ┆ 2021-06-10 06:15:00 ┆ 877.176575 │\n",
       "│ Blizzard Bob ┆ 2022-10-25 06:15:00 ┆ 875.102356 │\n",
       "│ Blizzard Bob ┆ 2023-12-01 06:15:00 ┆ 876.387939 │\n",
       "│ Blizzard Bob ┆ 2024-01-28 06:15:00 ┆ 877.227234 │\n",
       "└──────────────┴─────────────────────┴────────────┘"
      ]
     },
     "execution_count": 7,
     "metadata": {},
     "output_type": "execute_result"
    }
   ],
   "source": [
    "batch_measurements.select(\"name\", \"timestamp\", \"weight\").filter(\n",
    "    pl.col(\"weight\") == pl.col(\"weight\").max().over(pl.col(\"timestamp\").dt.year())\n",
    ")"
   ]
  },
  {
   "cell_type": "markdown",
   "metadata": {},
   "source": [
    "- When was the first and last measurement of each bear taken?"
   ]
  },
  {
   "cell_type": "code",
   "execution_count": 8,
   "metadata": {},
   "outputs": [
    {
     "data": {
      "text/html": [
       "<div><style>\n",
       ".dataframe > thead > tr,\n",
       ".dataframe > tbody > tr {\n",
       "  text-align: right;\n",
       "  white-space: pre-wrap;\n",
       "}\n",
       "</style>\n",
       "<small>shape: (6, 3)</small><table border=\"1\" class=\"dataframe\"><thead><tr><th>name</th><th>first measurement</th><th>last measurement</th></tr><tr><td>str</td><td>datetime[μs]</td><td>datetime[μs]</td></tr></thead><tbody><tr><td>&quot;Arctic Archie&quot;</td><td>2020-04-20 00:09:05.915752</td><td>2024-04-18 23:03:41.806258</td></tr><tr><td>&quot;Cubby Coldpaws&quot;</td><td>2024-03-24 00:09:33.778516</td><td>2024-04-18 23:01:57.459280</td></tr><tr><td>&quot;Icy Ingrid&quot;</td><td>2020-06-12 00:08:54.249726</td><td>2024-04-18 23:07:34.383085</td></tr><tr><td>&quot;Chilly Willy&quot;</td><td>2020-04-20 00:03:09.240004</td><td>2024-04-18 23:01:00.699120</td></tr><tr><td>&quot;Peter Panda&quot;</td><td>2022-03-10 00:00:10.943873</td><td>2024-04-18 23:02:54.446361</td></tr><tr><td>&quot;Blizzard Bob&quot;</td><td>2020-04-20 00:00:21.265568</td><td>2024-04-18 23:06:15.533603</td></tr></tbody></table></div>"
      ],
      "text/plain": [
       "shape: (6, 3)\n",
       "┌────────────────┬────────────────────────────┬────────────────────────────┐\n",
       "│ name           ┆ first measurement          ┆ last measurement           │\n",
       "│ ---            ┆ ---                        ┆ ---                        │\n",
       "│ str            ┆ datetime[μs]               ┆ datetime[μs]               │\n",
       "╞════════════════╪════════════════════════════╪════════════════════════════╡\n",
       "│ Arctic Archie  ┆ 2020-04-20 00:09:05.915752 ┆ 2024-04-18 23:03:41.806258 │\n",
       "│ Cubby Coldpaws ┆ 2024-03-24 00:09:33.778516 ┆ 2024-04-18 23:01:57.459280 │\n",
       "│ Icy Ingrid     ┆ 2020-06-12 00:08:54.249726 ┆ 2024-04-18 23:07:34.383085 │\n",
       "│ Chilly Willy   ┆ 2020-04-20 00:03:09.240004 ┆ 2024-04-18 23:01:00.699120 │\n",
       "│ Peter Panda    ┆ 2022-03-10 00:00:10.943873 ┆ 2024-04-18 23:02:54.446361 │\n",
       "│ Blizzard Bob   ┆ 2020-04-20 00:00:21.265568 ┆ 2024-04-18 23:06:15.533603 │\n",
       "└────────────────┴────────────────────────────┴────────────────────────────┘"
      ]
     },
     "execution_count": 8,
     "metadata": {},
     "output_type": "execute_result"
    }
   ],
   "source": [
    "measurements.group_by(\"name\").agg(\n",
    "    pl.col(\"timestamp\").first().alias(\"first measurement\"),\n",
    "    pl.col(\"timestamp\").last().alias(\"last measurement\"),\n",
    ")"
   ]
  },
  {
   "cell_type": "markdown",
   "metadata": {},
   "source": [
    "- For each lifestage group of polar bears and for each year, which polar bear was the most active (most amount of steps per day)?"
   ]
  },
  {
   "cell_type": "code",
   "execution_count": 9,
   "metadata": {},
   "outputs": [
    {
     "data": {
      "text/html": [
       "<div><style>\n",
       ".dataframe > thead > tr,\n",
       ".dataframe > tbody > tr {\n",
       "  text-align: right;\n",
       "  white-space: pre-wrap;\n",
       "}\n",
       "</style>\n",
       "<small>shape: (19, 8)</small><table border=\"1\" class=\"dataframe\"><thead><tr><th>name</th><th>vet</th><th>age</th><th>weight</th><th>daily_steps</th><th>timestamp</th><th>vet_health_check</th><th>life_stage</th></tr><tr><td>str</td><td>i8</td><td>i8</td><td>f32</td><td>i16</td><td>datetime[μs]</td><td>str</td><td>str</td></tr></thead><tbody><tr><td>&quot;Icy Ingrid&quot;</td><td>1</td><td>0</td><td>1.611996</td><td>19806</td><td>2020-08-14 06:15:00</td><td>&quot;SICK&quot;</td><td>&quot;CUB&quot;</td></tr><tr><td>&quot;CHILLY WILLY&quot;</td><td>5</td><td>5</td><td>511.081604</td><td>19757</td><td>2020-08-22 06:15:00</td><td>&quot;SICK&quot;</td><td>&quot;ADULT&quot;</td></tr><tr><td>&quot;Arctic Archie&quot;</td><td>4</td><td>26</td><td>611.615601</td><td>19997</td><td>2020-10-07 06:15:00</td><td>&quot;SICK&quot;</td><td>&quot;SENIOR&quot;</td></tr><tr><td>&quot;Blizzard Bob&quot;</td><td>1</td><td>36</td><td>862.02594</td><td>19990</td><td>2021-03-22 06:15:00</td><td>&quot;SICK&quot;</td><td>&quot;SENIOR&quot;</td></tr><tr><td>&quot;Icy Ingrid&quot;</td><td>1</td><td>0</td><td>29.695402</td><td>19828</td><td>2021-04-03 06:15:00</td><td>&quot;HEALTHY&quot;</td><td>&quot;CUB&quot;</td></tr><tr><td>&hellip;</td><td>&hellip;</td><td>&hellip;</td><td>&hellip;</td><td>&hellip;</td><td>&hellip;</td><td>&hellip;</td><td>&hellip;</td></tr><tr><td>&quot;Peter Panda&quot;</td><td>4</td><td>1</td><td>266.913116</td><td>19874</td><td>2023-10-04 06:15:00</td><td>&quot;SICK&quot;</td><td>&quot;JUV&quot;</td></tr><tr><td>&quot;Blizzard Bob&quot;</td><td>3</td><td>39</td><td>861.203125</td><td>19731</td><td>2024-02-01 06:15:00</td><td>&quot;SICK&quot;</td><td>&quot;SENIOR&quot;</td></tr><tr><td>&quot;Icy Ingrid&quot;</td><td>2</td><td>3</td><td>288.60144</td><td>19932</td><td>2024-03-26 06:15:00</td><td>&quot;HEALTHY&quot;</td><td>&quot;JUV&quot;</td></tr><tr><td>&quot;Chilly Willy&quot;</td><td>2</td><td>9</td><td>499.945343</td><td>19967</td><td>2024-03-26 06:15:00</td><td>&quot;HEALTHY&quot;</td><td>&quot;ADULT&quot;</td></tr><tr><td>&quot;Cubby Coldpaws&quot;</td><td>4</td><td>0</td><td>1.885404</td><td>19655</td><td>2024-03-30 06:15:00</td><td>&quot;HEALTHY&quot;</td><td>&quot;CUB&quot;</td></tr></tbody></table></div>"
      ],
      "text/plain": [
       "shape: (19, 8)\n",
       "┌───────────────┬─────┬─────┬────────────┬─────────────┬───────────────┬──────────────┬────────────┐\n",
       "│ name          ┆ vet ┆ age ┆ weight     ┆ daily_steps ┆ timestamp     ┆ vet_health_c ┆ life_stage │\n",
       "│ ---           ┆ --- ┆ --- ┆ ---        ┆ ---         ┆ ---           ┆ heck         ┆ ---        │\n",
       "│ str           ┆ i8  ┆ i8  ┆ f32        ┆ i16         ┆ datetime[μs]  ┆ ---          ┆ str        │\n",
       "│               ┆     ┆     ┆            ┆             ┆               ┆ str          ┆            │\n",
       "╞═══════════════╪═════╪═════╪════════════╪═════════════╪═══════════════╪══════════════╪════════════╡\n",
       "│ Icy Ingrid    ┆ 1   ┆ 0   ┆ 1.611996   ┆ 19806       ┆ 2020-08-14    ┆ SICK         ┆ CUB        │\n",
       "│               ┆     ┆     ┆            ┆             ┆ 06:15:00      ┆              ┆            │\n",
       "│ CHILLY WILLY  ┆ 5   ┆ 5   ┆ 511.081604 ┆ 19757       ┆ 2020-08-22    ┆ SICK         ┆ ADULT      │\n",
       "│               ┆     ┆     ┆            ┆             ┆ 06:15:00      ┆              ┆            │\n",
       "│ Arctic Archie ┆ 4   ┆ 26  ┆ 611.615601 ┆ 19997       ┆ 2020-10-07    ┆ SICK         ┆ SENIOR     │\n",
       "│               ┆     ┆     ┆            ┆             ┆ 06:15:00      ┆              ┆            │\n",
       "│ Blizzard Bob  ┆ 1   ┆ 36  ┆ 862.02594  ┆ 19990       ┆ 2021-03-22    ┆ SICK         ┆ SENIOR     │\n",
       "│               ┆     ┆     ┆            ┆             ┆ 06:15:00      ┆              ┆            │\n",
       "│ Icy Ingrid    ┆ 1   ┆ 0   ┆ 29.695402  ┆ 19828       ┆ 2021-04-03    ┆ HEALTHY      ┆ CUB        │\n",
       "│               ┆     ┆     ┆            ┆             ┆ 06:15:00      ┆              ┆            │\n",
       "│ …             ┆ …   ┆ …   ┆ …          ┆ …           ┆ …             ┆ …            ┆ …          │\n",
       "│ Peter Panda   ┆ 4   ┆ 1   ┆ 266.913116 ┆ 19874       ┆ 2023-10-04    ┆ SICK         ┆ JUV        │\n",
       "│               ┆     ┆     ┆            ┆             ┆ 06:15:00      ┆              ┆            │\n",
       "│ Blizzard Bob  ┆ 3   ┆ 39  ┆ 861.203125 ┆ 19731       ┆ 2024-02-01    ┆ SICK         ┆ SENIOR     │\n",
       "│               ┆     ┆     ┆            ┆             ┆ 06:15:00      ┆              ┆            │\n",
       "│ Icy Ingrid    ┆ 2   ┆ 3   ┆ 288.60144  ┆ 19932       ┆ 2024-03-26    ┆ HEALTHY      ┆ JUV        │\n",
       "│               ┆     ┆     ┆            ┆             ┆ 06:15:00      ┆              ┆            │\n",
       "│ Chilly Willy  ┆ 2   ┆ 9   ┆ 499.945343 ┆ 19967       ┆ 2024-03-26    ┆ HEALTHY      ┆ ADULT      │\n",
       "│               ┆     ┆     ┆            ┆             ┆ 06:15:00      ┆              ┆            │\n",
       "│ Cubby         ┆ 4   ┆ 0   ┆ 1.885404   ┆ 19655       ┆ 2024-03-30    ┆ HEALTHY      ┆ CUB        │\n",
       "│ Coldpaws      ┆     ┆     ┆            ┆             ┆ 06:15:00      ┆              ┆            │\n",
       "└───────────────┴─────┴─────┴────────────┴─────────────┴───────────────┴──────────────┴────────────┘"
      ]
     },
     "execution_count": 9,
     "metadata": {},
     "output_type": "execute_result"
    }
   ],
   "source": [
    "batch_measurements.filter(\n",
    "    pl.col(\"daily_steps\")\n",
    "    == pl.col(\"daily_steps\").max().over(pl.col(\"timestamp\").dt.year(), \"life_stage\")\n",
    ")"
   ]
  },
  {
   "cell_type": "markdown",
   "metadata": {},
   "source": [
    "- Find out which bears were more/less anxious (higher/lower blood pressure) than average after New Year's Eve (fireworks)?"
   ]
  },
  {
   "cell_type": "code",
   "execution_count": 10,
   "metadata": {},
   "outputs": [
    {
     "data": {
      "text/html": [
       "<div><style>\n",
       ".dataframe > thead > tr,\n",
       ".dataframe > tbody > tr {\n",
       "  text-align: right;\n",
       "  white-space: pre-wrap;\n",
       "}\n",
       "</style>\n",
       "<small>shape: (5, 3)</small><table border=\"1\" class=\"dataframe\"><thead><tr><th>name</th><th>lower than average</th><th>higher than average</th></tr><tr><td>str</td><td>u32</td><td>u32</td></tr></thead><tbody><tr><td>&quot;Chilly Willy&quot;</td><td>53</td><td>43</td></tr><tr><td>&quot;Arctic Archie&quot;</td><td>42</td><td>54</td></tr><tr><td>&quot;Icy Ingrid&quot;</td><td>50</td><td>46</td></tr><tr><td>&quot;Blizzard Bob&quot;</td><td>46</td><td>50</td></tr><tr><td>&quot;Peter Panda&quot;</td><td>19</td><td>29</td></tr></tbody></table></div>"
      ],
      "text/plain": [
       "shape: (5, 3)\n",
       "┌───────────────┬────────────────────┬─────────────────────┐\n",
       "│ name          ┆ lower than average ┆ higher than average │\n",
       "│ ---           ┆ ---                ┆ ---                 │\n",
       "│ str           ┆ u32                ┆ u32                 │\n",
       "╞═══════════════╪════════════════════╪═════════════════════╡\n",
       "│ Chilly Willy  ┆ 53                 ┆ 43                  │\n",
       "│ Arctic Archie ┆ 42                 ┆ 54                  │\n",
       "│ Icy Ingrid    ┆ 50                 ┆ 46                  │\n",
       "│ Blizzard Bob  ┆ 46                 ┆ 50                  │\n",
       "│ Peter Panda   ┆ 19                 ┆ 29                  │\n",
       "└───────────────┴────────────────────┴─────────────────────┘"
      ]
     },
     "execution_count": 10,
     "metadata": {},
     "output_type": "execute_result"
    }
   ],
   "source": [
    "measurements.with_columns(\n",
    "    (pl.col(\"blood_pressure\") < pl.col(\"blood_pressure\").mean()).alias(\n",
    "        \"lower than average\"\n",
    "    ),\n",
    "    (pl.col(\"blood_pressure\") > pl.col(\"blood_pressure\").mean()).alias(\n",
    "        \"higher than average\"\n",
    "    ),\n",
    ").filter(\n",
    "    pl.col(\"timestamp\").dt.month() == 1, pl.col(\"timestamp\").dt.day() == 1\n",
    ").group_by(\"name\").agg(pl.col(\"lower than average\", \"higher than average\").sum())"
   ]
  },
  {
   "cell_type": "markdown",
   "metadata": {},
   "source": [
    "- Which polar bear has the highest risk of becoming a diabetic? (polar bears have a higher risk of becoming diabetic after going through a high blood sugar level episode. An episode is defined as a three-day or longer period of an average daily bgl of 200)"
   ]
  },
  {
   "cell_type": "markdown",
   "metadata": {},
   "source": [
    "Approximate solution with group by:"
   ]
  },
  {
   "cell_type": "code",
   "execution_count": 11,
   "metadata": {},
   "outputs": [
    {
     "data": {
      "text/html": [
       "<div><style>\n",
       ".dataframe > thead > tr,\n",
       ".dataframe > tbody > tr {\n",
       "  text-align: right;\n",
       "  white-space: pre-wrap;\n",
       "}\n",
       "</style>\n",
       "<small>shape: (6, 2)</small><table border=\"1\" class=\"dataframe\"><thead><tr><th>name</th><th>blood_glucose</th></tr><tr><td>str</td><td>u32</td></tr></thead><tbody><tr><td>&quot;Peter Panda&quot;</td><td>978</td></tr><tr><td>&quot;Icy Ingrid&quot;</td><td>0</td></tr><tr><td>&quot;Cubby Coldpaws&quot;</td><td>0</td></tr><tr><td>&quot;Chilly Willy&quot;</td><td>0</td></tr><tr><td>&quot;Blizzard Bob&quot;</td><td>0</td></tr><tr><td>&quot;Arctic Archie&quot;</td><td>0</td></tr></tbody></table></div>"
      ],
      "text/plain": [
       "shape: (6, 2)\n",
       "┌────────────────┬───────────────┐\n",
       "│ name           ┆ blood_glucose │\n",
       "│ ---            ┆ ---           │\n",
       "│ str            ┆ u32           │\n",
       "╞════════════════╪═══════════════╡\n",
       "│ Peter Panda    ┆ 978           │\n",
       "│ Icy Ingrid     ┆ 0             │\n",
       "│ Cubby Coldpaws ┆ 0             │\n",
       "│ Chilly Willy   ┆ 0             │\n",
       "│ Blizzard Bob   ┆ 0             │\n",
       "│ Arctic Archie  ┆ 0             │\n",
       "└────────────────┴───────────────┘"
      ]
     },
     "execution_count": 11,
     "metadata": {},
     "output_type": "execute_result"
    }
   ],
   "source": [
    "measurements.select(\"name\", \"timestamp\", \"blood_glucose\").group_by_dynamic(\n",
    "    index_column=\"timestamp\", every=\"1d\", period=\"1d\", group_by=\"name\"\n",
    ").agg(pl.col(\"blood_glucose\").mean()).with_columns(\n",
    "    pl.col(\"blood_glucose\") > 200\n",
    ").rolling(index_column=\"timestamp\", period=\"3d\", group_by=\"name\").agg(\n",
    "    pl.col(\"blood_glucose\").sum()\n",
    ").select(\"name\", \"blood_glucose\").group_by(\"name\").sum().sort(\"blood_glucose\", \"name\", descending=True)"
   ]
  },
  {
   "cell_type": "markdown",
   "metadata": {},
   "source": [
    "Correct solution, with `rle`"
   ]
  },
  {
   "cell_type": "code",
   "execution_count": 12,
   "metadata": {},
   "outputs": [
    {
     "data": {
      "text/html": [
       "<div><style>\n",
       ".dataframe > thead > tr,\n",
       ".dataframe > tbody > tr {\n",
       "  text-align: right;\n",
       "  white-space: pre-wrap;\n",
       "}\n",
       "</style>\n",
       "<small>shape: (1, 3)</small><table border=\"1\" class=\"dataframe\"><thead><tr><th>name</th><th>total days in episodes</th><th>number of episodes</th></tr><tr><td>str</td><td>i32</td><td>u32</td></tr></thead><tbody><tr><td>&quot;Peter Panda&quot;</td><td>122</td><td>33</td></tr></tbody></table></div>"
      ],
      "text/plain": [
       "shape: (1, 3)\n",
       "┌─────────────┬────────────────────────┬────────────────────┐\n",
       "│ name        ┆ total days in episodes ┆ number of episodes │\n",
       "│ ---         ┆ ---                    ┆ ---                │\n",
       "│ str         ┆ i32                    ┆ u32                │\n",
       "╞═════════════╪════════════════════════╪════════════════════╡\n",
       "│ Peter Panda ┆ 122                    ┆ 33                 │\n",
       "└─────────────┴────────────────────────┴────────────────────┘"
      ]
     },
     "execution_count": 12,
     "metadata": {},
     "output_type": "execute_result"
    }
   ],
   "source": [
    "measurements.select(\"name\", \"timestamp\", \"blood_glucose\").group_by_dynamic(\n",
    "    index_column=\"timestamp\", every=\"1d\", period=\"1d\", group_by=\"name\"\n",
    ").agg(pl.col(\"blood_glucose\").mean()).with_columns(\n",
    "    pl.col(\"blood_glucose\") > 200\n",
    ").group_by(\"name\").agg(pl.col(\"blood_glucose\").rle()).explode(\"blood_glucose\").unnest(\n",
    "    \"blood_glucose\"\n",
    ").filter(pl.col(\"lengths\") > 2, \"values\").group_by(\"name\").sum().sort(\n",
    "    \"values\", \"name\", descending=True\n",
    ").rename({\"lengths\": \"total days in episodes\", \"values\": \"number of episodes\"})"
   ]
  },
  {
   "cell_type": "code",
   "execution_count": 13,
   "metadata": {},
   "outputs": [
    {
     "name": "stdout",
     "output_type": "stream",
     "text": [
      "%opts magic unavailable (pyparsing cannot be imported)\n",
      "%compositor magic unavailable (pyparsing cannot be imported)\n"
     ]
    },
    {
     "data": {
      "application/javascript": "(function(root) {\n  function now() {\n    return new Date();\n  }\n\n  var force = true;\n  var py_version = '3.4.1'.replace('rc', '-rc.').replace('.dev', '-dev.');\n  var reloading = false;\n  var Bokeh = root.Bokeh;\n\n  if (typeof (root._bokeh_timeout) === \"undefined\" || force) {\n    root._bokeh_timeout = Date.now() + 5000;\n    root._bokeh_failed_load = false;\n  }\n\n  function run_callbacks() {\n    try {\n      root._bokeh_onload_callbacks.forEach(function(callback) {\n        if (callback != null)\n          callback();\n      });\n    } finally {\n      delete root._bokeh_onload_callbacks;\n    }\n    console.debug(\"Bokeh: all callbacks have finished\");\n  }\n\n  function load_libs(css_urls, js_urls, js_modules, js_exports, callback) {\n    if (css_urls == null) css_urls = [];\n    if (js_urls == null) js_urls = [];\n    if (js_modules == null) js_modules = [];\n    if (js_exports == null) js_exports = {};\n\n    root._bokeh_onload_callbacks.push(callback);\n\n    if (root._bokeh_is_loading > 0) {\n      console.debug(\"Bokeh: BokehJS is being loaded, scheduling callback at\", now());\n      return null;\n    }\n    if (js_urls.length === 0 && js_modules.length === 0 && Object.keys(js_exports).length === 0) {\n      run_callbacks();\n      return null;\n    }\n    if (!reloading) {\n      console.debug(\"Bokeh: BokehJS not loaded, scheduling load and callback at\", now());\n    }\n\n    function on_load() {\n      root._bokeh_is_loading--;\n      if (root._bokeh_is_loading === 0) {\n        console.debug(\"Bokeh: all BokehJS libraries/stylesheets loaded\");\n        run_callbacks()\n      }\n    }\n    window._bokeh_on_load = on_load\n\n    function on_error() {\n      console.error(\"failed to load \" + url);\n    }\n\n    var skip = [];\n    if (window.requirejs) {\n      window.requirejs.config({'packages': {}, 'paths': {}, 'shim': {}});\n      root._bokeh_is_loading = css_urls.length + 0;\n    } else {\n      root._bokeh_is_loading = css_urls.length + js_urls.length + js_modules.length + Object.keys(js_exports).length;\n    }\n\n    var existing_stylesheets = []\n    var links = document.getElementsByTagName('link')\n    for (var i = 0; i < links.length; i++) {\n      var link = links[i]\n      if (link.href != null) {\n\texisting_stylesheets.push(link.href)\n      }\n    }\n    for (var i = 0; i < css_urls.length; i++) {\n      var url = css_urls[i];\n      if (existing_stylesheets.indexOf(url) !== -1) {\n\ton_load()\n\tcontinue;\n      }\n      const element = document.createElement(\"link\");\n      element.onload = on_load;\n      element.onerror = on_error;\n      element.rel = \"stylesheet\";\n      element.type = \"text/css\";\n      element.href = url;\n      console.debug(\"Bokeh: injecting link tag for BokehJS stylesheet: \", url);\n      document.body.appendChild(element);\n    }    var existing_scripts = []\n    var scripts = document.getElementsByTagName('script')\n    for (var i = 0; i < scripts.length; i++) {\n      var script = scripts[i]\n      if (script.src != null) {\n\texisting_scripts.push(script.src)\n      }\n    }\n    for (var i = 0; i < js_urls.length; i++) {\n      var url = js_urls[i];\n      if (skip.indexOf(url) !== -1 || existing_scripts.indexOf(url) !== -1) {\n\tif (!window.requirejs) {\n\t  on_load();\n\t}\n\tcontinue;\n      }\n      var element = document.createElement('script');\n      element.onload = on_load;\n      element.onerror = on_error;\n      element.async = false;\n      element.src = url;\n      console.debug(\"Bokeh: injecting script tag for BokehJS library: \", url);\n      document.head.appendChild(element);\n    }\n    for (var i = 0; i < js_modules.length; i++) {\n      var url = js_modules[i];\n      if (skip.indexOf(url) !== -1 || existing_scripts.indexOf(url) !== -1) {\n\tif (!window.requirejs) {\n\t  on_load();\n\t}\n\tcontinue;\n      }\n      var element = document.createElement('script');\n      element.onload = on_load;\n      element.onerror = on_error;\n      element.async = false;\n      element.src = url;\n      element.type = \"module\";\n      console.debug(\"Bokeh: injecting script tag for BokehJS library: \", url);\n      document.head.appendChild(element);\n    }\n    for (const name in js_exports) {\n      var url = js_exports[name];\n      if (skip.indexOf(url) >= 0 || root[name] != null) {\n\tif (!window.requirejs) {\n\t  on_load();\n\t}\n\tcontinue;\n      }\n      var element = document.createElement('script');\n      element.onerror = on_error;\n      element.async = false;\n      element.type = \"module\";\n      console.debug(\"Bokeh: injecting script tag for BokehJS library: \", url);\n      element.textContent = `\n      import ${name} from \"${url}\"\n      window.${name} = ${name}\n      window._bokeh_on_load()\n      `\n      document.head.appendChild(element);\n    }\n    if (!js_urls.length && !js_modules.length) {\n      on_load()\n    }\n  };\n\n  function inject_raw_css(css) {\n    const element = document.createElement(\"style\");\n    element.appendChild(document.createTextNode(css));\n    document.body.appendChild(element);\n  }\n\n  var js_urls = [\"https://cdn.bokeh.org/bokeh/release/bokeh-3.4.1.min.js\", \"https://cdn.bokeh.org/bokeh/release/bokeh-gl-3.4.1.min.js\", \"https://cdn.bokeh.org/bokeh/release/bokeh-widgets-3.4.1.min.js\", \"https://cdn.bokeh.org/bokeh/release/bokeh-tables-3.4.1.min.js\", \"https://cdn.holoviz.org/panel/1.4.2/dist/panel.min.js\"];\n  var js_modules = [];\n  var js_exports = {};\n  var css_urls = [];\n  var inline_js = [    function(Bokeh) {\n      Bokeh.set_log_level(\"info\");\n    },\nfunction(Bokeh) {} // ensure no trailing comma for IE\n  ];\n\n  function run_inline_js() {\n    if ((root.Bokeh !== undefined) || (force === true)) {\n      for (var i = 0; i < inline_js.length; i++) {\n\ttry {\n          inline_js[i].call(root, root.Bokeh);\n\t} catch(e) {\n\t  if (!reloading) {\n\t    throw e;\n\t  }\n\t}\n      }\n      // Cache old bokeh versions\n      if (Bokeh != undefined && !reloading) {\n\tvar NewBokeh = root.Bokeh;\n\tif (Bokeh.versions === undefined) {\n\t  Bokeh.versions = new Map();\n\t}\n\tif (NewBokeh.version !== Bokeh.version) {\n\t  Bokeh.versions.set(NewBokeh.version, NewBokeh)\n\t}\n\troot.Bokeh = Bokeh;\n      }} else if (Date.now() < root._bokeh_timeout) {\n      setTimeout(run_inline_js, 100);\n    } else if (!root._bokeh_failed_load) {\n      console.log(\"Bokeh: BokehJS failed to load within specified timeout.\");\n      root._bokeh_failed_load = true;\n    }\n    root._bokeh_is_initializing = false\n  }\n\n  function load_or_wait() {\n    // Implement a backoff loop that tries to ensure we do not load multiple\n    // versions of Bokeh and its dependencies at the same time.\n    // In recent versions we use the root._bokeh_is_initializing flag\n    // to determine whether there is an ongoing attempt to initialize\n    // bokeh, however for backward compatibility we also try to ensure\n    // that we do not start loading a newer (Panel>=1.0 and Bokeh>3) version\n    // before older versions are fully initialized.\n    if (root._bokeh_is_initializing && Date.now() > root._bokeh_timeout) {\n      root._bokeh_is_initializing = false;\n      root._bokeh_onload_callbacks = undefined;\n      console.log(\"Bokeh: BokehJS was loaded multiple times but one version failed to initialize.\");\n      load_or_wait();\n    } else if (root._bokeh_is_initializing || (typeof root._bokeh_is_initializing === \"undefined\" && root._bokeh_onload_callbacks !== undefined)) {\n      setTimeout(load_or_wait, 100);\n    } else {\n      root._bokeh_is_initializing = true\n      root._bokeh_onload_callbacks = []\n      var bokeh_loaded = Bokeh != null && (Bokeh.version === py_version || (Bokeh.versions !== undefined && Bokeh.versions.has(py_version)));\n      if (!reloading && !bokeh_loaded) {\n\troot.Bokeh = undefined;\n      }\n      load_libs(css_urls, js_urls, js_modules, js_exports, function() {\n\tconsole.debug(\"Bokeh: BokehJS plotting callback run at\", now());\n\trun_inline_js();\n      });\n    }\n  }\n  // Give older versions of the autoload script a head-start to ensure\n  // they initialize before we start loading newer version.\n  setTimeout(load_or_wait, 100)\n}(window));",
      "application/vnd.holoviews_load.v0+json": ""
     },
     "metadata": {},
     "output_type": "display_data"
    },
    {
     "data": {
      "application/javascript": "\nif ((window.PyViz === undefined) || (window.PyViz instanceof HTMLElement)) {\n  window.PyViz = {comms: {}, comm_status:{}, kernels:{}, receivers: {}, plot_index: []}\n}\n\n\n    function JupyterCommManager() {\n    }\n\n    JupyterCommManager.prototype.register_target = function(plot_id, comm_id, msg_handler) {\n      if (window.comm_manager || ((window.Jupyter !== undefined) && (Jupyter.notebook.kernel != null))) {\n        var comm_manager = window.comm_manager || Jupyter.notebook.kernel.comm_manager;\n        comm_manager.register_target(comm_id, function(comm) {\n          comm.on_msg(msg_handler);\n        });\n      } else if ((plot_id in window.PyViz.kernels) && (window.PyViz.kernels[plot_id])) {\n        window.PyViz.kernels[plot_id].registerCommTarget(comm_id, function(comm) {\n          comm.onMsg = msg_handler;\n        });\n      } else if (typeof google != 'undefined' && google.colab.kernel != null) {\n        google.colab.kernel.comms.registerTarget(comm_id, (comm) => {\n          var messages = comm.messages[Symbol.asyncIterator]();\n          function processIteratorResult(result) {\n            var message = result.value;\n            console.log(message)\n            var content = {data: message.data, comm_id};\n            var buffers = []\n            for (var buffer of message.buffers || []) {\n              buffers.push(new DataView(buffer))\n            }\n            var metadata = message.metadata || {};\n            var msg = {content, buffers, metadata}\n            msg_handler(msg);\n            return messages.next().then(processIteratorResult);\n          }\n          return messages.next().then(processIteratorResult);\n        })\n      }\n    }\n\n    JupyterCommManager.prototype.get_client_comm = function(plot_id, comm_id, msg_handler) {\n      if (comm_id in window.PyViz.comms) {\n        return window.PyViz.comms[comm_id];\n      } else if (window.comm_manager || ((window.Jupyter !== undefined) && (Jupyter.notebook.kernel != null))) {\n        var comm_manager = window.comm_manager || Jupyter.notebook.kernel.comm_manager;\n        var comm = comm_manager.new_comm(comm_id, {}, {}, {}, comm_id);\n        if (msg_handler) {\n          comm.on_msg(msg_handler);\n        }\n      } else if ((plot_id in window.PyViz.kernels) && (window.PyViz.kernels[plot_id])) {\n        var comm = window.PyViz.kernels[plot_id].connectToComm(comm_id);\n        comm.open();\n        if (msg_handler) {\n          comm.onMsg = msg_handler;\n        }\n      } else if (typeof google != 'undefined' && google.colab.kernel != null) {\n        var comm_promise = google.colab.kernel.comms.open(comm_id)\n        comm_promise.then((comm) => {\n          window.PyViz.comms[comm_id] = comm;\n          if (msg_handler) {\n            var messages = comm.messages[Symbol.asyncIterator]();\n            function processIteratorResult(result) {\n              var message = result.value;\n              var content = {data: message.data};\n              var metadata = message.metadata || {comm_id};\n              var msg = {content, metadata}\n              msg_handler(msg);\n              return messages.next().then(processIteratorResult);\n            }\n            return messages.next().then(processIteratorResult);\n          }\n        }) \n        var sendClosure = (data, metadata, buffers, disposeOnDone) => {\n          return comm_promise.then((comm) => {\n            comm.send(data, metadata, buffers, disposeOnDone);\n          });\n        };\n        var comm = {\n          send: sendClosure\n        };\n      }\n      window.PyViz.comms[comm_id] = comm;\n      return comm;\n    }\n    window.PyViz.comm_manager = new JupyterCommManager();\n    \n\n\nvar JS_MIME_TYPE = 'application/javascript';\nvar HTML_MIME_TYPE = 'text/html';\nvar EXEC_MIME_TYPE = 'application/vnd.holoviews_exec.v0+json';\nvar CLASS_NAME = 'output';\n\n/**\n * Render data to the DOM node\n */\nfunction render(props, node) {\n  var div = document.createElement(\"div\");\n  var script = document.createElement(\"script\");\n  node.appendChild(div);\n  node.appendChild(script);\n}\n\n/**\n * Handle when a new output is added\n */\nfunction handle_add_output(event, handle) {\n  var output_area = handle.output_area;\n  var output = handle.output;\n  if ((output.data == undefined) || (!output.data.hasOwnProperty(EXEC_MIME_TYPE))) {\n    return\n  }\n  var id = output.metadata[EXEC_MIME_TYPE][\"id\"];\n  var toinsert = output_area.element.find(\".\" + CLASS_NAME.split(' ')[0]);\n  if (id !== undefined) {\n    var nchildren = toinsert.length;\n    var html_node = toinsert[nchildren-1].children[0];\n    html_node.innerHTML = output.data[HTML_MIME_TYPE];\n    var scripts = [];\n    var nodelist = html_node.querySelectorAll(\"script\");\n    for (var i in nodelist) {\n      if (nodelist.hasOwnProperty(i)) {\n        scripts.push(nodelist[i])\n      }\n    }\n\n    scripts.forEach( function (oldScript) {\n      var newScript = document.createElement(\"script\");\n      var attrs = [];\n      var nodemap = oldScript.attributes;\n      for (var j in nodemap) {\n        if (nodemap.hasOwnProperty(j)) {\n          attrs.push(nodemap[j])\n        }\n      }\n      attrs.forEach(function(attr) { newScript.setAttribute(attr.name, attr.value) });\n      newScript.appendChild(document.createTextNode(oldScript.innerHTML));\n      oldScript.parentNode.replaceChild(newScript, oldScript);\n    });\n    if (JS_MIME_TYPE in output.data) {\n      toinsert[nchildren-1].children[1].textContent = output.data[JS_MIME_TYPE];\n    }\n    output_area._hv_plot_id = id;\n    if ((window.Bokeh !== undefined) && (id in Bokeh.index)) {\n      window.PyViz.plot_index[id] = Bokeh.index[id];\n    } else {\n      window.PyViz.plot_index[id] = null;\n    }\n  } else if (output.metadata[EXEC_MIME_TYPE][\"server_id\"] !== undefined) {\n    var bk_div = document.createElement(\"div\");\n    bk_div.innerHTML = output.data[HTML_MIME_TYPE];\n    var script_attrs = bk_div.children[0].attributes;\n    for (var i = 0; i < script_attrs.length; i++) {\n      toinsert[toinsert.length - 1].childNodes[1].setAttribute(script_attrs[i].name, script_attrs[i].value);\n    }\n    // store reference to server id on output_area\n    output_area._bokeh_server_id = output.metadata[EXEC_MIME_TYPE][\"server_id\"];\n  }\n}\n\n/**\n * Handle when an output is cleared or removed\n */\nfunction handle_clear_output(event, handle) {\n  var id = handle.cell.output_area._hv_plot_id;\n  var server_id = handle.cell.output_area._bokeh_server_id;\n  if (((id === undefined) || !(id in PyViz.plot_index)) && (server_id !== undefined)) { return; }\n  var comm = window.PyViz.comm_manager.get_client_comm(\"hv-extension-comm\", \"hv-extension-comm\", function () {});\n  if (server_id !== null) {\n    comm.send({event_type: 'server_delete', 'id': server_id});\n    return;\n  } else if (comm !== null) {\n    comm.send({event_type: 'delete', 'id': id});\n  }\n  delete PyViz.plot_index[id];\n  if ((window.Bokeh !== undefined) & (id in window.Bokeh.index)) {\n    var doc = window.Bokeh.index[id].model.document\n    doc.clear();\n    const i = window.Bokeh.documents.indexOf(doc);\n    if (i > -1) {\n      window.Bokeh.documents.splice(i, 1);\n    }\n  }\n}\n\n/**\n * Handle kernel restart event\n */\nfunction handle_kernel_cleanup(event, handle) {\n  delete PyViz.comms[\"hv-extension-comm\"];\n  window.PyViz.plot_index = {}\n}\n\n/**\n * Handle update_display_data messages\n */\nfunction handle_update_output(event, handle) {\n  handle_clear_output(event, {cell: {output_area: handle.output_area}})\n  handle_add_output(event, handle)\n}\n\nfunction register_renderer(events, OutputArea) {\n  function append_mime(data, metadata, element) {\n    // create a DOM node to render to\n    var toinsert = this.create_output_subarea(\n    metadata,\n    CLASS_NAME,\n    EXEC_MIME_TYPE\n    );\n    this.keyboard_manager.register_events(toinsert);\n    // Render to node\n    var props = {data: data, metadata: metadata[EXEC_MIME_TYPE]};\n    render(props, toinsert[0]);\n    element.append(toinsert);\n    return toinsert\n  }\n\n  events.on('output_added.OutputArea', handle_add_output);\n  events.on('output_updated.OutputArea', handle_update_output);\n  events.on('clear_output.CodeCell', handle_clear_output);\n  events.on('delete.Cell', handle_clear_output);\n  events.on('kernel_ready.Kernel', handle_kernel_cleanup);\n\n  OutputArea.prototype.register_mime_type(EXEC_MIME_TYPE, append_mime, {\n    safe: true,\n    index: 0\n  });\n}\n\nif (window.Jupyter !== undefined) {\n  try {\n    var events = require('base/js/events');\n    var OutputArea = require('notebook/js/outputarea').OutputArea;\n    if (OutputArea.prototype.mime_types().indexOf(EXEC_MIME_TYPE) == -1) {\n      register_renderer(events, OutputArea);\n    }\n  } catch(err) {\n  }\n}\n",
      "application/vnd.holoviews_load.v0+json": ""
     },
     "metadata": {},
     "output_type": "display_data"
    },
    {
     "data": {
      "text/html": [
       "<style>*[data-root-id],\n",
       "*[data-root-id] > * {\n",
       "  box-sizing: border-box;\n",
       "  font-family: var(--jp-ui-font-family);\n",
       "  font-size: var(--jp-ui-font-size1);\n",
       "  color: var(--vscode-editor-foreground, var(--jp-ui-font-color1));\n",
       "}\n",
       "\n",
       "/* Override VSCode background color */\n",
       ".cell-output-ipywidget-background:has(\n",
       "    > .cell-output-ipywidget-background > .lm-Widget > *[data-root-id]\n",
       "  ),\n",
       ".cell-output-ipywidget-background:has(> .lm-Widget > *[data-root-id]) {\n",
       "  background-color: transparent !important;\n",
       "}\n",
       "</style>"
      ]
     },
     "metadata": {},
     "output_type": "display_data"
    },
    {
     "data": {
      "application/vnd.holoviews_exec.v0+json": "",
      "text/html": [
       "<div id='p1002'>\n",
       "  <div id=\"f136dec0-f404-47c8-ab8a-307f921981e8\" data-root-id=\"p1002\" style=\"display: contents;\"></div>\n",
       "</div>\n",
       "<script type=\"application/javascript\">(function(root) {\n",
       "  var docs_json = {\"f4eecaf6-a4f5-4b50-bf61-2a40fbe82ed0\":{\"version\":\"3.4.1\",\"title\":\"Bokeh Application\",\"roots\":[{\"type\":\"object\",\"name\":\"panel.models.browser.BrowserInfo\",\"id\":\"p1002\"},{\"type\":\"object\",\"name\":\"panel.models.comm_manager.CommManager\",\"id\":\"p1003\",\"attributes\":{\"plot_id\":\"p1002\",\"comm_id\":\"f63fa7c85e9849eb922ea064095db8b5\",\"client_comm_id\":\"5abbbd4fa7f946c6a650b146b7378094\"}}],\"defs\":[{\"type\":\"model\",\"name\":\"ReactiveHTML1\"},{\"type\":\"model\",\"name\":\"FlexBox1\",\"properties\":[{\"name\":\"align_content\",\"kind\":\"Any\",\"default\":\"flex-start\"},{\"name\":\"align_items\",\"kind\":\"Any\",\"default\":\"flex-start\"},{\"name\":\"flex_direction\",\"kind\":\"Any\",\"default\":\"row\"},{\"name\":\"flex_wrap\",\"kind\":\"Any\",\"default\":\"wrap\"},{\"name\":\"gap\",\"kind\":\"Any\",\"default\":\"\"},{\"name\":\"justify_content\",\"kind\":\"Any\",\"default\":\"flex-start\"}]},{\"type\":\"model\",\"name\":\"FloatPanel1\",\"properties\":[{\"name\":\"config\",\"kind\":\"Any\",\"default\":{\"type\":\"map\"}},{\"name\":\"contained\",\"kind\":\"Any\",\"default\":true},{\"name\":\"position\",\"kind\":\"Any\",\"default\":\"right-top\"},{\"name\":\"offsetx\",\"kind\":\"Any\",\"default\":null},{\"name\":\"offsety\",\"kind\":\"Any\",\"default\":null},{\"name\":\"theme\",\"kind\":\"Any\",\"default\":\"primary\"},{\"name\":\"status\",\"kind\":\"Any\",\"default\":\"normalized\"}]},{\"type\":\"model\",\"name\":\"GridStack1\",\"properties\":[{\"name\":\"mode\",\"kind\":\"Any\",\"default\":\"warn\"},{\"name\":\"ncols\",\"kind\":\"Any\",\"default\":null},{\"name\":\"nrows\",\"kind\":\"Any\",\"default\":null},{\"name\":\"allow_resize\",\"kind\":\"Any\",\"default\":true},{\"name\":\"allow_drag\",\"kind\":\"Any\",\"default\":true},{\"name\":\"state\",\"kind\":\"Any\",\"default\":[]}]},{\"type\":\"model\",\"name\":\"drag1\",\"properties\":[{\"name\":\"slider_width\",\"kind\":\"Any\",\"default\":5},{\"name\":\"slider_color\",\"kind\":\"Any\",\"default\":\"black\"},{\"name\":\"value\",\"kind\":\"Any\",\"default\":50}]},{\"type\":\"model\",\"name\":\"click1\",\"properties\":[{\"name\":\"terminal_output\",\"kind\":\"Any\",\"default\":\"\"},{\"name\":\"debug_name\",\"kind\":\"Any\",\"default\":\"\"},{\"name\":\"clears\",\"kind\":\"Any\",\"default\":0}]},{\"type\":\"model\",\"name\":\"FastWrapper1\",\"properties\":[{\"name\":\"object\",\"kind\":\"Any\",\"default\":null},{\"name\":\"style\",\"kind\":\"Any\",\"default\":null}]},{\"type\":\"model\",\"name\":\"NotificationAreaBase1\",\"properties\":[{\"name\":\"js_events\",\"kind\":\"Any\",\"default\":{\"type\":\"map\"}},{\"name\":\"position\",\"kind\":\"Any\",\"default\":\"bottom-right\"},{\"name\":\"_clear\",\"kind\":\"Any\",\"default\":0}]},{\"type\":\"model\",\"name\":\"NotificationArea1\",\"properties\":[{\"name\":\"js_events\",\"kind\":\"Any\",\"default\":{\"type\":\"map\"}},{\"name\":\"notifications\",\"kind\":\"Any\",\"default\":[]},{\"name\":\"position\",\"kind\":\"Any\",\"default\":\"bottom-right\"},{\"name\":\"_clear\",\"kind\":\"Any\",\"default\":0},{\"name\":\"types\",\"kind\":\"Any\",\"default\":[{\"type\":\"map\",\"entries\":[[\"type\",\"warning\"],[\"background\",\"#ffc107\"],[\"icon\",{\"type\":\"map\",\"entries\":[[\"className\",\"fas fa-exclamation-triangle\"],[\"tagName\",\"i\"],[\"color\",\"white\"]]}]]},{\"type\":\"map\",\"entries\":[[\"type\",\"info\"],[\"background\",\"#007bff\"],[\"icon\",{\"type\":\"map\",\"entries\":[[\"className\",\"fas fa-info-circle\"],[\"tagName\",\"i\"],[\"color\",\"white\"]]}]]}]}]},{\"type\":\"model\",\"name\":\"Notification\",\"properties\":[{\"name\":\"background\",\"kind\":\"Any\",\"default\":null},{\"name\":\"duration\",\"kind\":\"Any\",\"default\":3000},{\"name\":\"icon\",\"kind\":\"Any\",\"default\":null},{\"name\":\"message\",\"kind\":\"Any\",\"default\":\"\"},{\"name\":\"notification_type\",\"kind\":\"Any\",\"default\":null},{\"name\":\"_destroyed\",\"kind\":\"Any\",\"default\":false}]},{\"type\":\"model\",\"name\":\"TemplateActions1\",\"properties\":[{\"name\":\"open_modal\",\"kind\":\"Any\",\"default\":0},{\"name\":\"close_modal\",\"kind\":\"Any\",\"default\":0}]},{\"type\":\"model\",\"name\":\"BootstrapTemplateActions1\",\"properties\":[{\"name\":\"open_modal\",\"kind\":\"Any\",\"default\":0},{\"name\":\"close_modal\",\"kind\":\"Any\",\"default\":0}]},{\"type\":\"model\",\"name\":\"TemplateEditor1\",\"properties\":[{\"name\":\"layout\",\"kind\":\"Any\",\"default\":[]}]},{\"type\":\"model\",\"name\":\"MaterialTemplateActions1\",\"properties\":[{\"name\":\"open_modal\",\"kind\":\"Any\",\"default\":0},{\"name\":\"close_modal\",\"kind\":\"Any\",\"default\":0}]},{\"type\":\"model\",\"name\":\"copy_to_clipboard1\",\"properties\":[{\"name\":\"fill\",\"kind\":\"Any\",\"default\":\"none\"},{\"name\":\"value\",\"kind\":\"Any\",\"default\":null}]}]}};\n",
       "  var render_items = [{\"docid\":\"f4eecaf6-a4f5-4b50-bf61-2a40fbe82ed0\",\"roots\":{\"p1002\":\"f136dec0-f404-47c8-ab8a-307f921981e8\"},\"root_ids\":[\"p1002\"]}];\n",
       "  var docs = Object.values(docs_json)\n",
       "  if (!docs) {\n",
       "    return\n",
       "  }\n",
       "  const py_version = docs[0].version.replace('rc', '-rc.').replace('.dev', '-dev.')\n",
       "  function embed_document(root) {\n",
       "    var Bokeh = get_bokeh(root)\n",
       "    Bokeh.embed.embed_items_notebook(docs_json, render_items);\n",
       "    for (const render_item of render_items) {\n",
       "      for (const root_id of render_item.root_ids) {\n",
       "\tconst id_el = document.getElementById(root_id)\n",
       "\tif (id_el.children.length && (id_el.children[0].className === 'bk-root')) {\n",
       "\t  const root_el = id_el.children[0]\n",
       "\t  root_el.id = root_el.id + '-rendered'\n",
       "\t}\n",
       "      }\n",
       "    }\n",
       "  }\n",
       "  function get_bokeh(root) {\n",
       "    if (root.Bokeh === undefined) {\n",
       "      return null\n",
       "    } else if (root.Bokeh.version !== py_version) {\n",
       "      if (root.Bokeh.versions === undefined || !root.Bokeh.versions.has(py_version)) {\n",
       "\treturn null\n",
       "      }\n",
       "      return root.Bokeh.versions.get(py_version);\n",
       "    } else if (root.Bokeh.version === py_version) {\n",
       "      return root.Bokeh\n",
       "    }\n",
       "    return null\n",
       "  }\n",
       "  function is_loaded(root) {\n",
       "    var Bokeh = get_bokeh(root)\n",
       "    return (Bokeh != null && Bokeh.Panel !== undefined)\n",
       "  }\n",
       "  if (is_loaded(root)) {\n",
       "    embed_document(root);\n",
       "  } else {\n",
       "    var attempts = 0;\n",
       "    var timer = setInterval(function(root) {\n",
       "      if (is_loaded(root)) {\n",
       "        clearInterval(timer);\n",
       "        embed_document(root);\n",
       "      } else if (document.readyState == \"complete\") {\n",
       "        attempts++;\n",
       "        if (attempts > 200) {\n",
       "          clearInterval(timer);\n",
       "\t  var Bokeh = get_bokeh(root)\n",
       "\t  if (Bokeh == null || Bokeh.Panel == null) {\n",
       "            console.warn(\"Panel: ERROR: Unable to run Panel code because Bokeh or Panel library is missing\");\n",
       "\t  } else {\n",
       "\t    console.warn(\"Panel: WARNING: Attempting to render but not all required libraries could be resolved.\")\n",
       "\t    embed_document(root)\n",
       "\t  }\n",
       "        }\n",
       "      }\n",
       "    }, 25, root)\n",
       "  }\n",
       "})(window);</script>"
      ]
     },
     "metadata": {
      "application/vnd.holoviews_exec.v0+json": {
       "id": "p1002"
      }
     },
     "output_type": "display_data"
    },
    {
     "data": {},
     "metadata": {},
     "output_type": "display_data"
    },
    {
     "data": {
      "application/vnd.holoviews_exec.v0+json": "",
      "text/html": [
       "<div id='p1004'>\n",
       "  <div id=\"b0d85e44-8620-4c14-a052-9972739dba5f\" data-root-id=\"p1004\" style=\"display: contents;\"></div>\n",
       "</div>\n",
       "<script type=\"application/javascript\">(function(root) {\n",
       "  var docs_json = {\"7a23a56a-fad8-4b90-bb20-e58e6345f05a\":{\"version\":\"3.4.1\",\"title\":\"Bokeh Application\",\"roots\":[{\"type\":\"object\",\"name\":\"Row\",\"id\":\"p1004\",\"attributes\":{\"name\":\"Row00966\",\"tags\":[\"embedded\"],\"stylesheets\":[\"\\n:host(.pn-loading):before, .pn-loading:before {\\n  background-color: #c3c3c3;\\n  mask-size: auto calc(min(50%, 400px));\\n  -webkit-mask-size: auto calc(min(50%, 400px));\\n}\",{\"type\":\"object\",\"name\":\"ImportedStyleSheet\",\"id\":\"p1007\",\"attributes\":{\"url\":\"https://cdn.holoviz.org/panel/1.4.2/dist/css/loading.css\"}},{\"type\":\"object\",\"name\":\"ImportedStyleSheet\",\"id\":\"p1094\",\"attributes\":{\"url\":\"https://cdn.holoviz.org/panel/1.4.2/dist/css/listpanel.css\"}},{\"type\":\"object\",\"name\":\"ImportedStyleSheet\",\"id\":\"p1005\",\"attributes\":{\"url\":\"https://cdn.holoviz.org/panel/1.4.2/dist/bundled/theme/default.css\"}},{\"type\":\"object\",\"name\":\"ImportedStyleSheet\",\"id\":\"p1006\",\"attributes\":{\"url\":\"https://cdn.holoviz.org/panel/1.4.2/dist/bundled/theme/native.css\"}}],\"min_width\":700,\"margin\":0,\"sizing_mode\":\"stretch_width\",\"align\":\"start\",\"children\":[{\"type\":\"object\",\"name\":\"Spacer\",\"id\":\"p1008\",\"attributes\":{\"name\":\"HSpacer00973\",\"stylesheets\":[\"\\n:host(.pn-loading):before, .pn-loading:before {\\n  background-color: #c3c3c3;\\n  mask-size: auto calc(min(50%, 400px));\\n  -webkit-mask-size: auto calc(min(50%, 400px));\\n}\",{\"id\":\"p1007\"},{\"id\":\"p1005\"},{\"id\":\"p1006\"}],\"margin\":0,\"sizing_mode\":\"stretch_width\",\"align\":\"start\"}},{\"type\":\"object\",\"name\":\"Figure\",\"id\":\"p1019\",\"attributes\":{\"width\":700,\"height\":300,\"margin\":[5,10],\"sizing_mode\":\"fixed\",\"align\":\"start\",\"x_range\":{\"type\":\"object\",\"name\":\"Range1d\",\"id\":\"p1009\",\"attributes\":{\"tags\":[[[\"timestamp\",\"timestamp\",null]],[]],\"start\":1582118537142.8572,\"end\":1718793462857.1428,\"reset_start\":1582118537142.8572,\"reset_end\":1718793462857.1428}},\"y_range\":{\"type\":\"object\",\"name\":\"Range1d\",\"id\":\"p1010\",\"attributes\":{\"tags\":[[[\"blood_glucose\",\"blood_glucose\",null]],{\"type\":\"map\",\"entries\":[[\"invert_yaxis\",false],[\"autorange\",false]]}],\"start\":188.475,\"end\":207.275,\"reset_start\":188.475,\"reset_end\":207.275}},\"x_scale\":{\"type\":\"object\",\"name\":\"LinearScale\",\"id\":\"p1029\"},\"y_scale\":{\"type\":\"object\",\"name\":\"LinearScale\",\"id\":\"p1030\"},\"title\":{\"type\":\"object\",\"name\":\"Title\",\"id\":\"p1022\",\"attributes\":{\"text_color\":\"black\",\"text_font_size\":\"12pt\"}},\"renderers\":[{\"type\":\"object\",\"name\":\"GlyphRenderer\",\"id\":\"p1071\",\"attributes\":{\"name\":\"Blizzard Bob\",\"data_source\":{\"type\":\"object\",\"name\":\"ColumnDataSource\",\"id\":\"p1062\",\"attributes\":{\"selected\":{\"type\":\"object\",\"name\":\"Selection\",\"id\":\"p1063\",\"attributes\":{\"indices\":[],\"line_indices\":[]}},\"selection_policy\":{\"type\":\"object\",\"name\":\"UnionRenderers\",\"id\":\"p1064\"},\"data\":{\"type\":\"map\",\"entries\":[[\"timestamp\",{\"type\":\"ndarray\",\"array\":{\"type\":\"bytes\",\"data\":\"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\"},\"shape\":[584],\"dtype\":\"float64\",\"order\":\"little\"}],[\"blood_glucose\",{\"type\":\"ndarray\",\"array\":{\"type\":\"bytes\",\"data\":\"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\"},\"shape\":[584],\"dtype\":\"float64\",\"order\":\"little\"}],[\"name\",[\"Blizzard Bob\",\"Blizzard Bob\",\"Blizzard Bob\",\"Blizzard Bob\",\"Blizzard Bob\",\"Blizzard Bob\",\"Blizzard Bob\",\"Blizzard Bob\",\"Blizzard Bob\",\"Blizzard Bob\",\"Blizzard Bob\",\"Blizzard Bob\",\"Blizzard Bob\",\"Blizzard Bob\",\"Blizzard Bob\",\"Blizzard Bob\",\"Blizzard Bob\",\"Blizzard Bob\",\"Blizzard Bob\",\"Blizzard Bob\",\"Blizzard Bob\",\"Blizzard Bob\",\"Blizzard Bob\",\"Blizzard Bob\",\"Blizzard Bob\",\"Blizzard Bob\",\"Blizzard Bob\",\"Blizzard Bob\",\"Blizzard Bob\",\"Blizzard Bob\",\"Blizzard Bob\",\"Blizzard Bob\",\"Blizzard Bob\",\"Blizzard Bob\",\"Blizzard Bob\",\"Blizzard Bob\",\"Blizzard Bob\",\"Blizzard Bob\",\"Blizzard Bob\",\"Blizzard Bob\",\"Blizzard Bob\",\"Blizzard Bob\",\"Blizzard Bob\",\"Blizzard Bob\",\"Blizzard Bob\",\"Blizzard Bob\",\"Blizzard Bob\",\"Blizzard Bob\",\"Blizzard Bob\",\"Blizzard Bob\",\"Blizzard Bob\",\"Blizzard Bob\",\"Blizzard Bob\",\"Blizzard Bob\",\"Blizzard Bob\",\"Blizzard Bob\",\"Blizzard Bob\",\"Blizzard Bob\",\"Blizzard Bob\",\"Blizzard Bob\",\"Blizzard Bob\",\"Blizzard Bob\",\"Blizzard Bob\",\"Blizzard Bob\",\"Blizzard Bob\",\"Blizzard Bob\",\"Blizzard Bob\",\"Blizzard Bob\",\"Blizzard Bob\",\"Blizzard Bob\",\"Blizzard Bob\",\"Blizzard Bob\",\"Blizzard Bob\",\"Blizzard Bob\",\"Blizzard Bob\",\"Blizzard Bob\",\"Blizzard Bob\",\"Blizzard Bob\",\"Blizzard Bob\",\"Blizzard Bob\",\"Blizzard Bob\",\"Blizzard Bob\",\"Blizzard Bob\",\"Blizzard Bob\",\"Blizzard Bob\",\"Blizzard Bob\",\"Blizzard Bob\",\"Blizzard Bob\",\"Blizzard Bob\",\"Blizzard Bob\",\"Blizzard Bob\",\"Blizzard Bob\",\"Blizzard Bob\",\"Blizzard Bob\",\"Blizzard Bob\",\"Blizzard Bob\",\"Blizzard Bob\",\"Blizzard Bob\",\"Blizzard Bob\",\"Blizzard Bob\",\"Blizzard Bob\",\"Blizzard Bob\",\"Blizzard Bob\",\"Blizzard Bob\",\"Blizzard Bob\",\"Blizzard Bob\",\"Blizzard Bob\",\"Blizzard Bob\",\"Blizzard Bob\",\"Blizzard Bob\",\"Blizzard Bob\",\"Blizzard Bob\",\"Blizzard Bob\",\"Blizzard Bob\",\"Blizzard Bob\",\"Blizzard Bob\",\"Blizzard Bob\",\"Blizzard Bob\",\"Blizzard Bob\",\"Blizzard Bob\",\"Blizzard Bob\",\"Blizzard Bob\",\"Blizzard Bob\",\"Blizzard Bob\",\"Blizzard Bob\",\"Blizzard Bob\",\"Blizzard Bob\",\"Blizzard Bob\",\"Blizzard Bob\",\"Blizzard Bob\",\"Blizzard Bob\",\"Blizzard Bob\",\"Blizzard Bob\",\"Blizzard Bob\",\"Blizzard Bob\",\"Blizzard Bob\",\"Blizzard Bob\",\"Blizzard Bob\",\"Blizzard Bob\",\"Blizzard Bob\",\"Blizzard Bob\",\"Blizzard Bob\",\"Blizzard Bob\",\"Blizzard Bob\",\"Blizzard Bob\",\"Blizzard Bob\",\"Blizzard Bob\",\"Blizzard Bob\",\"Blizzard Bob\",\"Blizzard Bob\",\"Blizzard Bob\",\"Blizzard Bob\",\"Blizzard Bob\",\"Blizzard Bob\",\"Blizzard Bob\",\"Blizzard Bob\",\"Blizzard Bob\",\"Blizzard Bob\",\"Blizzard Bob\",\"Blizzard Bob\",\"Blizzard Bob\",\"Blizzard Bob\",\"Blizzard Bob\",\"Blizzard Bob\",\"Blizzard Bob\",\"Blizzard Bob\",\"Blizzard Bob\",\"Blizzard Bob\",\"Blizzard Bob\",\"Blizzard Bob\",\"Blizzard Bob\",\"Blizzard Bob\",\"Blizzard Bob\",\"Blizzard Bob\",\"Blizzard Bob\",\"Blizzard Bob\",\"Blizzard Bob\",\"Blizzard Bob\",\"Blizzard Bob\",\"Blizzard Bob\",\"Blizzard Bob\",\"Blizzard Bob\",\"Blizzard Bob\",\"Blizzard Bob\",\"Blizzard Bob\",\"Blizzard Bob\",\"Blizzard Bob\",\"Blizzard Bob\",\"Blizzard Bob\",\"Blizzard Bob\",\"Blizzard Bob\",\"Blizzard Bob\",\"Blizzard Bob\",\"Blizzard Bob\",\"Blizzard Bob\",\"Blizzard Bob\",\"Blizzard Bob\",\"Blizzard Bob\",\"Blizzard Bob\",\"Blizzard Bob\",\"Blizzard Bob\",\"Blizzard Bob\",\"Blizzard Bob\",\"Blizzard Bob\",\"Blizzard Bob\",\"Blizzard Bob\",\"Blizzard Bob\",\"Blizzard Bob\",\"Blizzard Bob\",\"Blizzard Bob\",\"Blizzard Bob\",\"Blizzard Bob\",\"Blizzard Bob\",\"Blizzard Bob\",\"Blizzard Bob\",\"Blizzard Bob\",\"Blizzard Bob\",\"Blizzard Bob\",\"Blizzard Bob\",\"Blizzard Bob\",\"Blizzard Bob\",\"Blizzard Bob\",\"Blizzard Bob\",\"Blizzard Bob\",\"Blizzard Bob\",\"Blizzard Bob\",\"Blizzard Bob\",\"Blizzard Bob\",\"Blizzard Bob\",\"Blizzard Bob\",\"Blizzard Bob\",\"Blizzard Bob\",\"Blizzard Bob\",\"Blizzard Bob\",\"Blizzard Bob\",\"Blizzard Bob\",\"Blizzard Bob\",\"Blizzard Bob\",\"Blizzard Bob\",\"Blizzard Bob\",\"Blizzard Bob\",\"Blizzard Bob\",\"Blizzard Bob\",\"Blizzard Bob\",\"Blizzard Bob\",\"Blizzard Bob\",\"Blizzard Bob\",\"Blizzard Bob\",\"Blizzard Bob\",\"Blizzard Bob\",\"Blizzard Bob\",\"Blizzard Bob\",\"Blizzard Bob\",\"Blizzard Bob\",\"Blizzard Bob\",\"Blizzard Bob\",\"Blizzard Bob\",\"Blizzard Bob\",\"Blizzard Bob\",\"Blizzard Bob\",\"Blizzard Bob\",\"Blizzard Bob\",\"Blizzard Bob\",\"Blizzard Bob\",\"Blizzard Bob\",\"Blizzard Bob\",\"Blizzard Bob\",\"Blizzard Bob\",\"Blizzard Bob\",\"Blizzard Bob\",\"Blizzard Bob\",\"Blizzard Bob\",\"Blizzard Bob\",\"Blizzard Bob\",\"Blizzard Bob\",\"Blizzard Bob\",\"Blizzard Bob\",\"Blizzard Bob\",\"Blizzard Bob\",\"Blizzard Bob\",\"Blizzard Bob\",\"Blizzard Bob\",\"Blizzard Bob\",\"Blizzard Bob\",\"Blizzard Bob\",\"Blizzard Bob\",\"Blizzard Bob\",\"Blizzard Bob\",\"Blizzard Bob\",\"Blizzard Bob\",\"Blizzard Bob\",\"Blizzard Bob\",\"Blizzard Bob\",\"Blizzard Bob\",\"Blizzard Bob\",\"Blizzard Bob\",\"Blizzard Bob\",\"Blizzard Bob\",\"Blizzard Bob\",\"Blizzard Bob\",\"Blizzard Bob\",\"Blizzard Bob\",\"Blizzard Bob\",\"Blizzard Bob\",\"Blizzard Bob\",\"Blizzard Bob\",\"Blizzard Bob\",\"Blizzard Bob\",\"Blizzard Bob\",\"Blizzard Bob\",\"Blizzard Bob\",\"Blizzard Bob\",\"Blizzard Bob\",\"Blizzard Bob\",\"Blizzard Bob\",\"Blizzard Bob\",\"Blizzard Bob\",\"Blizzard Bob\",\"Blizzard Bob\",\"Blizzard Bob\",\"Blizzard Bob\",\"Blizzard Bob\",\"Blizzard Bob\",\"Blizzard Bob\",\"Blizzard Bob\",\"Blizzard Bob\",\"Blizzard Bob\",\"Blizzard Bob\",\"Blizzard Bob\",\"Blizzard Bob\",\"Blizzard Bob\",\"Blizzard Bob\",\"Blizzard Bob\",\"Blizzard Bob\",\"Blizzard Bob\",\"Blizzard Bob\",\"Blizzard Bob\",\"Blizzard Bob\",\"Blizzard Bob\",\"Blizzard Bob\",\"Blizzard Bob\",\"Blizzard Bob\",\"Blizzard Bob\",\"Blizzard Bob\",\"Blizzard Bob\",\"Blizzard Bob\",\"Blizzard Bob\",\"Blizzard Bob\",\"Blizzard Bob\",\"Blizzard Bob\",\"Blizzard Bob\",\"Blizzard Bob\",\"Blizzard Bob\",\"Blizzard Bob\",\"Blizzard Bob\",\"Blizzard Bob\",\"Blizzard Bob\",\"Blizzard Bob\",\"Blizzard Bob\",\"Blizzard Bob\",\"Blizzard Bob\",\"Blizzard Bob\",\"Blizzard Bob\",\"Blizzard Bob\",\"Blizzard Bob\",\"Blizzard Bob\",\"Blizzard Bob\",\"Blizzard Bob\",\"Blizzard Bob\",\"Blizzard Bob\",\"Blizzard Bob\",\"Blizzard Bob\",\"Blizzard Bob\",\"Blizzard Bob\",\"Blizzard Bob\",\"Blizzard Bob\",\"Blizzard Bob\",\"Blizzard Bob\",\"Blizzard Bob\",\"Blizzard Bob\",\"Blizzard Bob\",\"Blizzard Bob\",\"Blizzard Bob\",\"Blizzard Bob\",\"Blizzard Bob\",\"Blizzard Bob\",\"Blizzard Bob\",\"Blizzard Bob\",\"Blizzard Bob\",\"Blizzard Bob\",\"Blizzard Bob\",\"Blizzard Bob\",\"Blizzard Bob\",\"Blizzard Bob\",\"Blizzard Bob\",\"Blizzard Bob\",\"Blizzard Bob\",\"Blizzard Bob\",\"Blizzard Bob\",\"Blizzard Bob\",\"Blizzard Bob\",\"Blizzard Bob\",\"Blizzard Bob\",\"Blizzard Bob\",\"Blizzard Bob\",\"Blizzard Bob\",\"Blizzard Bob\",\"Blizzard Bob\",\"Blizzard Bob\",\"Blizzard Bob\",\"Blizzard Bob\",\"Blizzard Bob\",\"Blizzard Bob\",\"Blizzard Bob\",\"Blizzard Bob\",\"Blizzard Bob\",\"Blizzard Bob\",\"Blizzard Bob\",\"Blizzard Bob\",\"Blizzard Bob\",\"Blizzard Bob\",\"Blizzard Bob\",\"Blizzard Bob\",\"Blizzard Bob\",\"Blizzard Bob\",\"Blizzard Bob\",\"Blizzard Bob\",\"Blizzard Bob\",\"Blizzard Bob\",\"Blizzard Bob\",\"Blizzard Bob\",\"Blizzard Bob\",\"Blizzard Bob\",\"Blizzard Bob\",\"Blizzard Bob\",\"Blizzard Bob\",\"Blizzard Bob\",\"Blizzard Bob\",\"Blizzard Bob\",\"Blizzard Bob\",\"Blizzard Bob\",\"Blizzard Bob\",\"Blizzard Bob\",\"Blizzard Bob\",\"Blizzard Bob\",\"Blizzard Bob\",\"Blizzard Bob\",\"Blizzard Bob\",\"Blizzard Bob\",\"Blizzard Bob\",\"Blizzard Bob\",\"Blizzard Bob\",\"Blizzard Bob\",\"Blizzard Bob\",\"Blizzard Bob\",\"Blizzard Bob\",\"Blizzard Bob\",\"Blizzard Bob\",\"Blizzard Bob\",\"Blizzard Bob\",\"Blizzard Bob\",\"Blizzard Bob\",\"Blizzard Bob\",\"Blizzard Bob\",\"Blizzard Bob\",\"Blizzard Bob\",\"Blizzard Bob\",\"Blizzard Bob\",\"Blizzard Bob\",\"Blizzard Bob\",\"Blizzard Bob\",\"Blizzard Bob\",\"Blizzard Bob\",\"Blizzard Bob\",\"Blizzard Bob\",\"Blizzard Bob\",\"Blizzard Bob\",\"Blizzard Bob\",\"Blizzard Bob\",\"Blizzard Bob\",\"Blizzard Bob\",\"Blizzard Bob\",\"Blizzard Bob\",\"Blizzard Bob\",\"Blizzard Bob\",\"Blizzard Bob\",\"Blizzard Bob\",\"Blizzard Bob\",\"Blizzard Bob\",\"Blizzard Bob\",\"Blizzard Bob\",\"Blizzard Bob\",\"Blizzard Bob\",\"Blizzard Bob\",\"Blizzard Bob\",\"Blizzard Bob\",\"Blizzard Bob\",\"Blizzard Bob\",\"Blizzard Bob\",\"Blizzard Bob\",\"Blizzard Bob\",\"Blizzard Bob\",\"Blizzard Bob\",\"Blizzard Bob\",\"Blizzard Bob\",\"Blizzard Bob\",\"Blizzard Bob\",\"Blizzard Bob\",\"Blizzard Bob\",\"Blizzard Bob\",\"Blizzard Bob\",\"Blizzard Bob\",\"Blizzard Bob\",\"Blizzard Bob\",\"Blizzard Bob\",\"Blizzard Bob\",\"Blizzard Bob\",\"Blizzard Bob\",\"Blizzard Bob\",\"Blizzard Bob\",\"Blizzard Bob\",\"Blizzard Bob\",\"Blizzard Bob\",\"Blizzard Bob\",\"Blizzard Bob\",\"Blizzard Bob\",\"Blizzard Bob\",\"Blizzard Bob\",\"Blizzard Bob\",\"Blizzard Bob\",\"Blizzard Bob\",\"Blizzard Bob\",\"Blizzard Bob\",\"Blizzard Bob\",\"Blizzard Bob\",\"Blizzard Bob\",\"Blizzard Bob\",\"Blizzard Bob\",\"Blizzard Bob\",\"Blizzard Bob\",\"Blizzard Bob\",\"Blizzard Bob\",\"Blizzard Bob\",\"Blizzard Bob\",\"Blizzard Bob\",\"Blizzard Bob\",\"Blizzard Bob\",\"Blizzard Bob\",\"Blizzard Bob\",\"Blizzard Bob\",\"Blizzard Bob\",\"Blizzard Bob\",\"Blizzard Bob\",\"Blizzard Bob\",\"Blizzard Bob\",\"Blizzard Bob\",\"Blizzard Bob\",\"Blizzard Bob\",\"Blizzard Bob\",\"Blizzard Bob\",\"Blizzard Bob\",\"Blizzard Bob\",\"Blizzard Bob\",\"Blizzard Bob\",\"Blizzard Bob\",\"Blizzard Bob\",\"Blizzard Bob\",\"Blizzard Bob\",\"Blizzard Bob\",\"Blizzard Bob\",\"Blizzard Bob\",\"Blizzard Bob\",\"Blizzard Bob\",\"Blizzard Bob\",\"Blizzard Bob\",\"Blizzard Bob\",\"Blizzard Bob\",\"Blizzard Bob\",\"Blizzard Bob\",\"Blizzard Bob\",\"Blizzard Bob\",\"Blizzard Bob\",\"Blizzard Bob\",\"Blizzard Bob\"]]]}}},\"view\":{\"type\":\"object\",\"name\":\"CDSView\",\"id\":\"p1072\",\"attributes\":{\"filter\":{\"type\":\"object\",\"name\":\"AllIndices\",\"id\":\"p1073\"}}},\"glyph\":{\"type\":\"object\",\"name\":\"Scatter\",\"id\":\"p1068\",\"attributes\":{\"tags\":[\"apply_ranges\"],\"x\":{\"type\":\"field\",\"field\":\"timestamp\"},\"y\":{\"type\":\"field\",\"field\":\"blood_glucose\"},\"size\":{\"type\":\"value\",\"value\":5.477225575051661},\"line_color\":{\"type\":\"value\",\"value\":\"#30a2da\"},\"fill_color\":{\"type\":\"value\",\"value\":\"#30a2da\"},\"hatch_color\":{\"type\":\"value\",\"value\":\"#30a2da\"}}},\"selection_glyph\":{\"type\":\"object\",\"name\":\"Scatter\",\"id\":\"p1076\",\"attributes\":{\"tags\":[\"apply_ranges\"],\"x\":{\"type\":\"field\",\"field\":\"timestamp\"},\"y\":{\"type\":\"field\",\"field\":\"blood_glucose\"},\"size\":{\"type\":\"value\",\"value\":5.477225575051661},\"angle\":{\"type\":\"value\",\"value\":0.0},\"line_color\":{\"type\":\"value\",\"value\":\"#30a2da\"},\"line_alpha\":{\"type\":\"value\",\"value\":1.0},\"line_width\":{\"type\":\"value\",\"value\":1},\"line_join\":{\"type\":\"value\",\"value\":\"bevel\"},\"line_cap\":{\"type\":\"value\",\"value\":\"butt\"},\"line_dash\":{\"type\":\"value\",\"value\":[]},\"line_dash_offset\":{\"type\":\"value\",\"value\":0},\"fill_color\":{\"type\":\"value\",\"value\":\"#30a2da\"},\"fill_alpha\":{\"type\":\"value\",\"value\":1.0},\"hatch_color\":{\"type\":\"value\",\"value\":\"#30a2da\"},\"hatch_alpha\":{\"type\":\"value\",\"value\":1.0},\"hatch_scale\":{\"type\":\"value\",\"value\":12.0},\"hatch_pattern\":{\"type\":\"value\",\"value\":null},\"hatch_weight\":{\"type\":\"value\",\"value\":1.0},\"marker\":{\"type\":\"value\",\"value\":\"circle\"}}},\"nonselection_glyph\":{\"type\":\"object\",\"name\":\"Scatter\",\"id\":\"p1069\",\"attributes\":{\"tags\":[\"apply_ranges\"],\"x\":{\"type\":\"field\",\"field\":\"timestamp\"},\"y\":{\"type\":\"field\",\"field\":\"blood_glucose\"},\"size\":{\"type\":\"value\",\"value\":5.477225575051661},\"line_color\":{\"type\":\"value\",\"value\":\"#30a2da\"},\"line_alpha\":{\"type\":\"value\",\"value\":0.1},\"fill_color\":{\"type\":\"value\",\"value\":\"#30a2da\"},\"fill_alpha\":{\"type\":\"value\",\"value\":0.1},\"hatch_color\":{\"type\":\"value\",\"value\":\"#30a2da\"},\"hatch_alpha\":{\"type\":\"value\",\"value\":0.1}}},\"muted_glyph\":{\"type\":\"object\",\"name\":\"Scatter\",\"id\":\"p1070\",\"attributes\":{\"tags\":[\"apply_ranges\"],\"x\":{\"type\":\"field\",\"field\":\"timestamp\"},\"y\":{\"type\":\"field\",\"field\":\"blood_glucose\"},\"size\":{\"type\":\"value\",\"value\":5.477225575051661},\"line_color\":{\"type\":\"value\",\"value\":\"#30a2da\"},\"line_alpha\":{\"type\":\"value\",\"value\":0.2},\"fill_color\":{\"type\":\"value\",\"value\":\"#30a2da\"},\"fill_alpha\":{\"type\":\"value\",\"value\":0.2},\"hatch_color\":{\"type\":\"value\",\"value\":\"#30a2da\"},\"hatch_alpha\":{\"type\":\"value\",\"value\":0.2}}}}},{\"type\":\"object\",\"name\":\"GlyphRenderer\",\"id\":\"p1086\",\"attributes\":{\"name\":\"Peter Panda\",\"data_source\":{\"type\":\"object\",\"name\":\"ColumnDataSource\",\"id\":\"p1077\",\"attributes\":{\"selected\":{\"type\":\"object\",\"name\":\"Selection\",\"id\":\"p1078\",\"attributes\":{\"indices\":[],\"line_indices\":[]}},\"selection_policy\":{\"type\":\"object\",\"name\":\"UnionRenderers\",\"id\":\"p1079\"},\"data\":{\"type\":\"map\",\"entries\":[[\"timestamp\",{\"type\":\"ndarray\",\"array\":{\"type\":\"bytes\",\"data\":\"AADAABL3d0IAAIBmZPd3QgAAQMy293dCAAAAMgn4d0IAAMCXW/h3QgAAgP2t+HdCAABAYwD5d0IAAADJUvl3QgAAwC6l+XdCAACAlPf5d0IAAED6Sfp3QgAAAGCc+ndCAADAxe76d0IAAIArQft3QgAAQJGT+3dCAAAA9+X7d0IAAMBcOPx3QgAAgMKK/HdCAABAKN38d0IAAACOL/13QgAAwPOB/XdCAACAWdT9d0IAAEC/Jv53QgAAACV5/ndCAADAisv+d0IAAIDwHf93QgAAQFZw/3dCAAAAvML/d0IAAMAhFQB4QgAAgIdnAHhCAABA7bkAeEIAAABTDAF4QgAAwLheAXhCAACAHrEBeEIAAECEAwJ4QgAAAOpVAnhCAADAT6gCeEIAAIC1+gJ4QgAAQBtNA3hCAAAAgZ8DeEIAAMDm8QN4QgAAgExEBHhCAABAspYEeEIAAAAY6QR4QgAAwH07BXhCAACA440FeEIAAEBJ4AV4QgAAAK8yBnhCAADAFIUGeEIAAIB61wZ4QgAAQOApB3hCAAAARnwHeEIAAMCrzgd4QgAAgBEhCHhCAABAd3MIeEIAAADdxQh4QgAAwEIYCXhCAACAqGoJeEIAAEAOvQl4QgAAAHQPCnhCAADA2WEKeEIAAIA/tAp4QgAAQKUGC3hCAAAAC1kLeEIAAMBwqwt4QgAAgNb9C3hCAABAPFAMeEIAAACiogx4QgAAwAf1DHhCAACAbUcNeEIAAEDTmQ14QgAAADnsDXhCAADAnj4OeEIAAIAEkQ54QgAAQGrjDnhCAAAA0DUPeEIAAMA1iA94QgAAgJvaD3hCAABAAS0QeEIAAABnfxB4QgAAwMzREHhCAACAMiQReEIAAECYdhF4QgAAAP7IEXhCAADAYxsSeEIAAIDJbRJ4QgAAQC/AEnhCAAAAlRITeEIAAMD6ZBN4QgAAgGC3E3hCAABAxgkUeEIAAAAsXBR4QgAAwJGuFHhCAACA9wAVeEIAAEBdUxV4QgAAAMOlFXhCAADAKPgVeEIAAICOShZ4QgAAQPScFnhCAAAAWu8WeEIAAMC/QRd4QgAAgCWUF3hCAABAi+YXeEIAAADxOBh4QgAAwFaLGHhCAACAvN0YeEIAAEAiMBl4QgAAAIiCGXhCAADA7dQZeEIAAIBTJxp4QgAAQLl5GnhCAAAAH8waeEIAAMCEHht4QgAAgOpwG3hCAABAUMMbeEIAAAC2FRx4QgAAwBtoHHhCAACAgboceEIAAEDnDB14QgAAAE1fHXhCAADAsrEdeEIAAIAYBB54QgAAQH5WHnhCAAAA5KgeeEIAAMBJ+x54QgAAgK9NH3hCAABAFaAfeEIAAAB78h94QgAAwOBEIHhCAACARpcgeEIAAECs6SB4QgAAABI8IXhCAADAd44heEIAAIDd4CF4QgAAQEMzInhCAAAAqYUieEIAAMAO2CJ4QgAAgHQqI3hCAABA2nwjeEIAAABAzyN4QgAAwKUhJHhCAACAC3QkeEIAAEBxxiR4QgAAANcYJXhCAADAPGsleEIAAICivSV4QgAAQAgQJnhCAAAAbmImeEIAAMDTtCZ4QgAAgDkHJ3hCAABAn1kneEIAAAAFrCd4QgAAwGr+J3hCAACA0FAoeEIAAEA2oyh4QgAAAJz1KHhCAADAAUgpeEIAAIBnmil4QgAAQM3sKXhCAAAAMz8qeEIAAMCYkSp4QgAAgP7jKnhCAABAZDYreEIAAADKiCt4QgAAwC/bK3hCAACAlS0seEIAAED7fyx4QgAAAGHSLHhCAADAxiQteEIAAIAsdy14QgAAQJLJLXhCAAAA+BsueEIAAMBdbi54QgAAgMPALnhCAABAKRMveEIAAACPZS94QgAAwPS3L3hCAACAWgoweEIAAEDAXDB4QgAAACavMHhCAADAiwExeEIAAIDxUzF4QgAAQFemMXhCAAAAvfgxeEIAAMAiSzJ4QgAAgIidMnhCAABA7u8yeEIAAABUQjN4QgAAwLmUM3hCAACAH+czeEIAAECFOTR4QgAAAOuLNHhCAADAUN40eEIAAIC2MDV4QgAAQByDNXhCAAAAgtU1eEIAAMDnJzZ4QgAAgE16NnhCAABAs8w2eEIAAAAZHzd4QgAAwH5xN3hCAACA5MM3eEIAAEBKFjh4QgAAALBoOHhCAADAFbs4eEIAAIB7DTl4QgAAQOFfOXhCAAAAR7I5eEIAAMCsBDp4QgAAgBJXOnhCAABAeKk6eEIAAADe+zp4QgAAwENOO3hCAACAqaA7eEIAAEAP8zt4QgAAAHVFPHhCAADA2pc8eEIAAIBA6jx4QgAAQKY8PXhCAAAADI89eEIAAMBx4T14QgAAgNczPnhCAABAPYY+eEIAAACj2D54QgAAwAgrP3hCAACAbn0/eEIAAEDUzz94QgAAADoiQHhCAADAn3RAeEIAAIAFx0B4QgAAQGsZQXhCAAAA0WtBeEIAAMA2vkF4QgAAgJwQQnhCAABAAmNCeEIAAABotUJ4QgAAwM0HQ3hCAACAM1pDeEIAAECZrEN4QgAAAP/+Q3hCAADAZFFEeEIAAIDKo0R4QgAAQDD2RHhCAAAAlkhFeEIAAMD7mkV4QgAAgGHtRXhCAABAxz9GeEIAAAAtkkZ4QgAAwJLkRnhCAACA+DZHeEIAAEBeiUd4QgAAAMTbR3hCAADAKS5IeEIAAICPgEh4QgAAQPXSSHhCAAAAWyVJeEIAAMDAd0l4QgAAgCbKSXhCAABAjBxKeEIAAADybkp4QgAAwFfBSnhCAACAvRNLeEIAAEAjZkt4QgAAAIm4S3hCAADA7gpMeEIAAIBUXUx4QgAAQLqvTHhCAAAAIAJNeEIAAMCFVE14QgAAgOumTXhCAABAUflNeEIAAAC3S054QgAAwByeTnhCAACAgvBOeEIAAEDoQk94QgAAAE6VT3hCAADAs+dPeEIAAIAZOlB4QgAAQH+MUHhCAAAA5d5QeEIAAMBKMVF4QgAAgLCDUXhCAABAFtZReEIAAAB8KFJ4QgAAwOF6UnhCAACAR81SeEIAAECtH1N4QgAAABNyU3hCAADAeMRTeEIAAIDeFlR4QgAAQERpVHhCAAAAqrtUeEIAAMAPDlV4QgAAgHVgVXhCAABA27JVeEIAAABBBVZ4QgAAwKZXVnhCAACADKpWeEIAAEBy/FZ4QgAAANhOV3hCAADAPaFXeEIAAICj81d4QgAAQAlGWHhCAAAAb5hYeEIAAMDU6lh4QgAAgDo9WXhCAABAoI9ZeEIAAAAG4ll4QgAAwGs0WnhCAACA0YZaeEIAAEA32Vp4QgAAAJ0rW3hCAADAAn5beEIAAIBo0Ft4QgAAQM4iXHhCAAAANHVceEIAAMCZx1x4QgAAgP8ZXXhCAABAZWxdeEIAAADLvl14QgAAwDARXnhCAACAlmNeeEIAAED8tV54QgAAAGIIX3hCAADAx1pfeEIAAIAtrV94QgAAQJP/X3hCAAAA+VFgeEIAAMBepGB4QgAAgMT2YHhCAABAKklheEIAAACQm2F4QgAAwPXtYXhCAACAW0BieEIAAEDBkmJ4QgAAACflYnhCAADAjDdjeEIAAIDyiWN4QgAAQFjcY3hCAAAAvi5keEIAAMAjgWR4QgAAgInTZHhCAABA7yVleEIAAABVeGV4QgAAwLrKZXhCAACAIB1meEIAAECGb2Z4QgAAAOzBZnhCAADAURRneEIAAIC3Zmd4QgAAQB25Z3hCAAAAgwtoeEIAAMDoXWh4QgAAgE6waHhCAABAtAJpeEIAAAAaVWl4QgAAwH+naXhCAACA5flpeEIAAEBLTGp4QgAAALGeanhCAADAFvFqeEIAAIB8Q2t4QgAAQOKVa3hCAAAASOhreEIAAMCtOmx4QgAAgBONbHhCAABAed9seEIAAADfMW14QgAAwESEbXhCAACAqtZteEIAAEAQKW54QgAAAHZ7bnhCAADA281ueEIAAIBBIG94QgAAQKdyb3hCAAAADcVveEIAAMByF3B4QgAAgNhpcHhCAABAPrxweEIAAACkDnF4QgAAwAlhcXhCAACAb7NxeEIAAEDVBXJ4QgAAADtYcnhCAADAoKpyeEIAAIAG/XJ4QgAAQGxPc3hCAAAA0qFzeEIAAMA39HN4QgAAgJ1GdHhCAABAA5l0eEIAAABp63R4QgAAwM49dXhCAACANJB1eEIAAECa4nV4QgAAAAA1dnhCAADAZYd2eEIAAIDL2XZ4QgAAQDEsd3hCAAAAl353eEIAAMD80Hd4QgAAgGIjeHhCAABAyHV4eEIAAAAuyHh4QgAAwJMaeXhCAACA+Wx5eEIAAEBfv3l4QgAAAMURenhCAADAKmR6eEIAAICQtnp4QgAAQPYIe3hCAAAAXFt7eEIAAMDBrXt4QgAAgCcAfHhCAABAjVJ8eEIAAADzpHx4QgAAwFj3fHhCAACAvkl9eEIAAEAknH14QgAAAIrufXhCAADA70B+eEIAAIBVk354QgAAQLvlfnhCAAAAITh/eEIAAMCGin94QgAAgOzcf3hCAABAUi+AeEIAAAC4gYB4QgAAwB3UgHhCAACAgyaBeEIAAEDpeIF4QgAAAE/LgXhCAADAtB2CeEIAAIAacIJ4QgAAQIDCgnhCAAAA5hSDeEIAAMBLZ4N4QgAAgLG5g3hCAABAFwyEeEIAAAB9XoR4QgAAwOKwhHhCAACASAOFeEIAAECuVYV4QgAAABSohXhCAADAefqFeEIAAIDfTIZ4QgAAQEWfhnhCAAAAq/GGeEIAAMAQRId4QgAAgHaWh3hCAABA3OiHeEIAAABCO4h4QgAAwKeNiHhCAACADeCIeEIAAEBzMol4QgAAANmEiXhCAADAPteJeEIAAICkKYp4QgAAQAp8inhCAAAAcM6KeEIAAMDVIIt4QgAAgDtzi3hCAABAocWLeEIAAAAHGIx4QgAAwGxqjHhCAACA0ryMeEIAAEA4D414QgAAAJ5hjXhCAADAA7SNeEIAAIBpBo54QgAAQM9YjnhCAAAANauOeEIAAMCa/Y54QgAAgABQj3hCAABAZqKPeEIAAADM9I94QgAAwDFHkHhCAACAl5mQeEIAAED965B4QgAAAGM+kXhCAADAyJCReEIAAIAu45F4QgAAQJQ1knhCAAAA+oeSeEIAAMBf2pJ4QgAAgMUsk3hCAABAK3+TeEIAAACR0ZN4QgAAwPYjlHhCAACAXHaUeEIAAEDCyJR4QgAAACgblXhCAADAjW2VeEIAAIDzv5V4QgAAQFkSlnhCAAAAv2SWeEIAAMAkt5Z4QgAAgIoJl3hCAABA8FuXeEIAAABWrpd4QgAAwLsAmHhCAACAIVOYeEIAAECHpZh4QgAAAO33mHhCAADAUkqZeEIAAIC4nJl4QgAAQB7vmXhCAAAAhEGaeEIAAMDpk5p4QgAAgE/mmnhCAABAtTibeEIAAAAbi5t4QgAAwIDdm3hCAACA5i+ceEIAAEBMgpx4QgAAALLUnHhCAADAFyedeEIAAIB9eZ14QgAAQOPLnXhCAAAASR6eeEIAAMCucJ54QgAAgBTDnnhCAABAehWfeEIAAADgZ594QgAAwEW6n3hCAACAqwygeEIAAEARX6B4QgAAAHexoHhCAADA3AOheEIAAIBCVqF4QgAAQKiooXhCAAAADvuheEIAAMBzTaJ4QgAAgNmfonhCAABAP/KieEIAAAClRKN4QgAAwAqXo3hCAACAcOmjeEIAAEDWO6R4QgAAADyOpHhCAADAoeCkeEIAAIAHM6V4QgAAQG2FpXhCAAAA09eleEIAAMA4KqZ4QgAAgJ58pnhCAABABM+meEIAAABqIad4QgAAwM9zp3hCAACANcaneEIAAECbGKh4QgAAAAFrqHhCAADAZr2oeEIAAIDMD6l4QgAAQDJiqXhCAAAAmLSpeEIAAMD9Bqp4QgAAgGNZqnhCAABAyauqeEIAAAAv/qp4QgAAwJRQq3hCAACA+qKreEIAAEBg9at4QgAAAMZHrHhCAADAK5qseEIAAICR7Kx4QgAAQPc+rXhCAAAAXZGteEIAAMDC4614QgAAgCg2rnhCAABAjoiueEIAAAD02q54QgAAwFktr3hCAACAv3+veEIAAEAl0q94QgAAAIsksHhCAADA8HaweEIAAIBWybB4QgAAQLwbsXhCAAAAIm6xeEIAAMCHwLF4QgAAgO0SsnhCAABAU2WyeEIAAAC5t7J4QgAAwB4Ks3hCAACAhFyzeEIAAEDqrrN4QgAAAFABtHhCAADAtVO0eEIAAIAbprR4QgAAQIH4tHhCAAAA50q1eEIAAMBMnbV4QgAAgLLvtXhCAABAGEK2eEIAAAB+lLZ4QgAAwOPmtnhCAACASTm3eEIAAECvi7d4QgAAABXet3hCAADAejC4eEIAAIDggrh4QgAAQEbVuHhCAAAArCe5eEIAAMARerl4QgAAgHfMuXhCAABA3R66eEIAAABDcbp4QgAAwKjDunhCAACADha7eEIAAEB0aLt4QgAAANq6u3hCAADAPw28eEIAAIClX7x4QgAAQAuyvHhCAAAAcQS9eEIAAMDWVr14QgAAgDypvXhCAABAovu9eEIAAAAITr54QgAAwG2gvnhCAACA0/K+eEIAAEA5Rb94QgAAAJ+Xv3hCAADABOq/eEIAAIBqPMB4QgAAQNCOwHhCAAAANuHAeEIAAMCbM8F4QgAAgAGGwXhCAABAZ9jBeEIAAADNKsJ4QgAAwDJ9wnhCAACAmM/CeEIAAED+IcN4QgAAAGR0w3hCAADAycbDeEIAAIAvGcR4QgAAQJVrxHhCAAAA+73EeEIAAMBgEMV4QgAAgMZixXhCAABALLXFeEIAAACSB8Z4QgAAwPdZxnhCAACAXazGeEIAAEDD/sZ4QgAAAClRx3hCAADAjqPHeEIAAID09cd4QgAAQFpIyHhCAAAAwJrIeEIAAMAl7ch4QgAAgIs/yXhCAABA8ZHJeEIAAABX5Ml4QgAAwLw2ynhCAACAIonKeEIAAECI28p4QgAAAO4ty3hCAADAU4DLeEIAAIC50st4QgAAQB8lzHhCAAAAhXfMeEIAAMDqycx4QgAAgFAczXhCAABAtm7NeEIAAAAcwc14QgAAwIETznhCAACA52XOeEIAAEBNuM54QgAAALMKz3hCAADAGF3PeEIAAIB+r894QgAAQOQB0HhCAAAASlTQeEIAAMCvptB4QgAAgBX50HhCAABAe0vReEIAAADhndF4QgAAwEbw0XhCAACArELSeEIAAEASldJ4QgAAAHjn0nhCAADA3TnTeEIAAIBDjNN4QgAAQKne03hCAAAADzHUeEIAAMB0g9R4QgAAgNrV1HhCAABAQCjVeEIAAACmetV4QgAAwAvN1XhCAACAcR/WeEIAAEDXcdZ4QgAAAD3E1nhCAADAohbXeEIAAIAIadd4QgAAQG6713hCAAAA1A3YeEIAAMA5YNh4QgAAgJ+y2HhCAABABQXZeEIAAABrV9l4QgAAwNCp2XhCAACANvzZeEIAAECcTtp4QgAAAAKh2nhCAADAZ/PaeEIAAIDNRdt4QgAAQDOY23hCAAAAmerbeEIAAMD+PNx4QgAAgGSP3HhCAABAyuHceEIAAAAwNN14QgAAwJWG3XhCAACA+9jdeEIAAEBhK954QgAAAMd93nhCAADALNDeeEIAAICSIt94QgAAQPh033hCAAAAXsffeEIAAMDDGeB4QgAAgCls4HhCAABAj77geEIAAAD1EOF4QgAAwFpj4XhCAACAwLXheEIAAEAmCOJ4QgAAAIxa4nhCAADA8azieEIAAIBX/+J4QgAAQL1R43hCAAAAI6TjeEIAAMCI9uN4QgAAgO5I5HhCAABAVJvkeEIAAAC67eR4QgAAwB9A5XhCAACAhZLleEIAAEDr5OV4QgAAAFE35nhCAADAtonmeEIAAIAc3OZ4QgAAQIIu53hCAAAA6IDneEIAAMBN0+d4QgAAgLMl6HhCAABAGXjoeEIAAAB/yuh4QgAAwOQc6XhCAACASm/peEIAAECwwel4QgAAABYU6nhCAADAe2bqeEIAAIDhuOp4QgAAQEcL63hCAAAArV3reEIAAMASsOt4QgAAgHgC7HhCAABA3lTseEIAAABEp+x4QgAAwKn57HhCAACAD0zteEIAAEB1nu14QgAAANvw7XhCAADAQEPueEIAAICmle54QgAAQAzo7nhC\"},\"shape\":[771],\"dtype\":\"float64\",\"order\":\"little\"}],[\"blood_glucose\",{\"type\":\"ndarray\",\"array\":{\"type\":\"bytes\",\"data\":\"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\"},\"shape\":[771],\"dtype\":\"float64\",\"order\":\"little\"}],[\"name\",[\"Peter Panda\",\"Peter Panda\",\"Peter Panda\",\"Peter Panda\",\"Peter Panda\",\"Peter Panda\",\"Peter Panda\",\"Peter Panda\",\"Peter Panda\",\"Peter Panda\",\"Peter Panda\",\"Peter Panda\",\"Peter Panda\",\"Peter Panda\",\"Peter Panda\",\"Peter Panda\",\"Peter Panda\",\"Peter Panda\",\"Peter Panda\",\"Peter Panda\",\"Peter Panda\",\"Peter Panda\",\"Peter Panda\",\"Peter Panda\",\"Peter Panda\",\"Peter Panda\",\"Peter Panda\",\"Peter Panda\",\"Peter Panda\",\"Peter Panda\",\"Peter Panda\",\"Peter Panda\",\"Peter Panda\",\"Peter Panda\",\"Peter Panda\",\"Peter Panda\",\"Peter Panda\",\"Peter Panda\",\"Peter Panda\",\"Peter Panda\",\"Peter Panda\",\"Peter Panda\",\"Peter Panda\",\"Peter Panda\",\"Peter Panda\",\"Peter Panda\",\"Peter Panda\",\"Peter Panda\",\"Peter Panda\",\"Peter Panda\",\"Peter Panda\",\"Peter Panda\",\"Peter Panda\",\"Peter Panda\",\"Peter Panda\",\"Peter Panda\",\"Peter Panda\",\"Peter Panda\",\"Peter Panda\",\"Peter Panda\",\"Peter Panda\",\"Peter Panda\",\"Peter Panda\",\"Peter Panda\",\"Peter Panda\",\"Peter Panda\",\"Peter Panda\",\"Peter Panda\",\"Peter Panda\",\"Peter Panda\",\"Peter Panda\",\"Peter Panda\",\"Peter Panda\",\"Peter Panda\",\"Peter Panda\",\"Peter Panda\",\"Peter Panda\",\"Peter Panda\",\"Peter Panda\",\"Peter Panda\",\"Peter Panda\",\"Peter Panda\",\"Peter Panda\",\"Peter Panda\",\"Peter Panda\",\"Peter Panda\",\"Peter Panda\",\"Peter Panda\",\"Peter Panda\",\"Peter Panda\",\"Peter Panda\",\"Peter Panda\",\"Peter Panda\",\"Peter Panda\",\"Peter Panda\",\"Peter Panda\",\"Peter Panda\",\"Peter Panda\",\"Peter Panda\",\"Peter Panda\",\"Peter Panda\",\"Peter Panda\",\"Peter Panda\",\"Peter Panda\",\"Peter Panda\",\"Peter Panda\",\"Peter Panda\",\"Peter Panda\",\"Peter Panda\",\"Peter Panda\",\"Peter Panda\",\"Peter Panda\",\"Peter Panda\",\"Peter Panda\",\"Peter Panda\",\"Peter Panda\",\"Peter Panda\",\"Peter Panda\",\"Peter Panda\",\"Peter Panda\",\"Peter Panda\",\"Peter Panda\",\"Peter Panda\",\"Peter Panda\",\"Peter Panda\",\"Peter Panda\",\"Peter Panda\",\"Peter Panda\",\"Peter Panda\",\"Peter Panda\",\"Peter Panda\",\"Peter Panda\",\"Peter Panda\",\"Peter Panda\",\"Peter Panda\",\"Peter Panda\",\"Peter Panda\",\"Peter Panda\",\"Peter Panda\",\"Peter Panda\",\"Peter Panda\",\"Peter Panda\",\"Peter Panda\",\"Peter Panda\",\"Peter Panda\",\"Peter Panda\",\"Peter Panda\",\"Peter Panda\",\"Peter Panda\",\"Peter Panda\",\"Peter Panda\",\"Peter Panda\",\"Peter Panda\",\"Peter Panda\",\"Peter Panda\",\"Peter Panda\",\"Peter Panda\",\"Peter Panda\",\"Peter Panda\",\"Peter Panda\",\"Peter Panda\",\"Peter Panda\",\"Peter Panda\",\"Peter Panda\",\"Peter Panda\",\"Peter Panda\",\"Peter Panda\",\"Peter Panda\",\"Peter Panda\",\"Peter Panda\",\"Peter Panda\",\"Peter Panda\",\"Peter Panda\",\"Peter Panda\",\"Peter Panda\",\"Peter Panda\",\"Peter Panda\",\"Peter Panda\",\"Peter Panda\",\"Peter Panda\",\"Peter Panda\",\"Peter Panda\",\"Peter Panda\",\"Peter Panda\",\"Peter Panda\",\"Peter Panda\",\"Peter Panda\",\"Peter Panda\",\"Peter Panda\",\"Peter Panda\",\"Peter Panda\",\"Peter Panda\",\"Peter Panda\",\"Peter Panda\",\"Peter Panda\",\"Peter Panda\",\"Peter Panda\",\"Peter Panda\",\"Peter Panda\",\"Peter Panda\",\"Peter Panda\",\"Peter Panda\",\"Peter Panda\",\"Peter Panda\",\"Peter Panda\",\"Peter Panda\",\"Peter Panda\",\"Peter Panda\",\"Peter Panda\",\"Peter Panda\",\"Peter Panda\",\"Peter Panda\",\"Peter Panda\",\"Peter Panda\",\"Peter Panda\",\"Peter Panda\",\"Peter Panda\",\"Peter Panda\",\"Peter Panda\",\"Peter Panda\",\"Peter Panda\",\"Peter Panda\",\"Peter Panda\",\"Peter Panda\",\"Peter Panda\",\"Peter Panda\",\"Peter Panda\",\"Peter Panda\",\"Peter Panda\",\"Peter Panda\",\"Peter Panda\",\"Peter Panda\",\"Peter Panda\",\"Peter Panda\",\"Peter Panda\",\"Peter Panda\",\"Peter Panda\",\"Peter Panda\",\"Peter Panda\",\"Peter Panda\",\"Peter Panda\",\"Peter Panda\",\"Peter Panda\",\"Peter Panda\",\"Peter Panda\",\"Peter Panda\",\"Peter Panda\",\"Peter Panda\",\"Peter Panda\",\"Peter Panda\",\"Peter Panda\",\"Peter Panda\",\"Peter Panda\",\"Peter Panda\",\"Peter Panda\",\"Peter Panda\",\"Peter Panda\",\"Peter Panda\",\"Peter Panda\",\"Peter Panda\",\"Peter Panda\",\"Peter Panda\",\"Peter Panda\",\"Peter Panda\",\"Peter Panda\",\"Peter Panda\",\"Peter Panda\",\"Peter Panda\",\"Peter Panda\",\"Peter Panda\",\"Peter Panda\",\"Peter Panda\",\"Peter Panda\",\"Peter Panda\",\"Peter Panda\",\"Peter Panda\",\"Peter Panda\",\"Peter Panda\",\"Peter Panda\",\"Peter Panda\",\"Peter Panda\",\"Peter Panda\",\"Peter Panda\",\"Peter Panda\",\"Peter Panda\",\"Peter Panda\",\"Peter Panda\",\"Peter Panda\",\"Peter Panda\",\"Peter Panda\",\"Peter Panda\",\"Peter Panda\",\"Peter Panda\",\"Peter Panda\",\"Peter Panda\",\"Peter Panda\",\"Peter Panda\",\"Peter Panda\",\"Peter Panda\",\"Peter Panda\",\"Peter Panda\",\"Peter Panda\",\"Peter Panda\",\"Peter Panda\",\"Peter Panda\",\"Peter Panda\",\"Peter Panda\",\"Peter Panda\",\"Peter Panda\",\"Peter Panda\",\"Peter Panda\",\"Peter Panda\",\"Peter Panda\",\"Peter Panda\",\"Peter Panda\",\"Peter Panda\",\"Peter Panda\",\"Peter Panda\",\"Peter Panda\",\"Peter Panda\",\"Peter Panda\",\"Peter Panda\",\"Peter Panda\",\"Peter Panda\",\"Peter Panda\",\"Peter Panda\",\"Peter Panda\",\"Peter Panda\",\"Peter Panda\",\"Peter Panda\",\"Peter Panda\",\"Peter Panda\",\"Peter Panda\",\"Peter Panda\",\"Peter Panda\",\"Peter Panda\",\"Peter Panda\",\"Peter Panda\",\"Peter Panda\",\"Peter Panda\",\"Peter Panda\",\"Peter Panda\",\"Peter Panda\",\"Peter Panda\",\"Peter Panda\",\"Peter Panda\",\"Peter Panda\",\"Peter Panda\",\"Peter Panda\",\"Peter Panda\",\"Peter Panda\",\"Peter Panda\",\"Peter Panda\",\"Peter Panda\",\"Peter Panda\",\"Peter Panda\",\"Peter Panda\",\"Peter Panda\",\"Peter Panda\",\"Peter Panda\",\"Peter Panda\",\"Peter Panda\",\"Peter Panda\",\"Peter Panda\",\"Peter Panda\",\"Peter Panda\",\"Peter Panda\",\"Peter Panda\",\"Peter Panda\",\"Peter Panda\",\"Peter Panda\",\"Peter Panda\",\"Peter Panda\",\"Peter Panda\",\"Peter Panda\",\"Peter Panda\",\"Peter Panda\",\"Peter Panda\",\"Peter Panda\",\"Peter Panda\",\"Peter Panda\",\"Peter Panda\",\"Peter Panda\",\"Peter Panda\",\"Peter Panda\",\"Peter Panda\",\"Peter Panda\",\"Peter Panda\",\"Peter Panda\",\"Peter Panda\",\"Peter Panda\",\"Peter Panda\",\"Peter Panda\",\"Peter Panda\",\"Peter Panda\",\"Peter Panda\",\"Peter Panda\",\"Peter Panda\",\"Peter Panda\",\"Peter Panda\",\"Peter Panda\",\"Peter Panda\",\"Peter Panda\",\"Peter Panda\",\"Peter Panda\",\"Peter Panda\",\"Peter Panda\",\"Peter Panda\",\"Peter Panda\",\"Peter Panda\",\"Peter Panda\",\"Peter Panda\",\"Peter Panda\",\"Peter Panda\",\"Peter Panda\",\"Peter Panda\",\"Peter Panda\",\"Peter Panda\",\"Peter Panda\",\"Peter Panda\",\"Peter Panda\",\"Peter Panda\",\"Peter Panda\",\"Peter Panda\",\"Peter Panda\",\"Peter Panda\",\"Peter Panda\",\"Peter Panda\",\"Peter Panda\",\"Peter Panda\",\"Peter Panda\",\"Peter Panda\",\"Peter Panda\",\"Peter Panda\",\"Peter Panda\",\"Peter Panda\",\"Peter Panda\",\"Peter Panda\",\"Peter Panda\",\"Peter Panda\",\"Peter Panda\",\"Peter Panda\",\"Peter Panda\",\"Peter Panda\",\"Peter Panda\",\"Peter Panda\",\"Peter Panda\",\"Peter Panda\",\"Peter Panda\",\"Peter Panda\",\"Peter Panda\",\"Peter Panda\",\"Peter Panda\",\"Peter Panda\",\"Peter Panda\",\"Peter Panda\",\"Peter Panda\",\"Peter Panda\",\"Peter Panda\",\"Peter Panda\",\"Peter Panda\",\"Peter Panda\",\"Peter Panda\",\"Peter Panda\",\"Peter Panda\",\"Peter Panda\",\"Peter Panda\",\"Peter Panda\",\"Peter Panda\",\"Peter Panda\",\"Peter Panda\",\"Peter Panda\",\"Peter Panda\",\"Peter Panda\",\"Peter Panda\",\"Peter Panda\",\"Peter Panda\",\"Peter Panda\",\"Peter Panda\",\"Peter Panda\",\"Peter Panda\",\"Peter Panda\",\"Peter Panda\",\"Peter Panda\",\"Peter Panda\",\"Peter Panda\",\"Peter Panda\",\"Peter Panda\",\"Peter Panda\",\"Peter Panda\",\"Peter Panda\",\"Peter Panda\",\"Peter Panda\",\"Peter Panda\",\"Peter Panda\",\"Peter Panda\",\"Peter Panda\",\"Peter Panda\",\"Peter Panda\",\"Peter Panda\",\"Peter Panda\",\"Peter Panda\",\"Peter Panda\",\"Peter Panda\",\"Peter Panda\",\"Peter Panda\",\"Peter Panda\",\"Peter Panda\",\"Peter Panda\",\"Peter Panda\",\"Peter Panda\",\"Peter Panda\",\"Peter Panda\",\"Peter Panda\",\"Peter Panda\",\"Peter Panda\",\"Peter Panda\",\"Peter Panda\",\"Peter Panda\",\"Peter Panda\",\"Peter Panda\",\"Peter Panda\",\"Peter Panda\",\"Peter Panda\",\"Peter Panda\",\"Peter Panda\",\"Peter Panda\",\"Peter Panda\",\"Peter Panda\",\"Peter Panda\",\"Peter Panda\",\"Peter Panda\",\"Peter Panda\",\"Peter Panda\",\"Peter Panda\",\"Peter Panda\",\"Peter Panda\",\"Peter Panda\",\"Peter Panda\",\"Peter Panda\",\"Peter Panda\",\"Peter Panda\",\"Peter Panda\",\"Peter Panda\",\"Peter Panda\",\"Peter Panda\",\"Peter Panda\",\"Peter Panda\",\"Peter Panda\",\"Peter Panda\",\"Peter Panda\",\"Peter Panda\",\"Peter Panda\",\"Peter Panda\",\"Peter Panda\",\"Peter Panda\",\"Peter Panda\",\"Peter Panda\",\"Peter Panda\",\"Peter Panda\",\"Peter Panda\",\"Peter Panda\",\"Peter Panda\",\"Peter Panda\",\"Peter Panda\",\"Peter Panda\",\"Peter Panda\",\"Peter Panda\",\"Peter Panda\",\"Peter Panda\",\"Peter Panda\",\"Peter Panda\",\"Peter Panda\",\"Peter Panda\",\"Peter Panda\",\"Peter Panda\",\"Peter Panda\",\"Peter Panda\",\"Peter Panda\",\"Peter Panda\",\"Peter Panda\",\"Peter Panda\",\"Peter Panda\",\"Peter Panda\",\"Peter Panda\",\"Peter Panda\",\"Peter Panda\",\"Peter Panda\",\"Peter Panda\",\"Peter Panda\",\"Peter Panda\",\"Peter Panda\",\"Peter Panda\",\"Peter Panda\",\"Peter Panda\",\"Peter Panda\",\"Peter Panda\",\"Peter Panda\",\"Peter Panda\",\"Peter Panda\",\"Peter Panda\",\"Peter Panda\",\"Peter Panda\",\"Peter Panda\",\"Peter Panda\",\"Peter Panda\",\"Peter Panda\",\"Peter Panda\",\"Peter Panda\",\"Peter Panda\",\"Peter Panda\",\"Peter Panda\",\"Peter Panda\",\"Peter Panda\",\"Peter Panda\",\"Peter Panda\",\"Peter Panda\",\"Peter Panda\",\"Peter Panda\",\"Peter Panda\",\"Peter Panda\",\"Peter Panda\",\"Peter Panda\",\"Peter Panda\",\"Peter Panda\",\"Peter Panda\",\"Peter Panda\",\"Peter Panda\",\"Peter Panda\",\"Peter Panda\",\"Peter Panda\",\"Peter Panda\",\"Peter Panda\",\"Peter Panda\",\"Peter Panda\",\"Peter Panda\",\"Peter Panda\",\"Peter Panda\",\"Peter Panda\",\"Peter Panda\",\"Peter Panda\",\"Peter Panda\",\"Peter Panda\",\"Peter Panda\",\"Peter Panda\",\"Peter Panda\",\"Peter Panda\",\"Peter Panda\",\"Peter Panda\",\"Peter Panda\",\"Peter Panda\",\"Peter Panda\",\"Peter Panda\",\"Peter Panda\",\"Peter Panda\",\"Peter Panda\",\"Peter Panda\",\"Peter Panda\",\"Peter Panda\",\"Peter Panda\",\"Peter Panda\",\"Peter Panda\",\"Peter Panda\",\"Peter Panda\",\"Peter Panda\",\"Peter Panda\",\"Peter Panda\",\"Peter Panda\",\"Peter Panda\",\"Peter Panda\",\"Peter Panda\",\"Peter Panda\",\"Peter Panda\",\"Peter Panda\",\"Peter Panda\",\"Peter Panda\",\"Peter Panda\",\"Peter Panda\",\"Peter Panda\",\"Peter Panda\",\"Peter Panda\",\"Peter Panda\",\"Peter Panda\",\"Peter Panda\",\"Peter Panda\",\"Peter Panda\",\"Peter Panda\",\"Peter Panda\",\"Peter Panda\",\"Peter Panda\",\"Peter Panda\",\"Peter Panda\",\"Peter Panda\",\"Peter Panda\",\"Peter Panda\",\"Peter Panda\",\"Peter Panda\",\"Peter Panda\",\"Peter Panda\",\"Peter Panda\",\"Peter Panda\",\"Peter Panda\",\"Peter Panda\",\"Peter Panda\",\"Peter Panda\",\"Peter Panda\",\"Peter Panda\",\"Peter Panda\",\"Peter Panda\",\"Peter Panda\",\"Peter Panda\",\"Peter Panda\",\"Peter Panda\",\"Peter Panda\",\"Peter Panda\",\"Peter Panda\",\"Peter Panda\",\"Peter Panda\",\"Peter Panda\",\"Peter Panda\",\"Peter Panda\",\"Peter Panda\",\"Peter Panda\",\"Peter Panda\",\"Peter Panda\",\"Peter Panda\",\"Peter Panda\",\"Peter Panda\",\"Peter Panda\",\"Peter Panda\",\"Peter Panda\",\"Peter Panda\",\"Peter Panda\",\"Peter Panda\",\"Peter Panda\",\"Peter Panda\",\"Peter Panda\",\"Peter Panda\",\"Peter Panda\",\"Peter Panda\",\"Peter Panda\",\"Peter Panda\",\"Peter Panda\",\"Peter Panda\",\"Peter Panda\",\"Peter Panda\",\"Peter Panda\",\"Peter Panda\",\"Peter Panda\",\"Peter Panda\",\"Peter Panda\",\"Peter Panda\",\"Peter Panda\",\"Peter Panda\",\"Peter Panda\",\"Peter Panda\",\"Peter Panda\",\"Peter Panda\",\"Peter Panda\",\"Peter Panda\",\"Peter Panda\",\"Peter Panda\",\"Peter Panda\",\"Peter Panda\",\"Peter Panda\",\"Peter Panda\",\"Peter Panda\",\"Peter Panda\",\"Peter Panda\",\"Peter Panda\",\"Peter Panda\"]]]}}},\"view\":{\"type\":\"object\",\"name\":\"CDSView\",\"id\":\"p1087\",\"attributes\":{\"filter\":{\"type\":\"object\",\"name\":\"AllIndices\",\"id\":\"p1088\"}}},\"glyph\":{\"type\":\"object\",\"name\":\"Scatter\",\"id\":\"p1083\",\"attributes\":{\"tags\":[\"apply_ranges\"],\"x\":{\"type\":\"field\",\"field\":\"timestamp\"},\"y\":{\"type\":\"field\",\"field\":\"blood_glucose\"},\"size\":{\"type\":\"value\",\"value\":5.477225575051661},\"line_color\":{\"type\":\"value\",\"value\":\"#fc4f30\"},\"fill_color\":{\"type\":\"value\",\"value\":\"#fc4f30\"},\"hatch_color\":{\"type\":\"value\",\"value\":\"#fc4f30\"}}},\"selection_glyph\":{\"type\":\"object\",\"name\":\"Scatter\",\"id\":\"p1090\",\"attributes\":{\"tags\":[\"apply_ranges\"],\"x\":{\"type\":\"field\",\"field\":\"timestamp\"},\"y\":{\"type\":\"field\",\"field\":\"blood_glucose\"},\"size\":{\"type\":\"value\",\"value\":5.477225575051661},\"angle\":{\"type\":\"value\",\"value\":0.0},\"line_color\":{\"type\":\"value\",\"value\":\"#fc4f30\"},\"line_alpha\":{\"type\":\"value\",\"value\":1.0},\"line_width\":{\"type\":\"value\",\"value\":1},\"line_join\":{\"type\":\"value\",\"value\":\"bevel\"},\"line_cap\":{\"type\":\"value\",\"value\":\"butt\"},\"line_dash\":{\"type\":\"value\",\"value\":[]},\"line_dash_offset\":{\"type\":\"value\",\"value\":0},\"fill_color\":{\"type\":\"value\",\"value\":\"#fc4f30\"},\"fill_alpha\":{\"type\":\"value\",\"value\":1.0},\"hatch_color\":{\"type\":\"value\",\"value\":\"#fc4f30\"},\"hatch_alpha\":{\"type\":\"value\",\"value\":1.0},\"hatch_scale\":{\"type\":\"value\",\"value\":12.0},\"hatch_pattern\":{\"type\":\"value\",\"value\":null},\"hatch_weight\":{\"type\":\"value\",\"value\":1.0},\"marker\":{\"type\":\"value\",\"value\":\"circle\"}}},\"nonselection_glyph\":{\"type\":\"object\",\"name\":\"Scatter\",\"id\":\"p1084\",\"attributes\":{\"tags\":[\"apply_ranges\"],\"x\":{\"type\":\"field\",\"field\":\"timestamp\"},\"y\":{\"type\":\"field\",\"field\":\"blood_glucose\"},\"size\":{\"type\":\"value\",\"value\":5.477225575051661},\"line_color\":{\"type\":\"value\",\"value\":\"#fc4f30\"},\"line_alpha\":{\"type\":\"value\",\"value\":0.1},\"fill_color\":{\"type\":\"value\",\"value\":\"#fc4f30\"},\"fill_alpha\":{\"type\":\"value\",\"value\":0.1},\"hatch_color\":{\"type\":\"value\",\"value\":\"#fc4f30\"},\"hatch_alpha\":{\"type\":\"value\",\"value\":0.1}}},\"muted_glyph\":{\"type\":\"object\",\"name\":\"Scatter\",\"id\":\"p1085\",\"attributes\":{\"tags\":[\"apply_ranges\"],\"x\":{\"type\":\"field\",\"field\":\"timestamp\"},\"y\":{\"type\":\"field\",\"field\":\"blood_glucose\"},\"size\":{\"type\":\"value\",\"value\":5.477225575051661},\"line_color\":{\"type\":\"value\",\"value\":\"#fc4f30\"},\"line_alpha\":{\"type\":\"value\",\"value\":0.2},\"fill_color\":{\"type\":\"value\",\"value\":\"#fc4f30\"},\"fill_alpha\":{\"type\":\"value\",\"value\":0.2},\"hatch_color\":{\"type\":\"value\",\"value\":\"#fc4f30\"},\"hatch_alpha\":{\"type\":\"value\",\"value\":0.2}}}}}],\"toolbar\":{\"type\":\"object\",\"name\":\"Toolbar\",\"id\":\"p1028\",\"attributes\":{\"tools\":[{\"type\":\"object\",\"name\":\"WheelZoomTool\",\"id\":\"p1014\",\"attributes\":{\"tags\":[\"hv_created\"],\"renderers\":\"auto\",\"zoom_together\":\"none\"}},{\"type\":\"object\",\"name\":\"HoverTool\",\"id\":\"p1015\",\"attributes\":{\"tags\":[\"hv_created\"],\"renderers\":[{\"id\":\"p1071\"},{\"id\":\"p1086\"}],\"tooltips\":[[\"name\",\"@{name}\"],[\"timestamp\",\"@{timestamp}{%F %T}\"],[\"blood_glucose\",\"@{blood_glucose}\"]],\"formatters\":{\"type\":\"map\",\"entries\":[[\"@{timestamp}\",\"datetime\"]]}}},{\"type\":\"object\",\"name\":\"SaveTool\",\"id\":\"p1053\"},{\"type\":\"object\",\"name\":\"PanTool\",\"id\":\"p1054\"},{\"type\":\"object\",\"name\":\"BoxZoomTool\",\"id\":\"p1055\",\"attributes\":{\"overlay\":{\"type\":\"object\",\"name\":\"BoxAnnotation\",\"id\":\"p1056\",\"attributes\":{\"syncable\":false,\"level\":\"overlay\",\"visible\":false,\"left\":{\"type\":\"number\",\"value\":\"nan\"},\"right\":{\"type\":\"number\",\"value\":\"nan\"},\"top\":{\"type\":\"number\",\"value\":\"nan\"},\"bottom\":{\"type\":\"number\",\"value\":\"nan\"},\"left_units\":\"canvas\",\"right_units\":\"canvas\",\"top_units\":\"canvas\",\"bottom_units\":\"canvas\",\"line_color\":\"black\",\"line_alpha\":1.0,\"line_width\":2,\"line_dash\":[4,4],\"fill_color\":\"lightgrey\",\"fill_alpha\":0.5}}}},{\"type\":\"object\",\"name\":\"ResetTool\",\"id\":\"p1061\"}],\"active_drag\":{\"id\":\"p1054\"},\"active_scroll\":{\"id\":\"p1014\"}}},\"left\":[{\"type\":\"object\",\"name\":\"LinearAxis\",\"id\":\"p1048\",\"attributes\":{\"ticker\":{\"type\":\"object\",\"name\":\"BasicTicker\",\"id\":\"p1049\",\"attributes\":{\"mantissas\":[1,2,5]}},\"formatter\":{\"type\":\"object\",\"name\":\"BasicTickFormatter\",\"id\":\"p1050\"},\"axis_label\":\"blood_glucose\",\"major_label_policy\":{\"type\":\"object\",\"name\":\"AllLabels\",\"id\":\"p1051\"}}}],\"right\":[{\"type\":\"object\",\"name\":\"Legend\",\"id\":\"p1074\",\"attributes\":{\"location\":[0,0],\"title\":\"name\",\"click_policy\":\"mute\",\"items\":[{\"type\":\"object\",\"name\":\"LegendItem\",\"id\":\"p1075\",\"attributes\":{\"label\":{\"type\":\"value\",\"value\":\"Blizzard Bob\"},\"renderers\":[{\"id\":\"p1071\"}]}},{\"type\":\"object\",\"name\":\"LegendItem\",\"id\":\"p1089\",\"attributes\":{\"label\":{\"type\":\"value\",\"value\":\"Peter Panda\"},\"renderers\":[{\"id\":\"p1086\"}]}}]}}],\"below\":[{\"type\":\"object\",\"name\":\"DatetimeAxis\",\"id\":\"p1031\",\"attributes\":{\"ticker\":{\"type\":\"object\",\"name\":\"DatetimeTicker\",\"id\":\"p1032\",\"attributes\":{\"num_minor_ticks\":5,\"tickers\":[{\"type\":\"object\",\"name\":\"AdaptiveTicker\",\"id\":\"p1033\",\"attributes\":{\"num_minor_ticks\":0,\"mantissas\":[1,2,5],\"max_interval\":500.0}},{\"type\":\"object\",\"name\":\"AdaptiveTicker\",\"id\":\"p1034\",\"attributes\":{\"num_minor_ticks\":0,\"base\":60,\"mantissas\":[1,2,5,10,15,20,30],\"min_interval\":1000.0,\"max_interval\":1800000.0}},{\"type\":\"object\",\"name\":\"AdaptiveTicker\",\"id\":\"p1035\",\"attributes\":{\"num_minor_ticks\":0,\"base\":24,\"mantissas\":[1,2,4,6,8,12],\"min_interval\":3600000.0,\"max_interval\":43200000.0}},{\"type\":\"object\",\"name\":\"DaysTicker\",\"id\":\"p1036\",\"attributes\":{\"days\":[1,2,3,4,5,6,7,8,9,10,11,12,13,14,15,16,17,18,19,20,21,22,23,24,25,26,27,28,29,30,31]}},{\"type\":\"object\",\"name\":\"DaysTicker\",\"id\":\"p1037\",\"attributes\":{\"days\":[1,4,7,10,13,16,19,22,25,28]}},{\"type\":\"object\",\"name\":\"DaysTicker\",\"id\":\"p1038\",\"attributes\":{\"days\":[1,8,15,22]}},{\"type\":\"object\",\"name\":\"DaysTicker\",\"id\":\"p1039\",\"attributes\":{\"days\":[1,15]}},{\"type\":\"object\",\"name\":\"MonthsTicker\",\"id\":\"p1040\",\"attributes\":{\"months\":[0,1,2,3,4,5,6,7,8,9,10,11]}},{\"type\":\"object\",\"name\":\"MonthsTicker\",\"id\":\"p1041\",\"attributes\":{\"months\":[0,2,4,6,8,10]}},{\"type\":\"object\",\"name\":\"MonthsTicker\",\"id\":\"p1042\",\"attributes\":{\"months\":[0,4,8]}},{\"type\":\"object\",\"name\":\"MonthsTicker\",\"id\":\"p1043\",\"attributes\":{\"months\":[0,6]}},{\"type\":\"object\",\"name\":\"YearsTicker\",\"id\":\"p1044\"}]}},\"formatter\":{\"type\":\"object\",\"name\":\"DatetimeTickFormatter\",\"id\":\"p1045\"},\"axis_label\":\"timestamp\",\"major_label_policy\":{\"type\":\"object\",\"name\":\"AllLabels\",\"id\":\"p1046\"}}}],\"center\":[{\"type\":\"object\",\"name\":\"Grid\",\"id\":\"p1047\",\"attributes\":{\"axis\":{\"id\":\"p1031\"},\"grid_line_color\":null}},{\"type\":\"object\",\"name\":\"Grid\",\"id\":\"p1052\",\"attributes\":{\"dimension\":1,\"axis\":{\"id\":\"p1048\"},\"grid_line_color\":null}}],\"min_border_top\":10,\"min_border_bottom\":10,\"min_border_left\":10,\"min_border_right\":10,\"output_backend\":\"webgl\"}},{\"type\":\"object\",\"name\":\"Spacer\",\"id\":\"p1092\",\"attributes\":{\"name\":\"HSpacer00974\",\"stylesheets\":[\"\\n:host(.pn-loading):before, .pn-loading:before {\\n  background-color: #c3c3c3;\\n  mask-size: auto calc(min(50%, 400px));\\n  -webkit-mask-size: auto calc(min(50%, 400px));\\n}\",{\"id\":\"p1007\"},{\"id\":\"p1005\"},{\"id\":\"p1006\"}],\"margin\":0,\"sizing_mode\":\"stretch_width\",\"align\":\"start\"}}]}}],\"defs\":[{\"type\":\"model\",\"name\":\"ReactiveHTML1\"},{\"type\":\"model\",\"name\":\"FlexBox1\",\"properties\":[{\"name\":\"align_content\",\"kind\":\"Any\",\"default\":\"flex-start\"},{\"name\":\"align_items\",\"kind\":\"Any\",\"default\":\"flex-start\"},{\"name\":\"flex_direction\",\"kind\":\"Any\",\"default\":\"row\"},{\"name\":\"flex_wrap\",\"kind\":\"Any\",\"default\":\"wrap\"},{\"name\":\"gap\",\"kind\":\"Any\",\"default\":\"\"},{\"name\":\"justify_content\",\"kind\":\"Any\",\"default\":\"flex-start\"}]},{\"type\":\"model\",\"name\":\"FloatPanel1\",\"properties\":[{\"name\":\"config\",\"kind\":\"Any\",\"default\":{\"type\":\"map\"}},{\"name\":\"contained\",\"kind\":\"Any\",\"default\":true},{\"name\":\"position\",\"kind\":\"Any\",\"default\":\"right-top\"},{\"name\":\"offsetx\",\"kind\":\"Any\",\"default\":null},{\"name\":\"offsety\",\"kind\":\"Any\",\"default\":null},{\"name\":\"theme\",\"kind\":\"Any\",\"default\":\"primary\"},{\"name\":\"status\",\"kind\":\"Any\",\"default\":\"normalized\"}]},{\"type\":\"model\",\"name\":\"GridStack1\",\"properties\":[{\"name\":\"mode\",\"kind\":\"Any\",\"default\":\"warn\"},{\"name\":\"ncols\",\"kind\":\"Any\",\"default\":null},{\"name\":\"nrows\",\"kind\":\"Any\",\"default\":null},{\"name\":\"allow_resize\",\"kind\":\"Any\",\"default\":true},{\"name\":\"allow_drag\",\"kind\":\"Any\",\"default\":true},{\"name\":\"state\",\"kind\":\"Any\",\"default\":[]}]},{\"type\":\"model\",\"name\":\"drag1\",\"properties\":[{\"name\":\"slider_width\",\"kind\":\"Any\",\"default\":5},{\"name\":\"slider_color\",\"kind\":\"Any\",\"default\":\"black\"},{\"name\":\"value\",\"kind\":\"Any\",\"default\":50}]},{\"type\":\"model\",\"name\":\"click1\",\"properties\":[{\"name\":\"terminal_output\",\"kind\":\"Any\",\"default\":\"\"},{\"name\":\"debug_name\",\"kind\":\"Any\",\"default\":\"\"},{\"name\":\"clears\",\"kind\":\"Any\",\"default\":0}]},{\"type\":\"model\",\"name\":\"FastWrapper1\",\"properties\":[{\"name\":\"object\",\"kind\":\"Any\",\"default\":null},{\"name\":\"style\",\"kind\":\"Any\",\"default\":null}]},{\"type\":\"model\",\"name\":\"NotificationAreaBase1\",\"properties\":[{\"name\":\"js_events\",\"kind\":\"Any\",\"default\":{\"type\":\"map\"}},{\"name\":\"position\",\"kind\":\"Any\",\"default\":\"bottom-right\"},{\"name\":\"_clear\",\"kind\":\"Any\",\"default\":0}]},{\"type\":\"model\",\"name\":\"NotificationArea1\",\"properties\":[{\"name\":\"js_events\",\"kind\":\"Any\",\"default\":{\"type\":\"map\"}},{\"name\":\"notifications\",\"kind\":\"Any\",\"default\":[]},{\"name\":\"position\",\"kind\":\"Any\",\"default\":\"bottom-right\"},{\"name\":\"_clear\",\"kind\":\"Any\",\"default\":0},{\"name\":\"types\",\"kind\":\"Any\",\"default\":[{\"type\":\"map\",\"entries\":[[\"type\",\"warning\"],[\"background\",\"#ffc107\"],[\"icon\",{\"type\":\"map\",\"entries\":[[\"className\",\"fas fa-exclamation-triangle\"],[\"tagName\",\"i\"],[\"color\",\"white\"]]}]]},{\"type\":\"map\",\"entries\":[[\"type\",\"info\"],[\"background\",\"#007bff\"],[\"icon\",{\"type\":\"map\",\"entries\":[[\"className\",\"fas fa-info-circle\"],[\"tagName\",\"i\"],[\"color\",\"white\"]]}]]}]}]},{\"type\":\"model\",\"name\":\"Notification\",\"properties\":[{\"name\":\"background\",\"kind\":\"Any\",\"default\":null},{\"name\":\"duration\",\"kind\":\"Any\",\"default\":3000},{\"name\":\"icon\",\"kind\":\"Any\",\"default\":null},{\"name\":\"message\",\"kind\":\"Any\",\"default\":\"\"},{\"name\":\"notification_type\",\"kind\":\"Any\",\"default\":null},{\"name\":\"_destroyed\",\"kind\":\"Any\",\"default\":false}]},{\"type\":\"model\",\"name\":\"TemplateActions1\",\"properties\":[{\"name\":\"open_modal\",\"kind\":\"Any\",\"default\":0},{\"name\":\"close_modal\",\"kind\":\"Any\",\"default\":0}]},{\"type\":\"model\",\"name\":\"BootstrapTemplateActions1\",\"properties\":[{\"name\":\"open_modal\",\"kind\":\"Any\",\"default\":0},{\"name\":\"close_modal\",\"kind\":\"Any\",\"default\":0}]},{\"type\":\"model\",\"name\":\"TemplateEditor1\",\"properties\":[{\"name\":\"layout\",\"kind\":\"Any\",\"default\":[]}]},{\"type\":\"model\",\"name\":\"MaterialTemplateActions1\",\"properties\":[{\"name\":\"open_modal\",\"kind\":\"Any\",\"default\":0},{\"name\":\"close_modal\",\"kind\":\"Any\",\"default\":0}]},{\"type\":\"model\",\"name\":\"copy_to_clipboard1\",\"properties\":[{\"name\":\"fill\",\"kind\":\"Any\",\"default\":\"none\"},{\"name\":\"value\",\"kind\":\"Any\",\"default\":null}]}]}};\n",
       "  var render_items = [{\"docid\":\"7a23a56a-fad8-4b90-bb20-e58e6345f05a\",\"roots\":{\"p1004\":\"b0d85e44-8620-4c14-a052-9972739dba5f\"},\"root_ids\":[\"p1004\"]}];\n",
       "  var docs = Object.values(docs_json)\n",
       "  if (!docs) {\n",
       "    return\n",
       "  }\n",
       "  const py_version = docs[0].version.replace('rc', '-rc.').replace('.dev', '-dev.')\n",
       "  function embed_document(root) {\n",
       "    var Bokeh = get_bokeh(root)\n",
       "    Bokeh.embed.embed_items_notebook(docs_json, render_items);\n",
       "    for (const render_item of render_items) {\n",
       "      for (const root_id of render_item.root_ids) {\n",
       "\tconst id_el = document.getElementById(root_id)\n",
       "\tif (id_el.children.length && (id_el.children[0].className === 'bk-root')) {\n",
       "\t  const root_el = id_el.children[0]\n",
       "\t  root_el.id = root_el.id + '-rendered'\n",
       "\t}\n",
       "      }\n",
       "    }\n",
       "  }\n",
       "  function get_bokeh(root) {\n",
       "    if (root.Bokeh === undefined) {\n",
       "      return null\n",
       "    } else if (root.Bokeh.version !== py_version) {\n",
       "      if (root.Bokeh.versions === undefined || !root.Bokeh.versions.has(py_version)) {\n",
       "\treturn null\n",
       "      }\n",
       "      return root.Bokeh.versions.get(py_version);\n",
       "    } else if (root.Bokeh.version === py_version) {\n",
       "      return root.Bokeh\n",
       "    }\n",
       "    return null\n",
       "  }\n",
       "  function is_loaded(root) {\n",
       "    var Bokeh = get_bokeh(root)\n",
       "    return (Bokeh != null && Bokeh.Panel !== undefined)\n",
       "  }\n",
       "  if (is_loaded(root)) {\n",
       "    embed_document(root);\n",
       "  } else {\n",
       "    var attempts = 0;\n",
       "    var timer = setInterval(function(root) {\n",
       "      if (is_loaded(root)) {\n",
       "        clearInterval(timer);\n",
       "        embed_document(root);\n",
       "      } else if (document.readyState == \"complete\") {\n",
       "        attempts++;\n",
       "        if (attempts > 200) {\n",
       "          clearInterval(timer);\n",
       "\t  var Bokeh = get_bokeh(root)\n",
       "\t  if (Bokeh == null || Bokeh.Panel == null) {\n",
       "            console.warn(\"Panel: ERROR: Unable to run Panel code because Bokeh or Panel library is missing\");\n",
       "\t  } else {\n",
       "\t    console.warn(\"Panel: WARNING: Attempting to render but not all required libraries could be resolved.\")\n",
       "\t    embed_document(root)\n",
       "\t  }\n",
       "        }\n",
       "      }\n",
       "    }, 25, root)\n",
       "  }\n",
       "})(window);</script>"
      ],
      "text/plain": [
       ":NdOverlay   [name]\n",
       "   :Scatter   [timestamp]   (blood_glucose)"
      ]
     },
     "execution_count": 13,
     "metadata": {
      "application/vnd.holoviews_exec.v0+json": {
       "id": "p1004"
      }
     },
     "output_type": "execute_result"
    }
   ],
   "source": [
    "measurements.select(\"name\", \"timestamp\", \"blood_glucose\").group_by_dynamic(\n",
    "    index_column=\"timestamp\", every=\"1d\", period=\"1d\", group_by=\"name\"\n",
    ").agg(pl.col(\"blood_glucose\").mean()).filter(\n",
    "    pl.col(\"name\").is_in([\"Blizzard Bob\", \"Peter Panda\"]), pl.col(\"blood_glucose\") > 190\n",
    ").plot.scatter(x=\"timestamp\", y=\"blood_glucose\", by=\"name\")"
   ]
  }
 ],
 "metadata": {
  "kernelspec": {
   "display_name": ".venv",
   "language": "python",
   "name": "python3"
  },
  "language_info": {
   "codemirror_mode": {
    "name": "ipython",
    "version": 3
   },
   "file_extension": ".py",
   "mimetype": "text/x-python",
   "name": "python",
   "nbconvert_exporter": "python",
   "pygments_lexer": "ipython3",
   "version": "3.10.11"
  }
 },
 "nbformat": 4,
 "nbformat_minor": 2
}
